{
 "cells": [
  {
   "cell_type": "code",
   "execution_count": null,
   "id": "initial_id",
   "metadata": {
    "collapsed": true
   },
   "outputs": [],
   "source": [
    "import requests\n",
    "from requests import Response\n",
    "from bs4 import BeautifulSoup\n",
    "\n",
    "\n",
    "# html_response: str = requests.get('https://example.com').text\n",
    "\n",
    "html_response =\"\"\"\n",
    "<html>\n",
    "<body>\n",
    "  <h1>Заголовок</h1>\n",
    "  <p>Текст параграфа</p>\n",
    "  <a href=\"https://example.com\">Ссылка</a>\n",
    "</body>\n",
    "\"\"\"\n",
    "\n",
    "soup = BeautifulSoup(html_response, 'html.parser')\n",
    "\n",
    "\n",
    "# parent = soup.find(\"div\").parent\n",
    "next_elem = soup.find(\"h1\").next_element\n",
    "# next_element - следующий элемент\n",
    "# next_sibling - предыдущий элемент\n",
    "\n",
    "# print(parent)\n",
    "print(next_elem)\n",
    "# print(soup.find_all(\"a\"))\n"
   ]
  }
 ],
 "metadata": {
  "kernelspec": {
   "display_name": "Python 3",
   "language": "python",
   "name": "python3"
  },
  "language_info": {
   "codemirror_mode": {
    "name": "ipython",
    "version": 2
   },
   "file_extension": ".py",
   "mimetype": "text/x-python",
   "name": "python",
   "nbconvert_exporter": "python",
   "pygments_lexer": "ipython2",
   "version": "2.7.6"
  }
 },
 "nbformat": 4,
 "nbformat_minor": 5
}
