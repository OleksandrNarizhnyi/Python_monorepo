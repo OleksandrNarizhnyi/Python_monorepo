{
 "cells": [
  {
   "cell_type": "code",
   "id": "initial_id",
   "metadata": {
    "collapsed": true,
    "ExecuteTime": {
     "end_time": "2024-12-02T08:23:37.749309Z",
     "start_time": "2024-12-02T08:23:37.717894Z"
    }
   },
   "source": [
    "from collections import (OrderedDict)\n",
    "ordered_dict = OrderedDict()\n",
    "ordered_dict[\"apple\"] = 5\n",
    "ordered_dict[\"banana\"] = 2\n",
    "ordered_dict[\"orange\"] = 8\n",
    "print(ordered_dict)"
   ],
   "outputs": [
    {
     "name": "stdout",
     "output_type": "stream",
     "text": [
      "OrderedDict({'apple': 5, 'banana': 2, 'orange': 8})\n"
     ]
    }
   ],
   "execution_count": 1
  },
  {
   "metadata": {},
   "cell_type": "code",
   "outputs": [],
   "execution_count": null,
   "source": [
    "from collections import OrderedDict\n",
    "def lru_cache(capacity, cache, key, value):\n",
    " if key in cache:\n",
    " # Если ключ уже существует, обновляем значение и перемещаем элемент в конец словаря\n",
    " cache.pop(key)\n",
    " elif len(cache) >= capacity:\n",
    " # Если кэш переполнен, удаляем первый элемент (самый старый)\n",
    " cache.popitem(last=False)\n",
    " cache[key] = value\n",
    "capacity = 3\n",
    "cache = OrderedDict()"
   ],
   "id": "ce16756b16f3c372"
  },
  {
   "metadata": {},
   "cell_type": "code",
   "outputs": [],
   "execution_count": null,
   "source": [
    "lru_cache(capacity, cache, \"key1\", \"value1\")\n",
    "lru_cache(capacity, cache, \"key2\", \"value2\")\n",
    "lru_cache(capacity, cache, \"key3\", \"value3\")\n",
    "print(cache) # Выводит OrderedDict([('key1', 'value1'), ('key2', 'value2'), ('key3', 'value3')])"
   ],
   "id": "4a8b1cd69118ae41"
  },
  {
   "metadata": {},
   "cell_type": "code",
   "outputs": [],
   "execution_count": null,
   "source": [
    "lru_cache(capacity, cache, \"key2\", \"new_value2\") # Обновляем значение \"key2\"\n",
    "print(cache) # Выводит OrderedDict([('key1', 'value1'), ('key3', 'value3'), ('key2', 'new_value2')])\n",
    "lru_cache(capacity, cache, \"key4\", \"value4\") # Кÿш переполнен, удаляем \"key1\"\n",
    "print(cache) # Выводит OrderedDict([('key3', 'value3'), ('key2', 'new_value2'), ('key4', 'value4')])"
   ],
   "id": "e7698fa5505c2976"
  },
  {
   "metadata": {
    "ExecuteTime": {
     "end_time": "2024-12-02T08:51:20.454743Z",
     "start_time": "2024-12-02T08:51:20.438925Z"
    }
   },
   "cell_type": "code",
   "source": [
    "from collections import OrderedDict\n",
    "\n",
    "\n",
    "def lru_cache(cache_limit, target_cache, key, value):\n",
    "    if key in target_cache:\n",
    "        target_cache.pop(key)\n",
    "    elif len(target_cache) >= cache_limit:\n",
    "        target_cache.popitem(last=False)\n",
    "    target_cache[key] = value\n",
    "\n",
    "\n",
    "capacity = 3\n",
    "cache = OrderedDict()\n",
    "\n",
    "lru_cache(\n",
    "cache_limit=capacity,\n",
    "target_cache=cache,\n",
    "key='one',\n",
    "value=\"Jello\"\n",
    ")\n",
    "\n",
    "lru_cache(\n",
    "cache_limit=capacity,\n",
    "target_cache=cache,\n",
    "key='two',\n",
    "value=\"Greet\"\n",
    ")\n",
    "\n",
    "lru_cache(\n",
    "cache_limit=capacity,\n",
    "target_cache=cache,\n",
    "key='three',\n",
    "value=(2, 4, 6)\n",
    ")"
   ],
   "id": "ba4f67dcbd43351e",
   "outputs": [],
   "execution_count": 2
  },
  {
   "metadata": {
    "ExecuteTime": {
     "end_time": "2024-12-02T08:51:49.795147Z",
     "start_time": "2024-12-02T08:51:49.783146Z"
    }
   },
   "cell_type": "code",
   "source": "cache",
   "id": "5a29a16832a9c642",
   "outputs": [
    {
     "data": {
      "text/plain": [
       "OrderedDict([('one', 'Jello'), ('two', 'Greet'), ('three', (2, 4, 6))])"
      ]
     },
     "execution_count": 3,
     "metadata": {},
     "output_type": "execute_result"
    }
   ],
   "execution_count": 3
  },
  {
   "metadata": {
    "ExecuteTime": {
     "end_time": "2024-12-02T08:51:54.079405Z",
     "start_time": "2024-12-02T08:51:54.072390Z"
    }
   },
   "cell_type": "code",
   "source": [
    "lru_cache(\n",
    "cache_limit=capacity,\n",
    "target_cache=cache,\n",
    "key='three',\n",
    "value=78\n",
    ")"
   ],
   "id": "463d520f49acc0ad",
   "outputs": [],
   "execution_count": 4
  },
  {
   "metadata": {
    "ExecuteTime": {
     "end_time": "2024-12-02T08:52:03.709177Z",
     "start_time": "2024-12-02T08:52:03.702530Z"
    }
   },
   "cell_type": "code",
   "source": "cache",
   "id": "e7b77e36a0ead0e9",
   "outputs": [
    {
     "data": {
      "text/plain": [
       "OrderedDict([('one', 'Jello'), ('two', 'Greet'), ('three', 78)])"
      ]
     },
     "execution_count": 5,
     "metadata": {},
     "output_type": "execute_result"
    }
   ],
   "execution_count": 5
  },
  {
   "metadata": {
    "ExecuteTime": {
     "end_time": "2024-12-02T09:25:17.365493Z",
     "start_time": "2024-12-02T09:25:17.355495Z"
    }
   },
   "cell_type": "code",
   "source": [
    "fish_inventory = [\n",
    "(\"Sammy\", \"shark\", \"tank-a\"),\n",
    "(\"Jamie\", \"cuttlefish\", \"tank-b\"),\n",
    "(\"Mary\", \"squid\", \"tank-a\"),\n",
    "(\"Бабблс\", \"clownfish\", \"tank-c\"),\n",
    "(\"Финли\", \"goldfish\", \"tank-d\"),\n",
    "(\"Шэдоу\", \"catfish\", \"tank-b\"),\n",
    "(\"Дори\", \"blue tang\", \"tank-c\"),\n",
    "(\"Немо\", \"clownfish\", \"tank-c\"),\n",
    "(\"Глиммер\", \"angelfish\", \"tank-d\"),\n",
    "(\"Спайк\", \"pufferfish\", \"tank-e\"),\n",
    "(\"Флэш\", \"swordtail\", \"tank-f\"),\n",
    "(\"Сплэш\", \"betta\", \"tank-g\"),\n",
    "(\"Уискерс\", \"pleco\", \"tank-b\"),\n",
    "(\"Страйпс\", \"zebrafish\", \"tank-d\"),\n",
    "(\"Кристал\", \"glassfish\", \"tank-e\"),\n",
    "(\"Голди\", \"goldfish\", \"tank-d\"),\n",
    "(\"Перл\", \"guppy\", \"tank-h\"),\n",
    "(\"Джоз\", \"great white shark\", \"tank-i\"),\n",
    "(\"Корал\", \"coral grouper\", \"tank-a\"),\n",
    "(\"Сэнди\", \"sandfish\", \"tank-h\"),\n",
    "(\"Гилл\", \"moorish idol\", \"tank-c\"),\n",
    "(\"Шелли\", \"seahorse\", \"tank-g\"),\n",
    "(\"Рэй\", \"stingray\", \"tank-j\"),\n",
    "(\"Инки\", \"octopus\", \"tank-b\"),\n",
    "(\"Фин\", \"barracuda\", \"tank-k\"),\n",
    "]\n",
    "from collections import defaultdict\n",
    "# после импорта всегда должно быть две пустые строки\n",
    "\n",
    "def order_by_tank(fish_list):\n",
    "    fishes = defaultdict(list)\n",
    "    for fish in fish_list:\n",
    "        fishes[fish[-1]].append(fish[:-1])\n",
    "    return fishes\n",
    "\n",
    "for fish in order_by_tank(fish_inventory).items():\n",
    "    print(fish)\n",
    "        "
   ],
   "id": "93da99f4ef9a9a44",
   "outputs": [
    {
     "name": "stdout",
     "output_type": "stream",
     "text": [
      "('tank-a', [('Sammy', 'shark'), ('Mary', 'squid'), ('Корал', 'coral grouper')])\n",
      "('tank-b', [('Jamie', 'cuttlefish'), ('Шэдоу', 'catfish'), ('Уискерс', 'pleco'), ('Инки', 'octopus')])\n",
      "('tank-c', [('Бабблс', 'clownfish'), ('Дори', 'blue tang'), ('Немо', 'clownfish'), ('Гилл', 'moorish idol')])\n",
      "('tank-d', [('Финли', 'goldfish'), ('Глиммер', 'angelfish'), ('Страйпс', 'zebrafish'), ('Голди', 'goldfish')])\n",
      "('tank-e', [('Спайк', 'pufferfish'), ('Кристал', 'glassfish')])\n",
      "('tank-f', [('Флэш', 'swordtail')])\n",
      "('tank-g', [('Сплэш', 'betta'), ('Шелли', 'seahorse')])\n",
      "('tank-h', [('Перл', 'guppy'), ('Сэнди', 'sandfish')])\n",
      "('tank-i', [('Джоз', 'great white shark')])\n",
      "('tank-j', [('Рэй', 'stingray')])\n",
      "('tank-k', [('Фин', 'barracuda')])\n"
     ]
    }
   ],
   "execution_count": 8
  },
  {
   "metadata": {
    "ExecuteTime": {
     "end_time": "2024-12-02T10:05:09.405886Z",
     "start_time": "2024-12-02T10:05:09.396982Z"
    }
   },
   "cell_type": "code",
   "source": [
    "from collections import Counter\n",
    "my_list = [1, 2, 3, 1, 2, 3, 1, 2, 4, 5, 4, 3]\n",
    "my_counter = Counter(my_list)\n",
    "print(my_counter) # Выводит Counter({1: 3, 2: 3, 3: 3, 4: 2, 5: 1})\n",
    "print(my_counter[1]) # Выводит 3, так как ÿлемент \"1\" встречаетсā 3 раза в списке\n",
    "print(my_counter.most_common(3))"
   ],
   "id": "e286d5a57142944a",
   "outputs": [
    {
     "name": "stdout",
     "output_type": "stream",
     "text": [
      "Counter({1: 3, 2: 3, 3: 3, 4: 2, 5: 1})\n",
      "3\n",
      "[(1, 3), (2, 3), (3, 3)]\n"
     ]
    }
   ],
   "execution_count": 11
  },
  {
   "metadata": {
    "ExecuteTime": {
     "end_time": "2024-12-02T10:02:58.896466Z",
     "start_time": "2024-12-02T10:02:58.887334Z"
    }
   },
   "cell_type": "code",
   "source": [
    "from collections import namedtuple\n",
    "# Создаем именованный кортеж с именами полей 'name' и 'age'\n",
    "Person = namedtuple('Person', ['name', 'age']) # как исключение,здесь переменная создается с большой буквы\n",
    "person1 = Person(name='Alice', age=30) \n",
    "print(person1.name)\n",
    "print(person1.age)"
   ],
   "id": "b4547723509150c3",
   "outputs": [
    {
     "name": "stdout",
     "output_type": "stream",
     "text": [
      "Alice\n",
      "30\n"
     ]
    }
   ],
   "execution_count": 9
  },
  {
   "metadata": {
    "ExecuteTime": {
     "end_time": "2024-12-02T10:33:13.640701Z",
     "start_time": "2024-12-02T10:33:13.633600Z"
    }
   },
   "cell_type": "code",
   "source": [
    "import json\n",
    "# Сериализациā Python-объекта в JSON-строку\n",
    "data = {\"name\": \"John\", \"age\": 25, \"city\": \"New York\"}\n",
    "json_str = json.dumps(data)\n",
    "print(json_str) # Выводит '{\"name\": \"John\", \"age\": 25, \"city\": \"New York\"}'\n",
    "# Десериализациā JSON-строки в Python-объект\n",
    "json_str = '{\"name\": \"John\", \"age\": 25, \"city\": \"New York\"}'\n",
    "data = json.loads(json_str)\n",
    "print(data[\"name\"]) # Выводит 'John'"
   ],
   "id": "eaa43c6c0b2caefb",
   "outputs": [
    {
     "name": "stdout",
     "output_type": "stream",
     "text": [
      "{\"name\": \"John\", \"age\": 25, \"city\": \"New York\"}\n",
      "John\n"
     ]
    }
   ],
   "execution_count": 13
  },
  {
   "metadata": {
    "ExecuteTime": {
     "end_time": "2024-12-02T10:58:48.166258Z",
     "start_time": "2024-12-02T10:58:48.157752Z"
    }
   },
   "cell_type": "code",
   "source": [
    "#Словарь синонимов. Вам дан словарь, состоящий из пар слов. \n",
    "# Каждое слово является синонимом к парному ему слову. \n",
    "# Все слова в словаре различны. Написать функцию, которая для заданного слова из словаря, определяет его синоним. \n",
    "# Пример словаря: {“Hello”: “Hi”, “Bye”: “Goodbye”, “List”: “Array”}. get_synonim(“Goodbye”) -> Bye.\n",
    "\n",
    "synonyms = {\"Hello\": \"Hi\", \"Bye\": \"Goodbye\", \"List\": \"Array\"}\n",
    "\n",
    "def get_synonim(word):\n",
    "    for key, value in synonyms.items():\n",
    "        if key == word:\n",
    "            return value\n",
    "        elif value == word:\n",
    "            return key\n",
    "        \n",
    "    return 'Not found'\n",
    "            \n",
    "get_synonim(\"List\")\n",
    "    "
   ],
   "id": "7bc5b6fe69eda460",
   "outputs": [
    {
     "data": {
      "text/plain": [
       "'Array'"
      ]
     },
     "execution_count": 22,
     "metadata": {},
     "output_type": "execute_result"
    }
   ],
   "execution_count": 22
  },
  {
   "metadata": {
    "ExecuteTime": {
     "end_time": "2024-12-02T11:28:52.292909Z",
     "start_time": "2024-12-02T11:28:52.275915Z"
    }
   },
   "cell_type": "code",
   "source": [
    "# есть данные о пациентах в больнице. Каждый пациент имеет следующие\n",
    "# характеристики: имя, возраст, диагноз и отделение, в котором он находится.\n",
    "# \n",
    "# Сгруппируйте пациентов по отделениям и подсчитайте количество диагнозов в каждом отделении.\n",
    "# Вычислите средний возраст пациентов в каждом отделении. Выведите результаты.\n",
    "# \n",
    "# Пример:\n",
    "# Отделение: Кардиология\n",
    "# Средний возраст пациентов: 65.3\n",
    "# Диагнозы:\n",
    "# - Инфаркт миокарда: 3\n",
    "# - Аритмия: 2\n",
    "# \n",
    "# Отделение: Неврология\n",
    "# Средний возраст пациентов: 50.5\n",
    "# Диагнозы:\n",
    "# - Инсульт: 4\n",
    "# - Эпилепсия: 1\n",
    "# \n",
    "# (И так далее для каждого отделения.)\n",
    "\n",
    "\n",
    "\n",
    "Patient = namedtuple('Patient', [\"name\", \"age\", \"diagnosis\", \"department\"])\n",
    "\n",
    "patients = [\n",
    "Patient(name='Иван Иванов', age=70, diagnosis='Инфаркт миокарда', department='Кардиология'),\n",
    "Patient(name='Мария Петрова', age=60, diagnosis='Аритмия', department='Кардиология'),\n",
    "Patient(name='Петр Смирнов', age=55, diagnosis='Стенокардия', department='Кардиология'),\n",
    "Patient(name='Анна Кузнецова', age=45, diagnosis='Пневмония', department='Пульмонология'),\n",
    "Patient(name='Сергей Соколов', age=50, diagnosis='Бронхит', department='Пульмонология'),\n",
    "Patient(name='Ольга Попова', age=30, diagnosis='Астма', department='Пульмонология'),\n",
    "Patient(name='Дмитрий Лебедев', age=65, diagnosis='Инсульт', department='Неврология'),\n",
    "Patient(name='Елена Козлова', age=40, diagnosis='Мигрень', department='Неврология'),\n",
    "Patient(name='Алексей Новиков', age=35, diagnosis='Эпилепсия', department='Неврология'),\n",
    "Patient(name='Татьяна Морозова', age=25, diagnosis='Грипп', department='Инфекционное'),\n",
    "Patient(name='Николай Федоров', age=20, diagnosis='Гепатит', department='Инфекционное'),\n",
    "Patient(name='Наталья Васильева', age=28, diagnosis='Ветряная оспа', department='Инфекционное'),\n",
    "Patient(name='Михаил Михайлов', age=75, diagnosis='Артрит', department='Ревматология'),\n",
    "Patient(name='Светлана Павлова', age=68, diagnosis='Остеопороз', department='Ревматология'),\n",
    "Patient(name='Андрей Семенов', age=55, diagnosis='Ревматизм', department='Ревматология'),\n",
    "Patient(name='Екатерина Голубева', age=60, diagnosis='Диабет', department='Эндокринология'),\n",
    "Patient(name='Владимир Воробьев', age=50, diagnosis='Гипотиреоз', department='Эндокринология'),\n",
    "Patient(name='Юлия Королева', age=45, diagnosis='Гипертиреоз', department='Эндокринология'),\n",
    "Patient(name='Олег Никитин', age=38, diagnosis='Язва желудка', department='Гастроэнтерология'),\n",
    "Patient(name='Алина Зайцева', age=42, diagnosis='Гастрит', department='Гастроэнтерология'),\n",
    "Patient(name='Роман Зайцев', age=33, diagnosis='Панкреатит', department='Гастроэнтерология'),\n",
    "Patient(name='Ирина Белова', age=29, diagnosis='Почечная недостаточность', department='Нефрология'),\n",
    "Patient(name='Виктор Тихомиров', age=65, diagnosis='Мочекаменная болезнь', department='Нефрология'),\n",
    "Patient(name='Александра Орлова', age=52, diagnosis='Гломерулонефрит', department='Нефрология'),\n",
    "Patient(name='Григорий Киселев', age=47, diagnosis='Катаракта', department='Офтальмология'),\n",
    "Patient(name='Маргарита Макарова', age=55, diagnosis='Глаукома', department='Офтальмология'),\n",
    "Patient(name='Евгений Андреев', age=60, diagnosis='Конъюнктивит', department='Офтальмология'),\n",
    "Patient(name='Людмила Соловьева', age=70, diagnosis='Анемия', department='Гематология'),\n",
    "Patient(name='Павел Борисов', age=65, diagnosis='Лейкемия', department='Гематология'),\n",
    "Patient(name='Ксения Дмитриева', age=50, diagnosis='Тромбоцитопения', department='Гематология'),\n",
    "]\n",
    "from collections import defaultdict\n",
    "from collections import namedtuple\n",
    "\n",
    "\n",
    "def analyze_patients(patient_data):\n",
    "    patients_by_dep = defaultdict(list)\n",
    "    for patient in patient_data:\n",
    "        patients_by_dep[patient.department].append(patient)\n",
    "        \n",
    "    for dep, patients_list in patients_by_dep.items():\n",
    "        diagnoss_count = defaultdict(int)\n",
    "        total_age = 0\n",
    "        \n",
    "        for patient in patients_list:\n",
    "            total_age += patient.age\n",
    "            diagnoss_count[patient.diagnosis] += 1\n",
    "            \n",
    "        avg_age = total_age / len(patients_list)\n",
    "        \n",
    "        diagn_info = ''\n",
    "        for dig, count in diagnoss_count.items():\n",
    "            diagn_info += f\"- {dig}: {count}\\n\"\n",
    "        statistic_template = '''\n",
    "Отделение: {}\n",
    "Средний возраст пациентов: {:.1f}\n",
    "Диагнозы:\n",
    "{}\n",
    "'''\n",
    "        print(statistic_template.format(dep, avg_age, diagn_info))       \n",
    "  \n",
    "analyze_patients(patients)          \n"
   ],
   "id": "fd3b6f60494dbc07",
   "outputs": [
    {
     "name": "stdout",
     "output_type": "stream",
     "text": [
      "\n",
      "Отделение: Кардиология\n",
      "Средний возраст пациентов: 61.7\n",
      "Диагнозы:\n",
      "- Инфаркт миокарда: 1\n",
      "- Аритмия: 1\n",
      "- Стенокардия: 1\n",
      "\n",
      "\n",
      "\n",
      "Отделение: Пульмонология\n",
      "Средний возраст пациентов: 41.7\n",
      "Диагнозы:\n",
      "- Пневмония: 1\n",
      "- Бронхит: 1\n",
      "- Астма: 1\n",
      "\n",
      "\n",
      "\n",
      "Отделение: Неврология\n",
      "Средний возраст пациентов: 46.7\n",
      "Диагнозы:\n",
      "- Инсульт: 1\n",
      "- Мигрень: 1\n",
      "- Эпилепсия: 1\n",
      "\n",
      "\n",
      "\n",
      "Отделение: Инфекционное\n",
      "Средний возраст пациентов: 24.3\n",
      "Диагнозы:\n",
      "- Грипп: 1\n",
      "- Гепатит: 1\n",
      "- Ветряная оспа: 1\n",
      "\n",
      "\n",
      "\n",
      "Отделение: Ревматология\n",
      "Средний возраст пациентов: 66.0\n",
      "Диагнозы:\n",
      "- Артрит: 1\n",
      "- Остеопороз: 1\n",
      "- Ревматизм: 1\n",
      "\n",
      "\n",
      "\n",
      "Отделение: Эндокринология\n",
      "Средний возраст пациентов: 51.7\n",
      "Диагнозы:\n",
      "- Диабет: 1\n",
      "- Гипотиреоз: 1\n",
      "- Гипертиреоз: 1\n",
      "\n",
      "\n",
      "\n",
      "Отделение: Гастроэнтерология\n",
      "Средний возраст пациентов: 37.7\n",
      "Диагнозы:\n",
      "- Язва желудка: 1\n",
      "- Гастрит: 1\n",
      "- Панкреатит: 1\n",
      "\n",
      "\n",
      "\n",
      "Отделение: Нефрология\n",
      "Средний возраст пациентов: 48.7\n",
      "Диагнозы:\n",
      "- Почечная недостаточность: 1\n",
      "- Мочекаменная болезнь: 1\n",
      "- Гломерулонефрит: 1\n",
      "\n",
      "\n",
      "\n",
      "Отделение: Офтальмология\n",
      "Средний возраст пациентов: 54.0\n",
      "Диагнозы:\n",
      "- Катаракта: 1\n",
      "- Глаукома: 1\n",
      "- Конъюнктивит: 1\n",
      "\n",
      "\n",
      "\n",
      "Отделение: Гематология\n",
      "Средний возраст пациентов: 61.7\n",
      "Диагнозы:\n",
      "- Анемия: 1\n",
      "- Лейкемия: 1\n",
      "- Тромбоцитопения: 1\n",
      "\n",
      "\n"
     ]
    }
   ],
   "execution_count": 31
  }
 ],
 "metadata": {
  "kernelspec": {
   "display_name": "Python 3",
   "language": "python",
   "name": "python3"
  },
  "language_info": {
   "codemirror_mode": {
    "name": "ipython",
    "version": 2
   },
   "file_extension": ".py",
   "mimetype": "text/x-python",
   "name": "python",
   "nbconvert_exporter": "python",
   "pygments_lexer": "ipython2",
   "version": "2.7.6"
  }
 },
 "nbformat": 4,
 "nbformat_minor": 5
}
