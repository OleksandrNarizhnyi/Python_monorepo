{
 "cells": [
  {
   "cell_type": "code",
   "execution_count": null,
   "id": "initial_id",
   "metadata": {
    "collapsed": true
   },
   "outputs": [],
   "source": "# text = \"Lorem ipsum dolor sit amet, consectetur adipiscing elit, sed do eiusmod tempor incididunt.\""
  },
  {
   "metadata": {},
   "cell_type": "code",
   "outputs": [],
   "execution_count": null,
   "source": [
    "# Дана строка. При решении нельзя использовать циклы.\n",
    "# Сначала выведите третий символ этой строки.\n",
    "# Во второй строке выведите предпоследний символ этой строки.\n",
    "# В третьей строке выведите первые пять символов этой строки.\n",
    "# В четвертой строке выведите всю строку, кроме последних двух символов.\n",
    "# В пятой строке выведите все символы с четными индексами (считая, что индексация начинается с 0, поэтому символы выводятся начиная с первого).\n",
    "# В шестой строке выведите все символы с нечетными индексами, то есть начиная со второго символа строки.\n",
    "# В седьмой строке выведите все символы в обратном порядке.\n",
    "# В восьмой строке выведите все символы строки через один в обратном порядке, начиная с последнего.\n",
    "# В девятой строке выведите длину данной строки."
   ],
   "id": "ce4c8cf5a78d6ef0"
  },
  {
   "metadata": {
    "ExecuteTime": {
     "end_time": "2024-10-29T08:07:44.037426Z",
     "start_time": "2024-10-29T08:07:44.024102Z"
    }
   },
   "cell_type": "code",
   "source": [
    "# Сначала выведите третий символ этой строки.\n",
    "text = \"Lorem ipsum dolor sit amet, consectetur adipiscing elit, sed do eiusmod tempor incididunt.\"\n",
    "print(text[2])"
   ],
   "id": "eed50477920c0b0f",
   "outputs": [
    {
     "name": "stdout",
     "output_type": "stream",
     "text": [
      "r\n"
     ]
    }
   ],
   "execution_count": 1
  },
  {
   "metadata": {
    "ExecuteTime": {
     "end_time": "2024-10-29T08:08:18.225535Z",
     "start_time": "2024-10-29T08:08:18.213530Z"
    }
   },
   "cell_type": "code",
   "source": [
    "# Во второй строке выведите предпоследний символ этой строки.\n",
    "text = \"Lorem ipsum dolor sit amet, consectetur adipiscing elit, sed do eiusmod tempor incididunt.\"\n",
    "print(text[-2])"
   ],
   "id": "36821c546e5ccf99",
   "outputs": [
    {
     "name": "stdout",
     "output_type": "stream",
     "text": [
      "t\n"
     ]
    }
   ],
   "execution_count": 2
  },
  {
   "metadata": {
    "ExecuteTime": {
     "end_time": "2024-10-29T08:19:39.038632Z",
     "start_time": "2024-10-29T08:19:39.029220Z"
    }
   },
   "cell_type": "code",
   "source": [
    "# В четвертой строке выведите всю строку, кроме последних двух символов.\n",
    "text = \"Lorem ipsum dolor sit amet, consectetur adipiscing elit, sed do eiusmod tempor incididunt.\"\n",
    "print(text[0:- 2])"
   ],
   "id": "cf01e1d88ef213d1",
   "outputs": [
    {
     "name": "stdout",
     "output_type": "stream",
     "text": [
      "Lorem ipsum dolor sit amet, consectetur adipiscing elit, sed do eiusmod tempor incididun\n"
     ]
    }
   ],
   "execution_count": 13
  },
  {
   "metadata": {
    "ExecuteTime": {
     "end_time": "2024-10-29T08:14:25.828594Z",
     "start_time": "2024-10-29T08:14:25.819386Z"
    }
   },
   "cell_type": "code",
   "source": [
    "# В пятой строке выведите все символы с четными индексами (считая, что индексация начинается с 0, поэтому символы выводятся начиная с первого).\n",
    "text = \"Lorem ipsum dolor sit amet, consectetur adipiscing elit, sed do eiusmod tempor incididunt.\"\n",
    "print(text[1::2])"
   ],
   "id": "df1f507049bf57f1",
   "outputs": [
    {
     "name": "stdout",
     "output_type": "stream",
     "text": [
      "oe pu oo i mt osceu dpsigei,sdd iso epricddn.\n"
     ]
    }
   ],
   "execution_count": 7
  },
  {
   "metadata": {
    "ExecuteTime": {
     "end_time": "2024-10-29T08:15:25.499829Z",
     "start_time": "2024-10-29T08:15:25.490151Z"
    }
   },
   "cell_type": "code",
   "source": [
    "# В шестой строке выведите все символы с нечетными индексами, то есть начиная со второго символа строки.\n",
    "text = \"Lorem ipsum dolor sit amet, consectetur adipiscing elit, sed do eiusmod tempor incididunt.\"\n",
    "print(text[2::2])"
   ],
   "id": "8c79902f45484998",
   "outputs": [
    {
     "name": "stdout",
     "output_type": "stream",
     "text": [
      "rmismdlrstae,cnettraiicn lt e oeumdtmo niiut\n"
     ]
    }
   ],
   "execution_count": 8
  },
  {
   "metadata": {
    "ExecuteTime": {
     "end_time": "2024-10-29T08:16:12.841029Z",
     "start_time": "2024-10-29T08:16:12.833315Z"
    }
   },
   "cell_type": "code",
   "source": [
    "# В седьмой строке выведите все символы в обратном порядке.\n",
    "text = \"Lorem ipsum dolor sit amet, consectetur adipiscing elit, sed do eiusmod tempor incididunt.\"\n",
    "print(text[::-1])"
   ],
   "id": "8a71b0713de8766",
   "outputs": [
    {
     "name": "stdout",
     "output_type": "stream",
     "text": [
      ".tnudidicni ropmet domsuie od des ,tile gnicsipida rutetcesnoc ,tema tis rolod muspi meroL\n"
     ]
    }
   ],
   "execution_count": 9
  },
  {
   "metadata": {
    "ExecuteTime": {
     "end_time": "2024-10-29T08:20:50.906403Z",
     "start_time": "2024-10-29T08:20:50.899401Z"
    }
   },
   "cell_type": "code",
   "source": [
    "# В восьмой строке выведите все символы строки через один в обратном порядке, начиная с последнего.\n",
    "text = \"Lorem ipsum dolor sit amet, consectetur adipiscing elit, sed do eiusmod tempor incididunt.\"\n",
    "print(text[::-2])"
   ],
   "id": "ce8bf5f94e080521",
   "outputs": [
    {
     "name": "stdout",
     "output_type": "stream",
     "text": [
      ".nddcirpe osi dds,iegispd uecso tm i oo up eo\n"
     ]
    }
   ],
   "execution_count": 17
  },
  {
   "metadata": {
    "ExecuteTime": {
     "end_time": "2024-10-29T08:21:57.243351Z",
     "start_time": "2024-10-29T08:21:57.235816Z"
    }
   },
   "cell_type": "code",
   "source": [
    "# В девятой строке выведите длину данной строки.\n",
    "text = \"Lorem ipsum dolor sit amet, consectetur adipiscing elit, sed do eiusmod tempor incididunt.\"\n",
    "print(len(text))"
   ],
   "id": "13ddd97de71544da",
   "outputs": [
    {
     "name": "stdout",
     "output_type": "stream",
     "text": [
      "90\n"
     ]
    }
   ],
   "execution_count": 18
  },
  {
   "metadata": {
    "ExecuteTime": {
     "end_time": "2024-10-29T08:43:44.313251Z",
     "start_time": "2024-10-29T08:43:31.817382Z"
    }
   },
   "cell_type": "code",
   "source": [
    "# Напишите программу, которая печатает ценник по параметрам: \n",
    "# “The price of <product> is “X” Euro”. В строке <product> и <X> - параметры. \n",
    "# Убедитесь, что цена выводится в Евро с центами (не более двух знаков после запятой).\n",
    "product = input(\"Введите название товара:\")\n",
    "price = float(input(\"Укажите цену: \"))\n",
    "print(f\"The price of {product} is {price:.2f} Euro\")\n"
   ],
   "id": "8fabedd1f9d28fb5",
   "outputs": [
    {
     "name": "stdout",
     "output_type": "stream",
     "text": [
      "The price of mous is 3.15 Euro\n"
     ]
    }
   ],
   "execution_count": 22
  },
  {
   "metadata": {
    "ExecuteTime": {
     "end_time": "2024-10-29T09:00:30.372397Z",
     "start_time": "2024-10-29T09:00:30.360597Z"
    }
   },
   "cell_type": "code",
   "source": [
    "# Дана строка, состоящая из слов, разделенных пробелами. \n",
    "# Определите, сколько в ней слов. Используйте для решения задачи метод count.\n",
    "text = \"Lorem ipsum dolor sit amet, consectetur adipiscing elit, sed do eiusmod tempor incididunt.\"\n",
    "print(text.count(' ')+1)\n",
    "\n"
   ],
   "id": "990345e06c607fe7",
   "outputs": [
    {
     "name": "stdout",
     "output_type": "stream",
     "text": [
      "13\n"
     ]
    }
   ],
   "execution_count": 25
  },
  {
   "metadata": {
    "ExecuteTime": {
     "end_time": "2024-10-29T08:56:32.355704Z",
     "start_time": "2024-10-29T08:56:32.348695Z"
    }
   },
   "cell_type": "code",
   "source": [
    "# Напишите программу, которая считает вхождение заданной подстроки в заданную строку. \n",
    "# Например, для подстроки “ab” и строки “Abrakadabra” программа напечатает 2. \n",
    "text = \"Abrakadabra\"\n",
    "sub_text = \"ab\"\n",
    "print(text.lower().count(sub_text.lower())"
   ],
   "id": "4eba2599a754df1c",
   "outputs": [
    {
     "name": "stdout",
     "output_type": "stream",
     "text": [
      "0\n"
     ]
    }
   ],
   "execution_count": 24
  },
  {
   "metadata": {
    "ExecuteTime": {
     "end_time": "2024-10-29T09:06:43.946829Z",
     "start_time": "2024-10-29T09:06:43.938982Z"
    }
   },
   "cell_type": "code",
   "source": [
    "# Дана строка. Если в этой строке буква f встречается только один раз, выведите её индекс.\n",
    "# Если она встречается два и более раз, выведите индекс ее первого и последнего появления. \n",
    "# Если буква f в данной строке не встречается, ничего не выводите. \n",
    "# При решении этой задачи не стоит использовать циклы.\n",
    "text = \"Lorem ipsum dolor F f sit amet, consectetur adipiscing f elit, sed do eiusmod tempor incididunt. F\".lower()\n",
    "if text.count('f') == 1:\n",
    "    print(text.find('f'))\n",
    "if text.count('f') >= 2:\n",
    "    print(text.find('f'), text.rfind('f'))   # .find('f') работает слева на право ----.rfind('f') работает справа на лево\n"
   ],
   "id": "10d4ab5f1f67df23",
   "outputs": [
    {
     "name": "stdout",
     "output_type": "stream",
     "text": [
      "18 97\n"
     ]
    }
   ],
   "execution_count": 28
  },
  {
   "metadata": {
    "ExecuteTime": {
     "end_time": "2024-10-29T09:15:42.884801Z",
     "start_time": "2024-10-29T09:15:42.876780Z"
    }
   },
   "cell_type": "code",
   "source": [
    "# Напишите программу, которая принимает от пользователя имя и\n",
    "# фамилию, и выводит их в формате, принятом для корпоративного\n",
    "# общения: первая буква имени и фамилии — заглавные, между\n",
    "# ними — пробел. Если в имени или фамилии есть лишние пробелы,\n",
    "# их нужно удалить.\n",
    "\n",
    "name = \"aLEx\".strip() # Если в имени или фамилии есть лишние пробелы,их нужно удалить(.strip() удаляет пробелы в начале и конце строки по умолчанию)\n",
    "sur_name = \"  SmiTh\".strip()\n",
    "print(sur_name.capitalize() + \" \" + name.capitalize())\n",
    "\n",
    "\n"
   ],
   "id": "7bb67861db810768",
   "outputs": [
    {
     "name": "stdout",
     "output_type": "stream",
     "text": [
      "Smith Alex\n"
     ]
    }
   ],
   "execution_count": 32
  },
  {
   "metadata": {
    "ExecuteTime": {
     "end_time": "2024-10-29T09:22:50.686173Z",
     "start_time": "2024-10-29T09:22:50.680731Z"
    }
   },
   "cell_type": "code",
   "source": [
    "full_name = '   fREDy   kruGeR'.strip().split()\n",
    "print(\" \".join(full_name).title())"
   ],
   "id": "29a7fbbc5510928a",
   "outputs": [
    {
     "name": "stdout",
     "output_type": "stream",
     "text": [
      "Fredy Kruger\n"
     ]
    }
   ],
   "execution_count": 34
  },
  {
   "metadata": {
    "ExecuteTime": {
     "end_time": "2024-10-29T09:42:33.319887Z",
     "start_time": "2024-10-29T09:42:16.100525Z"
    }
   },
   "cell_type": "code",
   "source": [
    "# Напишите программу, которая принимает от пользователя имя и фамилию\n",
    "# и создает корпоративный email-адрес в формате: <первая буква имени>.<фамилия>@company.com.\n",
    "# Все буквы в email-адресе должны быть в нижнем регистре, а пробелы\n",
    "# и лишние символы — удалены.\n",
    "full_name = input('Enter your fuul name with comma and space').strip().lower().split(\", \")\n",
    "name, surname = full_name\n",
    "\n",
    "print(full_name)\n",
    "print(name)\n",
    "print(surname)\n",
    "\n",
    "email = f'{name[0]}.{surname}@company.com'\n",
    "print(email)\n"
   ],
   "id": "182e5e6126daaff2",
   "outputs": [
    {
     "name": "stdout",
     "output_type": "stream",
     "text": [
      "['smith', 'john']\n",
      "smith\n",
      "john\n",
      "s.john@company.com\n"
     ]
    }
   ],
   "execution_count": 38
  },
  {
   "metadata": {
    "ExecuteTime": {
     "end_time": "2024-10-29T09:59:20.316870Z",
     "start_time": "2024-10-29T09:59:20.308059Z"
    }
   },
   "cell_type": "code",
   "source": [
    "# Напишите программу, которая принимает URL и выводит только доменное\n",
    "# имя, исключая протокол (http, https) и www. Это поможет быстрее\n",
    "# определять основной ресурс в URL при обработке данных.\n",
    "\n",
    "url = \"https://www.maps.google.com/me/home/\".split('.')\n",
    "url_1, url_2, url_3, url_4 = url\n",
    "print(url_1)\n",
    "print(url_2)\n",
    "print(url_3)\n",
    "print(url_4)\n",
    "res_url = f'{url_2}.{url_3}.{url_4[0:3]}'\n",
    "print(res_url)"
   ],
   "id": "64d033d04db3c90f",
   "outputs": [
    {
     "name": "stdout",
     "output_type": "stream",
     "text": [
      "https://www\n",
      "maps\n",
      "google\n",
      "com/me/home/\n",
      "maps.google.com\n"
     ]
    }
   ],
   "execution_count": 41
  },
  {
   "metadata": {
    "ExecuteTime": {
     "end_time": "2024-10-29T10:17:31.965177Z",
     "start_time": "2024-10-29T10:17:31.956047Z"
    }
   },
   "cell_type": "code",
   "source": [
    "url = \"https://www.maps.google.com/me/home/\"\n",
    "\n",
    "# url.split('w.') -> ['https://ww', \"maps.google.com/me/home/\"]\n",
    "# 0 1\n",
    "# \"maps.google.com/me/home/\".split('/')[0] -> \"maps.google.com\"\n",
    "\n",
    "print(url.split(\"w.\")[1].split(\"/\")[0])"
   ],
   "id": "10f3226c98565eb0",
   "outputs": [
    {
     "name": "stdout",
     "output_type": "stream",
     "text": [
      "maps.google.com\n"
     ]
    }
   ],
   "execution_count": 42
  },
  {
   "metadata": {},
   "cell_type": "code",
   "outputs": [],
   "execution_count": null,
   "source": [
    "# СТРОГО ПО ЖЕЛАНИЮ!!!!!!!!!!!\n",
    "\n",
    "\n",
    "# Напишите программу, которая принимает описание вакансии и\n",
    "# извлекает из него ключевую информацию — требуемый опыт (в годах)\n",
    "# и город. Форматировать вывод так: \"Опыт: X лет, Город: Y\". Если\n",
    "# опыт или город не указаны, выводить вместо этого \"Не указано\".\n",
    "\n",
    "\n",
    "# <- Требуется Python-разработчик с опытом работы от 3 лет, г. Новый Орлеан\n",
    "# -> Опыт: 3 лет, Город: Новый Орлеан\n",
    "\n",
    "# <- Требуется Python-разработчик с опытом работы от 3 лет\n",
    "# -> Опыт: 3 лет, Город: Не указано\n",
    "\n",
    "# <- Требуется Python-разработчик г. Новый Орлеан\n",
    "# -> Опыт: Не указано, Город: Новый Орлеан"
   ],
   "id": "d9f07fb854295695"
  }
 ],
 "metadata": {
  "kernelspec": {
   "display_name": "Python 3",
   "language": "python",
   "name": "python3"
  },
  "language_info": {
   "codemirror_mode": {
    "name": "ipython",
    "version": 2
   },
   "file_extension": ".py",
   "mimetype": "text/x-python",
   "name": "python",
   "nbconvert_exporter": "python",
   "pygments_lexer": "ipython2",
   "version": "2.7.6"
  }
 },
 "nbformat": 4,
 "nbformat_minor": 5
}
