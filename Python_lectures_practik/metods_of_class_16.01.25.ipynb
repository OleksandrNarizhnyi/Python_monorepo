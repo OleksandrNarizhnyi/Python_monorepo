{
 "cells": [
  {
   "cell_type": "code",
   "id": "initial_id",
   "metadata": {
    "collapsed": true,
    "ExecuteTime": {
     "end_time": "2025-01-16T08:19:07.495853Z",
     "start_time": "2025-01-16T08:19:07.482868Z"
    }
   },
   "source": [
    "class User:\n",
    "    def __init__(self, name=None):\n",
    "        self.name = name if name else 'ANONYM'\n",
    "\n",
    "    def greet(self):\n",
    "        return f\"Greetings, {self.name}\"\n",
    "\n",
    "\n",
    "david = User()\n",
    "print(david.greet())"
   ],
   "outputs": [
    {
     "name": "stdout",
     "output_type": "stream",
     "text": [
      "Greetings, ANONYM\n"
     ]
    }
   ],
   "execution_count": 1
  },
  {
   "metadata": {
    "ExecuteTime": {
     "end_time": "2025-01-16T08:36:11.222481Z",
     "start_time": "2025-01-16T08:36:11.205195Z"
    }
   },
   "cell_type": "code",
   "source": [
    "class MyClass:\n",
    "    def __init__(self, name, surname, age, email, gender, role):\n",
    "        self.name = name\n",
    "        self.surname = surname\n",
    "        self.age = age\n",
    "        self.email = email\n",
    "        self.gender = gender\n",
    "        self.role = role\n",
    "\n",
    "    def __str__(self):\n",
    "        return f\"User - {self.role}\"\n",
    "\n",
    "    def __repr__(self):\n",
    "        output = \"MyClass(name={}, surname={}, age={}, email={}, gender={}, role={})\"\n",
    "\n",
    "        return output.format(\n",
    "            self.name,\n",
    "            self.surname,\n",
    "            self.age,\n",
    "            self.email,\n",
    "            self.gender,\n",
    "            self.role\n",
    "    )\n",
    "\n",
    "\n",
    "user_1 = MyClass(\"Vlad\", \"Blck\", 39, \"test.mail@gmail.com\", \"male\", \"Admin\")\n",
    "\n",
    "print(user_1)\n",
    "\n",
    "repr(user_1)"
   ],
   "id": "652d4c8a753822f9",
   "outputs": [
    {
     "name": "stdout",
     "output_type": "stream",
     "text": [
      "User - Admin\n"
     ]
    },
    {
     "data": {
      "text/plain": [
       "'MyClass(name=Vlad, surname=Blck, age=39, email=test.mail@gmail.com, gender=male, role=Admin)'"
      ]
     },
     "execution_count": 2,
     "metadata": {},
     "output_type": "execute_result"
    }
   ],
   "execution_count": 2
  },
  {
   "metadata": {
    "ExecuteTime": {
     "end_time": "2025-01-16T09:15:22.551794Z",
     "start_time": "2025-01-16T09:15:22.534921Z"
    }
   },
   "cell_type": "code",
   "source": [
    "# Создать класс Person с полями имя, год рождения, рост, вес и методами\n",
    "# для вычисления возраста, индекса массы тела.\n",
    "# Создать конструкторы от разного числа аргументов.\n",
    "# Переопределить методы __str__, __repr__.\n",
    "from datetime import datetime\n",
    "class Person:\n",
    "    def __init__(self, name=None, birth_date=None, height: float =None, weight=None):\n",
    "        self.name = name if name else \"Anonymous\"\n",
    "        self.birth_date = birth_date if birth_date else \"n/a\"\n",
    "        self.height = height if height else \"n/a\"\n",
    "        self.weight = weight if weight else \"n/a\"\n",
    "        self.__age = self.calc_age()\n",
    "        \n",
    "    def calc_age(self):\n",
    "        if self.birth_date == \"n/a\":\n",
    "            return self.birth_date\n",
    "        else:\n",
    "            curent_date = datetime.now()\n",
    "            return (curent_date - datetime.strptime(self.birth_date, \"%d-%m-%Y\")).days // 365\n",
    "    \n",
    "    def calc_bmi(self):\n",
    "        if any(elem == \"n/a\" for elem in (self.height, self.weight)) :\n",
    "            return \"n/a\"\n",
    "        bmi = round(self.weight / ((self.height / 100) ** 2), 2)\n",
    "        \n",
    "        if bmi < 18.5:\n",
    "            return \"Underweight\"\n",
    "        elif 18.5 < bmi < 24.9:\n",
    "            return \"Normal weight\"\n",
    "        elif 25 < bmi < 29.9:\n",
    "            return \"Overweight\"\n",
    "        else:\n",
    "            return \"Obesity\"\n",
    "        \n",
    "    def __str__(self):\n",
    "        return f\"Person - {self.name}, Age: {self.__age}, Height: {self.height}, Weight: {self.weight}\"\n",
    "     \n",
    "    def __repr__(self):\n",
    "        tmp = \"Person(name={}, birth_date={}, height={}, weight={})\"\n",
    "        return tmp.format(\n",
    "            self.name,\n",
    "            self.birth_date,\n",
    "            self.height,\n",
    "            self.weight\n",
    "        )\n",
    "    \n",
    "\n",
    "persons = [\n",
    "    Person(\"Arthur\"),\n",
    "    Person(name=\"Arthur\", height=178, weight=43.4),\n",
    "    Person(name=\"Arthur\", height=178),\n",
    "    Person(name=\"Arthur\", birth_date='29-08-2000', height=178, weight=69.7),\n",
    "    Person(name=\"Arthur\", birth_date='10-01-2000', height=178, weight=97.3)\n",
    "           ]\n",
    "print(persons)\n",
    "print(\"-\"*100)\n",
    "print(repr(persons))\n",
    "print(\"-\"*100)\n",
    "for person in persons:\n",
    "    print(person.calc_bmi())"
   ],
   "id": "f607851166874b5e",
   "outputs": [
    {
     "name": "stdout",
     "output_type": "stream",
     "text": [
      "[Person(name=Arthur, birth_date=n/a, height=n/a, weight=n/a), Person(name=Arthur, birth_date=n/a, height=178, weight=43.4), Person(name=Arthur, birth_date=n/a, height=178, weight=n/a), Person(name=Arthur, birth_date=29-08-2000, height=178, weight=69.7), Person(name=Arthur, birth_date=10-01-2000, height=178, weight=97.3)]\n",
      "----------------------------------------------------------------------------------------------------\n",
      "[Person(name=Arthur, birth_date=n/a, height=n/a, weight=n/a), Person(name=Arthur, birth_date=n/a, height=178, weight=43.4), Person(name=Arthur, birth_date=n/a, height=178, weight=n/a), Person(name=Arthur, birth_date=29-08-2000, height=178, weight=69.7), Person(name=Arthur, birth_date=10-01-2000, height=178, weight=97.3)]\n",
      "----------------------------------------------------------------------------------------------------\n",
      "n/a\n",
      "Underweight\n",
      "n/a\n",
      "Normal weight\n",
      "Obesity\n"
     ]
    }
   ],
   "execution_count": 5
  },
  {
   "metadata": {
    "ExecuteTime": {
     "end_time": "2025-01-16T09:33:07.789370Z",
     "start_time": "2025-01-16T09:33:07.775011Z"
    }
   },
   "cell_type": "code",
   "source": [
    "# принцип наследования\n",
    "\n",
    "class Animal:\n",
    "    def __init__(self):\n",
    "        self.paws = 4\n",
    "        self.eyes = 2\n",
    "        self.tail = True\n",
    "        self.ears = 2\n",
    "        self.wool = True\n",
    "\n",
    "\n",
    "class Cat(Animal):\n",
    "    def __init__(self, name, age):\n",
    "        super().__init__()\n",
    "        self.name = name\n",
    "        self.age = age\n",
    "\n",
    "    def say_mew(self):\n",
    "        print(f\"Your pet {self.name} say 'Mew'!\")\n",
    "\n",
    "    def __str__(self):\n",
    "        return f\"\"\"\n",
    "            Cat's name: {self.name}\n",
    "            Cat's age: {self.age}\n",
    "            Cat's paws: {self.paws}\n",
    "            Cat with tail? - {self.tail}\n",
    "            Cat's ears: {self.ears}\n",
    "            Cat have wool? - {self.wool}\n",
    "        \"\"\"\n",
    "\n",
    "\n",
    "fluffy = Cat(\"Fluffy\", 2)\n",
    "print(fluffy)\n",
    "print(\"-\"*100)\n",
    "fluffy.say_mew()"
   ],
   "id": "44a9584cd5baae05",
   "outputs": [
    {
     "name": "stdout",
     "output_type": "stream",
     "text": [
      "\n",
      "            Cat's name: Fluffy\n",
      "            Cat's age: 2\n",
      "            Cat's paws: 4\n",
      "            Cat with tail? - True\n",
      "            Cat's ears: 2\n",
      "            Cat have wool? - True\n",
      "        \n",
      "----------------------------------------------------------------------------------------------------\n",
      "Your pet Fluffy say 'Mew'!\n"
     ]
    }
   ],
   "execution_count": 8
  },
  {
   "metadata": {
    "ExecuteTime": {
     "end_time": "2025-01-17T08:41:02.121756Z",
     "start_time": "2025-01-17T08:41:02.110549Z"
    }
   },
   "cell_type": "code",
   "source": [
    "class User:\n",
    "    def __init__(self, name, surname, email):\n",
    "        self.name = name\n",
    "        self.surname = surname\n",
    "        self.email = email\n",
    "\n",
    "    def greeting(self):\n",
    "        print(f\"Greeting! I'm {self.name} {self.surname}. My email is - '{self.email}'\")\n",
    "\n",
    "\n",
    "class Employee(User):\n",
    "    def __init__(self, name, surname, email, position, experience, department):\n",
    "        # User.__init__(self, name, surname, email)\n",
    "        super().__init__(name, surname, email)\n",
    "        self.position = position\n",
    "        self.experience = experience\n",
    "        self.department = department\n",
    "\n",
    "\n",
    "class Client(User):\n",
    "    def __init__(self, name, surname, email, phone, region, city):\n",
    "        super().__init__(name, surname, email)\n",
    "        self.phone = phone\n",
    "        self.region = region\n",
    "        self.city = city\n",
    "\n",
    "\n",
    "user = User(\"John\", \"Black\", \"t.email@gmail.com\")\n",
    "employee = Employee(\"Kseniya\", \"Green\", \"k.green@gmail.com\", \"Python Developer\", 5, \"IT\")\n",
    "client = Client(\"Mariya\", \"Gryffindor\", \"m.gryf@icloud.com\", \"+123456789\", \"South Carolina\", \"Test city\")"
   ],
   "id": "be1540b47d35eaa1",
   "outputs": [],
   "execution_count": 1
  },
  {
   "metadata": {
    "ExecuteTime": {
     "end_time": "2025-01-17T08:41:03.760395Z",
     "start_time": "2025-01-17T08:41:03.746395Z"
    }
   },
   "cell_type": "code",
   "source": [
    "print(user.name, user.surname, user.email)\n",
    "print(\"=\" * 45)\n",
    "print(employee.name, employee.surname, employee.email)\n",
    "print(\"=\" * 45)\n",
    "print(client.name, client.surname, client.email)"
   ],
   "id": "8ff139aa494a30ca",
   "outputs": [
    {
     "name": "stdout",
     "output_type": "stream",
     "text": [
      "John Black t.email@gmail.com\n",
      "=============================================\n",
      "Kseniya Green k.green@gmail.com\n",
      "=============================================\n",
      "Mariya Gryffindor m.gryf@icloud.com\n"
     ]
    }
   ],
   "execution_count": 2
  },
  {
   "metadata": {},
   "cell_type": "code",
   "outputs": [],
   "execution_count": null,
   "source": [
    "class Animal:\n",
    "    def speak(self):\n",
    "        raise NotImplementedError(\"Subclasses must implement this method\")\n",
    "\n",
    "class Dog(Animal):\n",
    "    def speak(self): # переопределение метода speak\n",
    "        return \"Woof!\"\n",
    "\n",
    "class Cat(Animal):\n",
    "    def speak(self): # переопределение метода speak\n",
    "        return \"Meow!\"\n",
    "\n",
    "def animal_sound(animal):\n",
    "    print(animal.speak())\n",
    "\n",
    "# Создаем объекты\n",
    "dog = Dog()\n",
    "cat = Cat()\n",
    "\n",
    "# Вызываем функцию с разными объектами\n",
    "animal_sound(dog)  # Вывод: Woof!\n",
    "animal_sound(cat)  # Вывод: Meow!"
   ],
   "id": "b77f09a2d061126"
  },
  {
   "metadata": {
    "ExecuteTime": {
     "end_time": "2025-01-17T09:33:17.090591Z",
     "start_time": "2025-01-17T09:33:17.068263Z"
    }
   },
   "cell_type": "code",
   "source": [
    "# создать класс Logger, который реализует метод log()\n",
    "# \n",
    "# Создать два отдельных класса TextLogger и CSVLogger, которые будут наследоваться от класса Logger и переопределять логику работы log()\n",
    "# Для правильной записи в текстовые файлы и в файлы .csv расширения\n",
    "import datetime\n",
    "class Logger:\n",
    "    def log(self, message):\n",
    "        raise NotImplementedError(\"Метод обязан быть переопределен в дочерних классах\") # функция которая ничего не вернет(raise- подними)\n",
    "     \n",
    "class TextLogger(Logger):\n",
    "    def __init__(self, file_name, mod):\n",
    "        self.file_name = file_name\n",
    "        self.mod = mod\n",
    "        \n",
    "    def log (self, message):\n",
    "        with open(self.file_name, self.mod, encoding=\"utf-8\") as file:\n",
    "            file.write(f\"[{datetime.datetime.now()}] - {message}\\n\")\n",
    "            \n",
    "tlogger = TextLogger(\"data.log\", \"w\")\n",
    "tlogger.log(\"Hello world!\")"
   ],
   "id": "e69248d05749ba5c",
   "outputs": [],
   "execution_count": 3
  },
  {
   "metadata": {
    "ExecuteTime": {
     "end_time": "2025-01-17T09:36:32.202082Z",
     "start_time": "2025-01-17T09:36:30.885667Z"
    }
   },
   "cell_type": "code",
   "source": [
    "logger = Logger()\n",
    "\n",
    "logger.log(\"Hello world!\")\n"
   ],
   "id": "10df9122cc99ca73",
   "outputs": [
    {
     "ename": "NotImplementedError",
     "evalue": "Метод обязан быть переопределен в дочерних классах",
     "output_type": "error",
     "traceback": [
      "\u001B[1;31m---------------------------------------------------------------------------\u001B[0m",
      "\u001B[1;31mNotImplementedError\u001B[0m                       Traceback (most recent call last)",
      "Cell \u001B[1;32mIn[4], line 3\u001B[0m\n\u001B[0;32m      1\u001B[0m logger \u001B[38;5;241m=\u001B[39m Logger()\n\u001B[1;32m----> 3\u001B[0m logger\u001B[38;5;241m.\u001B[39mlog(\u001B[38;5;124m\"\u001B[39m\u001B[38;5;124mHello world!\u001B[39m\u001B[38;5;124m\"\u001B[39m)\n",
      "Cell \u001B[1;32mIn[3], line 8\u001B[0m, in \u001B[0;36mLogger.log\u001B[1;34m(self, message)\u001B[0m\n\u001B[0;32m      7\u001B[0m \u001B[38;5;28;01mdef\u001B[39;00m \u001B[38;5;21mlog\u001B[39m(\u001B[38;5;28mself\u001B[39m, message):\n\u001B[1;32m----> 8\u001B[0m     \u001B[38;5;28;01mraise\u001B[39;00m \u001B[38;5;167;01mNotImplementedError\u001B[39;00m(\u001B[38;5;124m\"\u001B[39m\u001B[38;5;124mМетод обязан быть переопределен в дочерних классах\u001B[39m\u001B[38;5;124m\"\u001B[39m)\n",
      "\u001B[1;31mNotImplementedError\u001B[0m: Метод обязан быть переопределен в дочерних классах"
     ]
    }
   ],
   "execution_count": 4
  }
 ],
 "metadata": {
  "kernelspec": {
   "display_name": "Python 3",
   "language": "python",
   "name": "python3"
  },
  "language_info": {
   "codemirror_mode": {
    "name": "ipython",
    "version": 2
   },
   "file_extension": ".py",
   "mimetype": "text/x-python",
   "name": "python",
   "nbconvert_exporter": "python",
   "pygments_lexer": "ipython2",
   "version": "2.7.6"
  }
 },
 "nbformat": 4,
 "nbformat_minor": 5
}
