{
 "cells": [
  {
   "cell_type": "code",
   "execution_count": null,
   "id": "initial_id",
   "metadata": {
    "collapsed": true
   },
   "outputs": [],
   "source": [
    "from astropy.units import quantity\n",
    "\n",
    "\n",
    "def check_req_fields(data: dict[str, Any], req_fields: list[str]) -> bool:\n",
    "    return all(data.get(value) for value in req_fields)\n",
    "\n",
    "\n",
    "user_data = {\n",
    "    \"email\": \"test@example.com\", # req\n",
    "    \"password\": \"qwerty123\", # req\n",
    "    \"name\": \"Alice\" # non req\n",
    "}\n",
    "\n",
    "req = [\"email\", \"password\"]\n",
    "\n",
    "if check_req_fields(data=user_data, req_fields=req):\n",
    "    print(\"ALL GOOD\")\n",
    "else:\n",
    "    print(\"MISSED REQUIRED FIELDS\")"
   ]
  },
  {
   "metadata": {},
   "cell_type": "code",
   "outputs": [],
   "execution_count": null,
   "source": [
    "def has_any_permission(user_roles, required_roles):\n",
    "    return any(role in user_roles for role in required_roles)\n",
    "\n",
    "# Пример использования\n",
    "user_current_roles = [\"editor\", \"viewer\", \"moderator\"]\n",
    "\n",
    "\n",
    "roles_needed = [\"admin\", \"moderator\"]\n",
    "\n",
    "if has_any_permission(user_current_roles, roles_needed):\n",
    "    print(\"У пользователя есть доступ к этой операции.\")\n",
    "else:\n",
    "    print(\"У пользователя НЕТ доступа.\")"
   ],
   "id": "7fe35d05915265c8"
  },
  {
   "metadata": {
    "ExecuteTime": {
     "end_time": "2025-01-06T10:04:23.406186Z",
     "start_time": "2025-01-06T10:04:23.393007Z"
    }
   },
   "cell_type": "code",
   "source": [
    "some_list = [\"Alex\", \"Dan\", \"Anya\", \"Olya\", \"Irina\", \"Vladislav\"]\n",
    "\n",
    "\n",
    "for i in range(len(some_list)): # 0, 1, ..., len(some_list)\n",
    "    print(f\"Index: {i}. Element by index: {some_list[i]}\")\n",
    "\n",
    "for i, elem in enumerate(some_list):\n",
    "    print(f\"Index: {i}. Element by index: {elem}\")"
   ],
   "id": "498a1fad09dd83ec",
   "outputs": [
    {
     "name": "stdout",
     "output_type": "stream",
     "text": [
      "Index: 0. Element by index: Alex\n",
      "Index: 1. Element by index: Dan\n",
      "Index: 2. Element by index: Anya\n",
      "Index: 3. Element by index: Olya\n",
      "Index: 4. Element by index: Irina\n",
      "Index: 5. Element by index: Vladislav\n",
      "Index: 0. Element by index: Alex\n",
      "Index: 1. Element by index: Dan\n",
      "Index: 2. Element by index: Anya\n",
      "Index: 3. Element by index: Olya\n",
      "Index: 4. Element by index: Irina\n",
      "Index: 5. Element by index: Vladislav\n"
     ]
    }
   ],
   "execution_count": 1
  },
  {
   "metadata": {
    "ExecuteTime": {
     "end_time": "2025-01-06T10:04:54.229739Z",
     "start_time": "2025-01-06T10:04:54.219167Z"
    }
   },
   "cell_type": "code",
   "source": [
    " letters = [\"a\", \"b\", \"c\"]\n",
    " numbers_ = [1, 2, 3, 4]\n",
    " my_zip_1 = zip(letters, numbers_)\n",
    " my_zip_2 = zip(letters)\n",
    " my_zip_3 = zip(numbers_)\n",
    "\n",
    " print(list(my_zip_1))\n",
    " print(dict(zip(letters, numbers_)))\n",
    " print(tuple(my_zip_2))\n",
    " print(set(my_zip_3))"
   ],
   "id": "a8562bac287e0ad8",
   "outputs": [
    {
     "name": "stdout",
     "output_type": "stream",
     "text": [
      "[('a', 1), ('b', 2), ('c', 3)]\n",
      "{'a': 1, 'b': 2, 'c': 3}\n",
      "(('a',), ('b',), ('c',))\n",
      "{(1,), (2,), (3,), (4,)}\n"
     ]
    }
   ],
   "execution_count": 2
  },
  {
   "metadata": {
    "ExecuteTime": {
     "end_time": "2025-01-06T10:14:20.880614Z",
     "start_time": "2025-01-06T10:14:20.873374Z"
    }
   },
   "cell_type": "code",
   "source": [
    "numbers = [1, 2, 3, 4, 5, 6, 7, 8, 9]\n",
    "\n",
    "def square(x):\n",
    "    if x % 2 == 0:\n",
    "        return x ** 2\n",
    "    return x // 2\n",
    "\n",
    "\n",
    "squared_numbers = map(square, numbers)\n",
    "squared_numbers_2 = map(lambda x: x ** 2, numbers)\n",
    "print(list(squared_numbers))\n",
    "print(list(squared_numbers_2))\n",
    "\n",
    "\n",
    "# map(cust_func, us_inp.split())"
   ],
   "id": "d37fe3041ab7716a",
   "outputs": [
    {
     "name": "stdout",
     "output_type": "stream",
     "text": [
      "[0, 4, 1, 16, 2, 36, 3, 64, 4]\n",
      "[1, 4, 9, 16, 25, 36, 49, 64, 81]\n"
     ]
    }
   ],
   "execution_count": 3
  },
  {
   "metadata": {
    "ExecuteTime": {
     "end_time": "2025-01-06T10:19:27.119233Z",
     "start_time": "2025-01-06T10:19:27.104228Z"
    }
   },
   "cell_type": "code",
   "source": [
    "numbers = [1, 2, 3, 4, 5, 6, 7, 8, 9]\n",
    "\n",
    "\n",
    "def is_even(x):\n",
    "    return x % 2 == 0\n",
    "\n",
    "\n",
    "odd_nums = list(filter(lambda elem: elem % 2 != 0, numbers))\n",
    "even_nums = list(filter(is_even, numbers))\n",
    "\n",
    "print(odd_nums)\n",
    "print(even_nums)"
   ],
   "id": "33220570c04b877",
   "outputs": [
    {
     "name": "stdout",
     "output_type": "stream",
     "text": [
      "[1, 3, 5, 7, 9]\n",
      "[2, 4, 6, 8]\n"
     ]
    }
   ],
   "execution_count": 4
  },
  {
   "metadata": {
    "ExecuteTime": {
     "end_time": "2025-01-06T10:30:26.613794Z",
     "start_time": "2025-01-06T10:30:26.601154Z"
    }
   },
   "cell_type": "code",
   "source": [
    "from functools import reduce\n",
    "\n",
    "numbers_ = [1, 2, 3, 4, 5]\n",
    "numbers_3 = [2, 4, 6, 8, 10]\n",
    "letters = [\"h\", \"e\", \"l\", \"l\", \"o\"]\n",
    "\n",
    "\n",
    "def multiply_(x, y):\n",
    "    return x * y\n",
    "\n",
    "\n",
    "def concatinate(x, y):\n",
    "    return x + y\n",
    "\n",
    "res_1 = reduce(multiply_, numbers_)\n",
    "res_2 = reduce(multiply_, numbers_3, 4)\n",
    "res_3 = reduce(concatinate, letters)\n",
    "\n",
    "print(res_1)\n",
    "print(res_2)\n",
    "print(res_3)"
   ],
   "id": "754096548d0fb18",
   "outputs": [
    {
     "name": "stdout",
     "output_type": "stream",
     "text": [
      "120\n",
      "15360\n",
      "hello\n"
     ]
    }
   ],
   "execution_count": 5
  },
  {
   "metadata": {
    "ExecuteTime": {
     "end_time": "2025-01-06T10:50:48.530827Z",
     "start_time": "2025-01-06T10:50:48.523127Z"
    }
   },
   "cell_type": "code",
   "source": [
    "orders = [\n",
    "{\"item\": \"Наушники\", \"price\": 1500, \"quantity\": 2},\n",
    "{\"item\": \"Клавиатура\", \"price\": 3000, \"quantity\": 1},\n",
    "{\"item\": \"Мышь\", \"price\": 1000, \"quantity\": 3}\n",
    "]\n",
    "# Товар: Х, Количество: Х\n",
    "def return_output(item: dict):\n",
    "   return f\"Товар: {item['item']}, Количество: {item['quantity']}\"\n",
    "\n",
    "descriptions = list(map(return_output, orders))\n",
    "print(descriptions)\n",
    "        "
   ],
   "id": "90a98d208e3a9fee",
   "outputs": [
    {
     "name": "stdout",
     "output_type": "stream",
     "text": [
      "['Товар: Наушники, Количество: 2', 'Товар: Клавиатура, Количество: 1', 'Товар: Мышь, Количество: 3']\n"
     ]
    }
   ],
   "execution_count": 7
  },
  {
   "metadata": {
    "ExecuteTime": {
     "end_time": "2025-01-06T11:01:56.954449Z",
     "start_time": "2025-01-06T11:01:56.943543Z"
    }
   },
   "cell_type": "code",
   "source": [
    "from functools import reduce\n",
    "\n",
    "orders = [\n",
    "{\"item\": \"Наушники\", \"price\": 1500, \"quantity\": 2},\n",
    "{\"item\": \"Клавиатура\", \"price\": 3000, \"quantity\": 1},\n",
    "{\"item\": \"Мышь\", \"price\": 1000, \"quantity\": 3}\n",
    "]\n",
    "\n",
    "def return_multiply(acc: int, order: dict):\n",
    "    return acc + order[\"quantity\"] * order[\"price\"]\n",
    "\n",
    "total_price = reduce(return_multiply, orders, 0)\n",
    "print(total_price)"
   ],
   "id": "423053898e2fc1d0",
   "outputs": [
    {
     "name": "stdout",
     "output_type": "stream",
     "text": [
      "9000\n"
     ]
    }
   ],
   "execution_count": 8
  }
 ],
 "metadata": {
  "kernelspec": {
   "display_name": "Python 3",
   "language": "python",
   "name": "python3"
  },
  "language_info": {
   "codemirror_mode": {
    "name": "ipython",
    "version": 2
   },
   "file_extension": ".py",
   "mimetype": "text/x-python",
   "name": "python",
   "nbconvert_exporter": "python",
   "pygments_lexer": "ipython2",
   "version": "2.7.6"
  }
 },
 "nbformat": 4,
 "nbformat_minor": 5
}
