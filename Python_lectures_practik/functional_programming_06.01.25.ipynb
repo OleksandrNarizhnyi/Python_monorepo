{
 "cells": [
  {
   "cell_type": "code",
   "execution_count": null,
   "id": "initial_id",
   "metadata": {
    "collapsed": true
   },
   "outputs": [],
   "source": [
    "from astropy.units import quantity\n",
    "\n",
    "\n",
    "def check_req_fields(data: dict[str, Any], req_fields: list[str]) -> bool:\n",
    "    return all(data.get(value) for value in req_fields)\n",
    "\n",
    "\n",
    "user_data = {\n",
    "    \"email\": \"test@example.com\", # req\n",
    "    \"password\": \"qwerty123\", # req\n",
    "    \"name\": \"Alice\" # non req\n",
    "}\n",
    "\n",
    "req = [\"email\", \"password\"]\n",
    "\n",
    "if check_req_fields(data=user_data, req_fields=req):\n",
    "    print(\"ALL GOOD\")\n",
    "else:\n",
    "    print(\"MISSED REQUIRED FIELDS\")"
   ]
  },
  {
   "metadata": {},
   "cell_type": "code",
   "outputs": [],
   "execution_count": null,
   "source": [
    "def has_any_permission(user_roles, required_roles):\n",
    "    return any(role in user_roles for role in required_roles)\n",
    "\n",
    "# Пример использования\n",
    "user_current_roles = [\"editor\", \"viewer\", \"moderator\"]\n",
    "\n",
    "\n",
    "roles_needed = [\"admin\", \"moderator\"]\n",
    "\n",
    "if has_any_permission(user_current_roles, roles_needed):\n",
    "    print(\"У пользователя есть доступ к этой операции.\")\n",
    "else:\n",
    "    print(\"У пользователя НЕТ доступа.\")"
   ],
   "id": "7fe35d05915265c8"
  },
  {
   "metadata": {
    "ExecuteTime": {
     "end_time": "2025-01-06T10:04:23.406186Z",
     "start_time": "2025-01-06T10:04:23.393007Z"
    }
   },
   "cell_type": "code",
   "source": [
    "some_list = [\"Alex\", \"Dan\", \"Anya\", \"Olya\", \"Irina\", \"Vladislav\"]\n",
    "\n",
    "\n",
    "for i in range(len(some_list)): # 0, 1, ..., len(some_list)\n",
    "    print(f\"Index: {i}. Element by index: {some_list[i]}\")\n",
    "\n",
    "for i, elem in enumerate(some_list):\n",
    "    print(f\"Index: {i}. Element by index: {elem}\")"
   ],
   "id": "498a1fad09dd83ec",
   "outputs": [
    {
     "name": "stdout",
     "output_type": "stream",
     "text": [
      "Index: 0. Element by index: Alex\n",
      "Index: 1. Element by index: Dan\n",
      "Index: 2. Element by index: Anya\n",
      "Index: 3. Element by index: Olya\n",
      "Index: 4. Element by index: Irina\n",
      "Index: 5. Element by index: Vladislav\n",
      "Index: 0. Element by index: Alex\n",
      "Index: 1. Element by index: Dan\n",
      "Index: 2. Element by index: Anya\n",
      "Index: 3. Element by index: Olya\n",
      "Index: 4. Element by index: Irina\n",
      "Index: 5. Element by index: Vladislav\n"
     ]
    }
   ],
   "execution_count": 1
  },
  {
   "metadata": {
    "ExecuteTime": {
     "end_time": "2025-01-06T10:04:54.229739Z",
     "start_time": "2025-01-06T10:04:54.219167Z"
    }
   },
   "cell_type": "code",
   "source": [
    " letters = [\"a\", \"b\", \"c\"]\n",
    " numbers_ = [1, 2, 3, 4]\n",
    " my_zip_1 = zip(letters, numbers_)\n",
    " my_zip_2 = zip(letters)\n",
    " my_zip_3 = zip(numbers_)\n",
    "\n",
    " print(list(my_zip_1))\n",
    " print(dict(zip(letters, numbers_)))\n",
    " print(tuple(my_zip_2))\n",
    " print(set(my_zip_3))"
   ],
   "id": "a8562bac287e0ad8",
   "outputs": [
    {
     "name": "stdout",
     "output_type": "stream",
     "text": [
      "[('a', 1), ('b', 2), ('c', 3)]\n",
      "{'a': 1, 'b': 2, 'c': 3}\n",
      "(('a',), ('b',), ('c',))\n",
      "{(1,), (2,), (3,), (4,)}\n"
     ]
    }
   ],
   "execution_count": 2
  },
  {
   "metadata": {
    "ExecuteTime": {
     "end_time": "2025-01-06T10:14:20.880614Z",
     "start_time": "2025-01-06T10:14:20.873374Z"
    }
   },
   "cell_type": "code",
   "source": [
    "numbers = [1, 2, 3, 4, 5, 6, 7, 8, 9]\n",
    "\n",
    "def square(x):\n",
    "    if x % 2 == 0:\n",
    "        return x ** 2\n",
    "    return x // 2\n",
    "\n",
    "\n",
    "squared_numbers = map(square, numbers)\n",
    "squared_numbers_2 = map(lambda x: x ** 2, numbers)\n",
    "print(list(squared_numbers))\n",
    "print(list(squared_numbers_2))\n",
    "\n",
    "\n",
    "# map(cust_func, us_inp.split())"
   ],
   "id": "d37fe3041ab7716a",
   "outputs": [
    {
     "name": "stdout",
     "output_type": "stream",
     "text": [
      "[0, 4, 1, 16, 2, 36, 3, 64, 4]\n",
      "[1, 4, 9, 16, 25, 36, 49, 64, 81]\n"
     ]
    }
   ],
   "execution_count": 3
  },
  {
   "metadata": {
    "ExecuteTime": {
     "end_time": "2025-01-06T10:19:27.119233Z",
     "start_time": "2025-01-06T10:19:27.104228Z"
    }
   },
   "cell_type": "code",
   "source": [
    "numbers = [1, 2, 3, 4, 5, 6, 7, 8, 9]\n",
    "\n",
    "\n",
    "def is_even(x):\n",
    "    return x % 2 == 0\n",
    "\n",
    "\n",
    "odd_nums = list(filter(lambda elem: elem % 2 != 0, numbers))\n",
    "even_nums = list(filter(is_even, numbers))\n",
    "\n",
    "print(odd_nums)\n",
    "print(even_nums)"
   ],
   "id": "33220570c04b877",
   "outputs": [
    {
     "name": "stdout",
     "output_type": "stream",
     "text": [
      "[1, 3, 5, 7, 9]\n",
      "[2, 4, 6, 8]\n"
     ]
    }
   ],
   "execution_count": 4
  },
  {
   "metadata": {
    "ExecuteTime": {
     "end_time": "2025-01-06T10:30:26.613794Z",
     "start_time": "2025-01-06T10:30:26.601154Z"
    }
   },
   "cell_type": "code",
   "source": [
    "from functools import reduce\n",
    "\n",
    "numbers_ = [1, 2, 3, 4, 5]\n",
    "numbers_3 = [2, 4, 6, 8, 10]\n",
    "letters = [\"h\", \"e\", \"l\", \"l\", \"o\"]\n",
    "\n",
    "\n",
    "def multiply_(x, y):\n",
    "    return x * y\n",
    "\n",
    "\n",
    "def concatinate(x, y):\n",
    "    return x + y\n",
    "\n",
    "res_1 = reduce(multiply_, numbers_)\n",
    "res_2 = reduce(multiply_, numbers_3, 4)\n",
    "res_3 = reduce(concatinate, letters)\n",
    "\n",
    "print(res_1)\n",
    "print(res_2)\n",
    "print(res_3)"
   ],
   "id": "754096548d0fb18",
   "outputs": [
    {
     "name": "stdout",
     "output_type": "stream",
     "text": [
      "120\n",
      "15360\n",
      "hello\n"
     ]
    }
   ],
   "execution_count": 5
  },
  {
   "metadata": {
    "ExecuteTime": {
     "end_time": "2025-01-06T10:50:48.530827Z",
     "start_time": "2025-01-06T10:50:48.523127Z"
    }
   },
   "cell_type": "code",
   "source": [
    "orders = [\n",
    "{\"item\": \"Наушники\", \"price\": 1500, \"quantity\": 2},\n",
    "{\"item\": \"Клавиатура\", \"price\": 3000, \"quantity\": 1},\n",
    "{\"item\": \"Мышь\", \"price\": 1000, \"quantity\": 3}\n",
    "]\n",
    "# Товар: Х, Количество: Х\n",
    "def return_output(item: dict):\n",
    "   return f\"Товар: {item['item']}, Количество: {item['quantity']}\"\n",
    "\n",
    "descriptions = list(map(return_output, orders))\n",
    "print(descriptions)\n",
    "        "
   ],
   "id": "90a98d208e3a9fee",
   "outputs": [
    {
     "name": "stdout",
     "output_type": "stream",
     "text": [
      "['Товар: Наушники, Количество: 2', 'Товар: Клавиатура, Количество: 1', 'Товар: Мышь, Количество: 3']\n"
     ]
    }
   ],
   "execution_count": 7
  },
  {
   "metadata": {
    "ExecuteTime": {
     "end_time": "2025-01-06T11:01:56.954449Z",
     "start_time": "2025-01-06T11:01:56.943543Z"
    }
   },
   "cell_type": "code",
   "source": [
    "from functools import reduce\n",
    "\n",
    "orders = [\n",
    "{\"item\": \"Наушники\", \"price\": 1500, \"quantity\": 2},\n",
    "{\"item\": \"Клавиатура\", \"price\": 3000, \"quantity\": 1},\n",
    "{\"item\": \"Мышь\", \"price\": 1000, \"quantity\": 3}\n",
    "]\n",
    "\n",
    "def return_multiply(acc: int, order: dict):\n",
    "    return acc + order[\"quantity\"] * order[\"price\"]\n",
    "\n",
    "total_price = reduce(return_multiply, orders, 0)\n",
    "print(total_price)"
   ],
   "id": "423053898e2fc1d0",
   "outputs": [
    {
     "name": "stdout",
     "output_type": "stream",
     "text": [
      "9000\n"
     ]
    }
   ],
   "execution_count": 8
  },
  {
   "metadata": {},
   "cell_type": "code",
   "outputs": [],
   "execution_count": null,
   "source": [
    "# Задача 1 Преобразование списка в квадраты: Напишите функцию, преобразующую\n",
    "# список чисел в список их квадратов.\n",
    "def square_list(nums):\n",
    "    return list(map(lambda x: x**2, nums))"
   ],
   "id": "7b20892f092c3773"
  },
  {
   "metadata": {},
   "cell_type": "code",
   "outputs": [],
   "execution_count": null,
   "source": [
    "# Задача 2 Фильтрация нечетных чисел: Создайте функцию, которая возвращает\n",
    "# список, содержащий только нечетные числа из исходного списка.\n",
    "def filter_odd(nums):\n",
    "    return list(filter(lambda x: x % 2 != 0, nums))"
   ],
   "id": "9234319b8b8348d1"
  },
  {
   "metadata": {},
   "cell_type": "code",
   "outputs": [],
   "execution_count": null,
   "source": [
    "# Задача 3 Перевод всех строк в верхний регистр: Используя map, напишите\n",
    "# функцию, которая преобразует все строки в списке к верхнему регистру.\n",
    "def to_upper(strings):\n",
    "    return list(map(lambda x: x.upper(), strings))"
   ],
   "id": "137e01587e550ad3"
  },
  {
   "metadata": {},
   "cell_type": "code",
   "outputs": [],
   "execution_count": null,
   "source": [
    "# Задача 4 Нахождение суммы чисел в списке: Напишите функцию, суммирующую\n",
    "# все числа в списке.\n",
    "def sum_numbers(nums):\n",
    "    return sum(nums)"
   ],
   "id": "9e9445f4dbcb068d"
  },
  {
   "metadata": {},
   "cell_type": "code",
   "outputs": [],
   "execution_count": null,
   "source": [
    "# Задача 5 Поиск минимального числа: Напишите функцию для нахождения\n",
    "# минимального числа в списке.\n",
    "def find_min(nums):\n",
    "    return min(nums)"
   ],
   "id": "f4bfde37b7698439"
  },
  {
   "metadata": {},
   "cell_type": "code",
   "outputs": [],
   "execution_count": null,
   "source": [
    "# Задача 6 Объединение слов в предложение: Создайте функцию, которая\n",
    "# объединяет список слов в предложение.\n",
    "def join_words(words):\n",
    "    return \" \".join(words) + \".\""
   ],
   "id": "9a37a45590c4588c"
  },
  {
   "metadata": {},
   "cell_type": "code",
   "outputs": [],
   "execution_count": null,
   "source": [
    "# Задача 7 Фильтрация строк по длине: Напишите функцию, фильтрующую список\n",
    "# строк и возвращающую только те строки, длина которых больше 3 символов.\n",
    "def filter_by_length(strings):\n",
    "    return list(filter(lambda x: len(x) > 3, strings))"
   ],
   "id": "a3f886c6857d4fca"
  },
  {
   "metadata": {},
   "cell_type": "code",
   "outputs": [],
   "execution_count": null,
   "source": [
    "# Задача 8 Умножение всех чисел в списке: Создайте функцию, которая возвращает\n",
    "# результат умножения всех чисел в списке.\n",
    "def multiply_nums(nums):\n",
    "    from functools import reduce\n",
    "    return reduce(lambda x, y: x * y, nums)"
   ],
   "id": "a6d6f9420b9c7fd3"
  },
  {
   "metadata": {},
   "cell_type": "code",
   "outputs": [],
   "execution_count": null,
   "source": [
    "# Задача 9 Преобразование имён: Используя map, напишите функцию, добавляющую\n",
    "# префикс \"Mr. \" к каждому имени в списке.\n",
    "def add_prefix(names):\n",
    "    return list(map(lambda name: \"Mr. \" + name, names))"
   ],
   "id": "f3eb39f9eff323c5"
  },
  {
   "metadata": {},
   "cell_type": "code",
   "outputs": [],
   "execution_count": null,
   "source": [
    "# Задача 10 Сортировка чисел по убыванию: Напишите функцию, сортирующую\n",
    "# список чисел по убыванию.\n",
    "def sort_descending(nums):\n",
    "    return sorted(nums, reverse=True)"
   ],
   "id": "98fdb3c7a78951d7"
  },
  {
   "metadata": {},
   "cell_type": "code",
   "outputs": [],
   "execution_count": null,
   "source": [
    "nums = [\"2\", \"4\", \"7\", \"one\", \"1\", \"two\"]\n",
    "\n",
    "\n",
    "# def process_value(x):\n",
    "# try:\n",
    "# return int(x)\n",
    "# except ValueError:\n",
    "# return 0\n",
    "\n",
    "def process_value(x: str):\n",
    "    if x.isdigit():\n",
    "        return int(x) # \"N\\A\"\n",
    "\n",
    "\n",
    "new = map(lambda x: x ** 2, nums)\n",
    "\n",
    "new_2 = map(process_value, nums)\n",
    "\n",
    "# print(tuple(new))\n",
    "print(tuple(new_2))\n",
    "\n",
    "nums = list(map(\n",
    "    int,\n",
    "    filter(\n",
    "        lambda num: str(num).isdigit(),\n",
    "        nums\n",
    "    )\n",
    "))"
   ],
   "id": "5e0a5e720a820c1"
  },
  {
   "metadata": {},
   "cell_type": "code",
   "outputs": [],
   "execution_count": null,
   "source": [
    "from functools import reduce\n",
    "numbers = [1, 2, 3, 4, 5]\n",
    "result = reduce(\n",
    "    lambda x, y: x + y, \n",
    "        filter(\n",
    "            lambda x: x % 2 == 0, \n",
    "            map(\n",
    "                lambda x: x ** 2,\n",
    "                numbers\n",
    "            )\n",
    "        )\n",
    ")"
   ],
   "id": "5f3f6aa61fa33fc6"
  },
  {
   "metadata": {},
   "cell_type": "code",
   "outputs": [],
   "execution_count": null,
   "source": [
    "from itertools import accumulate\n",
    "from functools import reduce\n",
    "\n",
    "nums = [1, 2, 3, 4, 5]\n",
    "# [1, 3, 6, 10, 15]\n",
    "\n",
    "red_nums = reduce(lambda x, y: x + y, nums)\n",
    "\n",
    "print(red_nums)\n",
    "\n",
    "acc_nums = list(accumulate(nums)) # operators.mul\n",
    "\n",
    "print(acc_nums)\n",
    "\n",
    "chars = [\"h\", \"e\", \"l\", \"l\", \"o\"]\n",
    "\n",
    "word = accumulate(chars) # operators.mul\n",
    "\n",
    "\n",
    "print(list(word))"
   ],
   "id": "a5f13b3912b2ea76"
  },
  {
   "metadata": {
    "ExecuteTime": {
     "end_time": "2025-01-09T09:21:54.169437Z",
     "start_time": "2025-01-09T09:21:54.153467Z"
    }
   },
   "cell_type": "code",
   "source": [
    "# Имеется поток (или список) транзакций с суммами.\n",
    "# Мы хотим получить список накопительных итогов после каждой транзакции.\n",
    "nums_list = [234, 56234, 3245, 324, 3466, 2565]\n",
    "from itertools import accumulate\n",
    "\n",
    "acc_list = list(accumulate(nums_list))\n",
    "print(acc_list)\n"
   ],
   "id": "c4c3a989e0f0460e",
   "outputs": [
    {
     "name": "stdout",
     "output_type": "stream",
     "text": [
      "[234, 56468, 59713, 60037, 63503, 66068]\n"
     ]
    }
   ],
   "execution_count": 9
  },
  {
   "metadata": {},
   "cell_type": "code",
   "outputs": [],
   "execution_count": null,
   "source": "lout_letter = \"AEIOUYaeiouy\" #HW",
   "id": "93bb031c7af54dbc"
  },
  {
   "metadata": {
    "ExecuteTime": {
     "end_time": "2025-01-10T08:29:18.925865Z",
     "start_time": "2025-01-10T08:29:18.908903Z"
    }
   },
   "cell_type": "code",
   "source": [
    "# Дана последовательность слов (строк). Вернуть предложение, составленное\n",
    "# из строк данной последовательности. Слова в полученном предложении разделены пробелами.\n",
    "\n",
    "words = [[\"One\", \"Banana\", \"Jack\"], [\"No\", \"Joe\", \"Go\", \"Sunny\"]]\n",
    "\n",
    "def convert_str(row: list[str]):\n",
    "    cat = \" \".join(row) + \".\"\n",
    "    return cat.capitalize()\n",
    "\n",
    "def process_data(data:list[list[str]]):\n",
    "    result = map(lambda x: convert_str(x), data)\n",
    "    return ' '.join(result)\n",
    "\n",
    "print(process_data(words))"
   ],
   "id": "5d12274f2f93ebe0",
   "outputs": [
    {
     "name": "stdout",
     "output_type": "stream",
     "text": [
      "One banana jack. No joe go sunny.\n"
     ]
    }
   ],
   "execution_count": 12
  },
  {
   "metadata": {
    "ExecuteTime": {
     "end_time": "2025-01-10T09:01:54.620876Z",
     "start_time": "2025-01-10T09:01:54.609826Z"
    }
   },
   "cell_type": "code",
   "source": [
    "# Дана последовательность слов. Написать функцию, которая возвращает последовательность слов, в которой\n",
    "# в словах длины 3 все буквы заглавные. Пример: [“The”, “quick”, “brown”, “fox”] -> [“THE”, “quick”, “brown”, “FOX”]\n",
    "word_list =['The', 'quick', 'brown', 'fox']\n",
    "\n",
    "# def up_word(row: str, minlens: int=3):\n",
    "#     if len(row) == minlens:\n",
    "#         return row.upper()\n",
    "#     else:\n",
    "#         return row\n",
    "# \n",
    "# def convert_word(data: list[str]):\n",
    "#     return list(map(lambda x: up_word(x), data))\n",
    "#    \n",
    "# print(convert_word(word_list)) \n",
    "\n",
    "# def convert_word(data: list[str], minlens: int=3):\n",
    "#     return list(map(lambda x: x.upper() if len(x) == minlens else x, data))\n",
    "# \n",
    "# print(convert_word(word_list))\n",
    "\n",
    "from typing import Callable\n",
    "\n",
    "words = [\"The\", \"quick\", 'hello333', \"brown\", \"fox\"]\n",
    "\n",
    "\n",
    "def upper_word(data: list[str], action: Callable, condition: Callable):\n",
    "    changed_words = [action(word) if condition(word) else word for word in data]\n",
    "    return changed_words\n",
    "\n",
    "print(\n",
    "        upper_word(\n",
    "            words,\n",
    "            action=lambda x: \"*\" * len(x),\n",
    "            condition=lambda x: x.isalnum()\n",
    "        )\n",
    "    )\n"
   ],
   "id": "4652e7a58e0f74ad",
   "outputs": [
    {
     "name": "stdout",
     "output_type": "stream",
     "text": [
      "['THE', 'quick', 'brown', 'FOX']\n"
     ]
    }
   ],
   "execution_count": 18
  },
  {
   "metadata": {},
   "cell_type": "code",
   "outputs": [],
   "execution_count": null,
   "source": [
    "# Считать данные из файла anna-karenina.txt, очистить их, оставить только слова длиной более десяти символов.\n",
    "\n",
    "def open_file(name_file: str) -> list[str]:\n",
    "    try:\n",
    "        with open(name_file, \"r\", encoding=\"utf-8\") as obj_file:\n",
    "            return obj_file.readlines()\n",
    "    # Если файл не найден то возвращаем соответсвующую ошибку\n",
    "    except FileNotFoundError as err:\n",
    "        return f\"Ошибка! Файл не найден!: {err}\"\n",
    "    # Другие ошибки\n",
    "    except Exception as err:\n",
    "        return f\"Ошибка!: {err}\"\n",
    "\n",
    "def proces_data(file_data, min_length: int = 10):\n",
    "    new_data = []\n",
    "    for line in file_data:\n",
    "        # print(line)\n",
    "        word = \"\"\n",
    "        for item in line.split():\n",
    "            if item.isalpha():\n",
    "                word += item\n",
    "        new_data.append(word)\n",
    "    return new_data\n",
    "\n",
    "file = open_file(\"anna-karenina.txt\")\n",
    "\n",
    "print(proces_data(file))\n",
    "\n",
    "\n",
    "    \n",
    "    \n",
    "    "
   ],
   "id": "cdaaece5093ed661"
  },
  {
   "metadata": {},
   "cell_type": "code",
   "outputs": [],
   "execution_count": null,
   "source": [
    "# Задача 1 Создание списка бесконечных натуральных чисел: Используйте\n",
    "# itertools.count для создания итератора бесконечных натуральных чисел, начиная с 1.\n",
    "# Выведите первые 5 чисел.\n"
   ],
   "id": "a60eb20adee61529"
  },
  {
   "metadata": {},
   "cell_type": "code",
   "outputs": [],
   "execution_count": null,
   "source": [
    "# Задача 2 Создайте список, содержащий символ \"A\" повторенный 10 раз, используя\n",
    "# itertools.repeat.\n"
   ],
   "id": "c4ab0375a361868e"
  },
  {
   "metadata": {},
   "cell_type": "code",
   "outputs": [],
   "execution_count": null,
   "source": [
    "# Задача 3 Бесконечное чередование \"да\" и \"нет\": Используйте itertools.cycle для\n",
    "# создания итератора, бесконечно чередующего строки \"да\" и \"нет\". Выведите первые\n",
    "# 5 элементов"
   ],
   "id": "7d45f129d85fcc02"
  },
  {
   "metadata": {},
   "cell_type": "code",
   "outputs": [],
   "execution_count": null,
   "source": [
    "# Задача 4 Произведение двух списков: Найдите декартово произведение списков 1,\n",
    "# 2 и ['a', 'b'] с помощью itertools.product. Выведите результат."
   ],
   "id": "5a9003b26ea793ac"
  },
  {
   "metadata": {},
   "cell_type": "code",
   "outputs": [],
   "execution_count": null,
   "source": [
    "# Задача 5 Перестановки чисел в списке: Создайте список всех перестановок чисел\n",
    "# 1, 2, 3 с помощью itertools.permutations. Выведите список перестановок.\n"
   ],
   "id": "e646a6bcb0ec856"
  },
  {
   "metadata": {},
   "cell_type": "code",
   "outputs": [],
   "execution_count": null,
   "source": [
    "# Задача 6 Комбинации чисел без повторений: Генерируйте все комбинации длиной 2\n",
    "# из списка 1, 2, 3, 4 без повторений с помощью itertools.combinations. Выведите\n",
    "# список комбинаций."
   ],
   "id": "6ed350c2944d2a32"
  },
  {
   "metadata": {},
   "cell_type": "code",
   "outputs": [],
   "execution_count": null,
   "source": [
    "# Задача 7 Комбинации чисел с повторениями: Генерируйте все комбинации длиной 2\n",
    "# из списка 1, 2, 3 с повторениями с помощью\n",
    "# itertools.combinations_with_replacement. Выведите список комбинаций."
   ],
   "id": "6f7ab1e7c425f521"
  },
  {
   "metadata": {},
   "cell_type": "code",
   "outputs": [],
   "execution_count": null,
   "source": [
    "# Задача 8 Фильтрация элементов по условию: Используя itertools.filterfalse, создайте\n",
    "# список всех чисел от 1 до 10, кроме тех, что делятся на 3. Выведите результат."
   ],
   "id": "4342a8244448284c"
  },
  {
   "metadata": {},
   "cell_type": "code",
   "outputs": [],
   "execution_count": null,
   "source": [
    "# Задача 9 Группировка соседних элементов: Используйте itertools.groupby для\n",
    "# группировки соседних элементов в списке 1, 2, 2, 3, 3, 3, 4 по их значению.\n",
    "# Выведите результат в формате списка кортежей (число, количество повторений)."
   ],
   "id": "988c2639a2b36a92"
  },
  {
   "metadata": {},
   "cell_type": "code",
   "outputs": [],
   "execution_count": null,
   "source": [
    "# Задача 10 Сжатие списка по условию: Создайте список из первых 5 чисел\n",
    "# натурального ряда, используя itertools.compress, где только числа, которые делятся\n",
    "# на 2, будут включены. Выведите результат."
   ],
   "id": "fc4fcfb088cb9fad"
  }
 ],
 "metadata": {
  "kernelspec": {
   "display_name": "Python 3",
   "language": "python",
   "name": "python3"
  },
  "language_info": {
   "codemirror_mode": {
    "name": "ipython",
    "version": 2
   },
   "file_extension": ".py",
   "mimetype": "text/x-python",
   "name": "python",
   "nbconvert_exporter": "python",
   "pygments_lexer": "ipython2",
   "version": "2.7.6"
  }
 },
 "nbformat": 4,
 "nbformat_minor": 5
}
