{
 "cells": [
  {
   "cell_type": "code",
   "id": "initial_id",
   "metadata": {
    "collapsed": true,
    "ExecuteTime": {
     "end_time": "2024-12-16T07:23:48.305664Z",
     "start_time": "2024-12-16T07:23:48.304051Z"
    }
   },
   "source": [
    ""
   ],
   "outputs": [],
   "execution_count": null
  },
  {
   "metadata": {},
   "cell_type": "code",
   "outputs": [],
   "execution_count": null,
   "source": [
    "age: int = 18\n",
    "name: str = \"Test name\"\n",
    "\n"
   ],
   "id": "f798dcaa7c5424be"
  },
  {
   "metadata": {},
   "cell_type": "code",
   "outputs": [],
   "execution_count": null,
   "source": [
    "def add_two_nums(a: int, b: int) -> int:\n",
    "    return a + b"
   ],
   "id": "57a6c7c1afcac987"
  },
  {
   "metadata": {},
   "cell_type": "code",
   "outputs": [],
   "execution_count": null,
   "source": "",
   "id": "f529061d5da0c7f9"
  },
  {
   "metadata": {},
   "cell_type": "code",
   "outputs": [],
   "execution_count": null,
   "source": [
    "from typing import List\n",
    "\n",
    "\n",
    "def total_sum(numbers: List[int]) -> int:\n",
    "    return sum(numbers)\n",
    "\n"
   ],
   "id": "f154686185a3d5a3"
  },
  {
   "metadata": {},
   "cell_type": "code",
   "outputs": [],
   "execution_count": null,
   "source": "",
   "id": "7cc73e7b0f388f5b"
  },
  {
   "metadata": {},
   "cell_type": "code",
   "outputs": [],
   "execution_count": null,
   "source": "total_sum",
   "id": "31bf1d5d5fe22fa9"
  },
  {
   "metadata": {},
   "cell_type": "code",
   "outputs": [],
   "execution_count": null,
   "source": [
    "from typing import (\n",
    "    Dict,\n",
    "    List,\n",
    "    Tuple,\n",
    "    Any,\n",
    "    Union\n",
    ")\n",
    "\n",
    "\n",
    "data: Dict[str, int] = {\n",
    "    \"one\": 1,\n",
    "    \"two\": 2,\n",
    "    (2, 3): \"qwe\"\n",
    "}"
   ],
   "id": "d0297c3cb883636f"
  },
  {
   "metadata": {},
   "cell_type": "code",
   "outputs": [],
   "execution_count": null,
   "source": "",
   "id": "9779c66fb932ef0d"
  },
  {
   "metadata": {},
   "cell_type": "code",
   "outputs": [],
   "execution_count": null,
   "source": [
    "from typing import Optional\n",
    "\n",
    "\n",
    "def greet(name: Optional[str] = None) -> str:\n",
    "    if name is None:\n",
    "        return \"Hello, Stranger\"\n",
    "    return f\"Hello, {name}\""
   ],
   "id": "428804cc82bab0b"
  },
  {
   "metadata": {},
   "cell_type": "code",
   "outputs": [],
   "execution_count": null,
   "source": "my_data: list[str] = [\"one\", \"two\"]",
   "id": "ce4e3e1ccf738d2a"
  },
  {
   "metadata": {},
   "cell_type": "code",
   "outputs": [],
   "execution_count": null,
   "source": [
    "# def greet(name: str = None):\n",
    "#     ..."
   ],
   "id": "fc217f3adbe52e8f"
  },
  {
   "metadata": {
    "ExecuteTime": {
     "end_time": "2024-12-16T08:46:27.978116Z",
     "start_time": "2024-12-16T08:46:27.972878Z"
    }
   },
   "cell_type": "code",
   "source": [
    "from typing import Union\n",
    "\n",
    "\n",
    "# def divide_two_vals(a: int, b: int) -> Union[float, str]:\n",
    "#     return a / b if b > 0 else \"ZERO DIVIDE ERROR\"\n",
    "\n",
    "\n",
    "def divide_two_vals(a: int, b: int) -> float | str:\n",
    "    return a / b if b > 0 else \"ZERO DIVIDE ERROR\"\n",
    "\n",
    "print(divide_two_vals(10, 1))"
   ],
   "id": "5bde51b56b3bff62",
   "outputs": [
    {
     "name": "stdout",
     "output_type": "stream",
     "text": [
      "10.0\n"
     ]
    }
   ],
   "execution_count": 4
  },
  {
   "metadata": {
    "ExecuteTime": {
     "end_time": "2024-12-16T08:44:35.857786Z",
     "start_time": "2024-12-16T08:44:35.855063Z"
    }
   },
   "cell_type": "code",
   "source": [
    "from typing import List\n",
    "\n",
    "def broadcast_message(message: str, servers: List[str]) -> None:\n",
    "    ...\n",
    "\n",
    "\n",
    "print(broadcast_message('greet', ['123.321.54.3']))"
   ],
   "id": "6c43becc1f8687d2",
   "outputs": [
    {
     "name": "stdout",
     "output_type": "stream",
     "text": [
      "None\n"
     ]
    }
   ],
   "execution_count": 2
  },
  {
   "metadata": {},
   "cell_type": "code",
   "outputs": [],
   "execution_count": null,
   "source": [
    "# > < >= <= + - * ** / // %\n",
    "\n",
    "\n",
    "\n",
    "a = [1, 2, 3]\n",
    "\n",
    "print(a[0])\n",
    "\n",
    "\n"
   ],
   "id": "2cc8261c71741b1"
  },
  {
   "metadata": {},
   "cell_type": "code",
   "outputs": [],
   "execution_count": null,
   "source": "",
   "id": "6a2329fe6a8d85dc"
  },
  {
   "metadata": {},
   "cell_type": "code",
   "outputs": [],
   "execution_count": null,
   "source": "",
   "id": "2e1a67cf219fc238"
  },
  {
   "metadata": {
    "ExecuteTime": {
     "end_time": "2024-12-16T09:11:47.988171Z",
     "start_time": "2024-12-16T09:11:47.984692Z"
    }
   },
   "cell_type": "code",
   "source": [
    "import bisect\n",
    "\n",
    "\n",
    "my_list: list[int] = [1, 5, 7, 3]\n",
    "\n",
    "\n",
    "print(bisect.bisect_left(my_list, 3))\n",
    "# print(bisect.bisect_right(my_list, 4))"
   ],
   "id": "f9807582a24c06c0",
   "outputs": [
    {
     "name": "stdout",
     "output_type": "stream",
     "text": [
      "1\n"
     ]
    }
   ],
   "execution_count": 8
  },
  {
   "metadata": {
    "ExecuteTime": {
     "end_time": "2024-12-16T09:22:01.739372Z",
     "start_time": "2024-12-16T09:22:01.736400Z"
    }
   },
   "cell_type": "code",
   "source": [
    "import bisect\n",
    "\n",
    "\n",
    "my_list: list[int] = [1, 5, 7, 3]\n",
    "\n",
    "my_list.sort()\n",
    "\n",
    "bisect.insort_left(my_list, 3)\n",
    "#\n",
    "print(my_list)"
   ],
   "id": "a2ffcf97a1d954a2",
   "outputs": [
    {
     "name": "stdout",
     "output_type": "stream",
     "text": [
      "[1, 3, 3, 5, 7]\n"
     ]
    }
   ],
   "execution_count": 17
  },
  {
   "metadata": {
    "ExecuteTime": {
     "end_time": "2024-12-16T09:22:19.207792Z",
     "start_time": "2024-12-16T09:22:19.204083Z"
    }
   },
   "cell_type": "code",
   "source": [
    "bisect.insort_left(my_list, 6)\n",
    "\n",
    "print(my_list)"
   ],
   "id": "dc4861e3d459bddb",
   "outputs": [
    {
     "name": "stdout",
     "output_type": "stream",
     "text": [
      "[1, 3, 3, 5, 6, 7]\n"
     ]
    }
   ],
   "execution_count": 18
  },
  {
   "metadata": {
    "ExecuteTime": {
     "end_time": "2024-12-16T09:35:59.035331Z",
     "start_time": "2024-12-16T09:35:32.807411Z"
    }
   },
   "cell_type": "code",
   "source": [
    "# linear search\n",
    "import timeit\n",
    "\n",
    "\n",
    "def linear_search(array_nums: list[int], target: int) -> int:\n",
    "    for index, elem in enumerate(array_nums):\n",
    "        if elem == target:\n",
    "            return index\n",
    "    return -1\n",
    "\n",
    "\n",
    "array = list(range(1_000_000))\n",
    "target = 777_777\n",
    "\n",
    "\n",
    "result = linear_search(array, target)\n",
    "\n",
    "if result == -1:\n",
    "    print(f\"Элемент {target} не найден в массиве\")\n",
    "else:\n",
    "    print(f\"Элемент {target} найден в массиве на позиции {result}\")\n",
    "\n",
    "\n",
    "time_to_linear_result = timeit.timeit(\n",
    "    stmt=\"linear_search(array, target)\",\n",
    "    setup=\"from __main__ import linear_search, array, target\",\n",
    "    number=1000\n",
    ")\n",
    "\n",
    "print(f\"Median time for linear search: {time_to_linear_result:.4f}\")"
   ],
   "id": "b300992b7152f1a0",
   "outputs": [
    {
     "name": "stdout",
     "output_type": "stream",
     "text": [
      "Элемент 777777 найден в массиве на позиции 777777\n",
      "Median time for linear search: 26.1579\n"
     ]
    }
   ],
   "execution_count": 25
  },
  {
   "metadata": {},
   "cell_type": "code",
   "outputs": [],
   "execution_count": null,
   "source": [
    "# binary search\n",
    "# target = 777_777\n",
    "\n",
    "# [1, ..., 500_000, ..., 1_000_000]\n",
    "# [500_001, ...,750_725, ..., 1_000_000]\n",
    "# [750_725, ..., 1_000_000]"
   ],
   "id": "9aa1d650235de354"
  },
  {
   "metadata": {
    "ExecuteTime": {
     "end_time": "2024-12-16T11:05:38.426293Z",
     "start_time": "2024-12-16T11:04:45.257984Z"
    }
   },
   "cell_type": "code",
   "source": [
    "import timeit\n",
    "import random\n",
    "\n",
    "\n",
    "def linear_search(array_nums: list[int], target: int) -> int:\n",
    "    for index, elem in enumerate(array_nums):\n",
    "        if elem == target:\n",
    "            return index\n",
    "    return -1\n",
    "\n",
    "\n",
    "array = list(range(1_000_000))\n",
    "random.shuffle(array)\n",
    "target = 500_001\n",
    "\n",
    "\n",
    "result = linear_search(array, target)\n",
    "\n",
    "if result == -1:\n",
    "    print(f\"Элемент {target} не найден в массиве\")\n",
    "else:\n",
    "    print(f\"Элемент {target} найден в массиве на позиции {result}\")\n",
    "\n",
    "\n",
    "time_to_linear_result = timeit.timeit(\n",
    "    stmt=\"linear_search(array, target)\",\n",
    "    setup=\"from __main__ import linear_search, array, target\",\n",
    "    number=1000\n",
    ")\n",
    "\n",
    "print(f\"Median time for linear search: {time_to_linear_result:.4f}\")"
   ],
   "id": "e3d94c268398b5d9",
   "outputs": [
    {
     "name": "stdout",
     "output_type": "stream",
     "text": [
      "Элемент 500001 найден в массиве на позиции 318346\n",
      "Median time for linear search: 52.4123\n"
     ]
    }
   ],
   "execution_count": 38
  },
  {
   "metadata": {
    "ExecuteTime": {
     "end_time": "2024-12-16T11:10:07.479288Z",
     "start_time": "2024-12-16T11:10:00.293084Z"
    }
   },
   "cell_type": "code",
   "source": [
    "import timeit\n",
    "import random\n",
    "\n",
    "\n",
    "def binary_search(data: list[int], target: int) -> int:\n",
    "    data.sort()\n",
    "\n",
    "    left,right = 0,len(data)-1\n",
    "    while left <=right:\n",
    "        mid = (left +right) // 2\n",
    "        if data[mid]==target:\n",
    "            return mid\n",
    "        elif data[mid]<target:\n",
    "            left = mid + 1\n",
    "        else:\n",
    "            right = mid - 1\n",
    "    return -1\n",
    "\n",
    "arr = list(range(1,1_000_000))\n",
    "random.shuffle(arr)\n",
    "target = 500_001\n",
    "result = binary_search(arr,target)\n",
    "if result == -1:\n",
    "    print ('not found')\n",
    "else:\n",
    "    print (f'found elem ad position {result}')\n",
    "\n",
    "\n",
    "time_to_binary_search = timeit.timeit(\n",
    "    stmt=\"binary_search(arr, target)\",\n",
    "    setup=\"from __main__ import binary_search, arr, target\",\n",
    "    number=1000\n",
    ")\n",
    "\n",
    "print(f\"Median time for binary search: {time_to_binary_search:.4f}\")"
   ],
   "id": "40b471a36cbb258b",
   "outputs": [
    {
     "name": "stdout",
     "output_type": "stream",
     "text": [
      "found elem ad position 500000\n",
      "Median time for binary search: 6.2924\n"
     ]
    }
   ],
   "execution_count": 40
  },
  {
   "metadata": {},
   "cell_type": "code",
   "outputs": [],
   "execution_count": null,
   "source": "",
   "id": "b5de035b8fa94f7e"
  },
  {
   "metadata": {},
   "cell_type": "code",
   "outputs": [],
   "execution_count": null,
   "source": "",
   "id": "ba2fc87919fcbe56"
  },
  {
   "metadata": {},
   "cell_type": "code",
   "outputs": [],
   "execution_count": null,
   "source": "",
   "id": "ec9d85b4b98a3cc2"
  }
 ],
 "metadata": {
  "kernelspec": {
   "display_name": "Python 3",
   "language": "python",
   "name": "python3"
  },
  "language_info": {
   "codemirror_mode": {
    "name": "ipython",
    "version": 2
   },
   "file_extension": ".py",
   "mimetype": "text/x-python",
   "name": "python",
   "nbconvert_exporter": "python",
   "pygments_lexer": "ipython2",
   "version": "2.7.6"
  }
 },
 "nbformat": 4,
 "nbformat_minor": 5
}
