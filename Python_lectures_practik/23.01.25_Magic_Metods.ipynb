{
 "cells": [
  {
   "cell_type": "code",
   "id": "initial_id",
   "metadata": {
    "collapsed": true,
    "ExecuteTime": {
     "end_time": "2025-01-23T10:03:22.700541Z",
     "start_time": "2025-01-23T10:03:22.690498Z"
    }
   },
   "source": [
    "test_var = 4\n",
    "\n",
    "print(test_var.__add__(2)) # +\n",
    "print(test_var.__eq__(2)) # ==\n",
    "print(test_var.__sub__(2)) # -\n",
    "print(test_var.__mul__(2)) # *\n",
    "print(test_var.__divmod__(2)) # %"
   ],
   "outputs": [
    {
     "name": "stdout",
     "output_type": "stream",
     "text": [
      "6\n",
      "False\n",
      "2\n",
      "8\n",
      "(2, 0)\n"
     ]
    }
   ],
   "execution_count": 1
  },
  {
   "metadata": {
    "ExecuteTime": {
     "end_time": "2025-01-23T10:25:54.201465Z",
     "start_time": "2025-01-23T10:25:54.187595Z"
    }
   },
   "cell_type": "code",
   "source": [
    "class Money:\n",
    "    def __init__(self, amount: int, currency: str) -> None:\n",
    "        self.amount: int = amount\n",
    "        self.currency: str = currency\n",
    "\n",
    "    def __add__(self, other: 'Money') -> 'Money':\n",
    "        if self.currency == other.currency:\n",
    "            print(f\"Промежуточный результат {self.amount + other.amount}\")\n",
    "            return Money(\n",
    "                    amount=self.amount + other.amount,\n",
    "                    currency=self.currency\n",
    "            )\n",
    "\n",
    "    def __str__(self):\n",
    "        return f\"{self.amount} {self.currency}\"\n",
    "\n",
    "\n",
    "a = Money(amount=100, currency='eur')\n",
    "b = Money(amount=375, currency='eur')\n",
    "c = Money(amount=200, currency='eur')\n",
    "\n",
    "res = a + b + c\n",
    "\n",
    "print(a, b, c)\n",
    "\n",
    "if res:\n",
    "    print(f\"Result = {res}\")\n",
    "else:\n",
    "    print(\"Please provide the same currency\")"
   ],
   "id": "af71fc0da26a37a0",
   "outputs": [
    {
     "name": "stdout",
     "output_type": "stream",
     "text": [
      "Промежуточный результат 475\n",
      "Промежуточный результат 675\n",
      "100 eur 375 eur 200 eur\n",
      "Result = 675 eur\n"
     ]
    }
   ],
   "execution_count": 2
  },
  {
   "metadata": {
    "ExecuteTime": {
     "end_time": "2025-01-23T10:36:50.181084Z",
     "start_time": "2025-01-23T10:36:50.167080Z"
    }
   },
   "cell_type": "code",
   "source": [
    "class MyContainer:\n",
    "    def __init__(self, items: list[int]) -> None:\n",
    "        self.items: list[int] = items\n",
    "\n",
    "    def __len__(self) -> int:\n",
    "        return len(self.items)\n",
    "\n",
    "\n",
    "my_list = MyContainer([2, 4, 6, 8, 10])\n",
    "\n",
    "print(len(my_list))"
   ],
   "id": "832b50eaafe9a843",
   "outputs": [
    {
     "name": "stdout",
     "output_type": "stream",
     "text": [
      "5\n"
     ]
    }
   ],
   "execution_count": 3
  },
  {
   "metadata": {
    "ExecuteTime": {
     "end_time": "2025-01-23T10:47:14.385022Z",
     "start_time": "2025-01-23T10:47:14.375070Z"
    }
   },
   "cell_type": "code",
   "source": [
    "class User:\n",
    "    def __init__(self, username: str) -> None:\n",
    "        self.username: str = username\n",
    "\n",
    "    def __hash__(self):\n",
    "        return hash(self.username)\n",
    "\n",
    "    def __eq__(self, other: 'User'): # ==\n",
    "        return self.username == other.username\n",
    "\n",
    "user_1 = User(username='Valeriy')\n",
    "user_2 = User(username='valeriy')\n",
    "\n",
    "my_set = {user_1, user_2}\n",
    "\n",
    "\n",
    "print(len(my_set))"
   ],
   "id": "ba507e7129904051",
   "outputs": [
    {
     "name": "stdout",
     "output_type": "stream",
     "text": [
      "2\n"
     ]
    }
   ],
   "execution_count": 5
  },
  {
   "metadata": {
    "ExecuteTime": {
     "end_time": "2025-01-23T10:59:13.614069Z",
     "start_time": "2025-01-23T10:59:12.449363Z"
    }
   },
   "cell_type": "code",
   "source": [
    "from typing import Any\n",
    "\n",
    "\n",
    "class TestDict:\n",
    "    def __init__(self) -> None:\n",
    "        self.coll: dict[str, Any] = {}\n",
    "\n",
    "    def __getitem__(self, key: str) -> Any:\n",
    "        return self.coll[key]\n",
    "\n",
    "    def __setitem__(self, key: str, value: Any) -> Any:\n",
    "        self.coll[key] = value\n",
    "\n",
    "    def __delitem__(self, key: str) -> None:\n",
    "        del self.coll[key]\n",
    "\n",
    "test_dict = TestDict()\n",
    "\n",
    "\n",
    "test_dict['first_key'] = 120\n",
    "test_dict['second_key'] = \"Hello\"\n",
    "\n",
    "print(test_dict['first_key'])\n",
    "\n",
    "del test_dict['first_key']\n",
    "\n",
    "print(test_dict['first_key'])"
   ],
   "id": "a61da46bc251161e",
   "outputs": [
    {
     "name": "stdout",
     "output_type": "stream",
     "text": [
      "120\n"
     ]
    },
    {
     "ename": "KeyError",
     "evalue": "'first_key'",
     "output_type": "error",
     "traceback": [
      "\u001B[1;31m---------------------------------------------------------------------------\u001B[0m",
      "\u001B[1;31mKeyError\u001B[0m                                  Traceback (most recent call last)",
      "Cell \u001B[1;32mIn[6], line 27\u001B[0m\n\u001B[0;32m     23\u001B[0m \u001B[38;5;28mprint\u001B[39m(test_dict[\u001B[38;5;124m'\u001B[39m\u001B[38;5;124mfirst_key\u001B[39m\u001B[38;5;124m'\u001B[39m])\n\u001B[0;32m     25\u001B[0m \u001B[38;5;28;01mdel\u001B[39;00m test_dict[\u001B[38;5;124m'\u001B[39m\u001B[38;5;124mfirst_key\u001B[39m\u001B[38;5;124m'\u001B[39m]\n\u001B[1;32m---> 27\u001B[0m \u001B[38;5;28mprint\u001B[39m(test_dict[\u001B[38;5;124m'\u001B[39m\u001B[38;5;124mfirst_key\u001B[39m\u001B[38;5;124m'\u001B[39m])\n",
      "Cell \u001B[1;32mIn[6], line 9\u001B[0m, in \u001B[0;36mTestDict.__getitem__\u001B[1;34m(self, key)\u001B[0m\n\u001B[0;32m      8\u001B[0m \u001B[38;5;28;01mdef\u001B[39;00m \u001B[38;5;21m__getitem__\u001B[39m(\u001B[38;5;28mself\u001B[39m, key: \u001B[38;5;28mstr\u001B[39m) \u001B[38;5;241m-\u001B[39m\u001B[38;5;241m>\u001B[39m Any:\n\u001B[1;32m----> 9\u001B[0m     \u001B[38;5;28;01mreturn\u001B[39;00m \u001B[38;5;28mself\u001B[39m\u001B[38;5;241m.\u001B[39mcoll[key]\n",
      "\u001B[1;31mKeyError\u001B[0m: 'first_key'"
     ]
    }
   ],
   "execution_count": 6
  },
  {
   "metadata": {
    "ExecuteTime": {
     "end_time": "2025-01-23T11:17:09.083911Z",
     "start_time": "2025-01-23T11:17:09.069398Z"
    }
   },
   "cell_type": "code",
   "source": [
    "class TestCall:\n",
    "    def __call__(self, data: str) -> str:\n",
    "# доп логика для отработки вызова объекта класса\n",
    "        return data.upper()\n",
    "\n",
    "\n",
    "test_call = TestCall()\n",
    "\n",
    "result = test_call('hello')\n",
    "\n",
    "print(result)"
   ],
   "id": "24e06af978801f6d",
   "outputs": [
    {
     "name": "stdout",
     "output_type": "stream",
     "text": [
      "HELLO\n"
     ]
    }
   ],
   "execution_count": 8
  },
  {
   "metadata": {
    "ExecuteTime": {
     "end_time": "2025-01-23T11:16:53.760356Z",
     "start_time": "2025-01-23T11:16:51.747490Z"
    }
   },
   "cell_type": "code",
   "source": [
    "import time\n",
    "\n",
    "def outer_func(func):\n",
    "    def wrapper(*args, **kwargs):\n",
    "        ...\n",
    "        func(*args, **kwargs)\n",
    "    ...\n",
    "    return wrapper\n",
    "\n",
    "class ClassDec:\n",
    "    def __init__(self, func):\n",
    "        self.func = func\n",
    "\n",
    "    def __call__(self, *args, **kwargs):\n",
    "        start = time.time()\n",
    "        res = self.func(*args, **kwargs)\n",
    "        end = time.time()\n",
    "\n",
    "        template = \"Time of func {} work: {:.2f} sec.\\nResult is {}\"\n",
    "\n",
    "        return template.format(\n",
    "                self.func.__name__,\n",
    "                end - start,\n",
    "                res\n",
    "            )\n",
    "\n",
    "@ClassDec\n",
    "def test_func(a, b):\n",
    "    res = a * b\n",
    "    print(\"sleep\")\n",
    "    time.sleep(2)\n",
    "    return res\n",
    "\n",
    "res = test_func(4, 8)\n",
    "\n",
    "print(res)"
   ],
   "id": "a4130bf9675c6af",
   "outputs": [
    {
     "name": "stdout",
     "output_type": "stream",
     "text": [
      "sleep\n",
      "Time of func test_func work: 2.00 sec.\n",
      "Result is 32\n"
     ]
    }
   ],
   "execution_count": 7
  }
 ],
 "metadata": {
  "kernelspec": {
   "display_name": "Python 3",
   "language": "python",
   "name": "python3"
  },
  "language_info": {
   "codemirror_mode": {
    "name": "ipython",
    "version": 2
   },
   "file_extension": ".py",
   "mimetype": "text/x-python",
   "name": "python",
   "nbconvert_exporter": "python",
   "pygments_lexer": "ipython2",
   "version": "2.7.6"
  }
 },
 "nbformat": 4,
 "nbformat_minor": 5
}
