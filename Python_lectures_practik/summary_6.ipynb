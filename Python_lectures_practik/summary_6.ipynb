{
 "cells": [
  {
   "cell_type": "code",
   "id": "initial_id",
   "metadata": {
    "collapsed": true,
    "ExecuteTime": {
     "end_time": "2024-11-01T09:04:50.388886Z",
     "start_time": "2024-11-01T09:04:46.418079Z"
    }
   },
   "source": [
    "digit = input(\"Введите цифру от 1 до 5: \")\n",
    "\n",
    "file = open(\"article.txt\", \"r\", encoding=\"utf-8\")\n",
    "\n",
    "if digit.isdigit():\n",
    "    digit = int(digit)\n",
    "    file_date = file.readlines()\n",
    "    print(file_date[digit*-1])\n",
    "else:\n",
    "    print(\"Вы ввели не цифру\")\n",
    "file.close()"
   ],
   "outputs": [
    {
     "name": "stdout",
     "output_type": "stream",
     "text": [
      "Кипела вода в чайнике\n",
      "\n"
     ]
    }
   ],
   "execution_count": 11
  },
  {
   "metadata": {
    "ExecuteTime": {
     "end_time": "2024-11-01T09:01:08.659074Z",
     "start_time": "2024-11-01T09:01:05.396272Z"
    }
   },
   "cell_type": "code",
   "source": [
    "with open(\"article.txt\", \"r\", encoding=\"utf-8\") as file:\n",
    "    \n",
    "    digit = input(\"Введите цифру от 1 до 5:\")\n",
    "    \n",
    "    if digit.isdigit():\n",
    "        digit = int(digit)\n",
    "        file_date = file.readlines()\n",
    "        print(file_date[digit*-1])\n",
    "    else:\n",
    "        print(\"Вы ввели не цифру!\")"
   ],
   "id": "6c1b57ab43af6a3",
   "outputs": [
    {
     "name": "stdout",
     "output_type": "stream",
     "text": [
      "Кипела вода в чайнике\n",
      "\n"
     ]
    }
   ],
   "execution_count": 7
  },
  {
   "metadata": {},
   "cell_type": "code",
   "outputs": [],
   "execution_count": null,
   "source": [
    "    import random\n",
    "from datetime import datetime\n",
    "\n",
    "max_attempts = int(input(\"Введите количество попыток: \"))\n",
    "min_range = int(input(\"Введите начало диапазона: \"))\n",
    "max_range = int(input(\"Введите конец диапазона: \"))\n",
    "\n",
    "secret_number = random.randint(min_range, max_range)\n",
    "\n",
    "attempts = 0\n",
    "log_template = \"[{}] {} {}\"\n",
    "with open(\"game_log.txt\", \"a\") as game_log:\n",
    "    while attempts < max_attempts:\n",
    "        guess = int(input(f\"Попробуйте угадать число (попытка {attempts + 1}): \"))\n",
    "    \n",
    "        if guess == secret_number:\n",
    "            game_log.write(log_template.format(datetime.now(), 'Попробуй угадать число-', guess) = '\\n')\n",
    "            break\n",
    "        elif guess < secret_number:\n",
    "            game_log.write(\"Загаданное число больше.\\n\")\n",
    "        else:\n",
    "            game_log.write(\"Загаданное число меньше.\\n\")\n",
    "    \n",
    "        attempts += 1\n",
    "    else:\n",
    "        game_log.write(f\"Игра окончена. Вы исчерпали все попытки. Загаданное число было {secret_number}.\\n\")"
   ],
   "id": "4d7a045c1c3b00be"
  },
  {
   "metadata": {},
   "cell_type": "code",
   "outputs": [],
   "execution_count": null,
   "source": [
    "if guess == secret_number:\n",
    "    game_log.write(log_template.format(datetime.now(), guess, f\"Поздравляем! Вы угадали число за {attempts + 1} попыток.\\n\"))\n",
    "    break\n",
    "elif guess < secret_number:\n",
    "    game_log.write(log_template.format(datetime.now(), guess, \"Загаданное число больше.\\n\"))\n",
    "else:\n",
    "    game_log.write(log_template.format(datetime.now(), guess, \"Загаданное число меньше.\\n\"))\n",
    "\n",
    "    attempts += 1\n",
    "else:\n",
    "    game_log.write(log_template.format(datetime.now(), f\"Игра окончена. Вы исчерпали все попытки. Загаданное число было {secret_number}.\\n\", \"GAME OVER\"))"
   ],
   "id": "a7d32fe0c61dcb71"
  },
  {
   "metadata": {
    "ExecuteTime": {
     "end_time": "2024-11-04T08:58:14.149736Z",
     "start_time": "2024-11-04T08:58:14.094975Z"
    }
   },
   "cell_type": "code",
   "source": [
    "def smth():\n",
    " global i\n",
    " i=100\n",
    " print(i)\n",
    "i=1\n",
    "for j in range(10):\n",
    " if i%2==0:\n",
    "    print(i)\n",
    " else:\n",
    "    smth()\n",
    " i+=1"
   ],
   "id": "76fb75ff4476e4b8",
   "outputs": [
    {
     "name": "stdout",
     "output_type": "stream",
     "text": [
      "100\n",
      "100\n",
      "100\n",
      "100\n",
      "100\n",
      "100\n",
      "100\n",
      "100\n",
      "100\n",
      "100\n"
     ]
    }
   ],
   "execution_count": 12
  },
  {
   "metadata": {},
   "cell_type": "code",
   "outputs": [],
   "execution_count": null,
   "source": "",
   "id": "124e8facfef85f22"
  },
  {
   "metadata": {},
   "cell_type": "code",
   "outputs": [],
   "execution_count": null,
   "source": "",
   "id": "511826908a7a232f"
  }
 ],
 "metadata": {
  "kernelspec": {
   "display_name": "Python 3",
   "language": "python",
   "name": "python3"
  },
  "language_info": {
   "codemirror_mode": {
    "name": "ipython",
    "version": 2
   },
   "file_extension": ".py",
   "mimetype": "text/x-python",
   "name": "python",
   "nbconvert_exporter": "python",
   "pygments_lexer": "ipython2",
   "version": "2.7.6"
  }
 },
 "nbformat": 4,
 "nbformat_minor": 5
}
