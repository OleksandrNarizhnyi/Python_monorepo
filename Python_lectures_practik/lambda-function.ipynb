{
 "cells": [
  {
   "cell_type": "code",
   "execution_count": null,
   "id": "initial_id",
   "metadata": {
    "collapsed": true
   },
   "outputs": [],
   "source": [
    "from mistune.util import expand_leading_tab\n",
    "\n",
    "\n",
    "def outer_function():\n",
    "    < var_1 >\n",
    "    < var_2 >\n",
    "\n",
    "    def outer_function():\n",
    "        < var_1 >\n",
    "        < var_2 >\n"
   ]
  },
  {
   "metadata": {},
   "cell_type": "code",
   "outputs": [],
   "execution_count": null,
   "source": [
    "def greeting_func(lang):\n",
    "    def eng_greeting():\n",
    "        return \"Hello! I'm glad to see you! We're using English\"\n",
    "\n",
    "    def rus_greeting():\n",
    "        return f\"Приветствую! Рад видеть, мы используем Русский\"\n",
    "\n",
    "    if lang.strip().lower() == \"eng\":\n",
    "        print(eng_greeting())\n",
    "    elif lang.strip().lower() == \"rus\":\n",
    "        print(rus_greeting())\n",
    "    else:\n",
    "        print(\"No matches\")\n",
    "\n",
    "\n",
    "greeting_func(' EnG ')"
   ],
   "id": "3e255dab944ffa74"
  },
  {
   "metadata": {
    "ExecuteTime": {
     "end_time": "2024-11-18T10:21:10.974194Z",
     "start_time": "2024-11-18T10:21:10.964208Z"
    }
   },
   "cell_type": "code",
   "source": [
    "# Enclosure -> Decorators\n",
    "\n",
    "\n",
    "def outer_func():\n",
    "    counter = 0\n",
    "\n",
    "    def inner_func():\n",
    "        nonlocal counter\n",
    "        counter += 1\n",
    "        return counter\n",
    "\n",
    "    return inner_func\n",
    "\n",
    "\n",
    "print(outer_func())\n",
    "\n",
    "# print(inner_func())\n",
    "\n",
    "my_counter = outer_func()\n",
    "\n",
    "print(my_counter())\n",
    "print(my_counter())\n",
    "print(my_counter())\n",
    "print(my_counter())\n",
    "print(my_counter())\n",
    "print(my_counter())\n",
    "print(my_counter())\n",
    "print(my_counter())\n",
    "\n",
    "\n",
    "\n"
   ],
   "id": "9663f09974a3e5e7",
   "outputs": [
    {
     "name": "stdout",
     "output_type": "stream",
     "text": [
      "<function outer_func.<locals>.inner_func at 0x000001B2FC05B420>\n",
      "1\n",
      "2\n",
      "3\n",
      "4\n",
      "5\n",
      "6\n",
      "7\n",
      "8\n"
     ]
    }
   ],
   "execution_count": 6
  },
  {
   "metadata": {},
   "cell_type": "markdown",
   "source": "",
   "id": "e581bcb786f0471b"
  },
  {
   "metadata": {},
   "cell_type": "markdown",
   "source": "",
   "id": "9af634949b96d8e3"
  },
  {
   "metadata": {
    "ExecuteTime": {
     "end_time": "2024-11-18T10:27:47.629102Z",
     "start_time": "2024-11-18T10:27:47.615562Z"
    }
   },
   "cell_type": "code",
   "source": [
    "import string\n",
    "\n",
    "\n",
    "def check_password(password):\n",
    "    if len(password) < 12 or len(password) > 22:\n",
    "        return False\n",
    "    symbols = \"!@#$%^&*?_|<>{}()\"\n",
    "    low = False\n",
    "    upp = False\n",
    "    symb = False\n",
    "    numb = False\n",
    "    for i in password:\n",
    "        if i in string.ascii_uppercase:\n",
    "            upp = True\n",
    "        elif i in string.ascii_lowercase:\n",
    "            low = True\n",
    "        elif i in string.digits:\n",
    "            numb = True\n",
    "        elif i in symbols:\n",
    "            symb = True\n",
    "    return low and upp and symb and numb\n",
    "\n",
    "\n",
    "def check_e_mail(e_mail):\n",
    "    white_domains = (\"com\", \"de\", \"ua\", \"net\")\n",
    "    if \"@\" in e_mail and e_mail.split(\".\")[-1] in white_domains:\n",
    "        return True\n",
    "    return False\n",
    "\n",
    "\n",
    "def feick_swift(password):\n",
    "    balance = 0\n",
    "\n",
    "    def get_balance(pwd):\n",
    "        if pwd == password:\n",
    "            return balance\n",
    "        else:\n",
    "            return \"Try again in next year\"\n",
    "\n",
    "    def deposit(pwd, amount):\n",
    "        nonlocal balance\n",
    "        if pwd == password:\n",
    "            balance += amount\n",
    "            return f\"Вы пополнили свой баланс. Текущий баланс: {balance}\"\n",
    "        else:\n",
    "            return \"Wrong password\"\n",
    "        \n",
    "    def withdraw(pwd, amount):\n",
    "        nonlocal balance\n",
    "        if pwd == password:\n",
    "            if amount <= balance:\n",
    "                balance -= amount\n",
    "                return f\"Снято {amount}. Текущий баланс{balance}\"\n",
    "            return f\"Недостаточно средсв\"\n",
    "        return \"Wrong password\"\n",
    "    \n",
    "    return get_balance, deposit, withdraw\n",
    "\n",
    "\n",
    "def create_bank_acc(e_mail, password):\n",
    "    if check_e_mail(e_mail) and check_password(password):\n",
    "        result = feick_swift(password)\n",
    "        return result\n",
    "    else:\n",
    "        return \"Try again\"\n"
   ],
   "id": "ae3020283af73203",
   "outputs": [],
   "execution_count": 7
  },
  {
   "metadata": {},
   "cell_type": "code",
   "outputs": [],
   "execution_count": null,
   "source": "",
   "id": "57bc3cb5f98e2c6d"
  },
  {
   "metadata": {
    "ExecuteTime": {
     "end_time": "2024-11-18T10:31:17.413585Z",
     "start_time": "2024-11-18T10:30:19.466845Z"
    }
   },
   "cell_type": "code",
   "source": [
    "balance, deposit, withdraw = create_bank_acc(\n",
    "input(\"enter e-mail:\"),\n",
    "input(\"enter password: \")\n",
    ")\n",
    "# qwWeErtYy1&23!45\n"
   ],
   "id": "f8853752ba5395be",
   "outputs": [
    {
     "name": "stdout",
     "output_type": "stream",
     "text": [
      "0\n",
      "Вы пополнили свой баланс. Текущий баланс: 500\n"
     ]
    }
   ],
   "execution_count": 8
  },
  {
   "metadata": {
    "ExecuteTime": {
     "end_time": "2024-11-18T10:34:08.478157Z",
     "start_time": "2024-11-18T10:33:58.431786Z"
    }
   },
   "cell_type": "code",
   "source": [
    "print(balance(\"qwWeErtYy1&23!45\"))\n",
    "\n",
    "\n",
    "print(deposit(\"qwWeErtYy1&23!45\", 700))\n",
    "print(deposit(\"qwWeErtYy1&23!45\", 250))\n",
    "\n",
    "\n",
    "print(withdraw(\"qwWeErtYy1&23!45\", 800))\n",
    "print(withdraw(\"qwWeErtYy1&23!45\", 400))\n",
    "\n",
    "print(balance(\"qwWeErtYy1&23!45\"))\n",
    "\n",
    "\n"
   ],
   "id": "495a69867aa44508",
   "outputs": [
    {
     "name": "stdout",
     "output_type": "stream",
     "text": [
      "500\n"
     ]
    }
   ],
   "execution_count": 9
  },
  {
   "metadata": {},
   "cell_type": "code",
   "outputs": [],
   "execution_count": null,
   "source": [
    "balance2, deposit2, withdraw2 = create_bank_acc(\n",
    "input(\"enter e-mail:\"),\n",
    "input(\"enter password: \")\n",
    ")"
   ],
   "id": "15c146d5cac1e618"
  },
  {
   "metadata": {},
   "cell_type": "code",
   "outputs": [],
   "execution_count": null,
   "source": [
    "# 1q2!w3e4R5t6y7!u8I9op0\n",
    "print(balance2(\"1q2!w3e4R5t6y7!u8I9op0\"))"
   ],
   "id": "a17cfb4ebbf2742c"
  },
  {
   "metadata": {
    "ExecuteTime": {
     "end_time": "2024-11-18T11:17:54.215971Z",
     "start_time": "2024-11-18T11:17:54.192552Z"
    }
   },
   "cell_type": "code",
   "source": [
    "# функции высшего порядка\n",
    "\n",
    "# map()\n",
    "\n",
    "numbers = [2, 4, 6, 8, 10]\n",
    "\n",
    "def square(elem):\n",
    "    return elem*elem\n",
    "\n",
    "squared_numbers = list(map(square, numbers))\n",
    "\n",
    "squared_numbers_2 = list(map(lambda elem: elem * elem, numbers))\n",
    "\n",
    "print(squared_numbers)\n",
    "print(squared_numbers_2)"
   ],
   "id": "559ddc5a0962a8a7",
   "outputs": [
    {
     "name": "stdout",
     "output_type": "stream",
     "text": [
      "[4, 16, 36, 64, 100]\n",
      "[4, 16, 36, 64, 100]\n"
     ]
    }
   ],
   "execution_count": 10
  },
  {
   "metadata": {
    "ExecuteTime": {
     "end_time": "2024-11-18T11:24:47.039659Z",
     "start_time": "2024-11-18T11:24:47.031255Z"
    }
   },
   "cell_type": "code",
   "source": [
    "# filter\n",
    "\n",
    "numbers = [1, 2, 3, 4, 5, 6, 7, 8, 9]\n",
    "\n",
    "def is_odd(elem):\n",
    "    return elem % 2 != 0\n",
    "\n",
    "\n",
    "odd_nums = list(filter(is_odd, numbers))\n",
    "odd_nums2 = list(filter(lambda elem: elem % 2 != 0, numbers))\n",
    "\n",
    "print(odd_nums)\n",
    "print(odd_nums2)"
   ],
   "id": "c7a77929bfa41a87",
   "outputs": [
    {
     "name": "stdout",
     "output_type": "stream",
     "text": [
      "[1, 3, 5, 7, 9]\n",
      "[1, 3, 5, 7, 9]\n"
     ]
    }
   ],
   "execution_count": 11
  },
  {
   "metadata": {
    "ExecuteTime": {
     "end_time": "2024-11-18T12:21:07.794186Z",
     "start_time": "2024-11-18T12:21:07.782181Z"
    }
   },
   "cell_type": "code",
   "source": [
    "import string\n",
    "def convert_values(element):\n",
    "    if element.isdigit():\n",
    "        return int(element)\n",
    "    elif (element[0] in string.digits or element[-1] in string.digits) and '.' in element:\n",
    "        return float(element)\n",
    "    return element\n",
    "\n",
    "def open_file(filename):\n",
    "    with open(filename, encoding='utf-8') as file:\n",
    "        result = []\n",
    "        # data = file.readlines()\n",
    "        for line in file:\n",
    "            elems = line.strip('\\n').split('\\t')\n",
    "            elems = [convert_values(x) for x in elems]\n",
    "            result.append(elems)\n",
    "    return result\n",
    "\n",
    "def sort_by_fields(data, field):\n",
    "    fields_name = ('Surname', 'Name', 'Year of Birth', 'Kurse', 'Medium value')\n",
    "    if field not in fields_name:\n",
    "        return \"Unknown field\"\n",
    "    index_field = fields_name.index(field)\n",
    "    def sort_keys(row):\n",
    "        return row[index_field]\n",
    "    sorted_data = sorted(data, key=sort_keys)\n",
    "    return sorted_data   \n",
    "        \n",
    "        \n",
    "        \n",
    "        "
   ],
   "id": "9d14ada055c47fb7",
   "outputs": [],
   "execution_count": 16
  },
  {
   "metadata": {
    "ExecuteTime": {
     "end_time": "2024-11-18T12:31:59.406251Z",
     "start_time": "2024-11-18T12:31:59.396084Z"
    }
   },
   "cell_type": "code",
   "source": [
    "file_data = open_file(\"presons.txt\")\n",
    "res = sort_by_fields(file_data, 'Kurse')\n",
    "for line in res:\n",
    "    print(\"\\t\".join(map(str, line)))"
   ],
   "id": "2aecf04430c3764b",
   "outputs": [
    {
     "name": "stdout",
     "output_type": "stream",
     "text": [
      "Петрова\tАнна\t2007\t1\t4.2\n",
      "Кузнецова\tОльга\t2007\t1\t3.9\n",
      "Морозов\tАндрей\t2007\t1\t4.8\n",
      "Кузьмин\tПавел\t2007\t1\t4.1\n",
      "Антонова\tПолина\t2007\t1\t4.6\n",
      "Никитин\tКирилл\t2007\t1\t4.7\n",
      "Смирнова\tМария\t2006\t2\t4.7\n",
      "Лебедева\tЕлена\t2006\t2\t4.0\n",
      "Васильев\tМаксим\t2006\t2\t3.7\n",
      "Степанова\tЕкатерина\t2006\t2\t4.5\n",
      "Орлова\tВиктория\t2006\t2\t4.3\n",
      "Иванов\tАлександр\t2005\t3\t4.5\n",
      "Соколов\tНикита\t2005\t3\t4.6\n",
      "Егорова\tНаталья\t2005\t3\t4.2\n",
      "Федорова\tСветлана\t2005\t3\t4.0\n",
      "Волков\tАнтон\t2005\t3\t4.2\n",
      "Богданова\tАнастасия\t2005\t3\t4.9\n",
      "Сидоров\tДмитрий\t2004\t4\t3.8\n",
      "Новикова\tИрина\t2004\t4\t3.5\n",
      "Николаева\tТатьяна\t2004\t4\t4.9\n",
      "Семенов\tОлег\t2004\t4\t3.8\n",
      "Попов\tСергей\t2003\t5\t4.1\n",
      "Козлов\tМихаил\t2003\t5\t4.3\n",
      "Михайлов\tЮрий\t2003\t5\t4.4\n",
      "Агапов\tВладимир\t2003\t5\t3.9\n"
     ]
    }
   ],
   "execution_count": 25
  },
  {
   "metadata": {
    "ExecuteTime": {
     "end_time": "2024-11-18T12:44:28.936293Z",
     "start_time": "2024-11-18T12:44:28.930210Z"
    }
   },
   "cell_type": "code",
   "source": [
    "def foo(*args):\n",
    "    print(type(args))\n",
    "    print(args)\n",
    "    \n",
    "foo(1, 2, 3, 4)"
   ],
   "id": "af38216a64f9aa73",
   "outputs": [
    {
     "name": "stdout",
     "output_type": "stream",
     "text": [
      "<class 'tuple'>\n",
      "(1, 2, 3, 4)\n"
     ]
    }
   ],
   "execution_count": 26
  }
 ],
 "metadata": {
  "kernelspec": {
   "display_name": "Python 3",
   "language": "python",
   "name": "python3"
  },
  "language_info": {
   "codemirror_mode": {
    "name": "ipython",
    "version": 2
   },
   "file_extension": ".py",
   "mimetype": "text/x-python",
   "name": "python",
   "nbconvert_exporter": "python",
   "pygments_lexer": "ipython2",
   "version": "2.7.6"
  }
 },
 "nbformat": 4,
 "nbformat_minor": 5
}
