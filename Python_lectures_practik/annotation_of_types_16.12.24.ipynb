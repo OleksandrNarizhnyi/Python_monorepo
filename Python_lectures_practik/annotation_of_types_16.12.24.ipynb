{
 "cells": [
  {
   "cell_type": "code",
   "execution_count": null,
   "id": "initial_id",
   "metadata": {
    "collapsed": true
   },
   "outputs": [],
   "source": [
    "import timeit\n",
    "\n",
    "\n",
    "def linear_search(array_nums: list[int], target1: int) -> int:\n",
    "    for index, elem in enumerate(array_nums):\n",
    "        if elem == target1:\n",
    "            return index\n",
    "        return -1\n",
    "array = list(range(1_000_000))\n",
    "target1 = 777_777\n",
    "\n",
    "\n",
    "result = linear_search(array, target1)\n",
    "\n",
    "if result == -1:\n",
    "    print(f\"Элемент {target1} не найден в массиве\")\n",
    "else:\n",
    "    print(f\"Элемент {target1} найден в массиве на позиции {result}\")\n",
    "\n",
    "\n",
    "time_to_linear_result = timeit.timeit(\n",
    "stmt=\"linear_search(array, target1)\",\n",
    "setup=\"from __main__ import linear_search, array, target1\",\n",
    "number=1000\n",
    ")\n",
    "\n",
    "print(f\"Median time for linear search: {time_to_linear_result:.4f}\")"
   ]
  },
  {
   "metadata": {
    "ExecuteTime": {
     "end_time": "2024-12-16T10:25:14.999293Z",
     "start_time": "2024-12-16T10:25:14.992286Z"
    }
   },
   "cell_type": "code",
   "source": [
    "# Решить задачу \"проверь, есть ли элемент в списке\" \n",
    "# без использования дополнительной памяти сравнимого с массивом объёма с помощью бинарного поиска.\n",
    "\n",
    "def binary_search(data: list[int], target: int) -> int:\n",
    "    left, right = 0, len(data) - 1\n",
    "    while left <= right:\n",
    "        median = (left + right) // 2\n",
    "        if target == data[median]:\n",
    "            return median\n",
    "        elif data[median] < target:\n",
    "            left = median + 1\n",
    "        else:\n",
    "            right = median - 1\n",
    "    return -1"
   ],
   "id": "6d6c9697d3b3dd68",
   "outputs": [],
   "execution_count": 1
  },
  {
   "metadata": {
    "ExecuteTime": {
     "end_time": "2024-12-16T10:34:17.988487Z",
     "start_time": "2024-12-16T10:34:17.946128Z"
    }
   },
   "cell_type": "code",
   "source": [
    "arr = list(range(1_000_000))\n",
    "target = 777_777\n",
    "result = binary_search(arr, target)\n",
    "if result == -1:\n",
    "    print(f\"Элемент {target} не найден\")\n",
    "else:\n",
    "    print(f\"Элемент {target} найден в массиве на позиции {result}\")"
   ],
   "id": "eea308672b071ff3",
   "outputs": [
    {
     "name": "stdout",
     "output_type": "stream",
     "text": [
      "Элемент 777777 найден в массиве на позиции 777777\n"
     ]
    }
   ],
   "execution_count": 2
  },
  {
   "metadata": {
    "ExecuteTime": {
     "end_time": "2024-12-16T11:45:41.658858Z",
     "start_time": "2024-12-16T11:45:41.648839Z"
    }
   },
   "cell_type": "code",
   "source": [
    "# есть список цен товаров, отсортированный по возрастанию.\n",
    "# Пользователь вводит цену, и задача — быстро найти товары с ближайшими ценами (меньше и больше).\n",
    "prices = [100, 200, 300, 400, 500, 600, 700]\n",
    "import bisect\n",
    "def finde_price(data: list[int], target: int) -> tuple[int, int]:\n",
    "    target_index = bisect.bisect_left(data, target) \n",
    "    left = data[target_index - 1] if target_index > 0 else -1\n",
    "    right = data[target_index + 1] if target_index < len(data) - 1 else -1\n",
    "    return left, right \n",
    "my_search = finde_price(prices, 700)\n",
    "print(my_search)"
   ],
   "id": "57c8083b1ee9284c",
   "outputs": [
    {
     "name": "stdout",
     "output_type": "stream",
     "text": [
      "(600, -1)\n"
     ]
    }
   ],
   "execution_count": 6
  },
  {
   "metadata": {},
   "cell_type": "code",
   "outputs": [],
   "execution_count": null,
   "source": "",
   "id": "a52cdc52483e0767"
  }
 ],
 "metadata": {
  "kernelspec": {
   "display_name": "Python 3",
   "language": "python",
   "name": "python3"
  },
  "language_info": {
   "codemirror_mode": {
    "name": "ipython",
    "version": 2
   },
   "file_extension": ".py",
   "mimetype": "text/x-python",
   "name": "python",
   "nbconvert_exporter": "python",
   "pygments_lexer": "ipython2",
   "version": "2.7.6"
  }
 },
 "nbformat": 4,
 "nbformat_minor": 5
}
