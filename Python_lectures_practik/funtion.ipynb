{
 "cells": [
  {
   "cell_type": "code",
   "execution_count": null,
   "id": "initial_id",
   "metadata": {
    "collapsed": true
   },
   "outputs": [],
   "source": [
    "company1 = 'Apple'\n",
    "company2 = 'Samsung'\n",
    "def sum_lenth(text1, text2):\n",
    "    result = len(company1) + len(company2)\n",
    "    \n",
    "    return result\n",
    "print(sum_lenth(company1, company2))  "
   ]
  },
  {
   "metadata": {},
   "cell_type": "code",
   "outputs": [],
   "execution_count": null,
   "source": [
    "# def <function_name>(<arg1>, <arg2>, ..., <arg3>):\n",
    "#   <block of code>"
   ],
   "id": "55d5d7cc7e311ed5"
  },
  {
   "metadata": {
    "ExecuteTime": {
     "end_time": "2024-11-04T10:02:20.998833Z",
     "start_time": "2024-11-04T10:02:16.876062Z"
    }
   },
   "cell_type": "code",
   "source": [
    "age = int(input('Enter your age: '))\n",
    "def check_age():\n",
    "    if age >= 18:\n",
    "        return \"Adult\"\n",
    "    else:\n",
    "        return \"Minor\"\n",
    "print(check_age())"
   ],
   "id": "7b8c022ed09605a2",
   "outputs": [
    {
     "name": "stdout",
     "output_type": "stream",
     "text": [
      "Minor\n"
     ]
    }
   ],
   "execution_count": 8
  },
  {
   "metadata": {
    "ExecuteTime": {
     "end_time": "2024-11-04T10:07:34.706285Z",
     "start_time": "2024-11-04T10:07:30.212621Z"
    }
   },
   "cell_type": "code",
   "source": [
    "# Перепишите следующую задачу с использованием функции. У вас\n",
    "# есть целое число X. Нужно написать программу, которая напечатает\n",
    "# разницу между числом 21 и X, если X<=21 и напечатает удвоенную\n",
    "# разницу 21 и X в противном случае.\n",
    "\n",
    "arc1 = int(input(\"Введите целое число: \"))\n",
    "def check(x):\n",
    "    if x <= 21:\n",
    "        return (21 - x) * 2\n",
    "    else:\n",
    "        return x - 21\n",
    "print(check(arc1))"
   ],
   "id": "f84a4f49c8c1d136",
   "outputs": [
    {
     "name": "stdout",
     "output_type": "stream",
     "text": [
      "14\n"
     ]
    }
   ],
   "execution_count": 9
  },
  {
   "metadata": {
    "ExecuteTime": {
     "end_time": "2024-11-04T10:20:03.777586Z",
     "start_time": "2024-11-04T10:20:03.762319Z"
    }
   },
   "cell_type": "code",
   "source": [
    "# Даны два целых числа A и B (при этом A ≤ B). Напишите функцию, \n",
    "# которая печатает все числа от A до B включительно.\n",
    "\n",
    "a = 5\n",
    "b = 10\n",
    "def print_numbers(arg1, arg2):\n",
    "    res = \"\"\n",
    "    if arg2 < arg1:\n",
    "        return -1\n",
    "    else:\n",
    "        for i in range(arg1, arg2 + 1):\n",
    "            res += str(i) + \" \"\n",
    "        return res\n",
    "print(print_numbers(a, b))"
   ],
   "id": "dced97d4b63d623",
   "outputs": [
    {
     "name": "stdout",
     "output_type": "stream",
     "text": [
      "5 6 7 8 9 10 \n"
     ]
    }
   ],
   "execution_count": 11
  },
  {
   "metadata": {
    "ExecuteTime": {
     "end_time": "2024-11-04T10:35:09.229684Z",
     "start_time": "2024-11-04T10:35:06.268688Z"
    }
   },
   "cell_type": "code",
   "source": [
    "# Напишите функцию, которая возвращает факториал заданного числа.\n",
    "# Факториалом числа n называется произведение 1 × 2 × ... × n. Обозначение: n!.\n",
    "# По данному натуральному n вычислите значение n!.\n",
    "\n",
    "n = int(input(\"Введите целое положительное число: \"))\n",
    "\n",
    "def factorial(x):\n",
    "    fact = 1\n",
    "    \n",
    "    if x == 1 or x == 0:\n",
    "        return 1\n",
    "    else:\n",
    "        for i in range(1, n + 1):\n",
    "            fact *= i\n",
    "    return fact   \n",
    "print(factorial(n))"
   ],
   "id": "6425c6441f0ff8d7",
   "outputs": [
    {
     "name": "stdout",
     "output_type": "stream",
     "text": [
      "6\n"
     ]
    }
   ],
   "execution_count": 13
  },
  {
   "metadata": {
    "ExecuteTime": {
     "end_time": "2024-11-04T10:59:54.948273Z",
     "start_time": "2024-11-04T10:59:54.938927Z"
    }
   },
   "cell_type": "code",
   "source": [
    "# Создайте текстовый файл persons.txt с пятью строчками, в каждой: фамилия;имя;возраст.\n",
    "# То есть каждая строка - информация о человеке и данные разделены точкой с запятой. \n",
    "# Напишите программу, которая вычитывает данные из файлы и печатает их на экран в \n",
    "# формате Имя: <имя>, Фамилия: <фамилия>, Возраст: <возраст>.\n",
    "\n",
    "def print_user_data(filename):\n",
    "    with open(filename) as f:\n",
    "        persons = f.readlines()\n",
    "        shablon = \"Имя: {}>, Фамилия: {}, Возраст: {}\"\n",
    "        for person in persons:\n",
    "            name, last_name, age = person.strip(\"\\n\").split(\";\")\n",
    "            print(shablon.format(name, last_name, age))\n",
    "print_user_data(\"person.txt\")"
   ],
   "id": "747b76d60b45a02e",
   "outputs": [
    {
     "name": "stdout",
     "output_type": "stream",
     "text": [
      "Имя: Anna>, Фамилия: Black, Возраст: 29\n",
      "Имя: Eva>, Фамилия: First, Возраст: 30\n",
      "Имя: Piter>, Фамилия:  Last, Возраст: 40\n",
      "Имя: Maria>, Фамилия: Grey, Возраст: 38\n",
      "Имя: John>, Фамилия: Smith, Возраст: 58\n"
     ]
    }
   ],
   "execution_count": 15
  },
  {
   "metadata": {
    "ExecuteTime": {
     "end_time": "2024-11-04T11:40:49.638783Z",
     "start_time": "2024-11-04T11:40:49.625944Z"
    }
   },
   "cell_type": "code",
   "source": [
    "# Написать функцию, которая принимает строку с паролем и возвращает\n",
    "# True, если пароль соответствует определенным критериям безопасности,\n",
    "# и False в противном случае.\n",
    "\n",
    "# Критерии безопасности включают следующее:\n",
    "# \n",
    "# Длина пароля должна быть не менее 12 символов и не более 22 символов.\n",
    "# Пароль должен содержать как минимум одну заглавную и одну строчную букву.\n",
    "# Пароль должен содержать как минимум одну цифру и один символ(!@#$%^&*?_|<>{}).\n",
    "import string\n",
    "\n",
    "def check_password(password):\n",
    "    if len(password) < 12 or len(password) > 22 :\n",
    "        return False\n",
    "    symbols = \"!@#$%^&*?_|<>{}\"\n",
    "    low = False\n",
    "    upp = False\n",
    "    symb = False\n",
    "    numb = False\n",
    "    for i in password:\n",
    "        if i in string.ascii_uppercase:\n",
    "            upp = True\n",
    "        elif i in string.ascii_lowercase:\n",
    "            low = True\n",
    "        elif i in string.digits:\n",
    "            numb = True\n",
    "        elif i in symbols:\n",
    "            symb = True\n",
    "    return low and upp and symb and numb\n",
    "print(check_password(\"MyStr0n&Passw0rd!\"))\n",
    "            \n",
    "            "
   ],
   "id": "941457f41a9aa3db",
   "outputs": [
    {
     "name": "stdout",
     "output_type": "stream",
     "text": [
      "True\n"
     ]
    }
   ],
   "execution_count": 21
  },
  {
   "metadata": {
    "ExecuteTime": {
     "end_time": "2024-11-07T09:31:22.422641Z",
     "start_time": "2024-11-07T09:31:22.402596Z"
    }
   },
   "cell_type": "code",
   "source": [
    "# нужно создать набор команд для пользователей из строки, содержащей их имена и\n",
    "# роли. Такая задача может пригодиться при настройке ролей в веб-приложении.\n",
    "\n",
    "\n",
    "# Получить строку, содержащую имена пользователей и их роли,\n",
    "# разделённые запятыми, например: \"Alice-admin, Bob-user, Charlie-moderator\".\n",
    "# Преобразовать эту строку в список пользователей, используя метод.\n",
    "# Для каждого элемента списка создать строку команды для \n",
    "# добавления пользователя в систему в формате \n",
    "# \"add_user(<имя>, <роль>)\", где <имя> и <роль> берутся из каждого элемента.\n",
    "# Сохранить команды в список и вывести его построчно на экран.\n",
    "\n",
    "data = \"Alice-admin, Bob-user, Charlie-moderator\"\n",
    "list_add_comand = []\n",
    "def build_user_rolle(par_str):\n",
    "    users = par_str.split(\", \")\n",
    "    for item in users:\n",
    "        user, rolle = item.split(\"-\")\n",
    "        list_add_comand.append(f\"add_user({user}, {rolle})\")\n",
    "    return list_add_comand\n",
    "print(build_user_rolle(data))    "
   ],
   "id": "9a14c0aba729347e",
   "outputs": [
    {
     "name": "stdout",
     "output_type": "stream",
     "text": [
      "['add_user(Alice, admin)', 'add_user(Bob, user)', 'add_user(Charlie, moderator)']\n"
     ]
    }
   ],
   "execution_count": 1
  }
 ],
 "metadata": {
  "kernelspec": {
   "display_name": "Python 3",
   "language": "python",
   "name": "python3"
  },
  "language_info": {
   "codemirror_mode": {
    "name": "ipython",
    "version": 2
   },
   "file_extension": ".py",
   "mimetype": "text/x-python",
   "name": "python",
   "nbconvert_exporter": "python",
   "pygments_lexer": "ipython2",
   "version": "2.7.6"
  }
 },
 "nbformat": 4,
 "nbformat_minor": 5
}
