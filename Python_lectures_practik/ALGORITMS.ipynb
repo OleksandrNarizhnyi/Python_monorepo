{
 "cells": [
  {
   "cell_type": "code",
   "id": "initial_id",
   "metadata": {
    "collapsed": true,
    "ExecuteTime": {
     "end_time": "2024-12-26T10:22:25.923779Z",
     "start_time": "2024-12-26T10:22:25.913027Z"
    }
   },
   "source": [
    "# Типичные примеры О-большого\n",
    "# - O(log п ), или логарифмическое время. Пример: бинарный поиск. \n",
    "# - О(п), или линейное время. Пример: простой поиск. \n",
    "# - О(п * log п). Пример: эффективные алгоритмы сортировки (быстрая \n",
    "# сортировка - но об этом в главе 4). \n",
    "# - О(п**2). Пример: медленные алгоритмы сортировки (сортировка выбором - см. главу 2).\n",
    "# - О(п!). Пример: очень медленные алгоритмы (задача о коммивояжере -\n",
    "# о ней будет рассказано в следующем разделе). \n",
    "\n",
    "# 1. Бинарный поиск\n",
    "# Шпаргалка \n",
    "# - Бинарный поиск работает намного быстрее простого. \n",
    "# - Время выполнения O(log п) быстрее О(п), а с увеличением размера \n",
    "# списка, в котором ищется значение, оно становится намного быстрее. \n",
    "# - Скорость алгоритмов не измеряется в секундах. \n",
    "# - Время выполнения алгоритма описывается ростом количества операций. \n",
    "# - Время выполнения алгоритмов выражается как «О-большое~. \n",
    "def binary_search(list, item):\n",
    "    low = 0\n",
    "    high = len(list) - 1\n",
    "    \n",
    "    while low <= high:\n",
    "        mid = (low + high) // 2\n",
    "        guess = list[mid]\n",
    "        if guess == item:\n",
    "            return mid\n",
    "        if guess > item:\n",
    "            high = mid - 1\n",
    "        else:\n",
    "            low = mid + 1\n",
    "    return None\n",
    "\n",
    "my_list = [1, 2, 3, 4, 5, 6, 7, 8, 9, 10]\n",
    "print(binary_search(my_list, 10))\n",
    "print(binary_search(my_list, -1))\n",
    "\n"
   ],
   "outputs": [
    {
     "name": "stdout",
     "output_type": "stream",
     "text": [
      "9\n",
      "None\n"
     ]
    }
   ],
   "execution_count": 1
  },
  {
   "metadata": {
    "ExecuteTime": {
     "end_time": "2024-12-26T10:56:10.270500Z",
     "start_time": "2024-12-26T10:56:10.260414Z"
    }
   },
   "cell_type": "code",
   "source": [
    "# 2. Сортировка выбором\n",
    "\n",
    "def find_smallest(arr): # функция для поиска наименьшего элемента массива\n",
    "    smallest = arr[0]  \n",
    "    smallest_index = 0  \n",
    "    for i in range(1, len(arr)): \n",
    "        if arr[i] < smallest: \n",
    "            smallest = arr[i] \n",
    "            smallest_index = i \n",
    "    return smallest_index \n",
    "\n",
    "# функция сортировки выбором\n",
    "\n",
    "def selection_sort(arr):\n",
    "    newarr = [] \n",
    "    for i in range(len(arr)): \n",
    "        smallest = find_smallest(arr) \n",
    "        newarr.append(arr.pop(smallest)) \n",
    "    return newarr \n",
    "\n",
    "print(selection_sort([5, 3, 6, 2, 10]))\n",
    "\n",
    "# Шпаргалка \n",
    "# - Память компьютера напоминает огромный шкаф с ящиками. \n",
    "# - Если вам потребуется сохранить набор элементов, воспользуйтесь мас­\n",
    "# сивом или списком. \n",
    "# - В массиве все элементы хранятся в памяти рядом друг с другом. \n",
    "# - В списке элементы распределяются в произвольных местах памяти, при \n",
    "# этом в одном элементе хранится адрес следующего элемента. \n",
    "# - Массивы обеспечивают быстрое чтение. \n",
    "# - Списки обеспечивают быструю вставку и выполнение. \n",
    "# - Все элементы массива должны быть однотипными (только целые числа, \n",
    "# только вещественные числа и т. д.). "
   ],
   "id": "f28a5ad6354001a",
   "outputs": [
    {
     "name": "stdout",
     "output_type": "stream",
     "text": [
      "[2, 3, 5, 6, 10]\n"
     ]
    }
   ],
   "execution_count": 4
  },
  {
   "metadata": {},
   "cell_type": "code",
   "outputs": [],
   "execution_count": null,
   "source": [
    "# 3. Рекурсия\n",
    "\n"
   ],
   "id": "51517d77dc55c294"
  }
 ],
 "metadata": {
  "kernelspec": {
   "display_name": "Python 3",
   "language": "python",
   "name": "python3"
  },
  "language_info": {
   "codemirror_mode": {
    "name": "ipython",
    "version": 2
   },
   "file_extension": ".py",
   "mimetype": "text/x-python",
   "name": "python",
   "nbconvert_exporter": "python",
   "pygments_lexer": "ipython2",
   "version": "2.7.6"
  }
 },
 "nbformat": 4,
 "nbformat_minor": 5
}
