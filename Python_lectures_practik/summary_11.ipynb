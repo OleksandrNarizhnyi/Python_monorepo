{
 "cells": [
  {
   "cell_type": "code",
   "id": "initial_id",
   "metadata": {
    "collapsed": true,
    "ExecuteTime": {
     "end_time": "2024-12-06T08:21:02.929548Z",
     "start_time": "2024-12-06T08:21:02.917254Z"
    }
   },
   "source": [
    "from json import JSONDecodeError\n",
    "\n",
    "database_data = [\n",
    "{\"id\": 1, \"username\": \"user123\", \"email\": \"user123@example.com\", \"age\": 25},\n",
    "{\"id\": 2, \"username\": \"john_doe\", \"email\": \"johndoe@example.com\", \"age\": 15},\n",
    "{\"id\": 3, \"username\": \"emma_s\", \"email\": \"emma_s@example.com\", \"age\": 42},\n",
    "{\"id\": 4, \"username\": \"alex21\", \"email\": \"alex21@example.com\", \"age\": 21},\n",
    "{\"id\": 5, \"username\": \"lisa_smith\", \"email\": \"lisa.smith@example.com\", \"age\": 30},\n",
    "{\"id\": 6, \"username\": \"max_power\", \"email\": \"max_power@example.com\", \"age\": 15},\n",
    "{\"id\": 7, \"username\": \"sara_m\", \"email\": \"saram@example.com\", \"age\": 28},\n",
    "{\"id\": 8, \"username\": \"brian88\", \"email\": \"brian88@example.com\", \"age\": 33},\n",
    "{\"id\": 9, \"username\": \"julia_c\", \"email\": \"juliac@example.com\", \"age\": 17},\n",
    "{\"id\": 10, \"username\": \"sam99\", \"email\": \"sam99@example.com\", \"age\": 14},\n",
    "{\"id\": 11, \"username\": \"megan_ross\", \"email\": \"megan.ross@example.com\", \"age\": 23},\n",
    "{\"id\": 12, \"username\": \"mark_johnson\", \"email\": \"markjohnson@example.com\", \"age\": 17},\n",
    "{\"id\": 13, \"username\": \"amy_w\", \"email\": \"amy_w@example.com\", \"age\": 18},\n",
    "{\"id\": 14, \"username\": \"chris25\", \"email\": \"chris25@example.com\", \"age\": '25'},\n",
    "{\"id\": 15, \"username\": \"natalie_g\", \"email\": \"natalieg@example.com\", \"age\": 14},\n",
    "{\"id\": 16, \"username\": \"michael_b\", \"email\": \"michaelb@example.com\", \"age\": 19},\n",
    "{\"id\": 17, \"username\": \"lucas34\", \"email\": \"lucas34@example.com\", \"age\": 27},\n",
    "{\"id\": 18, \"username\": \"olivia_smith\", \"email\": \"olivia.smith@example.com\", \"age\": 14},\n",
    "{\"id\": 19, \"username\": \"david_p\", \"email\": \"davidp@example.com\", \"age\": 21},\n",
    "{\"id\": 20, \"username\": \"sophie_w\", \"email\": \"sophiew@example.com\", \"age\": 17},\n",
    "{\"id\": 21, \"username\": \"ryan_miller\", \"email\": \"ryan.miller@example.com\", \"age\": 35},\n",
    "{\"id\": 22, \"username\": \"lily_g\", \"email\": \"lilyg@example.com\", \"age\": 14},\n",
    "{\"id\": 23, \"username\": \"patrick_s\", \"email\": \"patricks@example.com\", \"age\": '37'},\n",
    "{\"id\": 24, \"username\": \"grace41\", \"email\": \"grace41@example.com\", \"age\": 41},\n",
    "{\"id\": 25, \"username\": \"daniel_h\", \"email\": \"danielh@example.com\", \"age\": 15},\n",
    "{\"id\": 26, \"username\": \"victoria99\", \"email\": \"victoria99@example.com\", \"age\": 24},\n",
    "{\"id\": 27, \"username\": \"jacob_t\", \"email\": \"jacobt@example.com\", \"age\": 14},\n",
    "{\"id\": 28, \"username\": \"sophia_c\", \"email\": \"sophiac@example.com\", \"age\": 16},\n",
    "{\"id\": 29, \"username\": \"andrew_j\", \"email\": \"andrewj@example.com\", \"age\": '23'},\n",
    "{\"id\": 30, \"username\": \"emily_rose\", \"email\": \"emily.rose@example.com\", \"age\": 17},\n",
    "]"
   ],
   "outputs": [],
   "execution_count": 1
  },
  {
   "metadata": {
    "ExecuteTime": {
     "end_time": "2024-12-06T08:31:16.949218Z",
     "start_time": "2024-12-06T08:31:16.935260Z"
    }
   },
   "cell_type": "code",
   "source": [
    "# Фильтрация данных из базы данных. Реализуйте функцию, которая\n",
    "# позволяет получать только те записи из базы данных, где возраст\n",
    "# пользователя больше 18. ID этих пользователей записать в список\n",
    "# users_white_list для передачи фронту. После переписать логику так,\n",
    "# чтобы можно было передавать параметр-поле, которое нужно будет\n",
    "# сохранять в списке для передачи фронту. Учесть возможные ошибки\n",
    "# и покрыть их конструкцией try: except\n",
    "# def filter_data_db(lst):\n",
    "#     users_white_list = []\n",
    "#     for dct in lst:\n",
    "#         try:\n",
    "#             if dct.get('age') > 18:\n",
    "#                 users_white_list.append(dct.get('id'))\n",
    "#         except TypeError as err:\n",
    "#             print(f\"{err} all numbers must be an integer\")\n",
    "#     return users_white_list\n",
    "# \n",
    "# print(filter_data_db(database_data))\n",
    "\n",
    "\n",
    "def filter_data_db(lst, field=\"id\"):\n",
    "    users_white_list = []\n",
    "    for dct in lst:\n",
    "        try:\n",
    "            if dct.get('age') > 18:\n",
    "                users_white_list.append(dct.get(field))\n",
    "        except TypeError as err:\n",
    "            print(f\"{err} all numbers must be an integer\")\n",
    "    return users_white_list\n",
    "\n",
    "print(filter_data_db(database_data, ))"
   ],
   "id": "2bc330e39d21d240",
   "outputs": [
    {
     "name": "stdout",
     "output_type": "stream",
     "text": [
      "'>' not supported between instances of 'str' and 'int' all numbers must be an integer\n",
      "'>' not supported between instances of 'str' and 'int' all numbers must be an integer\n",
      "'>' not supported between instances of 'str' and 'int' all numbers must be an integer\n",
      "[1, 3, 4, 5, 7, 8, 11, 16, 17, 19, 21, 24, 26]\n"
     ]
    }
   ],
   "execution_count": 3
  },
  {
   "metadata": {},
   "cell_type": "code",
   "outputs": [],
   "execution_count": null,
   "source": [
    "# есть JSON-строка, содержащая список пользователей социальной сети с их именами\n",
    "# и городами проживания. Необходимо написать функцию, которая десериализует эту\n",
    "# строку в Python-объекты, подсчитывает количество пользователей из каждого города\n",
    "# и сериализует результат обратно в JSON-строку."
   ],
   "id": "e8721d8c1437c0fb"
  },
  {
   "metadata": {
    "ExecuteTime": {
     "end_time": "2024-12-06T09:08:05.030394Z",
     "start_time": "2024-12-06T09:08:05.017398Z"
    }
   },
   "cell_type": "code",
   "source": [
    "json_data = '''\n",
    "[\n",
    "{\"name\": \"Anna\", \"city\": \"Washington\"},\n",
    "{\"name\": \"Ivan\", \"city\": \"Colorado\"},\n",
    "{\"name\": \"Maria\", \"city\": \"Paris\"},\n",
    "{\"name\": \"Dmitry\", \"city\": \"Yafo\"},\n",
    "{\"name\": \"Alexey\", \"city\": \"Ako\"},\n",
    "{\"name\": \"Ksenia\", \"city\": \"Colorado\"},\n",
    "{\"name\": \"Diana\", \"city\": \"Yafo\"},\n",
    "{\"name\": \"Leonid\", \"city\": \"Paris\"}\n",
    "]\n",
    "'''\n",
    "import json\n",
    "def count_cities(data):\n",
    "    cities = {}\n",
    "    try:\n",
    "        user_data = json.loads(data)\n",
    "    except json.JSONDecodeError as err:\n",
    "        raise ValueError(f\"Ошибка десериализации JSON: {err}\")\n",
    "    for user in user_data:\n",
    "        if user.get(\"city\") in cities:\n",
    "            cities[user.get(\"city\")] += 1\n",
    "        else:\n",
    "            cities[user.get(\"city\")] = 1\n",
    "    return json.dumps(cities, indent=4)    \n",
    "        \n",
    "print(count_cities(json_data))   "
   ],
   "id": "9f5a3258c7d26869",
   "outputs": [
    {
     "name": "stdout",
     "output_type": "stream",
     "text": [
      "{\n",
      "    \"Washington\": 1,\n",
      "    \"Colorado\": 2,\n",
      "    \"Paris\": 2,\n",
      "    \"Yafo\": 2,\n",
      "    \"Ako\": 1\n",
      "}\n"
     ]
    }
   ],
   "execution_count": 7
  },
  {
   "metadata": {
    "ExecuteTime": {
     "end_time": "2024-12-06T09:38:04.858145Z",
     "start_time": "2024-12-06T09:38:04.842764Z"
    }
   },
   "cell_type": "code",
   "source": [
    "# предоставлен список транзакций в формате JSON, где каждая транзакция может содержать\n",
    "# поле \"amount\". Напишите функцию, которая десериализует данные\n",
    "# для подсчета количества транзакций по каждой сумме, и обрабатывает возможные исключения\n",
    "# при отсутствии поля \"amount\" в транзакции\n",
    "json_transactions = '''\n",
    "[\n",
    "{\"id\": 1, \"amount\": 100},\n",
    "{\"id\": 2, \"amount\": 200},\n",
    "{\"id\": 3},\n",
    "{\"id\": 4, \"amount\": 123},\n",
    "{\"id\": 5, \"amount\": 523},\n",
    "{\"id\": 6, \"amount\": 1500},\n",
    "{\"id\": 7},\n",
    "{\"id\": 8, \"amount\": 4232},\n",
    "{\"id\": 9},\n",
    "{\"id\": 10, \"amount\": 700}\n",
    "]\n",
    "'''\n",
    "\n",
    "import json\n",
    "def deserialize(json_data: json):\n",
    "  try: \n",
    "    result = json.loads(json_data)\n",
    "  except json.JSONDecodeError as err:\n",
    "    raise ValueError(f\"Ошибка JSONDecodeError! {err}\")\n",
    "  return result\n",
    "def serialize(python_data, par_indent = 4):\n",
    "  try: \n",
    "    result = json.dumps(python_data, indent = par_indent)\n",
    "  except Exception as err:\n",
    "    raise ValueError(f\"Ошибка! {err}\")\n",
    "  return result\n",
    "try:\n",
    "  transactions = deserialize(json_transactions)\n",
    "  amounts = {}\n",
    "  for amount in transactions:\n",
    "    try:\n",
    "      temp = amount[\"amount\"]\n",
    "      if temp in amounts:\n",
    "        amounts[temp] += 1\n",
    "      else:       \n",
    "          amounts[temp] = 1\n",
    "    except KeyError as err:\n",
    "      print(f\"Ошибка KeyError! {err}\")\n",
    "  \n",
    "    # if amount.get(\"amount\") in amounts:\n",
    "    #   amounts[amount.get(\"amount\")] += 1\n",
    "    # else:\n",
    "    #   if amount.get(\"amount\") is not None:\n",
    "    #     amounts[amount.get(\"amount\")] = 1\n",
    "  print(serialize(amounts))\n",
    "except Exception as err:\n",
    "  print(err)\n"
   ],
   "id": "18dce527c9d410c4",
   "outputs": [
    {
     "name": "stdout",
     "output_type": "stream",
     "text": [
      "Ошибка KeyError! 'amount'\n",
      "Ошибка KeyError! 'amount'\n",
      "Ошибка KeyError! 'amount'\n",
      "{\n",
      "    \"100\": 1,\n",
      "    \"200\": 1,\n",
      "    \"123\": 1,\n",
      "    \"523\": 1,\n",
      "    \"1500\": 1,\n",
      "    \"4232\": 1,\n",
      "    \"700\": 1\n",
      "}\n"
     ]
    }
   ],
   "execution_count": 8
  },
  {
   "metadata": {},
   "cell_type": "code",
   "outputs": [],
   "execution_count": null,
   "source": [
    "json_users = '''\n",
    "[\n",
    "{\"name\": \"Elena\", \"age\": 28, \"friends\": [\"Ivan\", \"Maria\"]},\n",
    "{\"name\": \"Ivan\", \"age\": 34, \"friends\": [\"Elena\"]},\n",
    "{\"name\": \"Julia\", \"friends\": [\"Elena\"]},\n",
    "{\"name\": \"Alexey\", \"age\": 40},\n",
    "{\"name\": \"Maria\", \"age\": 24, \"friends\": [\"Elena\", \"Ivan\", \"Julia\"]},\n",
    "{\"name\": \"Dmitry\", \"age\": 21, \"friends\": [\"Elena\", \"Ivan\", \"Julia\", \"Alexey\"]},\n",
    "{\"name\": \"Margaret\", \"age\": 32, \"friends\": [\"Julia\", \"Alexey\"]},\n",
    "{\"name\": \"Yana\", \"age\": 33, \"friends\": [\"Elena\", \"Julia\", \"Margaret\"]},\n",
    "{\"name\": \"John\", \"age\": 19, \"friends\": [\"Elena\", \"Ivan\", \"Julia\", \"Dmitry\"]}\n",
    "]\n",
    "'''\n",
    "# Работаем над анализом данных социальной сети. Необходимо написать программу, которая:\n",
    "# \n",
    "# Считывает JSON-строку с данными пользователей (имя, возраст, список друзей).\n",
    "# Десериализует данные.\n",
    "# Использует несколько функций для анализа данных:\n",
    "# Одна функция подсчитывает средний возраст пользователей.\n",
    "# Другая строит словарь, где ключ — имя пользователя, а значение — количество друзей.\n",
    "# Обрабатывает возможные исключения при отсутствии полей в данных\n",
    "# В конце сериализует результаты анализа обратно в JSON."
   ],
   "id": "6ef0a000de1695c5"
  },
  {
   "metadata": {},
   "cell_type": "code",
   "outputs": [],
   "execution_count": null,
   "source": "",
   "id": "bcb1cbe92a119867"
  }
 ],
 "metadata": {
  "kernelspec": {
   "display_name": "Python 3",
   "language": "python",
   "name": "python3"
  },
  "language_info": {
   "codemirror_mode": {
    "name": "ipython",
    "version": 2
   },
   "file_extension": ".py",
   "mimetype": "text/x-python",
   "name": "python",
   "nbconvert_exporter": "python",
   "pygments_lexer": "ipython2",
   "version": "2.7.6"
  }
 },
 "nbformat": 4,
 "nbformat_minor": 5
}
