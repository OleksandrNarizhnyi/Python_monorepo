{
 "cells": [
  {
   "cell_type": "code",
   "id": "initial_id",
   "metadata": {
    "collapsed": true,
    "ExecuteTime": {
     "end_time": "2024-12-05T09:27:21.393669Z",
     "start_time": "2024-12-05T09:27:21.383349Z"
    }
   },
   "source": [
    "def calculator(a: int,b: int ,action):\n",
    "    operations = {\n",
    "        '+': lambda a, b : a + b,\n",
    "        '-': lambda a, b : a - b,\n",
    "        '*': lambda a, b : a * b,\n",
    "        '/': lambda a, b : a / b\n",
    "       \n",
    "    }\n",
    "    try:\n",
    "        oper_result = operations[action](a, b)\n",
    "    except KeyError as err:\n",
    "        return err\n",
    "    except TypeError as err:\n",
    "        return err\n",
    "    except ZeroDivisionError as err:\n",
    "        return err\n",
    "    return oper_result\n",
    "print(calculator(3, 4, '+'))"
   ],
   "outputs": [
    {
     "name": "stdout",
     "output_type": "stream",
     "text": [
      "7\n"
     ]
    }
   ],
   "execution_count": 1
  },
  {
   "metadata": {},
   "cell_type": "code",
   "outputs": [],
   "execution_count": null,
   "source": [
    "# Вот еще пример для проверки отлова ошибки и сразу выводу:\n",
    "try:\n",
    "  y = 'd'\n",
    "  if y == 0:\n",
    "    raise ZeroDivisionError(\"Деление на ноль недопустимо!\")\n",
    "  elif not str(y).isdigit():\n",
    "    raise ValueError(\"Введено не число!\")\n",
    "  \n",
    "  x = 10 / y\n",
    "  print(x)\n",
    "except Exception as e:\n",
    "  print(\"Тип ошибки: \", type(e))\n",
    "  print(\"Ошибка: \", e)"
   ],
   "id": "8d012165588ac881"
  },
  {
   "metadata": {},
   "cell_type": "code",
   "outputs": [],
   "execution_count": null,
   "source": [
    "try:\n",
    "    # print(mam)\n",
    "    x = int(\"dd\")\n",
    "    y = 10 / x\n",
    "except ZeroDivisionError:\n",
    "    print(\"Ошибка: Деление на ноль недопустимо!\")\n",
    "except ValueError:\n",
    "    print(\"Ошибка: Введено не число!\")\n",
    "except TypeError:\n",
    "    print(\"Ошибка: Не соответствие типов!\")\n",
    "except Exception as e:\n",
    "    print(\"Ошибка: \", e, type(e))\n",
    "else:\n",
    "  print(\"Деление прошло успешно!\")\n",
    "finally:\n",
    "  print(\"Этот блок всегда выполняется.\")"
   ],
   "id": "2e7f3b223e6abe97"
  },
  {
   "metadata": {},
   "cell_type": "code",
   "outputs": [],
   "execution_count": null,
   "source": [
    "try:\n",
    "    user_input = int(input(\"Enter any number: \"))\n",
    "    a = user_input ** 2\n",
    "    print(a)\n",
    "except ValueError:\n",
    "    print(\"Переменная 'user_input' - не число. Выходим.\")\n",
    "else:\n",
    "    print(f\"Всё хорошо, результат = {a}\")\n",
    "finally:\n",
    "    print('Я всегда выполнюсь в конце, пока!')"
   ],
   "id": "121cbe38d9ffcf35"
  }
 ],
 "metadata": {
  "kernelspec": {
   "display_name": "Python 3",
   "language": "python",
   "name": "python3"
  },
  "language_info": {
   "codemirror_mode": {
    "name": "ipython",
    "version": 2
   },
   "file_extension": ".py",
   "mimetype": "text/x-python",
   "name": "python",
   "nbconvert_exporter": "python",
   "pygments_lexer": "ipython2",
   "version": "2.7.6"
  }
 },
 "nbformat": 4,
 "nbformat_minor": 5
}
