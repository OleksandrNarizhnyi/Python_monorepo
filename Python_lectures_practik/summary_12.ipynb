{
 "cells": [
  {
   "cell_type": "code",
   "id": "initial_id",
   "metadata": {
    "collapsed": true,
    "ExecuteTime": {
     "end_time": "2024-12-13T09:35:52.105325Z",
     "start_time": "2024-12-13T09:35:52.095992Z"
    }
   },
   "source": [
    "# Представим, что мы имеем генератор, который фильтрует поступающие\n",
    "# данные и выдает только те, что удовлетворяют определенным критериям.\n",
    "# С помощью send() мы можем на лету менять правила фильтрации без\n",
    "# остановки процесса. Это может быть полезно в ситуациях, когда\n",
    "# данные поступают потоком (скажем, с сенсора или из сети), и\n",
    "# нам нужно менять логику фильтра в процессе работы.\n",
    "\n",
    "def data_filter(initial_param=10):\n",
    "    threshold = initial_param\n",
    "    value = yield f\"Текущий порог равен {threshold}\"\n",
    "    while True:\n",
    "        if isinstance(value, int):\n",
    "            if value < initial_param:\n",
    "                value = yield f\"{value} отклонено\"\n",
    "            else:\n",
    "                value = yield f\"{value} принято\"\n",
    "        elif value is None:\n",
    "            new_tr = yield f\"Текущий порог равен {threshold}. Введите новый порог.\"\n",
    "            if isinstance(new_tr, int):\n",
    "                threshold = new_tr\n",
    "                value = f\"Порог изменен на {threshold}\"\n",
    "        else:\n",
    "            value = yield f\"Неподдерживаемое значение: {value}\"\n",
    "            \n",
    "            \n",
    "gen_fil = data_filter()\n",
    "print(next(gen_fil))\n",
    "print(gen_fil.send(7.8))\n",
    "print(gen_fil.send(5))\n",
    "print(gen_fil.send(\"fgvhskd\"))\n",
    "print(gen_fil.send(20))\n",
    "print(gen_fil.send(None))\n",
    "print(gen_fil.send(1))\n",
    "print(gen_fil.send(20))\n",
    "print(gen_fil.send(1))\n",
    "print(gen_fil.send(0))\n"
   ],
   "outputs": [
    {
     "name": "stdout",
     "output_type": "stream",
     "text": [
      "Текущий порог равен 10\n",
      "Неподдерживаемое значение: 7.8\n",
      "5 отклонено\n",
      "Неподдерживаемое значение: fgvhskd\n",
      "20 принято\n",
      "Текущий порог равен 10. Введите новый порог.\n",
      "Неподдерживаемое значение: Порог изменен на 1\n",
      "20 принято\n",
      "1 отклонено\n",
      "0 отклонено\n"
     ]
    }
   ],
   "execution_count": 4
  },
  {
   "metadata": {},
   "cell_type": "code",
   "outputs": [],
   "execution_count": null,
   "source": "",
   "id": "6d71c24164b879dd"
  },
  {
   "metadata": {},
   "cell_type": "code",
   "outputs": [],
   "execution_count": null,
   "source": "",
   "id": "7622d374ee56b8ed"
  }
 ],
 "metadata": {
  "kernelspec": {
   "display_name": "Python 3",
   "language": "python",
   "name": "python3"
  },
  "language_info": {
   "codemirror_mode": {
    "name": "ipython",
    "version": 2
   },
   "file_extension": ".py",
   "mimetype": "text/x-python",
   "name": "python",
   "nbconvert_exporter": "python",
   "pygments_lexer": "ipython2",
   "version": "2.7.6"
  }
 },
 "nbformat": 4,
 "nbformat_minor": 5
}
