{
 "cells": [
  {
   "metadata": {},
   "cell_type": "code",
   "outputs": [],
   "execution_count": null,
   "source": [
    "# \\d - Соответствует любой цифре\n",
    "# \\w - Соответствует любой букве или цифре\n",
    "# \\s - Соответствует любому пробельному символу\n",
    "# \\b - Соответствует границе слова\n",
    "# . - Любой символ\n",
    "# * - Указывает на ноль или более повторений предыдущего символа или группы символов\n",
    "# + - Одно или более повторений\n",
    "# ? - Ноль или одно повторение\n",
    "# {n} - Ровно n повторений\n",
    "# {m, n} - От m до n повторений\n",
    "# re.match() - Ищет совпадение регулярного выражения только в начале строки\n",
    "# re.search() - Ищет совпадение в любом месте строки\n",
    "# re.findall() - Возвращает список всех совпадений\n",
    "# re.split() - Разделяет строку на список подстрок по заданному шаблону\n",
    "# re.sub() -  Выполняет замену совпадений на заданную строку или функцию\n",
    "# re.compile() - Компилирует регулярное выражение для повторного использования\n",
    "# import re\n",
    "# pattern = r\"\\b\\w{3}\\b\"\n",
    "# text = \"Hello, how are you?\"\n",
    "# result = re.findall(pattern, text)\n",
    "# print(result) # ['how', 'are', ‘you’]"
   ],
   "id": "f154bf8cb4d0b547"
  },
  {
   "cell_type": "code",
   "id": "initial_id",
   "metadata": {
    "collapsed": true,
    "ExecuteTime": {
     "end_time": "2025-01-30T10:45:21.337877Z",
     "start_time": "2025-01-30T10:45:21.320189Z"
    }
   },
   "source": [
    "import re\n",
    "\n",
    "text = \"Python — отличный язык!\"\n",
    "pattern = r\"^[A-ZА-Я]\"\n",
    "\n",
    "matched_str = re.match(pattern=pattern, string=text) # Ищет совпадение регулярного выражения только в начале строки\n",
    "\n",
    "print(matched_str.group())"
   ],
   "outputs": [
    {
     "name": "stdout",
     "output_type": "stream",
     "text": [
      "P\n"
     ]
    }
   ],
   "execution_count": 2
  },
  {
   "metadata": {
    "ExecuteTime": {
     "end_time": "2025-01-30T10:45:27.861663Z",
     "start_time": "2025-01-30T10:45:27.844657Z"
    }
   },
   "cell_type": "code",
   "source": [
    "text2 = \"Сегодня на обед у нас будет лапша из 'лапша по-домашнему'!\"\n",
    "pattern2 = r\"лапша\"\n",
    "\n",
    "matched_str2 = re.search(pattern=pattern2, string=text2)\n",
    "\n",
    "print(matched_str2.group())"
   ],
   "id": "3eaeae12c94d82d9",
   "outputs": [
    {
     "name": "stdout",
     "output_type": "stream",
     "text": [
      "лапша\n"
     ]
    }
   ],
   "execution_count": 3
  },
  {
   "metadata": {
    "ExecuteTime": {
     "end_time": "2025-01-30T10:50:58.674319Z",
     "start_time": "2025-01-30T10:50:58.664781Z"
    }
   },
   "cell_type": "code",
   "source": [
    "text3 = \"В этом тексте есть такие хэштеги: #fun #python #coding!\"\n",
    "pattern3 = r\"#\\w+\"\n",
    "\n",
    "matched_str3 = re.findall(pattern=pattern3, string=text3)\n",
    "\n",
    "print(matched_str3)"
   ],
   "id": "6d5782b5b1d79c2a",
   "outputs": [
    {
     "name": "stdout",
     "output_type": "stream",
     "text": [
      "['#fun', '#python', '#coding']\n"
     ]
    }
   ],
   "execution_count": 4
  },
  {
   "metadata": {},
   "cell_type": "code",
   "outputs": [],
   "execution_count": null,
   "source": [
    "# Напишите функцию validate_password(password), которая принимает строку с паролем и проверяет его на соответствие следующим условиям:\n",
    "# Длина пароля должна быть не менее 8 символов\n",
    "# Пароль должен содержать хотя бы одну заглавную букву, одну строчную букву и одну цифру\n",
    "# Пароль может содержать только следующие специальные символы: !@#$%^&*()\n",
    "import re\n",
    "\n",
    "def validate_password(password):\n",
    "    if len(password) >= 8:\n",
    "        if re.search('[A-Za-z0-9]', password):\n",
    "            if re.search('[!@#\\$%\\^&\\*\\(\\)]', password):\n",
    "                return \"Password is valid\"\n",
    "            else:\n",
    "                return \"Password must contain at least one special character\"\n",
    "        else:\n",
    "            return \"Password must contain at least one uppercase letter and one lowercase letter and one number\"\n",
    "    else:\n",
    "        return \"Password must be at least 8 characters long\"\n",
    "    \n",
    "    \n"
   ],
   "id": "1e9dea4c82fa92f4"
  },
  {
   "metadata": {
    "ExecuteTime": {
     "end_time": "2025-01-31T09:18:42.058461Z",
     "start_time": "2025-01-31T09:18:42.041777Z"
    }
   },
   "cell_type": "code",
   "source": [
    "import re\n",
    "phone_numbers = [\n",
    "    \"+71234567890\",\n",
    "    \"1234567890\",\n",
    "    \"+7-123-456-78-90\",\n",
    "    \"+7123456789a\"\n",
    "]\n",
    "\n",
    "\n",
    "pat = re.compile(pattern=r\"\\+7\\d{10}\")\n",
    "\n",
    "# for num in phone_numbers:\n",
    "#     match = re.search(pattern=r\"\\+7\\d{10}\", string=text)\n",
    "\n",
    "\n",
    "for num in phone_numbers:\n",
    "    match = pat.search(num)\n",
    "\n",
    "    if match:\n",
    "        print(f\"Phone number '{num}' is valid\")\n",
    "    else:\n",
    "        print(f\"Phone number '{num}' is invalid\")\n",
    "text = \"Привет, мой друг. Как дела?\"\n",
    "\n",
    "re_patt = r\"[,\\s.\\s]+\"\n",
    "\n",
    "splitted_re = re.split(pattern=re_patt, string=text)\n",
    "\n",
    "print(splitted_re)"
   ],
   "id": "e2a9c566c2d81b15",
   "outputs": [
    {
     "name": "stdout",
     "output_type": "stream",
     "text": [
      "Phone number '+71234567890' is valid\n",
      "Phone number '1234567890' is invalid\n",
      "Phone number '+7-123-456-78-90' is invalid\n",
      "Phone number '+7123456789a' is invalid\n",
      "['Привет', 'мой', 'друг', 'Как', 'дела?']\n"
     ]
    }
   ],
   "execution_count": 2
  },
  {
   "metadata": {
    "ExecuteTime": {
     "end_time": "2025-01-31T09:18:46.760579Z",
     "start_time": "2025-01-31T09:18:46.753847Z"
    }
   },
   "cell_type": "code",
   "source": [
    "import re\n",
    "\n",
    "\n",
    "text = \"I really love love restaurants!\"\n",
    "pattern = r\"\\b(\\w+)\\s+\\1\\b\"\n",
    "\n",
    "\n",
    "clean_text = re.sub(pattern=pattern, repl=r\"\\1\", string=text)\n",
    "\n",
    "\n",
    "print(clean_text)"
   ],
   "id": "ec5ea23dc888b1f",
   "outputs": [
    {
     "name": "stdout",
     "output_type": "stream",
     "text": [
      "I really love restaurants!\n"
     ]
    }
   ],
   "execution_count": 3
  },
  {
   "metadata": {
    "ExecuteTime": {
     "end_time": "2025-01-31T09:18:49.231971Z",
     "start_time": "2025-01-31T09:18:49.223085Z"
    }
   },
   "cell_type": "code",
   "source": [
    "text = \"Привет, мой друг. Как дела?\"\n",
    "\n",
    "re_patt = r\"[,\\s.\\s]+\"\n",
    "\n",
    "splitted_re = re.split(pattern=re_patt, string=text)\n",
    "\n",
    "print(splitted_re)"
   ],
   "id": "c43b867b20007067",
   "outputs": [
    {
     "name": "stdout",
     "output_type": "stream",
     "text": [
      "['Привет', 'мой', 'друг', 'Как', 'дела?']\n"
     ]
    }
   ],
   "execution_count": 4
  },
  {
   "metadata": {},
   "cell_type": "code",
   "outputs": [],
   "execution_count": null,
   "source": [
    "class ValidateData:\n",
    "    \n",
    "    def validate_email(self, email):\n",
    "        pattern = r\"^[a-z_]+\\.?[a-z_0-9]+@[a-z\\.]*\\.[a-z]{2,3}$\"\n",
    "        valid_email = re.search(pattern=pattern, string=email)\n",
    "        if not valid_email:\n",
    "            raise ValueError(\"Invalid email address\")\n",
    "        return email\n",
    "    \n",
    "    "
   ],
   "id": "f720531e29b4516b"
  }
 ],
 "metadata": {
  "kernelspec": {
   "display_name": "Python 3",
   "language": "python",
   "name": "python3"
  },
  "language_info": {
   "codemirror_mode": {
    "name": "ipython",
    "version": 2
   },
   "file_extension": ".py",
   "mimetype": "text/x-python",
   "name": "python",
   "nbconvert_exporter": "python",
   "pygments_lexer": "ipython2",
   "version": "2.7.6"
  }
 },
 "nbformat": 4,
 "nbformat_minor": 5
}
