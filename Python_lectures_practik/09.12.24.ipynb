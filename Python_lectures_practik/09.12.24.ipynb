{
 "cells": [
  {
   "cell_type": "code",
   "execution_count": null,
   "id": "initial_id",
   "metadata": {
    "collapsed": true
   },
   "outputs": [],
   "source": [
    "stats = {}\n",
    "\n",
    "with open(input_file, 'r', encoding='utf-8') as f:\n",
    "    reader = csv.DictReader(f) # -> [{...}, {...}, {...}]\n",
    "    for row in reader:\n",
    "        category = row['merchant_category']\n",
    "        is_fraud = row['is_fraud'].strip().lower() == 'true'\n",
    "\n",
    "        if category not in stats:\n",
    "            stats[category] = {'total': 0, 'fraud': 0}\n",
    "\n",
    "        stats[category]['total'] += 1\n",
    "        if is_fraud:\n",
    "            stats[category]['fraud'] += 1\n",
    "\n",
    "\n",
    "# После обработки всех строк вы можете вывести результат на экран\n",
    "# или сохранить в отдельный CSV.\n",
    "\n",
    "output_file = 'merchant_category_stats.csv'\n",
    "\n",
    "\n",
    "with open(output_file, 'w', newline='', encoding='utf-8') as out_f:\n",
    "    fieldnames = ['merchant_category', 'total_transactions', 'fraud_transactions']\n",
    "    writer = csv.DictWriter(out_f, fieldnames=fieldnames)\n",
    "    writer.writeheader()\n",
    "    for cat, counts in stats.items():\n",
    "        writer.writerow({\n",
    "        'merchant_category': cat,\n",
    "        'total_transactions': counts['total'],\n",
    "        'fraud_transactions': counts['fraud']\n",
    "        })\n",
    "\n",
    "print(\"Статистика успешно сохранена в\", output_file)"
   ]
  },
  {
   "metadata": {},
   "cell_type": "code",
   "outputs": [],
   "execution_count": null,
   "source": [
    "# Инструкция yield позволяет создавать генераторы.\n",
    "# В отличие от объявления return в функции, где возвращается один объект, yield при каждом вызове функции\n",
    "# генерирует новый объект.\n",
    "# Фактически это дает возможность использовать генераторы в циклах.\n",
    "# Самая важная причина применения такой инструкции - экономия памяти, когда не требуется сохранять всю\n",
    "# последовательность, а можно получать ее элементы по одному. \n",
    "\n",
    "# Ученик написал генератор show_letters(some_str), выводящий все символы строки на печать, но только в\n",
    "# том случае, если они являются буквами (остальные игнорируются).\n",
    "# Сократите код функции.\n",
    "\n",
    "def show_letters(some_str):\n",
    "    clean_str = ''.join([letter for letter in some_str if letter.isalpha()])\n",
    "    for symbol in clean_str:\n",
    "        yield symbol\n",
    "        \n",
    "# Конструкция yield from позволяет полностью убрать цикл из функции. Она \"вкладывает\" один генератор\n",
    "# внутрь другого, что дает возможность управления несколькими генераторами.\n",
    "\n",
    "def show_letteres(some_str):\n",
    "    yield from ''.join([letter for letter in some_str if letter.isalpha()])\n",
    "\n",
    "random_str = show_letteres('A!sdf 09 _ w')\n",
    "\n",
    "print(next(random_str))\n",
    "print(next(random_str))"
   ],
   "id": "f878596549a2c423"
  },
  {
   "metadata": {
    "ExecuteTime": {
     "end_time": "2024-12-09T10:03:45.255260Z",
     "start_time": "2024-12-09T10:03:45.226100Z"
    }
   },
   "cell_type": "code",
   "source": [
    "# Создать генератор, который будет делать то же самое что и range с одним аргументом.\n",
    "\n",
    "print(list(range(5)))\n",
    "\n",
    "def gen_range(end: int):\n",
    "    num = 0\n",
    "    while num < end:\n",
    "        yield num\n",
    "        num +=1\n",
    "      \n",
    "\n",
    "gen =  gen_range(6)       \n",
    "print(next(gen))\n",
    "print(next(gen))\n",
    "print(next(gen))\n",
    "print(next(gen))\n",
    "print(next(gen))\n",
    "print(next(gen))\n"
   ],
   "id": "d1309d3ca5f4e677",
   "outputs": [
    {
     "name": "stdout",
     "output_type": "stream",
     "text": [
      "[0, 1, 2, 3, 4]\n",
      "0\n",
      "1\n",
      "2\n",
      "3\n",
      "4\n",
      "5\n"
     ]
    }
   ],
   "execution_count": 3
  },
  {
   "metadata": {
    "ExecuteTime": {
     "end_time": "2024-12-09T10:44:29.481506Z",
     "start_time": "2024-12-09T10:44:29.435751Z"
    }
   },
   "cell_type": "code",
   "source": [
    "# Доработать предыдущий генератор так, чтобы он мог принимать один, два или три аргумента, как и обычный range.\n",
    "\n",
    "def gen_range_1(*arg):\n",
    "    if len(arg) == 1:\n",
    "        end = arg[0]\n",
    "        start = 0\n",
    "        step = 1\n",
    "    elif len(arg) == 2:\n",
    "        start = arg[0]\n",
    "        end = arg[1]\n",
    "        step = 1\n",
    "    elif len(arg) == 3:\n",
    "        start = arg[0]\n",
    "        end = arg[1]\n",
    "        step = arg[2]\n",
    "    else:\n",
    "        raise TypeError(f\"Вы передали {len(arg)} аргументов, ожидается от 1 до 3 параметров\")\n",
    "    if step == 0 or type(step) != int:\n",
    "        raise ValueError(\"Шаг не должен равняться нулю и должен быть целым числом\")\n",
    "    \n",
    "    current = start\n",
    "    if step < 0:\n",
    "        while current > end:\n",
    "            yield current\n",
    "            current += step\n",
    "    else:\n",
    "        while current < end:\n",
    "            yield current\n",
    "            current += step\n",
    "\n",
    "gen_1 = gen_range_1(20, 2, -0.5)\n",
    "print(next(gen_1))\n",
    "print(next(gen_1))\n",
    "print(next(gen_1))\n",
    "print(next(gen_1))\n",
    "print(next(gen_1))\n",
    "print(next(gen_1))"
   ],
   "id": "1218d1d0d0879543",
   "outputs": [
    {
     "ename": "ValueError",
     "evalue": "Шаг не должен равняться нулю и должен быть целым числом",
     "output_type": "error",
     "traceback": [
      "\u001B[1;31m---------------------------------------------------------------------------\u001B[0m",
      "\u001B[1;31mValueError\u001B[0m                                Traceback (most recent call last)",
      "Cell \u001B[1;32mIn[8], line 32\u001B[0m\n\u001B[0;32m     29\u001B[0m             current \u001B[38;5;241m+\u001B[39m\u001B[38;5;241m=\u001B[39m step\n\u001B[0;32m     31\u001B[0m gen_1 \u001B[38;5;241m=\u001B[39m gen_range_1(\u001B[38;5;241m20\u001B[39m, \u001B[38;5;241m2\u001B[39m, \u001B[38;5;241m-\u001B[39m\u001B[38;5;241m0.5\u001B[39m)\n\u001B[1;32m---> 32\u001B[0m \u001B[38;5;28mprint\u001B[39m(\u001B[38;5;28;43mnext\u001B[39;49m\u001B[43m(\u001B[49m\u001B[43mgen_1\u001B[49m\u001B[43m)\u001B[49m)\n\u001B[0;32m     33\u001B[0m \u001B[38;5;28mprint\u001B[39m(\u001B[38;5;28mnext\u001B[39m(gen_1))\n\u001B[0;32m     34\u001B[0m \u001B[38;5;28mprint\u001B[39m(\u001B[38;5;28mnext\u001B[39m(gen_1))\n",
      "Cell \u001B[1;32mIn[8], line 19\u001B[0m, in \u001B[0;36mgen_range_1\u001B[1;34m(*arg)\u001B[0m\n\u001B[0;32m     17\u001B[0m     \u001B[38;5;28;01mraise\u001B[39;00m \u001B[38;5;167;01mTypeError\u001B[39;00m(\u001B[38;5;124mf\u001B[39m\u001B[38;5;124m\"\u001B[39m\u001B[38;5;124mВы передали \u001B[39m\u001B[38;5;132;01m{\u001B[39;00m\u001B[38;5;28mlen\u001B[39m(arg)\u001B[38;5;132;01m}\u001B[39;00m\u001B[38;5;124m аргументов, ожидается от 1 до 3 параметров\u001B[39m\u001B[38;5;124m\"\u001B[39m)\n\u001B[0;32m     18\u001B[0m \u001B[38;5;28;01mif\u001B[39;00m step \u001B[38;5;241m==\u001B[39m \u001B[38;5;241m0\u001B[39m \u001B[38;5;129;01mor\u001B[39;00m \u001B[38;5;28mtype\u001B[39m(step) \u001B[38;5;241m!=\u001B[39m \u001B[38;5;28mint\u001B[39m:\n\u001B[1;32m---> 19\u001B[0m     \u001B[38;5;28;01mraise\u001B[39;00m \u001B[38;5;167;01mValueError\u001B[39;00m(\u001B[38;5;124m\"\u001B[39m\u001B[38;5;124mШаг не должен равняться нулю и должен быть целым числом\u001B[39m\u001B[38;5;124m\"\u001B[39m)\n\u001B[0;32m     21\u001B[0m current \u001B[38;5;241m=\u001B[39m start\n\u001B[0;32m     22\u001B[0m \u001B[38;5;28;01mif\u001B[39;00m step \u001B[38;5;241m<\u001B[39m \u001B[38;5;241m0\u001B[39m:\n",
      "\u001B[1;31mValueError\u001B[0m: Шаг не должен равняться нулю и должен быть целым числом"
     ]
    }
   ],
   "execution_count": 8
  },
  {
   "metadata": {
    "ExecuteTime": {
     "end_time": "2024-12-09T10:54:24.301579Z",
     "start_time": "2024-12-09T10:54:24.295559Z"
    }
   },
   "cell_type": "code",
   "source": "# Пример использования:\n",
   "id": "df89d78124d5e70c",
   "outputs": [],
   "execution_count": 9
  },
  {
   "metadata": {},
   "cell_type": "code",
   "outputs": [],
   "execution_count": null,
   "source": [
    "# Написать функцию validateCustomers(customer), которая принимает на входе список кортежей:\n",
    "# Имя\n",
    "# Фамилия\n",
    "# Дата рождения\n",
    "# Номер банковского счета (iban)\n",
    "# \n",
    "# Функция возвращает мапу, где ключом является строка имя+фамилия, а значением - список сообщений об ошибках, возникших при валидации пользователя по следующим правилам:\n",
    "# Имя и фамилия не должны быть пустыми.\n",
    "# Возраст валиден, если он больше 18 лет. \n",
    "# Iban должен соответствовать стандарту длины (начинаться с кода страны и содержать правильное количество символов)\n",
    "# \n",
    "# Решение должно использовать исключения и итераторы. \n",
    "from _datetime import datetime\n",
    "customers_data = [\n",
    "(\"Иван\", \"Иванов\", \"2005-05-10\", \"DE1234567890123456789012\"), # Молод, будет ошибка возраста\n",
    "(\"\", \"Петров\", \"1990-01-01\", \"DE1234567890123456789012\"), # Пустое имя\n",
    "(\"Сидор\", \"Сидоров\", \"1980-12-12\", \"DE123456789012345\"), # Неправильный IBAN (короткий)\n",
    "(\"Анна\", \"Каренина\", \"1970-07-07\", \"DE1234567890123456789012\") # Всё ок\n",
    "]\n",
    "\n",
    "import string\n",
    "\n",
    "def validate_fullname(name, surname):\n",
    "    if not name.strip():\n",
    "        raise ValueError(\"Пустое поле ИМЯ!\")\n",
    "    elif not surname.strip():\n",
    "        raise ValueError(\"Пустое поле ФАМИЛИЯ!\")\n",
    "        \n",
    "        \n",
    "def validate_age(birthday):\n",
    "    try:\n",
    "        birthday = datetime.strptime(birthday, '%Y-%m-%d')\n",
    "    except ValueError as err:\n",
    "        return \"Неверный формат даты\"\n",
    "    age = datetime.today().year - birthday.year\n",
    "    if (datetime.today().month, datetime.today().day) < (birthday.month, birthday.day):\n",
    "        age -= 1\n",
    "    if age < 18:\n",
    "        raise ValueError(\"Возраст должен быть больше 18 лет\")\n",
    "    \n",
    "    \n",
    "def validate_iban(iban: str):\n",
    "    if not iban.upper().startswith(\"DE\"):\n",
    "        raise ValueError(\"IBAN принадлежит другому региону. IBAN должен начинаться с DE\")\n",
    "    if len(iban) != 22:\n",
    "        raise ValueError(\"IBAN не корректный. Должен быть равен 22 символам\")\n",
    "        \n",
    "             \n",
    "def validateCustomers(customers):\n",
    "    for customer in customers:\n",
    "        validate_fullname(customer[0], customer[1])\n",
    "        validate_age(customer[2])\n",
    "        validate_iban(customer[3])\n",
    "        yield customer\n",
    "    \n",
    "    \n",
    "    \n",
    "    \n",
    "    \n",
    "    \n",
    "    \n",
    "    \n",
    "    \n",
    "    \n",
    "    \n",
    "    \n",
    "    \n",
    "    \n",
    "    \n",
    "    \n",
    "    \n",
    "    "
   ],
   "id": "a0fd52deed5fb370"
  }
 ],
 "metadata": {
  "kernelspec": {
   "display_name": "Python 3",
   "language": "python",
   "name": "python3"
  },
  "language_info": {
   "codemirror_mode": {
    "name": "ipython",
    "version": 2
   },
   "file_extension": ".py",
   "mimetype": "text/x-python",
   "name": "python",
   "nbconvert_exporter": "python",
   "pygments_lexer": "ipython2",
   "version": "2.7.6"
  }
 },
 "nbformat": 4,
 "nbformat_minor": 5
}
