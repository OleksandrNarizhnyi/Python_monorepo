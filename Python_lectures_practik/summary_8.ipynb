{
 "cells": [
  {
   "cell_type": "code",
   "execution_count": null,
   "id": "initial_id",
   "metadata": {
    "collapsed": true
   },
   "outputs": [],
   "source": [
    ""
   ]
  },
  {
   "metadata": {},
   "cell_type": "code",
   "outputs": [],
   "execution_count": null,
   "source": [
    "# Списковые включения\n",
    "# [возвращаемое_значение цикл итерируемый объект]\n",
    "# [возвращаемое_значение условие цикл итерируемый объект]\n",
    "# [возвращаемое_значение цикл итерируемый объект условие]\n",
    "# [возвращаемое_значение условие цикл итерируемый объект условие]\n",
    "# [возвращаемое_значение цикл итерируемый объект возвращаемое_значение цикл итерируемый объект]\n",
    "list_of_values = [1, 2, 3, 4, 5, 6, 7, 8, 9, 10, 11, 12, 13, 14, 15, 16, 17, 18, 19, 20]\n",
    "\n",
    "\n",
    "list_of_values.sort(reverse=True)\n",
    "\n",
    "print(list_of_values)"
   ],
   "id": "9ea3f2c4858bc445"
  },
  {
   "metadata": {},
   "cell_type": "code",
   "outputs": [],
   "execution_count": null,
   "source": [
    "def sort_even_values(item):\n",
    "    if item % 2 == 0:\n",
    "        return True\n",
    "    return False\n",
    "\n",
    "\n",
    "list_of_values.sort(key=sort_even_values, reverse=True)\n",
    "\n",
    "print(list_of_values)"
   ],
   "id": "dfbcd32315dcfd2e"
  },
  {
   "metadata": {
    "ExecuteTime": {
     "end_time": "2024-11-14T12:28:56.988124Z",
     "start_time": "2024-11-14T12:28:56.976496Z"
    }
   },
   "cell_type": "code",
   "source": [
    "teachers = [\n",
    "    [\"name\", \"surname\", \"age\", \"email\", \"phone\", \"discipline\", \"is_head\"],\n",
    "    [\"Alex\", \"Black\", 29, \"a.black@gmail.com\", \"123-456-7890\", \"Math\", False],\n",
    "    [\"John\", \"Doe\", 35, \"j.doe@example.com\", \"123-456-7891\", \"Physics\", True],\n",
    "    [\"Jane\", \"Smith\", 28, \"j.smith@example.com\", \"123-456-7892\", \"Chemistry\", False],\n",
    "    [\"Emily\", \"Johnson\", 40, \"e.johnson@example.com\", \"123-456-7893\", \"Biology\", True],\n",
    "    [\"Michael\", \"Brown\", 33, \"m.brown@example.com\", \"123-456-7894\", \"History\", False],\n",
    "    [\"Sarah\", \"Davis\", 37, \"s.davis@example.com\", \"123-456-7895\", \"Literature\", True],\n",
    "    [\"David\", \"Wilson\", 45, \"d.wilson@example.com\", \"123-456-7896\", \"Geography\", False],\n",
    "    [\"Laura\", \"Martin\", 29, \"l.martin@example.com\", \"123-456-7897\", \"Art\", True],\n",
    "]\n",
    "\n",
    "def filter_teachers(data):\n",
    "    emails = [teacher[3] for teacher in data[1:] if teacher[2] > 30 and teacher[-1] == True]\n",
    "    return emails\n",
    "print(filter_teachers(teachers))"
   ],
   "id": "a2e9114bf6ca3ea3",
   "outputs": [
    {
     "name": "stdout",
     "output_type": "stream",
     "text": [
      "['j.doe@example.com', 'e.johnson@example.com', 's.davis@example.com']\n"
     ]
    }
   ],
   "execution_count": 6
  },
  {
   "metadata": {},
   "cell_type": "code",
   "outputs": [],
   "execution_count": null,
   "source": [
    "def filter_teacher(data):\n",
    "    email_exit = []\n",
    "    for i in data[1:]:\n",
    "        if i[2] > 30 and i[-1] :\n",
    "            email_exit.append(i[3])\n",
    "    return email_exit \n",
    "print(filter_teacher(teachers))"
   ],
   "id": "6fd62e0a8b27a24a"
  },
  {
   "metadata": {},
   "cell_type": "code",
   "outputs": [],
   "execution_count": null,
   "source": [
    "data = [\n",
    "    ['PassengerId', 'Survived', 'Pclass', 'Name', 'Sex', 'Age', 'SibSp', 'Parch', 'Ticket', 'Fare', 'Cabin', 'Embarked'],\n",
    "    ['1', '0', '3', 'Braund, Mr. Owen Harris', 'male', '22', '1', '0', 'A/5 21171', '7.25', '', 'S'],\n",
    "    ['2', '1', '1', 'Cumings, Mrs. John Bradley (Florence Briggs Thayer)', 'female', '38', '1', '0', 'PC 17599', '71.2833', 'C85', 'C'],\n",
    "    ['3', '1', '3', 'Heikkinen, Miss. Laina', 'female', '26', '0', '0', 'STON/O2. 3101282', '7.925', '', 'S'],\n",
    "    ['4', '1', '1', 'Futrelle, Mrs. Jacques Heath (Lily May Peel)', 'female', '35', '1', '0', '113803', '53.1', 'C123', 'S'],\n",
    "    ['5', '0', '3', 'Allen, Mr. William Henry', 'male', '35', '0', '0', '373450', '8.05', '', 'S'],\n",
    "    ['6', '0', '3', 'Moran, Mr. James', 'male', '', '0', '0', '330877', '8.4583', '', 'Q'],\n",
    "    ['7', '0', '1', 'McCarthy, Mr. Timothy J', 'male', '54', '0', '0', '17463', '51.8625', 'E46', 'S'],\n",
    "    ['8', '0', '3', 'Palsson, Master. Gosta Leonard', 'male', '2', '3', '1', '349909', '21.075', '', 'S'],\n",
    "    ['9', '1', '3', 'Johnson, Mrs. Oscar W (Elisabeth Vilhelmina Berg)', 'female', '27', '0', '2', '347742', '11.1333', '', 'S'],\n",
    "    ['10', '1', '2', 'Nasser, Mrs. Nicholas (Adele Achem)', 'female', '14', '1', '0', '237736', '30.0708', '', 'C'],\n",
    "    ['11', '1', '3', 'Sandstrom, Miss. Marguerite Rut', 'female', '4', '1', '1', 'PP 9549', '16.7', 'G6', 'S'],\n",
    "    ['12', '1', '1', 'Bonnell, Miss. Elizabeth', 'female', '58', '0', '0', '113783', '26.55', 'C103', 'S'],\n",
    "    ['13', '0', '3', 'Saundercock, Mr. William Henry', 'male', '20', '0', '0', 'A/5. 2151', '8.05', '', 'S'],\n",
    "    ['14', '0', '3', 'Andersson, Mr. Anders Johan', 'male', '39', '1', '5', '347082', '31.275', '', 'S'],\n",
    "    ['15', '0', '3', 'Vestrom, Miss. Hulda Amanda Adolfina', 'female', '14', '0', '0', '350406', '7.8542', '', 'S'],\n",
    "    ['16', '1', '2', 'Hewlett, Mrs. (Mary D Kingcome) ', 'female', '55', '0', '0', '248706', '16', '', 'S'],\n",
    "    ['17', '0', '3', 'Rice, Master. Eugene', 'male', '2', '4', '1', '382652', '29.125', '', 'Q'],\n",
    "    ['18', '1', '2', 'Williams, Mr. Charles Eugene', 'male', '', '0', '0', '244373', '13', '', 'S'],\n",
    "    ['19', '0', '3', 'Vander Planke, Mrs. Julius (Emelia Maria Vandemoortele)', 'female', '31', '1', '0', '345763', '18', '', 'S'],\n",
    "    ['20', '1', '3', 'Masselmani, Mrs. Fatima', 'female', '', '0', '0', '2649', '7.225', '', 'C'],\n",
    "    ['21', '0', '2', 'Fynney, Mr. Joseph J', 'male', '35', '0', '0', '239865', '26', '', 'S'],\n",
    "    ['22', '1', '2', 'Beesley, Mr. Lawrence', 'male', '34', '0', '0', '248698', '13', 'D56', 'S'],\n",
    "    ['23', '1', '3', 'McGowan, Miss. Anna \"Annie\"', 'female', '15', '0', '0', '330923', '8.0292', '', 'Q'],\n",
    "    ['24', '1', '1', 'Sloper, Mr. William Thompson', 'male', '28', '0', '0', '113788', '35.5', 'A6', 'S'],\n",
    "    ['25', '0', '3', 'Palsson, Miss. Torborg Danira', 'female', '8', '3', '1', '349909', '21.075', '', 'S']\n",
    "]"
   ],
   "id": "9470527c04e6b836"
  },
  {
   "metadata": {
    "ExecuteTime": {
     "end_time": "2024-11-14T12:00:13.359708Z",
     "start_time": "2024-11-14T12:00:13.353395Z"
    }
   },
   "cell_type": "code",
   "source": [
    "# Создание списка квадратов чисел: Через list comprehension создать список с числами, где каждое число\n",
    "# возведено в квадрат\n",
    "num_list = [1, 2, 3, 4, 5, 6, 7, 8, 9]\n",
    "new_nums = [x**2 for x in num_list]\n",
    "print(new_nums)"
   ],
   "id": "80012568bab19a85",
   "outputs": [
    {
     "name": "stdout",
     "output_type": "stream",
     "text": [
      "[1, 4, 9, 16, 25, 36, 49, 64, 81]\n"
     ]
    }
   ],
   "execution_count": 1
  },
  {
   "metadata": {
    "ExecuteTime": {
     "end_time": "2024-11-14T12:08:53.318092Z",
     "start_time": "2024-11-14T12:08:53.287180Z"
    }
   },
   "cell_type": "code",
   "source": [
    "# Вычисление суммы квадратов четных чисел:\n",
    "# Есть список чисел, вычислить сумму его чётных чисел:\n",
    "num_list = [1, 2, 3, 4, 5, 6, 7, 8, 9]\n",
    "new_nums = sum(x**2 for x in num_list if x%2 == 0)\n",
    "print(new_nums)\n"
   ],
   "id": "920d71ff285826aa",
   "outputs": [
    {
     "name": "stdout",
     "output_type": "stream",
     "text": [
      "120\n"
     ]
    }
   ],
   "execution_count": 2
  },
  {
   "metadata": {
    "ExecuteTime": {
     "end_time": "2024-11-14T12:10:11.099971Z",
     "start_time": "2024-11-14T12:10:11.091094Z"
    }
   },
   "cell_type": "code",
   "source": "print(x**2 for x in num_list if x%2 == 0)",
   "id": "8fa1c7197036573c",
   "outputs": [
    {
     "name": "stdout",
     "output_type": "stream",
     "text": [
      "<generator object <genexpr> at 0x000001D65548F780>\n"
     ]
    }
   ],
   "execution_count": 3
  },
  {
   "metadata": {},
   "cell_type": "code",
   "outputs": [],
   "execution_count": null,
   "source": [
    "# [элемент условие для элемента цикл + последовательность условие для всех элементов последовательности]\n",
    "my_data_v2 = [elem ** 3 if elem < 5 else elem ** 4 \\ # элемент условие для элемента\n",
    "for elem in range(1, 11, 2) \\ # цикл + последовательность\n",
    "if elem % 3 == 0 # условие для всех элементов последовательности\n",
    "]\n",
    "\n",
    "print(my_data_v2)"
   ],
   "id": "f41c1fbd6ee9f8c8"
  }
 ],
 "metadata": {
  "kernelspec": {
   "display_name": "Python 3",
   "language": "python",
   "name": "python3"
  },
  "language_info": {
   "codemirror_mode": {
    "name": "ipython",
    "version": 2
   },
   "file_extension": ".py",
   "mimetype": "text/x-python",
   "name": "python",
   "nbconvert_exporter": "python",
   "pygments_lexer": "ipython2",
   "version": "2.7.6"
  }
 },
 "nbformat": 4,
 "nbformat_minor": 5
}
