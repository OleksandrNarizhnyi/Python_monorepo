{
 "cells": [
  {
   "cell_type": "code",
   "execution_count": null,
   "id": "initial_id",
   "metadata": {
    "collapsed": true
   },
   "outputs": [],
   "source": [
    "a = {\n",
    "1: \"One\",\n",
    "1.0: \"ONE ONE\",\n",
    "None: \"NONEEEE\",\n",
    "0: \"ZEROOO\",\n",
    "True: \"NEW VALUE\",\n",
    "False: \"FALLSEEEEE\"\n",
    "}\n",
    "\n",
    "print(a)\n",
    "\n",
    "# 1: \"NEW VALUE\"\n",
    "# None: \"NONEEE\"\n",
    "# 0: \"FALLSEEEEE\""
   ]
  }
 ],
 "metadata": {
  "kernelspec": {
   "display_name": "Python 3",
   "language": "python",
   "name": "python3"
  },
  "language_info": {
   "codemirror_mode": {
    "name": "ipython",
    "version": 2
   },
   "file_extension": ".py",
   "mimetype": "text/x-python",
   "name": "python",
   "nbconvert_exporter": "python",
   "pygments_lexer": "ipython2",
   "version": "2.7.6"
  }
 },
 "nbformat": 4,
 "nbformat_minor": 5
}
