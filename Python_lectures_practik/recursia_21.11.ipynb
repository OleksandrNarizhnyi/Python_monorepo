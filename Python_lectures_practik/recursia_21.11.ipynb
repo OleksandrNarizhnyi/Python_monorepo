{
 "cells": [
  {
   "cell_type": "code",
   "id": "initial_id",
   "metadata": {
    "collapsed": true,
    "ExecuteTime": {
     "end_time": "2024-11-21T08:39:43.270974Z",
     "start_time": "2024-11-21T08:39:43.259091Z"
    }
   },
   "source": [
    "def comp_sum_interativ(n):\n",
    "    sum_ = 1\n",
    "    \n",
    "    for i in range(1,n+1):\n",
    "        sum_ += i\n",
    "        \n",
    "    return sum_\n",
    "\n",
    "print(comp_sum_interativ(10))"
   ],
   "outputs": [
    {
     "name": "stdout",
     "output_type": "stream",
     "text": [
      "56\n"
     ]
    }
   ],
   "execution_count": 2
  },
  {
   "metadata": {
    "ExecuteTime": {
     "end_time": "2024-11-21T08:48:11.644091Z",
     "start_time": "2024-11-21T08:48:11.623446Z"
    }
   },
   "cell_type": "code",
   "source": [
    "def compute_sum(n): # HW_1\n",
    "    if n == 0:\n",
    "        return 1\n",
    "    else:\n",
    "        return n * compute_sum(n - 1) # 5 + 4 + 3 + 2 + 1 + 1\n",
    "\n",
    "\n",
    "print(compute_sum(5))"
   ],
   "id": "fc6c9e17c9f75744",
   "outputs": [
    {
     "name": "stdout",
     "output_type": "stream",
     "text": [
      "120\n"
     ]
    }
   ],
   "execution_count": 4
  },
  {
   "metadata": {},
   "cell_type": "code",
   "outputs": [],
   "execution_count": null,
   "source": [
    "def add_item_to_list(n, in_list=[]):\n",
    "    if n == 0:\n",
    "        return in_list\n",
    "        in_list.append(n)\n",
    "    return add_item_to_list(n - 1, in_list) # хвостовая\n",
    "\n",
    "\n",
    "result = add_item_to_list(3) # [3, 2, 1]\n",
    "print(f\"List_1: {result}\")\n",
    "\n",
    "result_2 = add_item_to_list(2) # [3, 2, 1, 2, 1]\n",
    "print(f\"List_2: {result_2}\")"
   ],
   "id": "3e9d9fd98f660df"
  },
  {
   "metadata": {},
   "cell_type": "code",
   "outputs": [],
   "execution_count": null,
   "source": [
    "def add_item_to_list(n, in_list=None):\n",
    "    if in_list is None:\n",
    "        in_list = []\n",
    "\n",
    "    if n == 0:\n",
    "        return in_list\n",
    "        in_list.append(n)\n",
    "    return add_item_to_list(n - 1, in_list) # хвостовая\n",
    "\n",
    "\n",
    "result = add_item_to_list(3) # [3, 2, 1]\n",
    "print(f\"List_1: {result}\")\n",
    "\n",
    "result_2 = add_item_to_list(2) # [2, 1]\n",
    "print(f\"List_2: {result_2}\")"
   ],
   "id": "d19f7ab4ad0f8e02"
  },
  {
   "metadata": {
    "ExecuteTime": {
     "end_time": "2024-11-21T09:14:54.859231Z",
     "start_time": "2024-11-21T09:14:54.847124Z"
    }
   },
   "cell_type": "code",
   "source": [
    "# 0, 1, 1, 2, 3, 5\n",
    "\n",
    "def fibonacci_recursive(n):\n",
    "    if n <= 1:\n",
    "        return n\n",
    "    else:\n",
    "        return fibonacci_recursive(n - 1) + fibonacci_recursive(n - 2)\n",
    "\n",
    "\n",
    "def fibonacci_iterative(n):\n",
    "    a, b = 0, 1\n",
    "    for _ in range(n):\n",
    "        a, b = b, a + b\n",
    "    return a"
   ],
   "id": "dd2b32018223c9ed",
   "outputs": [],
   "execution_count": 5
  },
  {
   "metadata": {
    "ExecuteTime": {
     "end_time": "2024-11-21T09:14:56.989982Z",
     "start_time": "2024-11-21T09:14:56.790542Z"
    }
   },
   "cell_type": "code",
   "source": [
    "import time\n",
    "\n",
    "\n",
    "target_val = 30\n",
    "\n",
    "start_time = time.process_time()\n",
    "result_1 = fibonacci_recursive(target_val)\n",
    "recursive_time = time.process_time() - start_time\n",
    "\n",
    "\n",
    "start_time = time.process_time()\n",
    "result_2 = fibonacci_iterative(target_val)\n",
    "iterative_time = time.process_time() - start_time\n",
    "\n",
    "print(f\"Время выполнения recursion равно {recursive_time:.6f} секунд\")\n",
    "print(f\"Время выполнения iterative равно {iterative_time:.6f} секунд\")"
   ],
   "id": "8474c4f1d63e8de",
   "outputs": [
    {
     "name": "stdout",
     "output_type": "stream",
     "text": [
      "Время выполнения recursion равно 0.187500 секунд\n",
      "Время выполнения iterative равно 0.000000 секунд\n"
     ]
    }
   ],
   "execution_count": 6
  },
  {
   "metadata": {},
   "cell_type": "code",
   "outputs": [],
   "execution_count": null,
   "source": [
    "test_list = [1, [2, [3, 4], 5], 6]\n",
    "def deep_copy(obj):\n",
    "    new_list = []\n",
    "\n",
    "    for item in obj:\n",
    "        if type(item) == list:\n",
    "            new_list.append(deep_copy(item))\n",
    "        else:\n",
    "            new_list.append(item)\n",
    "\n",
    "    return new_list\n",
    "\n",
    "\n",
    "new_list_2 = deep_copy(test_list)\n",
    "\n",
    "new_list_2[1][0] = \"WWW\"\n",
    "print(new_list_2)\n",
    "\n",
    "print(test_list)"
   ],
   "id": "7edebd72804e5ae1"
  },
  {
   "metadata": {
    "ExecuteTime": {
     "end_time": "2024-11-22T09:04:43.562680Z",
     "start_time": "2024-11-22T09:04:43.547734Z"
    }
   },
   "cell_type": "code",
   "source": [
    "def calculate_sum_of_n(n, acc=0):\n",
    "    if n == 0: # базовый случай\n",
    "        return acc\n",
    "    else: # рекурсивный случай\n",
    "        return calculate_sum_of_n(n - 1, acc + n) # 5 + 4 + 3 + 2 + 1\n",
    "\n",
    "print(calculate_sum_of_n(5))"
   ],
   "id": "2431b95d6fffb500",
   "outputs": [
    {
     "name": "stdout",
     "output_type": "stream",
     "text": [
      "15\n"
     ]
    }
   ],
   "execution_count": 7
  }
 ],
 "metadata": {
  "kernelspec": {
   "display_name": "Python 3",
   "language": "python",
   "name": "python3"
  },
  "language_info": {
   "codemirror_mode": {
    "name": "ipython",
    "version": 2
   },
   "file_extension": ".py",
   "mimetype": "text/x-python",
   "name": "python",
   "nbconvert_exporter": "python",
   "pygments_lexer": "ipython2",
   "version": "2.7.6"
  }
 },
 "nbformat": 4,
 "nbformat_minor": 5
}
