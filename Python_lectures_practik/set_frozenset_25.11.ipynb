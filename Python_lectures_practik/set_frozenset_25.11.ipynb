{
 "cells": [
  {
   "cell_type": "code",
   "id": "initial_id",
   "metadata": {
    "collapsed": true,
    "ExecuteTime": {
     "end_time": "2024-11-25T10:02:29.227626Z",
     "start_time": "2024-11-25T10:02:29.216617Z"
    }
   },
   "source": [
    "# Дан массив. test_array = [1, -4, 2, -4, 3, -2, 4, -3, 5, -1]\n",
    "# Дать ответ на вопрос есть ли в нём два элемента с суммой ноль. \n",
    "# Решить с двумя вложенными циклами\n",
    "# Решить с помощью множеств\n",
    "\n",
    "test_array = [1, -4, 2, -4, 3, -2, 4, -3, 5, -1]\n",
    "for element in test_array:\n",
    "    for i in test_array:\n",
    "        if i + element == 0:\n",
    "            print((element, i), True)\n",
    "            \n"
   ],
   "outputs": [
    {
     "name": "stdout",
     "output_type": "stream",
     "text": [
      "(1, -1) True\n",
      "(-4, 4) True\n",
      "(2, -2) True\n",
      "(-4, 4) True\n",
      "(3, -3) True\n",
      "(-2, 2) True\n",
      "(4, -4) True\n",
      "(4, -4) True\n",
      "(-3, 3) True\n",
      "(-1, 1) True\n"
     ]
    }
   ],
   "execution_count": 1
  },
  {
   "metadata": {
    "ExecuteTime": {
     "end_time": "2024-11-25T10:18:40.192021Z",
     "start_time": "2024-11-25T10:18:40.179527Z"
    }
   },
   "cell_type": "code",
   "source": [
    "test_array = [1, -4, 2, -4, 3, -2, 4, -3, 5, -1]\n",
    "seen_numbers = set()\n",
    "value_pairs = set()\n",
    "for number in test_array:\n",
    "    if -number not in seen_numbers:\n",
    "        value_pairs.add((number, -number))\n",
    "    seen_numbers.add(number)\n",
    "if not value_pairs:\n",
    "        print(\"NO matches\")\n",
    "else:\n",
    "        print(\"Pairs with sum of 0 :\", value_pairs, sep='\\n')"
   ],
   "id": "45e1b64e2d839242",
   "outputs": [
    {
     "name": "stdout",
     "output_type": "stream",
     "text": [
      "Pairs with sum of 0 :\n",
      "{(-4, 4), (2, -2), (5, -5), (3, -3), (1, -1)}\n"
     ]
    }
   ],
   "execution_count": 2
  },
  {
   "metadata": {
    "ExecuteTime": {
     "end_time": "2024-11-25T10:34:15.128174Z",
     "start_time": "2024-11-25T10:34:15.110426Z"
    }
   },
   "cell_type": "code",
   "source": [
    "# Задача 1: Проверка прав доступа пользователя\n",
    "# \n",
    "# В системе управления доступом каждому пользователю назначается набор\n",
    "# разрешений. Некоторые операции требуют наличия определенных разрешений.\n",
    "# Нужно написать функцию has_required_permissions(user_perms, required_perms),\n",
    "# которая проверяет, имеет ли пользователь все необходимые разрешения для\n",
    "# выполнения операции. Реализовать функцию get_greeting(), которая наоснове\n",
    "# предыдущей функции будет либо выполнять выдачу приветствия, либо сообщение \n",
    "# о том что нет прав доступа.\n",
    "user_permissions = {'read', 'write', 'delete'}\n",
    "required_permissions = {'read', 'write'}\n",
    "\n",
    "\n",
    "def has_required_permissions(user_perms, required_perms):\n",
    "    return required_perms.issubset(user_perms)\n",
    "\n",
    "\n",
    "def get_greeting(perms_1, perms_2):\n",
    "    if has_required_permissions(perms_1, perms_2):\n",
    "        import cowsay\n",
    "\n",
    "        return cowsay.beavis(\"E_HE_HE! HELLO!!!\")\n",
    "    else:\n",
    "        return \"PERMISSION DENIED\"\n",
    "\n",
    "\n",
    "get_greeting(user_permissions, required_permissions)"
   ],
   "id": "52f1cbfab25badc9",
   "outputs": [
    {
     "name": "stdout",
     "output_type": "stream",
     "text": [
      "  _________________\n",
      "| E_HE_HE! HELLO!!! |\n",
      "  =================\n",
      "                      \\\n",
      "                       \\\n",
      "                        \\\n",
      "                              _------~~-,\n",
      "                           ,'            ,\n",
      "                           /               \\\\\n",
      "                          /                :\n",
      "                         |                  '\n",
      "                         |                  |\n",
      "                         |                  |\n",
      "                          |   _--           |\n",
      "                          _| =-.     .-.   ||\n",
      "                          o|/o/       _.   |\n",
      "                          /  ~          \\\\ |\n",
      "                        (____\\@)  ___~    |\n",
      "                           |_===~~~.`    |\n",
      "                        _______.--~     |\n",
      "                        \\\\________       |\n",
      "                                 \\\\      |\n",
      "                               __/-___-- -__\n",
      "                              /            _ \\\\\n"
     ]
    }
   ],
   "execution_count": 6
  },
  {
   "metadata": {
    "ExecuteTime": {
     "end_time": "2024-11-25T10:50:31.333301Z",
     "start_time": "2024-11-25T10:50:31.325097Z"
    }
   },
   "cell_type": "code",
   "source": [
    "# Есть массив с музыкальными предпочтениями разных пользователей. Необходимо\n",
    "# реализовать функцию, которая принимая этот массив возвращала бы \n",
    "# множество с теми жанрами, которые общие для всех пользователей.\n",
    "friends_preferences = [\n",
    "('pop', 'rock', 'r&b', 'classic', 'rok-n-roll', 'rap'),\n",
    "('rap', 'k-pop', 'classic', 'r&b', 'punk'),\n",
    "('metal', 'r&b', 'metalcore', 'classic', 'post hard core', 'rap'),\n",
    "('melodic metal', 'classic', 'death metal', 'power metal', 'r&b', 'metalcore', 'rap'),\n",
    "]\n",
    "def find_common_genres(friends_preferences):\n",
    "    genres = [set(elem) for elem in friends_preferences]\n",
    "    common_genres = set.intersection(*genres)\n",
    "    return common_genres\n",
    "\n",
    "print(find_common_genres(friends_preferences))\n",
    "        \n",
    "    \n",
    "        "
   ],
   "id": "d1a7c8eff9611774",
   "outputs": [
    {
     "name": "stdout",
     "output_type": "stream",
     "text": [
      "{'rap', 'r&b', 'classic'}\n"
     ]
    }
   ],
   "execution_count": 7
  },
  {
   "metadata": {},
   "cell_type": "code",
   "outputs": [],
   "execution_count": null,
   "source": [
    "friends_preferences = [\n",
    "('pop', 'rock', 'r&b', 'classic', 'rok-n-roll', 'rap'),\n",
    "('rap', 'k-pop', 'classic', 'r&b', 'punk'),\n",
    "('metal', 'r&b', 'metalcore', 'classic', 'post hard core', 'rap'),\n",
    "('melodic metal', 'classic', 'death metal', 'power metal', 'r&b', 'metalcore', 'rap'),\n",
    "]\n",
    "def get_common_genres(preferences):\n",
    "  return set.intersection(*map(set, preferences))\n",
    "\n",
    "print(get_common_genres(friends_preferences))"
   ],
   "id": "c454730d5391905e"
  },
  {
   "metadata": {
    "ExecuteTime": {
     "end_time": "2024-11-25T11:11:23.579270Z",
     "start_time": "2024-11-25T11:11:23.567125Z"
    }
   },
   "cell_type": "code",
   "source": [
    "# В системе контроля доступа проверьте, пересекаются ли запрещенные\n",
    "# разрешения пользователя с теми, что у него есть\n",
    "denied_permissions = {'delete', 'modify'}\n",
    "required_permissions = {'read', 'modifyj'}\n",
    "\n",
    "def user_perm(perm_1: set, perm_2: set):\n",
    "    return perm_1.isdisjoint(perm_2)\n",
    "if user_perm(denied_permissions, required_permissions):\n",
    "    print(\"Permission granted\")\n",
    "else:\n",
    "    print(\"Permission denied\")"
   ],
   "id": "2eb5dabb20657c91",
   "outputs": [
    {
     "name": "stdout",
     "output_type": "stream",
     "text": [
      "Permission granted\n"
     ]
    }
   ],
   "execution_count": 9
  }
 ],
 "metadata": {
  "kernelspec": {
   "display_name": "Python 3",
   "language": "python",
   "name": "python3"
  },
  "language_info": {
   "codemirror_mode": {
    "name": "ipython",
    "version": 2
   },
   "file_extension": ".py",
   "mimetype": "text/x-python",
   "name": "python",
   "nbconvert_exporter": "python",
   "pygments_lexer": "ipython2",
   "version": "2.7.6"
  }
 },
 "nbformat": 4,
 "nbformat_minor": 5
}
