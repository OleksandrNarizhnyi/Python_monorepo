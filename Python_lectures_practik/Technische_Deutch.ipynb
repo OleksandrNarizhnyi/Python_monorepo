{
 "cells": [
  {
   "cell_type": "code",
   "id": "initial_id",
   "metadata": {
    "collapsed": true,
    "ExecuteTime": {
     "end_time": "2025-01-08T14:12:49.039667Z",
     "start_time": "2025-01-08T14:12:49.025649Z"
    }
   },
   "source": [
    "from collections import Counter\n",
    "text = \"Es war ein mal...\"\n",
    "print(Counter(text))\n",
    "text1 = Counter(text)\n",
    "print(text1.most_common(3))"
   ],
   "outputs": [
    {
     "name": "stdout",
     "output_type": "stream",
     "text": [
      "Counter({' ': 3, '.': 3, 'a': 2, 'E': 1, 's': 1, 'w': 1, 'r': 1, 'e': 1, 'i': 1, 'n': 1, 'm': 1, 'l': 1})\n",
      "[(' ', 3), ('.', 3), ('a', 2)]\n"
     ]
    }
   ],
   "execution_count": 2
  },
  {
   "metadata": {
    "ExecuteTime": {
     "end_time": "2025-01-08T14:18:57.655895Z",
     "start_time": "2025-01-08T14:18:57.635696Z"
    }
   },
   "cell_type": "code",
   "source": [
    "def most_comon_characters(text):\n",
    "    from collections import Counter\n",
    "    counter = Counter(text)\n",
    "    return counter.most_common(3)\n",
    "\n",
    "text3 = \"ndfidflkb'dalbgj;igjbjg\"\n",
    "most_comon_characters(text3)"
   ],
   "id": "fab9fec7c22d1620",
   "outputs": [
    {
     "data": {
      "text/plain": [
       "[('d', 3), ('b', 3), ('g', 3)]"
      ]
     },
     "execution_count": 3,
     "metadata": {},
     "output_type": "execute_result"
    }
   ],
   "execution_count": 3
  },
  {
   "metadata": {
    "ExecuteTime": {
     "end_time": "2025-01-08T14:36:39.574356Z",
     "start_time": "2025-01-08T14:36:39.561521Z"
    }
   },
   "cell_type": "code",
   "source": [
    "# Verwenden Sie collections.deque, um eine Warteschlange mit fester Länge zu erstellen. \n",
    "# Schreiben Sie eine Funktion fixed_queue, die eine Liste von Zahlen und \n",
    "# die maximale Länge der Warteschlange annimmt, die Elemente der Liste zur Warteschlange hinzufügt \n",
    "# und den endgültigen Zustand der Warteschlange zurückgibt.\n",
    "from collections import deque\n",
    "def fixed_queue(my_liste, max_lange):\n",
    "    numers_list = deque(maxlen=max_lange)\n",
    "    \n",
    "    for item in my_liste:\n",
    "        numers_list.append(item)\n",
    "    return numers_list\n",
    "\n",
    "test_list = [1, 2, 3, 4, 5, 6, 7, 8, 9]\n",
    "my_max_lan = 5\n",
    "result = fixed_queue(test_list, my_max_lan)\n",
    "print(result)"
   ],
   "id": "81c62615ee4b1865",
   "outputs": [
    {
     "name": "stdout",
     "output_type": "stream",
     "text": [
      "deque([5, 6, 7, 8, 9], maxlen=5)\n"
     ]
    }
   ],
   "execution_count": 6
  },
  {
   "metadata": {
    "ExecuteTime": {
     "end_time": "2025-01-08T14:52:18.532167Z",
     "start_time": "2025-01-08T14:52:18.523279Z"
    }
   },
   "cell_type": "code",
   "source": [
    "# Verwenden Sie collections.defaultdict, um ein Wörterbuch zu erstellen, bei dem jeder Schlüssel mehrere Werte haben kann\n",
    "# (zum Beispiel eine Liste). \n",
    "# Schreiben Sie eine Funktion group_by_first_letter, die eine Liste von Wörtern annimmt und\n",
    "# sie nach dem ersten Buchstaben gruppiert, wobei defaultdict verwendet wird.\n",
    "\n",
    "from collections import defaultdict\n",
    "\n",
    "def group_by_first_letter(data: list) -> dict:\n",
    "    worterbuc = defaultdict(list)\n",
    "    \n",
    "    for item in data:\n",
    "        worterbuc[item[0]].append(item)\n",
    "        \n",
    "    return worterbuc\n",
    "\n",
    "my_list = [\"hello\", \"world\", \"its\", \"me\"]\n",
    "\n",
    "res = group_by_first_letter(my_list)\n",
    "print(res)\n"
   ],
   "id": "f814c25471477e1",
   "outputs": [
    {
     "name": "stdout",
     "output_type": "stream",
     "text": [
      "defaultdict(<class 'list'>, {'h': ['hello'], 'w': ['world'], 'i': ['its'], 'm': ['me']})\n"
     ]
    }
   ],
   "execution_count": 8
  },
  {
   "metadata": {
    "ExecuteTime": {
     "end_time": "2025-01-08T15:17:29.969913Z",
     "start_time": "2025-01-08T15:17:29.952446Z"
    }
   },
   "cell_type": "code",
   "source": [
    "# Erstellen Sie ein benanntes Tupel Point mit den Feldern x, y und z. \n",
    "# Schreiben Sie eine Funktion calculate_distance, die zwei Point-Objekte annimmt \n",
    "# und den Abstand zwischen ihnen im dreidimensionalen Raum berechnet\n",
    "# abstand = sqrt((x2-x1)**2 + (y2-y1)**2 + (z2-z1)**2)\n",
    "from collections import namedtuple\n",
    "import math\n",
    "\n",
    "point = namedtuple('Point', ['x', 'y', 'z'])\n",
    "def calculate_distance(punkt1, punkt2):\n",
    "    return math.sqrt((punkt2.x-punkt1.x)**2 + (punkt2.y-punkt1.y)**2 + (punkt2.z-punkt1.z)**2)\n",
    "p1 = point(12, 14, 7)   \n",
    "p2 = point(14, 24, 17)\n",
    "distance = calculate_distance(p1, p2)\n",
    "print(f\"Der Abstand zwischen {p1} und {p2} ist {distance}\")"
   ],
   "id": "3ba93c602048c413",
   "outputs": [
    {
     "name": "stdout",
     "output_type": "stream",
     "text": [
      "Der Abstand zwischen Point(x=12, y=14, z=7) und Point(x=14, y=24, z=17) ist 14.2828568570857\n"
     ]
    }
   ],
   "execution_count": 13
  },
  {
   "metadata": {
    "ExecuteTime": {
     "end_time": "2025-01-08T15:24:32.042175Z",
     "start_time": "2025-01-08T15:24:32.028161Z"
    }
   },
   "cell_type": "code",
   "source": [
    "# Schreiben Sie eine Funktion safe_divide, die zwei Zahlen annimmt und das Ergebnis ihrer Division zurückgibt. \n",
    "# Wenn die Division nicht möglich ist (Division durch Null), soll die Funktion die Meldung \"Cannot divide by zero\" zurückgeben,\n",
    "# ohne die Ausführung des Programms zu unterbrechen.\n",
    "\n",
    "def safe_divide(num1, num2):\n",
    "    try:\n",
    "        num1 = int(num1)\n",
    "        num2 = int(num2)\n",
    "        return num1 / num2\n",
    "    except ZeroDivisionError as err:\n",
    "        return f\"Division durch Null verboten {err}\"\n",
    "    except TypeError as err:\n",
    "        return f\"Type Error {err}\"\n",
    "    e\n",
    "print(safe_divide(10, 0))"
   ],
   "id": "5f13fb67fca6b547",
   "outputs": [
    {
     "name": "stdout",
     "output_type": "stream",
     "text": [
      "Division durch Null verboten division by zero\n"
     ]
    }
   ],
   "execution_count": 15
  }
 ],
 "metadata": {
  "kernelspec": {
   "display_name": "Python 3",
   "language": "python",
   "name": "python3"
  },
  "language_info": {
   "codemirror_mode": {
    "name": "ipython",
    "version": 2
   },
   "file_extension": ".py",
   "mimetype": "text/x-python",
   "name": "python",
   "nbconvert_exporter": "python",
   "pygments_lexer": "ipython2",
   "version": "2.7.6"
  }
 },
 "nbformat": 4,
 "nbformat_minor": 5
}
