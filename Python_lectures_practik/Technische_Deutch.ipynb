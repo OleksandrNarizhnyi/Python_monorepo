{
 "cells": [
  {
   "cell_type": "code",
   "id": "initial_id",
   "metadata": {
    "collapsed": true,
    "ExecuteTime": {
     "end_time": "2025-01-08T14:12:49.039667Z",
     "start_time": "2025-01-08T14:12:49.025649Z"
    }
   },
   "source": [
    "from collections import Counter\n",
    "text = \"Es war ein mal...\"\n",
    "print(Counter(text))\n",
    "text1 = Counter(text)\n",
    "print(text1.most_common(3))"
   ],
   "outputs": [
    {
     "name": "stdout",
     "output_type": "stream",
     "text": [
      "Counter({' ': 3, '.': 3, 'a': 2, 'E': 1, 's': 1, 'w': 1, 'r': 1, 'e': 1, 'i': 1, 'n': 1, 'm': 1, 'l': 1})\n",
      "[(' ', 3), ('.', 3), ('a', 2)]\n"
     ]
    }
   ],
   "execution_count": 2
  },
  {
   "metadata": {
    "ExecuteTime": {
     "end_time": "2025-01-08T14:18:57.655895Z",
     "start_time": "2025-01-08T14:18:57.635696Z"
    }
   },
   "cell_type": "code",
   "source": [
    "def most_comon_characters(text):\n",
    "    from collections import Counter\n",
    "    counter = Counter(text)\n",
    "    return counter.most_common(3)\n",
    "\n",
    "text3 = \"ndfidflkb'dalbgj;igjbjg\"\n",
    "most_comon_characters(text3)"
   ],
   "id": "fab9fec7c22d1620",
   "outputs": [
    {
     "data": {
      "text/plain": [
       "[('d', 3), ('b', 3), ('g', 3)]"
      ]
     },
     "execution_count": 3,
     "metadata": {},
     "output_type": "execute_result"
    }
   ],
   "execution_count": 3
  },
  {
   "metadata": {
    "ExecuteTime": {
     "end_time": "2025-01-08T14:36:39.574356Z",
     "start_time": "2025-01-08T14:36:39.561521Z"
    }
   },
   "cell_type": "code",
   "source": [
    "# Verwenden Sie collections.deque, um eine Warteschlange mit fester Länge zu erstellen. \n",
    "# Schreiben Sie eine Funktion fixed_queue, die eine Liste von Zahlen und \n",
    "# die maximale Länge der Warteschlange annimmt, die Elemente der Liste zur Warteschlange hinzufügt \n",
    "# und den endgültigen Zustand der Warteschlange zurückgibt.\n",
    "from collections import deque\n",
    "def fixed_queue(my_liste, max_lange):\n",
    "    numers_list = deque(maxlen=max_lange)\n",
    "    \n",
    "    for item in my_liste:\n",
    "        numers_list.append(item)\n",
    "    return numers_list\n",
    "\n",
    "test_list = [1, 2, 3, 4, 5, 6, 7, 8, 9]\n",
    "my_max_lan = 5\n",
    "result = fixed_queue(test_list, my_max_lan)\n",
    "print(result)"
   ],
   "id": "81c62615ee4b1865",
   "outputs": [
    {
     "name": "stdout",
     "output_type": "stream",
     "text": [
      "deque([5, 6, 7, 8, 9], maxlen=5)\n"
     ]
    }
   ],
   "execution_count": 6
  },
  {
   "metadata": {
    "ExecuteTime": {
     "end_time": "2025-01-08T14:52:18.532167Z",
     "start_time": "2025-01-08T14:52:18.523279Z"
    }
   },
   "cell_type": "code",
   "source": [
    "# Verwenden Sie collections.defaultdict, um ein Wörterbuch zu erstellen, bei dem jeder Schlüssel mehrere Werte haben kann\n",
    "# (zum Beispiel eine Liste). \n",
    "# Schreiben Sie eine Funktion group_by_first_letter, die eine Liste von Wörtern annimmt und\n",
    "# sie nach dem ersten Buchstaben gruppiert, wobei defaultdict verwendet wird.\n",
    "\n",
    "from collections import defaultdict\n",
    "\n",
    "def group_by_first_letter(data: list) -> dict:\n",
    "    worterbuc = defaultdict(list)\n",
    "    \n",
    "    for item in data:\n",
    "        worterbuc[item[0]].append(item)\n",
    "        \n",
    "    return worterbuc\n",
    "\n",
    "my_list = [\"hello\", \"world\", \"its\", \"me\"]\n",
    "\n",
    "res = group_by_first_letter(my_list)\n",
    "print(res)\n"
   ],
   "id": "f814c25471477e1",
   "outputs": [
    {
     "name": "stdout",
     "output_type": "stream",
     "text": [
      "defaultdict(<class 'list'>, {'h': ['hello'], 'w': ['world'], 'i': ['its'], 'm': ['me']})\n"
     ]
    }
   ],
   "execution_count": 8
  },
  {
   "metadata": {
    "ExecuteTime": {
     "end_time": "2025-01-08T15:17:29.969913Z",
     "start_time": "2025-01-08T15:17:29.952446Z"
    }
   },
   "cell_type": "code",
   "source": [
    "# Erstellen Sie ein benanntes Tupel Point mit den Feldern x, y und z. \n",
    "# Schreiben Sie eine Funktion calculate_distance, die zwei Point-Objekte annimmt \n",
    "# und den Abstand zwischen ihnen im dreidimensionalen Raum berechnet\n",
    "# abstand = sqrt((x2-x1)**2 + (y2-y1)**2 + (z2-z1)**2)\n",
    "from collections import namedtuple\n",
    "import math\n",
    "\n",
    "point = namedtuple('Point', ['x', 'y', 'z'])\n",
    "def calculate_distance(punkt1, punkt2):\n",
    "    return math.sqrt((punkt2.x-punkt1.x)**2 + (punkt2.y-punkt1.y)**2 + (punkt2.z-punkt1.z)**2)\n",
    "p1 = point(12, 14, 7)   \n",
    "p2 = point(14, 24, 17)\n",
    "distance = calculate_distance(p1, p2)\n",
    "print(f\"Der Abstand zwischen {p1} und {p2} ist {distance}\")"
   ],
   "id": "3ba93c602048c413",
   "outputs": [
    {
     "name": "stdout",
     "output_type": "stream",
     "text": [
      "Der Abstand zwischen Point(x=12, y=14, z=7) und Point(x=14, y=24, z=17) ist 14.2828568570857\n"
     ]
    }
   ],
   "execution_count": 13
  },
  {
   "metadata": {
    "ExecuteTime": {
     "end_time": "2025-01-15T14:41:13.666705Z",
     "start_time": "2025-01-15T14:41:13.649233Z"
    }
   },
   "cell_type": "code",
   "source": [
    "# Erstellen Sie eine Klasse Laptop mit den Feldern: Marke und Farbe.\n",
    "# Erstellen Sie 5 Objekte dieser Klasse. Schreiben Sie eine Funktion,\n",
    "# die eine Liste von Laptops und eine Farbe als Eingabe erhält und eine Liste von Laptops dieser Farbe zurückgibt.\n",
    "\n",
    "class Laptop():\n",
    "    def __init__(self, marke, farbe):\n",
    "        self.marke = marke\n",
    "        self.farbe = farbe\n",
    "        \n",
    "    def __repr__(self):\n",
    "        return f\"Laptop(Brand: {self.marke}, Color: {self.farbe})\"    \n",
    "   \n",
    "def farbe_filter(farbe, laptop_list):\n",
    "    filtered_laptop = []\n",
    "    for elem in laptop_list:\n",
    "        if elem.farbe == farbe:\n",
    "            filtered_laptop.append(elem)\n",
    "    return filtered_laptop\n",
    "    # return [laptop for laptop in laptop_list if laptop.farbe == farbe]      \n",
    "laptop1 = Laptop(\"Asus\", \"Grun\")\n",
    "laptop2 = Laptop(\"Dell\", \"Schwarz\")\n",
    "laptop3 = Laptop(\"HP\", \"Rot\")\n",
    "laptop4 = Laptop(\"Asus\", \"Rot\")\n",
    "laptop5 = Laptop(\"Mac\", \"Weiß\")\n",
    "laptop6 = Laptop(\"Dell\", \"Gelb\")\n",
    "\n",
    "laptop_list = [laptop1, laptop2, laptop3, laptop4, laptop5, laptop6]\n",
    "\n",
    "result = farbe_filter(\"Rot\", laptop_list)\n",
    "print(result)"
   ],
   "id": "3956bb4819315274",
   "outputs": [
    {
     "name": "stdout",
     "output_type": "stream",
     "text": [
      "[Laptop(Brand: HP, Color: Rot), Laptop(Brand: Asus, Color: Rot)]\n"
     ]
    }
   ],
   "execution_count": 26
  },
  {
   "metadata": {
    "ExecuteTime": {
     "end_time": "2025-01-15T14:06:18.592983Z",
     "start_time": "2025-01-15T14:06:18.525437Z"
    }
   },
   "cell_type": "code",
   "source": [
    "# Schreiben Sie eine Funktion safe_divide, die zwei Zahlen annimmt und das Ergebnis ihrer Division zurückgibt. \n",
    "# Wenn die Division nicht möglich ist (Division durch Null), soll die Funktion die Meldung \"Cannot divide by zero\" zurückgeben,\n",
    "# ohne die Ausführung des Programms zu unterbrechen.\n",
    "\n",
    "def safe_divide(num1, num2):\n",
    "    try:\n",
    "        num1 = int(num1)\n",
    "        num2 = int(num2)\n",
    "        return num1 / num2\n",
    "    except ZeroDivisionError as err:\n",
    "        return f\"Division durch Null verboten {err}\"\n",
    "    except TypeError as err:\n",
    "        return f\"Type Error {err}\"\n",
    "    e\n",
    "print(safe_divide(10, 0))"
   ],
   "id": "5f13fb67fca6b547",
   "outputs": [
    {
     "name": "stdout",
     "output_type": "stream",
     "text": [
      "Division durch Null verboten division by zero\n"
     ]
    }
   ],
   "execution_count": 16
  },
  {
   "metadata": {
    "ExecuteTime": {
     "end_time": "2025-01-15T14:53:52.381576Z",
     "start_time": "2025-01-15T14:53:52.366863Z"
    }
   },
   "cell_type": "code",
   "source": [
    "# Erstellen Sie eine Klasse Student mit den Feldern: Name und Alter. \n",
    "# Erstellen Sie 5 Objekte dieser Klasse. Schreiben Sie eine Funktion, \n",
    "# die aus einer Liste von Studenten nur diejenigen zurückgibt, die älter als 18 Jahre sind\n",
    "\n",
    "class Student:\n",
    "    def __init__(self, name, age):\n",
    "        self.name = name\n",
    "        self.age = age \n",
    "    def __str__(self):\n",
    "        return f\"Student(Name: {self.name}, Age: {self.age})\"\n",
    "    def __repr__(self):\n",
    "        return f\"Student(Name: {self.name}, Age: {self.age})\"\n",
    "\n",
    "def filt_students(students, age):\n",
    "    return list(filter(lambda student: student.age > age, students))\n",
    "\n",
    "students = [\n",
    "    Student('Jack', 18),\n",
    "    Student('Jany', 20),\n",
    "    Student('Denis', 19),\n",
    "    Student('Anna', 21),\n",
    "    Student('Boris', 17),\n",
    "]\n",
    "print(repr(filt_students(students, 18)))\n",
    "print(filt_students(students, 18))\n",
    "for item in filt_students(students, age):\n",
    "    print(f\"Student({item.name}, {item.age})\")"
   ],
   "id": "6425189ab9eb006f",
   "outputs": [
    {
     "name": "stdout",
     "output_type": "stream",
     "text": [
      "[Student(Name: Jany, Age: 20), Student(Name: Denis, Age: 19), Student(Name: Anna, Age: 21)]\n",
      "[Student(Name: Jany, Age: 20), Student(Name: Denis, Age: 19), Student(Name: Anna, Age: 21)]\n"
     ]
    }
   ],
   "execution_count": 28
  },
  {
   "metadata": {
    "ExecuteTime": {
     "end_time": "2025-01-15T15:09:10.286119Z",
     "start_time": "2025-01-15T15:09:10.241118Z"
    }
   },
   "cell_type": "code",
   "source": [
    "# Erstellen Sie eine Klasse Book mit den Feldern: Titel (Buchtitel), Autor und Jahr (Erscheinungsjahr). \n",
    "# Erstellen Sie 10 Objekte dieser Klasse, die verschiedene Bücher beschreiben. Erstellen Sie eine Liste dieser Objekte.\n",
    "# Schreiben Sie eine Funktion, die eine Liste von Book-Objekten und\n",
    "# einen Autor als Eingabe erhält und eine Liste von Büchern dieses Autors zurückgibt. \n",
    "# Geben Sie diese Liste aus und zeigen Sie dabei den Titel des Buches, das Jahr und den Autor an.\n",
    "class Book:\n",
    "    def __init__(self, title, author, year):\n",
    "        self.title = title\n",
    "        self.author = author\n",
    "        self.year = year\n",
    "    def __str__(self):\n",
    "        return f\"Book(Title: {self.title}, Autor: {self.author}, Year: {self.year})\"\n",
    "\n",
    "book1 = Book(\"To Kill a Mockingbird\", \"Harper Lee\", 1960)\n",
    "book2 = Book(\"1984\", \"George Orwell\", 1949)\n",
    "book3 = Book(\"The Great Gatsby\", \"F. Scott Fitzgerald\", 1925)\n",
    "book4 = Book(\"Pride and Prejudice\", \"Jane Austen\", 1813)\n",
    "book5 = Book(\"Moby Dick\", \"Herman Melville\", 1851)\n",
    "book6 = Book(\"The Catcher in the Rye\", \"J.D. Salinger\", 1951)\n",
    "book7 = Book(\"War and Peace\", \"Leo Tolstoy\", 1869)\n",
    "book8 = Book(\"The Hobbit\", \"J.R.R. Tolkien\", 1937)\n",
    "book9 = Book(\"Crime and Punishment\", \"Fyodor Dostoevsky\", 1866)\n",
    "book10 = Book(\"The Lord of the Rings\", \"J.R.R. Tolkien\", 1954)  \n",
    "books_list = [book1, book2, book3, book4, book5, book6, book7, book8, book9, book10]\n",
    " \n",
    "def book_filter(books_list, author):\n",
    "    return list(filter(lambda book: book.author == author, books_list))\n",
    "\n",
    "for elem in book_filter(books_list, author=\"J.R.R. Tolkien\"):\n",
    "    print(elem.title, elem.author, elem.year)\n",
    "\n",
    "\n",
    "    "
   ],
   "id": "e034fbba6784a636",
   "outputs": [
    {
     "name": "stdout",
     "output_type": "stream",
     "text": [
      "The Hobbit J.R.R. Tolkien 1937\n",
      "The Lord of the Rings J.R.R. Tolkien 1954\n"
     ]
    }
   ],
   "execution_count": 29
  },
  {
   "metadata": {},
   "cell_type": "code",
   "outputs": [],
   "execution_count": null,
   "source": [
    "# Erstellen Sie eine Klasse Animal mit den Feldern: Name und Geburtsdatum. \n",
    "# Erstellen Sie eine Klasse Pet mit den Feldern: Name und Alter in \"Tierjahren\" (wobei 1 Menschenjahr 7 Tierjahren entspricht). \n",
    "# Schreiben Sie eine Funktion, die eine Liste von Animal-Objekten in eine Liste von Pet-Objekten umwandelt, \n",
    "# indem sie das Alter jedes Tieres basierend auf seinem Geburtsdatum berechnet.\n",
    "# Behalten Sie nur die Tiere, die älter als 2 Jahre in \"Tierjahren\" sind.\n",
    "from datetime import date \n",
    "class Animal:\n",
    "    def __init__(self, name, byrthday):\n",
    "        self.name = name\n",
    "        self.byrthday = byrthday\n",
    "    def __str__(self):\n",
    "        return f\"{self.name} is {self.byrthday}\"\n",
    "\n",
    "class Pet:\n",
    "    def __init__(self, name, animal_age):\n",
    "        self.name = name\n",
    "        self.animal_age = animal_age\n",
    "    def __str__(self):\n",
    "        return f\"{self.name} is {self.animal_age}\"\n",
    "    \n",
    "animals = [\n",
    "    Animal(\"Buddy\", date(2020, 5, 15)),\n",
    "    Animal(\"Milo\", date(2022, 1, 10)),\n",
    "    Animal(\"Luna\", date(2019, 3, 25)),\n",
    "    Animal(\"Bella\", date(2023, 6, 30)),\n",
    "    Animal(\"Charlie\", date(2021, 8, 5)),\n",
    "]\n",
    "\n",
    "def convert_animal_in_pet(animals, animal_age):\n",
    "    pet_list = []\n",
    "    today = date.today()\n",
    "    for animal in animals:\n",
    "        if (today.month, today.day) < (animal.byrthday.month, animal.byrthday.day):\n",
    "            age_in_human_years = today.year - animal.birth_date.year - 1\n",
    "        else:\n",
    "            age_in_human_years = today.year - animal.birth_date.year\n",
    "        age_in_pet_years = age_in_human_years * 7\n",
    "        pet_list.append(age_in_pet_years)\n",
    "        if age_in_pet_years > 2:\n",
    "            pet_list.append(Pet(animal.name, age_in_pet_years))\n",
    "    return pet_list\n",
    "\n",
    "\n",
    "        "
   ],
   "id": "5bce12674a5a6c2a"
  },
  {
   "metadata": {
    "ExecuteTime": {
     "end_time": "2025-01-20T13:27:15.286205Z",
     "start_time": "2025-01-20T13:27:15.277655Z"
    }
   },
   "cell_type": "code",
   "source": [
    "# Unsere erste Aufgabe für neue\n",
    "# \n",
    "# Überprüfen Sie, ob die Zeichenkette mindestens einen Großbuchstaben und mindestens eine Ziffer enthält.\n",
    "\n",
    "zeichenkette = \"Passwort123\"\n",
    "def enthält_großbuchstabe_und_ziffer(zeichenkette):\n",
    "    hat_großbuchstabe = any(char.isupper() for char in zeichenkette)\n",
    "    hat_ziffer = any(char.isdigit() for char in zeichenkette)\n",
    "    return hat_großbuchstabe and hat_ziffer\n",
    "print(enthält_großbuchstabe_und_ziffer(zeichenkette))"
   ],
   "id": "956aefcae5dd32c9",
   "outputs": [
    {
     "name": "stdout",
     "output_type": "stream",
     "text": [
      "False\n"
     ]
    }
   ],
   "execution_count": 2
  },
  {
   "metadata": {
    "ExecuteTime": {
     "end_time": "2025-01-20T13:42:59.337575Z",
     "start_time": "2025-01-20T13:42:59.326562Z"
    }
   },
   "cell_type": "code",
   "source": [
    "# Überprüfen Sie, ob die Zeichenkette mit einer Ziffer beginnt und mit dem Symbol 'z' endet.\n",
    "import string\n",
    "def begint_mit_ziffer_und_endet_mit_z(arg: str) -> bool:\n",
    "    begint_mit_ziffer = False\n",
    "    endet_mit_z = False\n",
    "    z_variable = \"Zz\"\n",
    "    if arg[0] in string.digits:\n",
    "        begint_mit_ziffer = True\n",
    "    if arg[-1] in z_variable:\n",
    "        endet_mit_z = True\n",
    "    if begint_mit_ziffer and endet_mit_z:\n",
    "        return \"Die Zeichenkette beginnt mit einer Ziffer und endet mit dem Symbol 'z' .\"\n",
    "    else:\n",
    "        return  \"Die Zeichenkette erfüllt die Bedingung nicht.\"\n",
    "\n",
    "zeichenkette = \"3Passwort123Z\"    \n",
    "print(begint_mit_ziffer_und_endet_mit_z(zeichenkette))   "
   ],
   "id": "2bde74af9378fb2b",
   "outputs": [
    {
     "name": "stdout",
     "output_type": "stream",
     "text": [
      "Die Zeichenkette beginnt mit einer Ziffer  und endet mit dem Symbol 'z' .\n"
     ]
    }
   ],
   "execution_count": 6
  },
  {
   "metadata": {},
   "cell_type": "code",
   "outputs": [],
   "execution_count": null,
   "source": [
    "# Überprüfen Sie, ob die Zeichenkette das Symbol 'x' enthält, gefolgt von 2 oder mehr 'y'-Zeichen\n",
    "\n",
    "zeichenkette = \"abcxxyyyz\"\n",
    "def check_string(s):\n",
    "    for i in range(len(s) - 2): \n",
    "        if s[i] == 'x' and s[i+1:i+3] == 'yy':\n",
    "            return True\n",
    "    return False\n",
    "\n",
    "print(check_string(zeichenkette))   "
   ],
   "id": "3912db5cf9d9483e"
  },
  {
   "metadata": {},
   "cell_type": "code",
   "outputs": [],
   "execution_count": null,
   "source": [
    "# Überprüfen Sie, ob die Zeichenkette das Symbol 'y' enthält, gefolgt von genau 2 'z'-Zeichen\n",
    "def func_any(arg: str, arg2: str) -> bool:\n",
    "    return any(arg[i: i+3].lower() == arg2 and arg[i+3].lower() != 'z' for i in range(len(arg)))"
   ],
   "id": "1b1b4160b69e910d"
  },
  {
   "metadata": {},
   "cell_type": "code",
   "outputs": [],
   "execution_count": null,
   "source": [
    "# Bestimmen Sie, ob die Zeichenkette 3 aufeinanderfolgende Vokale enthält.\n",
    "# vokale = \"aeiouAEIOU\""
   ],
   "id": "4d7ed6f924706405"
  },
  {
   "metadata": {
    "ExecuteTime": {
     "end_time": "2025-01-27T14:05:31.134049Z",
     "start_time": "2025-01-27T14:05:30.883343Z"
    }
   },
   "cell_type": "code",
   "source": [
    "# Erstellen Sie ein Modell Book, das die Felder title (String), author (String) und published_date (Datum) enthält. \n",
    "# Fügen Sie eine Validierung hinzu, damit das Veröffentlichungsdatum nicht in der Zukunft liegt\n",
    "from datetime import date\n",
    "from pydantic import BaseModel, Field, ConfigDict\n",
    "from pydantic.functional_validators import field_validator\n",
    "\n",
    "class Book(BaseModel):\n",
    "    title: str\n",
    "    author: str\n",
    "    published_date: date\n",
    "    # def __init__(self, title: str, author: str, published_date: date):\n",
    "    #     self.title = title\n",
    "    #     self.author = author\n",
    "    #     self.published_date = self.validator_date(published_date)\n",
    "        \n",
    "    @field_validator(\"published_date\")\n",
    "    def validator_date(cls, value: date) -> date:\n",
    "        if value > date.today():\n",
    "            raise ValueError(\"Published date must be in the future.\")\n",
    "        return value\n",
    "        \n",
    "book = Book(\n",
    "    title=\"Python Book\",\n",
    "    author=\"Author\",\n",
    "    published_date=date(2020, 5, 15)\n",
    ") \n"
   ],
   "id": "9c52914a4ac809b9",
   "outputs": [],
   "execution_count": 3
  },
  {
   "metadata": {
    "ExecuteTime": {
     "end_time": "2025-01-27T14:32:13.844928Z",
     "start_time": "2025-01-27T14:32:13.835114Z"
    }
   },
   "cell_type": "code",
   "source": [
    "from pydantic import BaseModel, Field\n",
    "from pydantic.functional_validators import field_validator\n",
    "\n",
    "class EmployeeProfile(BaseModel):\n",
    "    employee_id: str = Field(\n",
    "    description=\"Die eindeutige Mitarbeiter-ID, muss mindestens 5 Zeichen lang sein.\",\n",
    "    min_length=5\n",
    ")\n",
    "    name : str \n",
    "    email : str \n",
    "    \n",
    "    @field_validator(\"employee_id\")\n",
    "    def validator_date(cls, value: str) -> str:\n",
    "        if len(value) < 5:\n",
    "            raise ValueError(\"Email darf nicht weniger als 5 Zeichen lang sein\")\n",
    "        return value\n",
    "\n",
    "ver_1 = EmployeeProfile(\n",
    "    employee_id = \"qewdhgdfshdgf\",\n",
    "    name = \"s\",   \n",
    "    email = \"gsdfs\"\n",
    "         )\n",
    "ver_2 = EmployeeProfile(\n",
    "    employee_id = \"qew@fd\",\n",
    "    name = \"svetla\",   \n",
    "    email = \"gsdfs@lin.com\"\n",
    "         )\n",
    "\n",
    "ver_1.employee_id = \"fhg\"\n",
    "\n",
    "print(ver_1)"
   ],
   "id": "c386aaec692e41d1",
   "outputs": [
    {
     "name": "stdout",
     "output_type": "stream",
     "text": [
      "employee_id='fhg' name='s' email='gsdfs'\n"
     ]
    }
   ],
   "execution_count": 5
  },
  {
   "metadata": {},
   "cell_type": "code",
   "outputs": [],
   "execution_count": null,
   "source": [
    "# Entwickeln Sie ein Modell Order zur Verwaltung von Bestellungen.\n",
    "# Das Modell sollte order_number (String), total_amount (Dezimalzahl) und currency (String) enthalten. \n",
    "# Fügen Sie eine Validierung hinzu, damit total_amount größer als Null ist.\n",
    "\n"
   ],
   "id": "e7628b8f50a88d74"
  },
  {
   "metadata": {
    "ExecuteTime": {
     "end_time": "2025-02-03T13:37:20.348969Z",
     "start_time": "2025-02-03T13:37:20.331974Z"
    }
   },
   "cell_type": "code",
   "source": [
    "# Schreiben Sie ein Programm, das zwei Zahlen vom Benutzer entgegen nimmt und grundlegende mathematische Operationen durchführt:\n",
    "# Addition, Subtraktion, Multiplikation, Division, Ganzzahldivision und Potenzieren. Geben Sie die Ergebnisse im Format \"Operation: Ergebnis\" aus.\n",
    "\n",
    "class Calculator:\n",
    "    def __init__(self, a:float, b:float):\n",
    "        self.a = a\n",
    "        self.b = b\n",
    "        \n",
    "    def add_sub_mult_gd_p(self):\n",
    "        Addition = self.a + self.b\n",
    "        Subtraktion = self.a - self.b\n",
    "        Multiplikation = self.a * self.b\n",
    "        Division = self.a / self.b\n",
    "        Ganzzahldivision = self.a // self.b\n",
    "        Potenzieren = self.a ** self.b\n",
    "\n",
    "        print(f\"Addition: {Addition}, Subtraktion: {Subtraktion}, Multiplikation {Multiplikation}, Division {Division}, Ganzzahldivision {Ganzzahldivision}, Potenzieren {Potenzieren}\")\n",
    " \n",
    "calculator = Calculator(a=2, b=3)\n",
    "calculator.add_sub_mult_gd_p()"
   ],
   "id": "b08bd508bb39fed0",
   "outputs": [
    {
     "name": "stdout",
     "output_type": "stream",
     "text": [
      "Addition: 5, Subtraktion: -1, Multiplikation 6, Division 0.6666666666666666, Ganzzahldivision 0, Potenzieren 8\n"
     ]
    }
   ],
   "execution_count": 1
  },
  {
   "metadata": {},
   "cell_type": "code",
   "outputs": [],
   "execution_count": null,
   "source": [
    "# Erstellen Sie ein Programm, das die Summe und das Produkt der Ziffern einer zweistelligen Zahl berechnet, \n",
    "# die der Benutzer eingegeben hat. Verwenden Sie den Modulo-Operator und die Ganzzahldivision, um die Ziffern zu extrahieren.\n",
    "class Berechnung:\n",
    "    def __init__(self, zwei_z_num:int):\n",
    "        if  9 < zwei_z_num < 100:\n",
    "            self.zwei_z_num = zwei_z_num\n",
    "        else:\n",
    "            raise ValueError(f\"Вы ввели не двухзначное число. ACHTUNG FÄHLER\") \n",
    "            \n",
    "            \n",
    "    def extrahiren(self):\n",
    "        a = self.zwei_z_num // 10\n",
    "        b = self.zwei_z_num % 10\n",
    "        c = a+b\n",
    "        e = a*b\n",
    "        return c, e\n",
    "\n",
    "berechnung = Berechnung(134)\n",
    "print(berechnung.extrahiren())"
   ],
   "id": "498ceb3f5c59ee80"
  },
  {
   "metadata": {
    "ExecuteTime": {
     "end_time": "2025-02-03T14:28:08.106055Z",
     "start_time": "2025-02-03T14:28:08.084044Z"
    }
   },
   "cell_type": "code",
   "source": [
    "#Schreiben Sie ein Programm, das prüft, ob man aus drei vom Benutzer eingegebenen Zahlen a, b und c ein rechtwinkliges Dreieck bilden kann.\n",
    "# Das Programm soll True oder False als Ergebnis ausgeben.\n",
    "\n",
    "def zahl_prüfer(a,b,c):\n",
    "    if a**2 + b**2 == c**2 or b**2 + c**2 == a**2 or a**2 + c**2 == b**2:\n",
    "        print(True)\n",
    "    else:\n",
    "        print(False)\n",
    "        \n",
    "\"\"\"a = int(input(\"Geben Sie a-Seite: \"))\n",
    "b = int(input(\"Geben Sie b-Seite: \"))\n",
    "c = int(input(\"Geben Sie c-Seite: \"))\"\"\"\n",
    "\n",
    "zahl_prüfer(a=5, b=12, c=13)"
   ],
   "id": "96dbb4cee142f26b",
   "outputs": [
    {
     "name": "stdout",
     "output_type": "stream",
     "text": [
      "True\n"
     ]
    }
   ],
   "execution_count": 2
  },
  {
   "metadata": {
    "ExecuteTime": {
     "end_time": "2025-02-03T14:41:59.943086Z",
     "start_time": "2025-02-03T14:41:59.931954Z"
    }
   },
   "cell_type": "code",
   "source": [
    "#Schreiben Sie ein Programm, das eine Bewertung des Benutzers (eine ganze Zahl von 1 bis 5)\n",
    "# entgegen nimmt und den entsprechenden Text ausgibt: \n",
    "# \"Sehr schlecht\" für 1, \"Schlecht\" für 2, \"Befriedigend\" für 3, \"Gut\" für 4, \"Sehr gut\" für 5.\n",
    "#note = {1:\"Sehr schlecht\", 2:\"Schlecht\", 3:\"Befriedigend\", 4:\"Gut\", 5:\"Sehr gut\"}\n",
    "\n",
    "# def prufen_note(note: int):\n",
    "#     if note in range(1, 6):\n",
    "#         dict_note = {1:\"Sehr schlecht\", 2:\"Schlecht\", 3:\"Befriedigend\", 4:\"Gut\", 5:\"Sehr gut\"}\n",
    "#         return dict_note[note]\n",
    "#     else:\n",
    "#         raise KeyError\n",
    "#     \n",
    "# print(prufen_note(5))\n",
    "# print(prufen_note(0))\n",
    "# print(prufen_note(6))\n",
    "\n",
    "def prufen_note(note: int) -> str:\n",
    "    try:\n",
    "        dict_note = {5:\"Sehr schlecht\", 4: \"Schlecht\", 3: \"Befriedigend\", 2: \"Gut\", 1: \"Sehr gut\"}\n",
    "        res = dict_note[note]\n",
    "    except KeyError as err:\n",
    "        return f\"KeyError: Ungültige Eingabe! Bitte eine Zahl zwischen 1 und 5 eingeben.\"\n",
    "    return res\n",
    "\n",
    "\n",
    "\n",
    "print(prufen_note(1))"
   ],
   "id": "c8fc09bef140e8ea",
   "outputs": [
    {
     "name": "stdout",
     "output_type": "stream",
     "text": [
      "Sehr gut\n"
     ]
    }
   ],
   "execution_count": 7
  },
  {
   "metadata": {},
   "cell_type": "code",
   "outputs": [],
   "execution_count": null,
   "source": "",
   "id": "8c712b78c50032d"
  }
 ],
 "metadata": {
  "kernelspec": {
   "display_name": "Python 3",
   "language": "python",
   "name": "python3"
  },
  "language_info": {
   "codemirror_mode": {
    "name": "ipython",
    "version": 2
   },
   "file_extension": ".py",
   "mimetype": "text/x-python",
   "name": "python",
   "nbconvert_exporter": "python",
   "pygments_lexer": "ipython2",
   "version": "2.7.6"
  }
 },
 "nbformat": 4,
 "nbformat_minor": 5
}
