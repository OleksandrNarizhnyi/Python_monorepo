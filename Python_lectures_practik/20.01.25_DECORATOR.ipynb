{
 "cells": [
  {
   "cell_type": "code",
   "execution_count": null,
   "id": "initial_id",
   "metadata": {
    "collapsed": true
   },
   "outputs": [],
   "source": [
    "from curses import wrapper\n",
    "\n",
    "from PyQt5.QtCore.QUrl import kwargs\n",
    "from PyQt5.QtSql import password\n",
    "\n",
    "\n",
    "def decorator(func):\n",
    " def wrapper():\n",
    "    print(\"Сейчас выполним функцию\")\n",
    "    func()\n",
    "    print(\"Функция выполнена\")\n",
    "    return wrapper\n",
    "@decorator\n",
    "def my_function():\n",
    "    a, b=input(\"Введите два слова: \").split()\n",
    "    print(\"Вот они:\",b,a)\n",
    "my_function()"
   ]
  },
  {
   "metadata": {
    "ExecuteTime": {
     "end_time": "2025-01-20T08:24:25.406363Z",
     "start_time": "2025-01-20T08:24:25.397490Z"
    }
   },
   "cell_type": "code",
   "source": [
    "from typing import Callable\n",
    "\n",
    "def make_sandwich(func: Callable) -> Callable:\n",
    "    def wrapper():\n",
    "        print(\"(((((())))))\")\n",
    "        print(\"~~~~~~~~~~~~\")\n",
    "        func()\n",
    "        print(\"$$$$$$$$$$$$\")\n",
    "        print(\"(((((())))))\")\n",
    "\n",
    "    return wrapper\n",
    "\n",
    "\n",
    "def get_pork() -> None:\n",
    "    print(\"####PORK####\")\n",
    "    \n",
    "sandwich = make_sandwich(get_pork)\n",
    "\n",
    "sandwich()"
   ],
   "id": "a8e8c2162ffe8d5",
   "outputs": [
    {
     "name": "stdout",
     "output_type": "stream",
     "text": [
      "(((((())))))\n",
      "~~~~~~~~~~~~\n",
      "####PORK####\n",
      "$$$$$$$$$$$$\n",
      "(((((())))))\n"
     ]
    }
   ],
   "execution_count": 2
  },
  {
   "metadata": {
    "ExecuteTime": {
     "end_time": "2025-01-20T08:24:27.984824Z",
     "start_time": "2025-01-20T08:24:27.973281Z"
    }
   },
   "cell_type": "code",
   "source": [
    "@make_sandwich\n",
    "def get_beef() -> None:\n",
    "    print(\"####BEEF####\")\n",
    "\n",
    "\n",
    "get_beef()"
   ],
   "id": "c20f99e542dc8300",
   "outputs": [
    {
     "name": "stdout",
     "output_type": "stream",
     "text": [
      "(((((())))))\n",
      "~~~~~~~~~~~~\n",
      "####BEEF####\n",
      "$$$$$$$$$$$$\n",
      "(((((())))))\n"
     ]
    }
   ],
   "execution_count": 3
  },
  {
   "metadata": {},
   "cell_type": "code",
   "outputs": [],
   "execution_count": null,
   "source": [
    "# def param_decorator(arg1, arg2):\n",
    "#     def decorator(func):\n",
    "#         def wrapper(*args, **kwargs):\n",
    "#  # Дополнительная логика перед выполнением функции с\n",
    "#  #использованием arg1 и arg2\n",
    "#             result = func(*args, **kwargs)\n",
    "#  # Дополнительная логика после выполнения функции с использованием\n",
    "#             arg1 и arg2\n",
    "#         return result\n",
    "#     return wrapper\n",
    "#  return decorator\n",
    "#  \n",
    "# @param_decorator(arg1, arg2)\n",
    "# def my_function():\n",
    "#  # Тело функции\n",
    "\n",
    "# sintacsis\n",
    "# 1) @<decorator_name> # global variant\n",
    "# 2) <variable> = <decorator_name>(<calable_function>) # local variant <variable>()\n",
    "\n",
    "def param_decorator(ask_name):\n",
    "    def decorator(func):\n",
    "        def wrapper():\n",
    "            if ask_name:\n",
    "                name=input(\"Как вас зовут? \")\n",
    "                result = func()\n",
    "            if ask_name:\n",
    "                print(f\"Ваше имя {name}, ваш возраст - {result}\")\n",
    "            else:\n",
    "                print(f\"Ваш возраст - {result}\")\n",
    "        return wrapper\n",
    "    return decorator\n",
    "\n",
    "@param_decorator(True)\n",
    "def ask_age():\n",
    "    age=input(\"Сколько вам лет? \")\n",
    "    if age.isdigit():\n",
    "        return age\n",
    "    return \"неизвестно\"\n",
    "\n",
    "ask_age()"
   ],
   "id": "78c52606894ee234"
  },
  {
   "metadata": {
    "ExecuteTime": {
     "end_time": "2025-01-20T09:08:27.991892Z",
     "start_time": "2025-01-20T09:08:27.974876Z"
    }
   },
   "cell_type": "code",
   "source": [
    "from typing import Callable\n",
    "def uppercase_decorator(function: Callable) -> Callable:\n",
    "    def wrapper() -> str:\n",
    "        func: str = function()\n",
    "        make_uppercase: str = func.upper()\n",
    "        return make_uppercase\n",
    "\n",
    "    return wrapper\n",
    "\n",
    "# @uppercase_decorator\n",
    "def return_str():\n",
    "    return \"hello\"\n",
    "\n",
    "print(return_str())"
   ],
   "id": "71dd4c4069c16b7d",
   "outputs": [
    {
     "name": "stdout",
     "output_type": "stream",
     "text": [
      "hello\n"
     ]
    }
   ],
   "execution_count": 5
  },
  {
   "metadata": {
    "ExecuteTime": {
     "end_time": "2025-01-20T09:08:33.620294Z",
     "start_time": "2025-01-20T09:08:33.610723Z"
    }
   },
   "cell_type": "code",
   "source": [
    "def test_decorator(func: Callable) -> Callable:\n",
    "    def wrapper(*args, **kwargs) -> str:\n",
    "        result = func(*args, **kwargs)\n",
    "\n",
    "        return result.upper()\n",
    "    return wrapper"
   ],
   "id": "4383ee20f626e87b",
   "outputs": [],
   "execution_count": 6
  },
  {
   "metadata": {
    "ExecuteTime": {
     "end_time": "2025-01-20T09:08:36.822825Z",
     "start_time": "2025-01-20T09:08:36.813396Z"
    }
   },
   "cell_type": "code",
   "source": [
    "def my_function(separator: str) -> str:\n",
    "    a, b = input(\"Enter two words: \").split()\n",
    "\n",
    "    return f\"{a} {separator} {b}\""
   ],
   "id": "68fdf9a728a6156f",
   "outputs": [],
   "execution_count": 7
  },
  {
   "metadata": {
    "ExecuteTime": {
     "end_time": "2025-01-20T09:09:18.024Z",
     "start_time": "2025-01-20T09:09:11.007615Z"
    }
   },
   "cell_type": "code",
   "source": [
    "upper_dec = test_decorator(func=my_function)\n",
    "print(upper_dec(\"*****\"))\n"
   ],
   "id": "dbfa3966d19de295",
   "outputs": [
    {
     "name": "stdout",
     "output_type": "stream",
     "text": [
      "FG ***** HG\n"
     ]
    }
   ],
   "execution_count": 10
  },
  {
   "metadata": {},
   "cell_type": "code",
   "outputs": [],
   "execution_count": null,
   "source": [
    "def param_decorator(arg_1, arg_2, arg_3) -> Callable:\n",
    "    def decorator(func: Callable) -> Callable:\n",
    "        def wrapper(*args, **kwargs) -> int:\n",
    "            ...\n",
    "            return 5\n",
    "        return wrapper\n",
    "    return decorator"
   ],
   "id": "8939a241b9e87d42"
  },
  {
   "metadata": {
    "ExecuteTime": {
     "end_time": "2025-01-20T09:24:02.348514Z",
     "start_time": "2025-01-20T09:24:02.340034Z"
    }
   },
   "cell_type": "code",
   "source": [
    "def param_dec(arg_1, arg_2) -> Callable:\n",
    "    def decorator(func: Callable) -> Callable:\n",
    "        def wrapper(*args, **kwargs) -> list[str]:\n",
    "            result: list[str] = func(*args, **kwargs).split(\", \")\n",
    "            result.extend([arg_1, arg_2])\n",
    "\n",
    "            return result\n",
    "        return wrapper\n",
    "    return decorator"
   ],
   "id": "8f1036741c0608ca",
   "outputs": [],
   "execution_count": 11
  },
  {
   "metadata": {
    "ExecuteTime": {
     "end_time": "2025-01-20T09:24:04.669479Z",
     "start_time": "2025-01-20T09:24:04.662468Z"
    }
   },
   "cell_type": "code",
   "source": [
    "@param_dec(arg_1=\"ARGUMENT 1\", arg_2=\"ARGUMENT 2\")\n",
    "def return_string_with_coma(data: str):\n",
    "    res = data.strip().upper()\n",
    "\n",
    "    return res"
   ],
   "id": "6ee81b63ea883e8b",
   "outputs": [],
   "execution_count": 12
  },
  {
   "metadata": {
    "ExecuteTime": {
     "end_time": "2025-01-20T09:24:10.873161Z",
     "start_time": "2025-01-20T09:24:10.863149Z"
    }
   },
   "cell_type": "code",
   "source": "print(return_string_with_coma(data=\"The, brown, fox, jumps, over, snow\"))",
   "id": "5378b5a121c5d81c",
   "outputs": [
    {
     "name": "stdout",
     "output_type": "stream",
     "text": [
      "['THE', 'BROWN', 'FOX', 'JUMPS', 'OVER', 'SNOW', 'ARGUMENT 1', 'ARGUMENT 2']\n"
     ]
    }
   ],
   "execution_count": 13
  },
  {
   "metadata": {
    "ExecuteTime": {
     "end_time": "2025-01-20T09:57:07.287870Z",
     "start_time": "2025-01-20T09:57:07.275485Z"
    }
   },
   "cell_type": "code",
   "source": [
    "from functools import wraps\n",
    "\n",
    "\n",
    "def my_decorator_no_wraps(func):\n",
    "    @wraps(func)\n",
    "    def wrapper(*args, **kwargs):\n",
    "        \"\"\"Это docstring внутри wrapper'а (без wraps)\"\"\"\n",
    "        print(f\"Вызов функции {func.__name__} (без wraps)\")\n",
    "        result = func(*args, **kwargs)\n",
    "        return result\n",
    "    return wrapper\n",
    "\n",
    "\n",
    "@my_decorator_no_wraps\n",
    "def say_hello_no_wraps(name):\n",
    "    \"\"\"Исходный docstring для say_hello_no_wraps\"\"\"\n",
    "    return f\"Привет, {name}!\"\n",
    "\n",
    "# Проверяем метаданные\n",
    "print(say_hello_no_wraps(\"Алиса\"))\n",
    "print(say_hello_no_wraps.__name__)\n",
    "print(say_hello_no_wraps.__doc__)"
   ],
   "id": "2798545e24ffda89",
   "outputs": [
    {
     "name": "stdout",
     "output_type": "stream",
     "text": [
      "Вызов функции say_hello_no_wraps (без wraps)\n",
      "Привет, Алиса!\n",
      "say_hello_no_wraps\n",
      "Исходный docstring для say_hello_no_wraps\n"
     ]
    }
   ],
   "execution_count": 14
  },
  {
   "metadata": {
    "ExecuteTime": {
     "end_time": "2025-01-20T11:28:45.793435Z",
     "start_time": "2025-01-20T11:28:35.764845Z"
    }
   },
   "cell_type": "code",
   "source": [
    "admin_user = {\n",
    "\"user\": {\n",
    "\"Name\": \"Vladislav\",\n",
    "\"Surname\": \"Black\",\n",
    "\"Age\": 26,\n",
    "\"Phone\": \"45678912654\",\n",
    "\"is_authenticated\": True,\n",
    "\"role\": \"admin\"\n",
    "}\n",
    "}\n",
    "\n",
    "anon_user = {\n",
    "\"user\": {\n",
    "\"Name\": \"Anon\",\n",
    "\"Surname\": \"\",\n",
    "\"Age\": 26,\n",
    "\"Phone\": \"111111111111\",\n",
    "\"is_authenticated\": False,\n",
    "\"role\": \"user\"\n",
    "}\n",
    "}\n",
    "\n",
    "not_admin_or_manager = {\n",
    "\"user\": {\n",
    "\"Name\": \"Julia\",\n",
    "\"Surname\": \"Green\",\n",
    "\"Age\": 24,\n",
    "\"Phone\": \"222222222222\",\n",
    "\"is_authenticated\": True,\n",
    "\"role\": \"user\"\n",
    "}\n",
    "}\n",
    "\n",
    "from typing import Callable\n",
    "import time\n",
    "\n",
    "\n",
    "\n",
    "    \n",
    "def check_roles(roles: list[str]):\n",
    "    def decorator(func: Callable) -> Callable:\n",
    "        def wrapper(*args, **kwargs):\n",
    "            role = args[0].get(\"user\").get(\"role\")\n",
    "            if role not in roles:\n",
    "                return {\n",
    "                    \"status_code\": 403,\n",
    "                    \"response\": \"FORBIDDEN. ACCESS DENIED\"\n",
    "                }\n",
    "            return func(*args, **kwargs)\n",
    "\n",
    "        return wrapper\n",
    "    \n",
    "    return decorator\n",
    "\n",
    "def check_access(func: Callable) -> Callable:\n",
    "    def wrapper(*args, **kwargs):\n",
    "        is_authenticated = args[0].get(\"user\").get(\"is_authenticated\")\n",
    "        if not is_authenticated:\n",
    "            return {\n",
    "                \"status_code\": 401,\n",
    "                \"response\": \"FORBIDDEN. NOT AUTHENTICATED\"\n",
    "            }\n",
    "        return func(*args, **kwargs)\n",
    "\n",
    "    return wrapper\n",
    "\n",
    "def mean_timer_func(n: int = 1) -> Callable:\n",
    "    def decorator(func: Callable) -> Callable:\n",
    "        def wrapper(*args, **kwargs) -> float:\n",
    "            start_time = time.time()\n",
    "            result = None\n",
    "\n",
    "            for i in range(n):\n",
    "                result = func(*args, **kwargs)\n",
    "                print(result)\n",
    "            stop_time = time.time()\n",
    "            total_time = stop_time - start_time\n",
    "\n",
    "            avg_time = total_time / n\n",
    "\n",
    "            print(f\"Функция '{func.__name__}' была вызвана {n} раз.\")\n",
    "            print(f\"Общее время: {total_time:.6f} c\")\n",
    "            print(f\"Среднее время: {avg_time:.6f} c\")\n",
    "\n",
    "            return result\n",
    "        return wrapper\n",
    "    return decorator\n",
    "\n",
    "\n",
    "@check_access                                    # LIFO\n",
    "@check_roles(roles=[\"admin\", \"moderator\"])\n",
    "@mean_timer_func(5)\n",
    "def some_view(request):\n",
    "    time.sleep(2)\n",
    "    user_name = request.get(\"user\").get(\"Name\")\n",
    "    return {\n",
    "        \"status_code\": 200,\n",
    "        \"response\": f\"Hello, {user_name}\"\n",
    "    }\n",
    "\n",
    "some_view(admin_user)\n",
    "\n",
    "            "
   ],
   "id": "ef3c34121c59571",
   "outputs": [
    {
     "name": "stdout",
     "output_type": "stream",
     "text": [
      "{'status_code': 200, 'response': 'Hello, Vladislav'}\n",
      "{'status_code': 200, 'response': 'Hello, Vladislav'}\n",
      "{'status_code': 200, 'response': 'Hello, Vladislav'}\n",
      "{'status_code': 200, 'response': 'Hello, Vladislav'}\n",
      "{'status_code': 200, 'response': 'Hello, Vladislav'}\n",
      "Функция 'some_view' была вызвана 5 раз.\n",
      "Общее время: 10.004761 c\n",
      "Среднее время: 2.000952 c\n"
     ]
    },
    {
     "data": {
      "text/plain": [
       "{'status_code': 200, 'response': 'Hello, Vladislav'}"
      ]
     },
     "execution_count": 26,
     "metadata": {},
     "output_type": "execute_result"
    }
   ],
   "execution_count": 26
  },
  {
   "metadata": {},
   "cell_type": "code",
   "outputs": [],
   "execution_count": null,
   "source": "",
   "id": "5b9d7ac01fdb0042"
  }
 ],
 "metadata": {
  "kernelspec": {
   "display_name": "Python 3",
   "language": "python",
   "name": "python3"
  },
  "language_info": {
   "codemirror_mode": {
    "name": "ipython",
    "version": 2
   },
   "file_extension": ".py",
   "mimetype": "text/x-python",
   "name": "python",
   "nbconvert_exporter": "python",
   "pygments_lexer": "ipython2",
   "version": "2.7.6"
  }
 },
 "nbformat": 4,
 "nbformat_minor": 5
}
