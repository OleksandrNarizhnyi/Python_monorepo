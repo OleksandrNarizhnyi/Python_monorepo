{
 "cells": [
  {
   "cell_type": "code",
   "id": "initial_id",
   "metadata": {
    "collapsed": true,
    "ExecuteTime": {
     "end_time": "2025-01-13T08:51:29.558485Z",
     "start_time": "2025-01-13T08:51:29.543360Z"
    }
   },
   "source": [
    "# Создать класс и определить объекты этого класса: 2 человека - Том и Боб.\n",
    "class Person:\n",
    "    name:str\n",
    "    \n",
    "carl = Person()\n",
    "carl.name = 'Carl'\n",
    "bob = Person()\n",
    "bob.name = 'Bob'\n",
    "\n",
    "print(carl.name)\n",
    "print(bob.name)"
   ],
   "outputs": [
    {
     "name": "stdout",
     "output_type": "stream",
     "text": [
      "Carl\n",
      "Bob\n"
     ]
    }
   ],
   "execution_count": 1
  },
  {
   "metadata": {
    "ExecuteTime": {
     "end_time": "2025-01-13T09:06:50.081808Z",
     "start_time": "2025-01-13T09:06:50.074301Z"
    }
   },
   "cell_type": "code",
   "source": [
    "class TestClass:\n",
    "    static_attr: str = \"Class Field\"\n",
    "    \n",
    "test_object = TestClass()"
   ],
   "id": "92fd3b9296630a1b",
   "outputs": [],
   "execution_count": 4
  },
  {
   "metadata": {
    "ExecuteTime": {
     "end_time": "2025-01-13T09:07:03.889345Z",
     "start_time": "2025-01-13T09:07:03.883588Z"
    }
   },
   "cell_type": "code",
   "source": "test_object.object_field = 'Instance Field'",
   "id": "73b323e843f72eb5",
   "outputs": [],
   "execution_count": 6
  },
  {
   "metadata": {},
   "cell_type": "markdown",
   "source": "",
   "id": "9bce459ea8ea0697"
  },
  {
   "metadata": {
    "ExecuteTime": {
     "end_time": "2025-01-13T09:07:01.613461Z",
     "start_time": "2025-01-13T09:07:01.595336Z"
    }
   },
   "cell_type": "code",
   "source": "test_object.static_attr",
   "id": "18c6a30bee2c6516",
   "outputs": [
    {
     "data": {
      "text/plain": [
       "'Class Field'"
      ]
     },
     "execution_count": 5,
     "metadata": {},
     "output_type": "execute_result"
    }
   ],
   "execution_count": 5
  },
  {
   "metadata": {
    "ExecuteTime": {
     "end_time": "2025-01-13T09:07:27.585606Z",
     "start_time": "2025-01-13T09:07:27.576024Z"
    }
   },
   "cell_type": "code",
   "source": "test_object.object_field",
   "id": "feaa37b3f735a6c1",
   "outputs": [
    {
     "data": {
      "text/plain": [
       "'Instance Field'"
      ]
     },
     "execution_count": 7,
     "metadata": {},
     "output_type": "execute_result"
    }
   ],
   "execution_count": 7
  },
  {
   "metadata": {
    "ExecuteTime": {
     "end_time": "2025-01-13T09:25:47.506411Z",
     "start_time": "2025-01-13T09:25:47.494330Z"
    }
   },
   "cell_type": "code",
   "source": [
    "class Rectangle:\n",
    "    def __init__(self, width: float, high: float):\n",
    "        self.width = width\n",
    "        self.high = high\n",
    "        self.color = 'Red'\n",
    "\n",
    "\n",
    "rect_1 = Rectangle(5.7, 3.2)\n",
    "rect_2 = Rectangle(10.8, 7.4)\n",
    "\n",
    "print(rect_1.width, rect_1.high, rect_1.color)\n",
    "print(rect_2.width, rect_2.high, rect_2.color)"
   ],
   "id": "6870c484190b2f30",
   "outputs": [
    {
     "name": "stdout",
     "output_type": "stream",
     "text": [
      "5.7 3.2 Red\n",
      "10.8 7.4 Red\n"
     ]
    }
   ],
   "execution_count": 8
  },
  {
   "metadata": {
    "ExecuteTime": {
     "end_time": "2025-01-13T09:43:33.574Z",
     "start_time": "2025-01-13T09:43:33.566160Z"
    }
   },
   "cell_type": "code",
   "source": [
    "class Person1:\n",
    "    def __init__(self, name, age, gender):\n",
    "        self.name = name\n",
    "        self._age = age # protected\n",
    "        self.gender = gender\n",
    "\n",
    "    def get_info(self):\n",
    "        return f\"Name: {self.name}, Age: {self._age}, Gender: {self.gender}\"\n",
    "\n",
    "    def greet(self):\n",
    "        print(f\"Привет! Я {self.name}.\")\n",
    "\n",
    "\n",
    "\n",
    "dmitry = Person1('Dmitry', 25, \"male\")\n",
    "\n",
    "print(dmitry.get_info())\n",
    "dmitry.greet()"
   ],
   "id": "85a38a825f0703e5",
   "outputs": [
    {
     "name": "stdout",
     "output_type": "stream",
     "text": [
      "Name: Dmitry, Age: 25, Gender: male\n",
      "Привет! Я Dmitry.\n"
     ]
    }
   ],
   "execution_count": 12
  },
  {
   "metadata": {},
   "cell_type": "code",
   "outputs": [],
   "execution_count": null,
   "source": [
    "class Account:\n",
    "    def __init__(self, name, balance):\n",
    "        self._name = name # Protected attribute\n",
    "        self.__balance = balance # Private attribute\n",
    "\n",
    "    def cache_operation(self, operation: str, amount: float):\n",
    "        return self.__update_balance(operation, amount)\n",
    "\n",
    "    def __update_balance(self, operation, amount): # Private method\n",
    "        match operation.strip().lower():\n",
    "            case \"withdraw\":\n",
    "                if 0 < amount <= self.__balance:\n",
    "                    self.__balance -= amount\n",
    "                else:\n",
    "                    return \"Недостаточно средств на счетe\"\n",
    "            case \"deposit\":\n",
    "                self.__balance += amount\n",
    "            case _:\n",
    "                return \"Операция не распознана.\"\n",
    "        return f\"Баланс обновлен. Новый баланс: {self.__balance}\"\n",
    "\n",
    "\n",
    "my_acc = Account(\"Card\", 1000)\n",
    "\n",
    "print(my_acc.cache_operation(\n",
    "operation=input(\"Enter the operation you needed [withdraw, deposit]: \"),\n",
    "amount=float(input(\"Enter the amount of cash: \"))\n",
    "))\n"
   ],
   "id": "15a0e8b6dd2ce57b"
  },
  {
   "metadata": {
    "ExecuteTime": {
     "end_time": "2025-01-13T10:55:55.644621Z",
     "start_time": "2025-01-13T10:55:55.625256Z"
    }
   },
   "cell_type": "code",
   "source": [
    "# Создать класс Car (машина) со следующими полями: model, year, color. \n",
    "# \n",
    "# Создать 10 объектов этого класса, описывающих модели разных марок, лет и цветов. \n",
    "# \n",
    "# Создать список из этих объектов.\n",
    "# \n",
    "# Написать функцию, которая принимает список объектов класса Car и цвет и возвращает список машин этого цвета. Напечатать этот список, выводя название модели, год и цвет. Использовать filter и lambda функции. \n",
    "class Car:\n",
    "    def __init__(self, model: str, year: int, color:str):\n",
    "        self.model = model\n",
    "        self.year = year\n",
    "        self.color = color\n",
    "        \n",
    "        \n",
    "cars = [\n",
    "    Car('model_1', 1990, 'blue'),\n",
    "    Car('model_2', 1991, 'black'),\n",
    "    Car('model_3', 1992, 'black'),\n",
    "    Car('model_4', 1993, 'blue'),\n",
    "    Car('model_5', 1994, 'white'),\n",
    "    Car('model_6', 1995, 'black'),\n",
    "    Car('model_7', 1996, 'blue'),\n",
    "    Car('model_8', 1997, 'white'),\n",
    "    Car('model_9', 1998, 'black'),\n",
    "    Car('model_10', 1999, 'black')\n",
    "]\n",
    "def get_car_info(data: list, color):\n",
    "    filtered_cars = filter(lambda x: x.color == color, data)\n",
    "    result = [f\"{car.model} - {car.year} - {car.color}\" for car in filtered_cars]\n",
    "    return '\\n'.join(result)\n",
    "\n",
    "print(get_car_info(cars, 'black'))"
   ],
   "id": "2ffccb7764ab0d11",
   "outputs": [
    {
     "name": "stdout",
     "output_type": "stream",
     "text": [
      "model_2 - 1991 - black\n",
      "model_3 - 1992 - black\n",
      "model_6 - 1995 - black\n",
      "model_9 - 1998 - black\n",
      "model_10 - 1999 - black\n"
     ]
    }
   ],
   "execution_count": 16
  },
  {
   "metadata": {
    "ExecuteTime": {
     "end_time": "2025-01-13T11:41:48.213257Z",
     "start_time": "2025-01-13T11:41:48.184256Z"
    }
   },
   "cell_type": "code",
   "source": [
    "# Создать класс Person с полями имя и дата рождения. \n",
    "# \n",
    "# Создать 10 объектов этого класса с разными именами.\n",
    "# Создать класс Employee который содержит поле имя и возраст. \n",
    "# \n",
    "# Написать функцию, которая из списка объекта класса Person создает список из объектов класса Employee, вычисляя возраст каждого Person по дате рождения. \n",
    "# Подумать, где должна быть реализована функция, вычисляющая возраст по дате рождения. Варианты: в конструкторе класса Employee, в качестве глобальной функции, в качестве метода класса (какого?). Получившийся список должен содержать сотрудников, старше 18 лет. Использовать map и filter. У классов Person и Employee должны быть определены конструкторы. Реализация трансформации список персонов в сотрудников должна быть в одну строчку. \n",
    "# \n",
    "# Вывести получившихся сотрудников на экран. \n",
    "# \n",
    "# Используя функцию forAll() убедиться, что все сотрудники действительно старше 18 лет. \n",
    "import datetime\n",
    "class Human:\n",
    "    def __init__(self, name, birthday):\n",
    "        self.name = name\n",
    "        self.birthday = birthday\n",
    "        self.date_age = self.convert_date(self.birthday)\n",
    "    \n",
    "    def convert_date(self, birthday):\n",
    "        current_year = datetime.datetime.now().year\n",
    "        birth_year = datetime.datetime.strptime(birthday, '%d-%m-%Y').year\n",
    "        return current_year - birth_year\n",
    "       \n",
    "class Employee:\n",
    "    def __init__(self, name, age):\n",
    "        self.name = name\n",
    "        self.age = age\n",
    "        \n",
    "    def get_employee_info(self):\n",
    "        return f\"Employee {self.name}, age - {self.age}\"\n",
    "        \n",
    "persons = [\n",
    "Human('John', '20-04-1996'),\n",
    "Human('Kris', '15-03-1993'),\n",
    "Human('Valeriy', '20-04-1985'),\n",
    "Human('Alex', '13-07-1998'),\n",
    "Human('Kris', '27-11-2009'),\n",
    "Human('Adam', '04-12-2005'),\n",
    "Human('Mariya', '01-02-2011'),\n",
    "Human('Julia', '20-06-1997'),\n",
    "Human('Mariya', '11-08-2002'),\n",
    "Human('Alesya', '27-10-1999'),\n",
    "]   \n",
    "\n",
    "for elem in persons:\n",
    "    print(elem.date_age, elem.name)\n",
    "print('-' * 20)\n",
    "def create_employee(data, age):\n",
    "    adults = filter(lambda x: x.date_age > age, data)\n",
    "    employees = [Employee(person.name, person.date_age) for person in adults]\n",
    "    return employees\n",
    "\n",
    "for elem in create_employee(persons,18):\n",
    "    print(elem.age, elem.name)"
   ],
   "id": "97bf2c782de7b5fa",
   "outputs": [
    {
     "name": "stdout",
     "output_type": "stream",
     "text": [
      "29 John\n",
      "32 Kris\n",
      "40 Valeriy\n",
      "27 Alex\n",
      "16 Kris\n",
      "20 Adam\n",
      "14 Mariya\n",
      "28 Julia\n",
      "23 Mariya\n",
      "26 Alesya\n",
      "--------------------\n",
      "29 John\n",
      "32 Kris\n",
      "40 Valeriy\n",
      "27 Alex\n",
      "20 Adam\n",
      "28 Julia\n",
      "23 Mariya\n",
      "26 Alesya\n"
     ]
    }
   ],
   "execution_count": 17
  }
 ],
 "metadata": {
  "kernelspec": {
   "display_name": "Python 3",
   "language": "python",
   "name": "python3"
  },
  "language_info": {
   "codemirror_mode": {
    "name": "ipython",
    "version": 2
   },
   "file_extension": ".py",
   "mimetype": "text/x-python",
   "name": "python",
   "nbconvert_exporter": "python",
   "pygments_lexer": "ipython2",
   "version": "2.7.6"
  }
 },
 "nbformat": 4,
 "nbformat_minor": 5
}
