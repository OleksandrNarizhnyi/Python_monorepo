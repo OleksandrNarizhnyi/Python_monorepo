{
 "cells": [
  {
   "cell_type": "code",
   "execution_count": null,
   "id": "initial_id",
   "metadata": {
    "collapsed": true
   },
   "outputs": [],
   "source": [
    "# нужно собрать e-mail адреса из двух разных источников и\n",
    "# создать один общий список для рассылки.\n",
    "\n",
    "# Написать программу, которая:\n",
    "# Считывает e-mail адреса из обоих файлов.\n",
    "# Преобразует строки с адресами в два списка с помощью split().\n",
    "# Объединяет оба списка с помощью extend().\n",
    "# Создать итоговую строку с e-mail адресами, разделёнными\n",
    "# запятой с пробелом (, ) и вывести её.\n",
    "def extract_data_from_file(filename):\n",
    "    emails = []\n",
    "\n",
    "    with open(filename) as f:\n",
    "        for row in f.readlines():\n",
    "            emails.extend(row.strip('\\n').split(','))\n",
    "\n",
    "    return emails\n",
    "\n",
    "files = [\"emails_from_aws.txt\", \"emails_from_ibm.txt\"]\n",
    "\n",
    "full_emails = []\n",
    "\n",
    "for file in files:\n",
    "    full_emails.extend(extract_data_from_file(file))\n",
    "\n",
    "\n",
    "print(full_emails)"
   ]
  },
  {
   "metadata": {},
   "cell_type": "code",
   "outputs": [],
   "execution_count": null,
   "source": "",
   "id": "781d5ec03d3f8425"
  },
  {
   "metadata": {},
   "cell_type": "code",
   "outputs": [],
   "execution_count": null,
   "source": "",
   "id": "4f977b7d5a4328f3"
  },
  {
   "metadata": {},
   "cell_type": "code",
   "outputs": [],
   "execution_count": null,
   "source": "",
   "id": "6a0f608b03c9690d"
  },
  {
   "metadata": {},
   "cell_type": "code",
   "outputs": [],
   "execution_count": null,
   "source": "",
   "id": "d24e603cd634e3ae"
  },
  {
   "metadata": {},
   "cell_type": "code",
   "outputs": [],
   "execution_count": null,
   "source": "",
   "id": "41de7985bba353b0"
  }
 ],
 "metadata": {
  "kernelspec": {
   "display_name": "Python 3",
   "language": "python",
   "name": "python3"
  },
  "language_info": {
   "codemirror_mode": {
    "name": "ipython",
    "version": 2
   },
   "file_extension": ".py",
   "mimetype": "text/x-python",
   "name": "python",
   "nbconvert_exporter": "python",
   "pygments_lexer": "ipython2",
   "version": "2.7.6"
  }
 },
 "nbformat": 4,
 "nbformat_minor": 5
}
