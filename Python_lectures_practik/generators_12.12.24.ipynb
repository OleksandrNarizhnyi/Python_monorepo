{
 "cells": [
  {
   "cell_type": "code",
   "id": "initial_id",
   "metadata": {
    "collapsed": true,
    "ExecuteTime": {
     "end_time": "2024-12-12T08:25:41.281147Z",
     "start_time": "2024-12-12T08:25:40.696554Z"
    }
   },
   "source": [
    "def my_generator():\n",
    "    try:\n",
    "        yield 1\n",
    "        yield 2\n",
    "        yield 3\n",
    "    except GeneratorExit:\n",
    " # Код для очистки ресурсов\n",
    "        pass\n",
    "gen = my_generator()\n",
    "print(next(gen)) # Выводит 1\n",
    "if next(gen)<3:\n",
    "    gen.throw(ValueError(\"Enough\"))"
   ],
   "outputs": [
    {
     "name": "stdout",
     "output_type": "stream",
     "text": [
      "1\n"
     ]
    },
    {
     "ename": "ValueError",
     "evalue": "Enough",
     "output_type": "error",
     "traceback": [
      "\u001B[1;31m---------------------------------------------------------------------------\u001B[0m",
      "\u001B[1;31mValueError\u001B[0m                                Traceback (most recent call last)",
      "Cell \u001B[1;32mIn[2], line 12\u001B[0m\n\u001B[0;32m     10\u001B[0m \u001B[38;5;28mprint\u001B[39m(\u001B[38;5;28mnext\u001B[39m(gen)) \u001B[38;5;66;03m# Выводит 1\u001B[39;00m\n\u001B[0;32m     11\u001B[0m \u001B[38;5;28;01mif\u001B[39;00m \u001B[38;5;28mnext\u001B[39m(gen)\u001B[38;5;241m<\u001B[39m\u001B[38;5;241m3\u001B[39m:\n\u001B[1;32m---> 12\u001B[0m     \u001B[43mgen\u001B[49m\u001B[38;5;241;43m.\u001B[39;49m\u001B[43mthrow\u001B[49m\u001B[43m(\u001B[49m\u001B[38;5;167;43;01mValueError\u001B[39;49;00m\u001B[43m(\u001B[49m\u001B[38;5;124;43m\"\u001B[39;49m\u001B[38;5;124;43mEnough\u001B[39;49m\u001B[38;5;124;43m\"\u001B[39;49m\u001B[43m)\u001B[49m\u001B[43m)\u001B[49m\n",
      "Cell \u001B[1;32mIn[2], line 4\u001B[0m, in \u001B[0;36mmy_generator\u001B[1;34m()\u001B[0m\n\u001B[0;32m      2\u001B[0m    \u001B[38;5;28;01mtry\u001B[39;00m:\n\u001B[0;32m      3\u001B[0m        \u001B[38;5;28;01myield\u001B[39;00m \u001B[38;5;241m1\u001B[39m\n\u001B[1;32m----> 4\u001B[0m        \u001B[38;5;28;01myield\u001B[39;00m \u001B[38;5;241m2\u001B[39m\n\u001B[0;32m      5\u001B[0m        \u001B[38;5;28;01myield\u001B[39;00m \u001B[38;5;241m3\u001B[39m\n\u001B[0;32m      6\u001B[0m    \u001B[38;5;28;01mexcept\u001B[39;00m \u001B[38;5;167;01mGeneratorExit\u001B[39;00m:\n\u001B[0;32m      7\u001B[0m \u001B[38;5;66;03m# Код для очистки ресурсов\u001B[39;00m\n",
      "\u001B[1;31mValueError\u001B[0m: Enough"
     ]
    }
   ],
   "execution_count": 2
  },
  {
   "metadata": {},
   "cell_type": "code",
   "outputs": [],
   "execution_count": null,
   "source": [
    "def my_generator():\n",
    "    try:\n",
    "        yield 1\n",
    "        yield 2\n",
    "        yield 3\n",
    "    except GeneratorExit:\n",
    " # Код для очистки ресурсов\n",
    "        pass\n",
    "gen = my_generator()\n",
    "print(next(gen)) # Выводит 1\n",
    "gen.close()"
   ],
   "id": "3c15261df70e955e"
  },
  {
   "metadata": {},
   "cell_type": "code",
   "outputs": [],
   "execution_count": null,
   "source": [
    "def endless_counter():\n",
    "    counter = 0\n",
    "\n",
    "    try:\n",
    "        while True:\n",
    "            yield counter\n",
    "            counter += 1\n",
    "    except GeneratorExit:\n",
    "        print(\"Generator was closed by 'close()' method\")\n",
    "    except ValueError as e:\n",
    "        print(f\"The Exception was catched: [{e}], end work.\")"
   ],
   "id": "73801ac491f35df1"
  },
  {
   "metadata": {
    "ExecuteTime": {
     "end_time": "2024-12-12T08:41:07.687940Z",
     "start_time": "2024-12-12T08:41:07.676808Z"
    }
   },
   "cell_type": "code",
   "source": [
    "# Генератор с бесконечным циклом внутри\n",
    "def fibonacci_generator():\n",
    "    a, b = 0, 1\n",
    "    while True:\n",
    "        yield a\n",
    "        a, b = b, a + b\n",
    "fib_gen = fibonacci_generator()\n",
    "for i in range(10):\n",
    "    print(next(fib_gen))\n",
    "fib_gen.close()"
   ],
   "id": "a8ca2208a2075469",
   "outputs": [
    {
     "name": "stdout",
     "output_type": "stream",
     "text": [
      "0\n",
      "1\n",
      "1\n",
      "2\n",
      "3\n",
      "5\n",
      "8\n",
      "13\n",
      "21\n",
      "34\n"
     ]
    }
   ],
   "execution_count": 3
  },
  {
   "metadata": {},
   "cell_type": "code",
   "outputs": [],
   "execution_count": null,
   "source": [
    "import time\n",
    "\n",
    "def follow_log(filepath):\n",
    "    with open(filepath, \"r\", encoding=\"utf-8\") as f:\n",
    "        f.seek(0, 2) # limit offset\n",
    "\n",
    "        while True:\n",
    "            line = f.readline()\n",
    "\n",
    "            if not line:\n",
    "                print(\"NOTHING NEW\")\n",
    "                time.sleep(3)\n",
    "                continue\n",
    "        yield line.split()\n"
   ],
   "id": "c673d2195f17262"
  },
  {
   "metadata": {},
   "cell_type": "code",
   "outputs": [],
   "execution_count": null,
   "source": [
    "file_reader = follow_log(\"site_journal.log\")\n",
    "for line in file_reader:\n",
    "    print(f\"NEW RECORD:\", line, sep='\\n')"
   ],
   "id": "44ae87afaa19d374"
  },
  {
   "metadata": {
    "ExecuteTime": {
     "end_time": "2024-12-12T09:19:41.849239Z",
     "start_time": "2024-12-12T09:19:41.840918Z"
    }
   },
   "cell_type": "code",
   "source": [
    "# Метод SEND\n",
    "def dynamic_step_iterator(start=0):\n",
    "    step = 1\n",
    "    current = start\n",
    "\n",
    "    while True:\n",
    "        incoming = yield current\n",
    "\n",
    "        if incoming is not None:\n",
    "            step = incoming\n",
    "            \n",
    "        current += step\n",
    "\n",
    "my_iter = dynamic_step_iterator()"
   ],
   "id": "92a2a7657ff57af6",
   "outputs": [],
   "execution_count": 6
  },
  {
   "metadata": {
    "ExecuteTime": {
     "end_time": "2024-12-12T09:19:43.752214Z",
     "start_time": "2024-12-12T09:19:43.744377Z"
    }
   },
   "cell_type": "code",
   "source": [
    "print(next(my_iter))\n",
    "print(next(my_iter))\n",
    "print(next(my_iter))\n",
    "\n",
    "my_iter.send(5)\n",
    "\n",
    "print(next(my_iter))\n",
    "print(next(my_iter))\n",
    "print(next(my_iter))"
   ],
   "id": "d5a274431ef8bf96",
   "outputs": [
    {
     "name": "stdout",
     "output_type": "stream",
     "text": [
      "0\n",
      "1\n",
      "2\n",
      "12\n",
      "17\n",
      "22\n"
     ]
    }
   ],
   "execution_count": 7
  },
  {
   "metadata": {
    "ExecuteTime": {
     "end_time": "2024-12-12T09:28:06.054326Z",
     "start_time": "2024-12-12T09:28:06.037498Z"
    }
   },
   "cell_type": "code",
   "source": [
    "def my_generator():\n",
    "    value = yield\n",
    "    if value > 0:\n",
    "        yield value * 2\n",
    "    else:\n",
    "        yield value * 3\n",
    "gen = my_generator()\n",
    "print(next(gen))\n",
    "print(gen.send(5)) # Выводит 10\n",
    "print(gen.send(-2)) # Выводит -6"
   ],
   "id": "f386815b77e66a4c",
   "outputs": [
    {
     "name": "stdout",
     "output_type": "stream",
     "text": [
      "None\n",
      "-6\n"
     ]
    }
   ],
   "execution_count": 10
  },
  {
   "metadata": {
    "ExecuteTime": {
     "end_time": "2024-12-12T09:32:07.623418Z",
     "start_time": "2024-12-12T09:32:07.614466Z"
    }
   },
   "cell_type": "code",
   "source": [
    "def show_letters(some_str):\n",
    "    yield from ''.join([letter for letter in some_str if letter.isalpha()])\n",
    "\n",
    "random_str = show_letters('A!sdf 09 _ w')\n",
    "print(next(random_str))\n",
    "print(next(random_str))"
   ],
   "id": "102755306a884c49",
   "outputs": [
    {
     "name": "stdout",
     "output_type": "stream",
     "text": [
      "A\n",
      "s\n"
     ]
    }
   ],
   "execution_count": 11
  },
  {
   "metadata": {
    "ExecuteTime": {
     "end_time": "2024-12-12T09:38:11.373833Z",
     "start_time": "2024-12-12T09:38:11.365Z"
    }
   },
   "cell_type": "code",
   "source": [
    "# Напишите генератор, который принимает на вход поток элементов и выдает только уникальные элементы, сохраняя их порядок встречаемости \n",
    "# (для уже повторяющихся элементов генератор не выдает ничего)\n",
    "fruits = [\"Apple\", \"Banana\", \"Orange\", \"Qiwi\", \"Apple\", \"Qiwi\", \"Watermelon\", \"Banana\", \"Melon\", \"Orange\", \"Watermelon\"]\n",
    "\n",
    "def get_unique_fruits(data):\n",
    "    existing_fruits = set()\n",
    "    for fruit in data:\n",
    "        if fruit not in existing_fruits:\n",
    "            existing_fruits.add(fruit)\n",
    "            yield fruit\n",
    "            \n",
    "for elem in get_unique_fruits(fruits):\n",
    "    print(elem)"
   ],
   "id": "4ac2da0325d23bd",
   "outputs": [
    {
     "name": "stdout",
     "output_type": "stream",
     "text": [
      "Apple\n",
      "Banana\n",
      "Orange\n",
      "Qiwi\n",
      "Watermelon\n",
      "Melon\n"
     ]
    }
   ],
   "execution_count": 13
  }
 ],
 "metadata": {
  "kernelspec": {
   "display_name": "Python 3",
   "language": "python",
   "name": "python3"
  },
  "language_info": {
   "codemirror_mode": {
    "name": "ipython",
    "version": 2
   },
   "file_extension": ".py",
   "mimetype": "text/x-python",
   "name": "python",
   "nbconvert_exporter": "python",
   "pygments_lexer": "ipython2",
   "version": "2.7.6"
  }
 },
 "nbformat": 4,
 "nbformat_minor": 5
}
