{
 "cells": [
  {
   "cell_type": "code",
   "id": "initial_id",
   "metadata": {
    "collapsed": true,
    "ExecuteTime": {
     "end_time": "2024-10-02T10:41:21.703259Z",
     "start_time": "2024-10-02T10:41:21.692594Z"
    }
   },
   "source": [
    "from itertools import count\n",
    "from lib2to3.fixes.fix_input import context\n",
    "\n",
    "print('Hallo world')"
   ],
   "outputs": [
    {
     "name": "stdout",
     "output_type": "stream",
     "text": [
      "Hallo world\n"
     ]
    }
   ],
   "execution_count": 2
  },
  {
   "metadata": {
    "ExecuteTime": {
     "end_time": "2024-10-11T07:18:04.637107Z",
     "start_time": "2024-10-11T07:17:58.224178Z"
    }
   },
   "cell_type": "code",
   "source": [
    "x = int(input('Введите возрвст'))\n",
    "if 1 < x < 15 and x != 0:\n",
    "    print('Ребенок')\n",
    "elif 15 <= x < 18:\n",
    "    print('Подросток') \n",
    "elif 18 <= x < 30:\n",
    "    print('Взрослый')   \n",
    "elif 30 <= x < 60:\n",
    "    print('Состоятельный человек') \n",
    "elif 60 <= x < 120:\n",
    "    print('Пожилой человек')  "
   ],
   "id": "c3a0184eaefb7a16",
   "outputs": [
    {
     "name": "stdout",
     "output_type": "stream",
     "text": [
      "Пожилой человек\n"
     ]
    }
   ],
   "execution_count": 1
  },
  {
   "metadata": {
    "ExecuteTime": {
     "end_time": "2024-10-11T07:37:27.579634Z",
     "start_time": "2024-10-11T07:37:23.529522Z"
    }
   },
   "cell_type": "code",
   "source": [
    "N = int(input('Введите целое число '))\n",
    "counter = 1\n",
    "sum_N = 0\n",
    "while counter <= N:\n",
    "    sum_N += counter \n",
    "    counter += 1\n",
    "else: \n",
    "    print('Сумма чисел N: ', sum_N)"
   ],
   "id": "71227c2a62a803c1",
   "outputs": [
    {
     "name": "stdout",
     "output_type": "stream",
     "text": [
      "Сумма чисел N:  78\n"
     ]
    }
   ],
   "execution_count": 2
  },
  {
   "metadata": {
    "ExecuteTime": {
     "end_time": "2024-10-11T07:53:04.465871Z",
     "start_time": "2024-10-11T07:52:49.255795Z"
    }
   },
   "cell_type": "code",
   "source": [
    "counter = 0\n",
    "x_max = 0\n",
    "while counter < 5:\n",
    "    x_1 = int(input('Введите целое число: '))\n",
    "    if x_1 > x_max:\n",
    "        x_max = x_1\n",
    "    counter += 1 \n",
    "    \n",
    "print(x_max)\n",
    "\n"
   ],
   "id": "5448e76b29d915c9",
   "outputs": [
    {
     "name": "stdout",
     "output_type": "stream",
     "text": [
      "67\n"
     ]
    }
   ],
   "execution_count": 9
  },
  {
   "metadata": {
    "ExecuteTime": {
     "end_time": "2024-10-18T07:28:22.780808Z",
     "start_time": "2024-10-18T07:27:47.381061Z"
    }
   },
   "cell_type": "code",
   "source": [
    "#Напишите программу, которая запрашивает у пользователя 10 чисел и выводит сумму чётных и сумму нечётных чисел отдельно.\n",
    "n = int(input('Введите  количество запрашиваемых раз: '))\n",
    "counter = 0\n",
    "x_1 = 0\n",
    "x_2 = 0\n",
    "while counter < n:\n",
    "     x = int(input('Введите целое число: '))\n",
    "     if x % 2 == 0:\n",
    "         x_2 += x\n",
    "     else:\n",
    "       x_1 += x \n",
    "    \n",
    "     counter += 1 \n",
    "print('Сумма четных чисел равна: ', x_2)\n",
    "print('Сумма не четных чисел равна: ', x_1)"
   ],
   "id": "5c748f2d57dac5d8",
   "outputs": [
    {
     "name": "stdout",
     "output_type": "stream",
     "text": [
      "Сумма четных чисел равна:  90\n",
      "Сумма не четных чисел равна:  179\n"
     ]
    }
   ],
   "execution_count": 32
  },
  {
   "metadata": {
    "ExecuteTime": {
     "end_time": "2024-10-15T07:33:36.870190Z",
     "start_time": "2024-10-15T07:33:32.552940Z"
    }
   },
   "cell_type": "code",
   "source": [
    "# Для заданного целого числа N подсчитать количество четных чисел, меньше или равных N.\n",
    "\n",
    "n = int(input('Введите  целое число: '))\n",
    "\n",
    "counter = 1\n",
    "\n",
    "numbs = 0\n",
    "\n",
    "while counter <= n:\n",
    "    \n",
    "    if counter % 2 != 0:\n",
    "        counter += 1\n",
    "        continue\n",
    "    numbs += 1\n",
    "    counter += 1\n",
    "print(numbs)   \n",
    "        "
   ],
   "id": "537c53ce61b6cf0c",
   "outputs": [
    {
     "name": "stdout",
     "output_type": "stream",
     "text": [
      "4\n"
     ]
    }
   ],
   "execution_count": 19
  },
  {
   "metadata": {
    "ExecuteTime": {
     "end_time": "2024-10-15T07:52:36.052426Z",
     "start_time": "2024-10-15T07:52:31.953746Z"
    }
   },
   "cell_type": "code",
   "source": [
    "# Вычислите n-е число ряда Фибоначчи с помощью цикла while.\n",
    "n = int(input('Введите целое число: '))\n",
    "\n",
    "counter = 1\n",
    "\n",
    "f_1 = 0\n",
    "f_2 = 1\n",
    "\n",
    "fib = None\n",
    "\n",
    "while counter < n :\n",
    "    \n",
    "  fib = f_1\n",
    "  f_1 = f_2\n",
    "  f_2 = f_1 + fib\n",
    "\n",
    "  counter += 1\n",
    "print(f_1)"
   ],
   "id": "9fc2f0cb0384daa1",
   "outputs": [
    {
     "name": "stdout",
     "output_type": "stream",
     "text": [
      "13\n"
     ]
    }
   ],
   "execution_count": 21
  },
  {
   "metadata": {
    "ExecuteTime": {
     "end_time": "2024-10-15T08:07:02.862122Z",
     "start_time": "2024-10-15T08:06:56.431062Z"
    }
   },
   "cell_type": "code",
   "source": [
    "# Определите сумму всех элементов последовательности, завершающейся\n",
    "# числом 0. Числа, следующие за первым нулем, учитывать не нужно.\n",
    "# Числа считываем с клавиатуры с помощью input()\n",
    "\n",
    "sum_numb = 0\n",
    "\n",
    "while True:\n",
    "    n = int(input('Введите целое число: '))\n",
    "    if n == 0:\n",
    "        break\n",
    "    sum_numb += n\n",
    "print(sum_numb)\n",
    "       \n",
    "\n",
    "\n",
    "\n",
    "\n",
    "\n"
   ],
   "id": "3e062dfaf81935a7",
   "outputs": [
    {
     "name": "stdout",
     "output_type": "stream",
     "text": [
      "15\n"
     ]
    }
   ],
   "execution_count": 25
  },
  {
   "metadata": {},
   "cell_type": "code",
   "outputs": [],
   "execution_count": null,
   "source": [
    "# Определите среднее значение всех элементов последовательности,\n",
    "# завершающейся числом 0. Среднее значение - сумма всех элементов,\n",
    "# поделенная на их количество.\n",
    "\n",
    "count = 0\n",
    "\n",
    "sum_numb = 0\n",
    "\n",
    "while True:\n",
    "    n = int(input('Введите целое число: '))\n",
    "    if n == 0:\n",
    "        break\n",
    "    sum_numb += n\n",
    "    count += 1\n",
    "print(sum_numb/count)\n",
    "\n",
    "\n",
    "\n"
   ],
   "id": "803de52bb5d1ba9f"
  },
  {
   "metadata": {
    "ExecuteTime": {
     "end_time": "2024-10-15T08:25:35.066762Z",
     "start_time": "2024-10-15T08:25:24.784236Z"
    }
   },
   "cell_type": "code",
   "source": [
    "# Последовательность состоит из натуральных чисел и завершается числом 0.\n",
    "# Определите индекс наибольшего элемента последовательности.\n",
    "# Нумерация элементов начинается с нуля.\n",
    "count = 0\n",
    "n_max = 0\n",
    "sum_numb = 0\n",
    "index_max = 0\n",
    "index = 0\n",
    "\n",
    "while True:\n",
    "    \n",
    "    n = int(input('Введите целое число: '))\n",
    "    \n",
    "    if n == 0:\n",
    "        break\n",
    "    \n",
    "    if n > n_max:\n",
    "        n_max = n\n",
    "        index_max = count\n",
    "        \n",
    "    count +=1    \n",
    "        \n",
    "        \n",
    "print(index_max, n_max)\n",
    "\n"
   ],
   "id": "b0ec3755d542f4f2",
   "outputs": [
    {
     "name": "stdout",
     "output_type": "stream",
     "text": [
      "4 5\n"
     ]
    }
   ],
   "execution_count": 28
  },
  {
   "metadata": {},
   "cell_type": "code",
   "outputs": [],
   "execution_count": null,
   "source": [
    "# while | if-elif-else\n",
    "\n",
    "# Вёдра\n",
    "# Есть два ведра:\n",
    "# Ведро на 3 литра\n",
    "# Ведро на 5 литров\n",
    "# \n",
    "# Есть неограниченный запас воды\n",
    "# \n",
    "# Необходимо при помощи этих вёдер отмерить ровно четыре литра воды\n",
    "# \n",
    "# Можно:\n",
    "# \n",
    "# Наливать воду в вёдра\n",
    "# Выливать воду из вёдер\n",
    "# Переливать воду из одного ведра в другое\n",
    "\n",
    "\n",
    "# Нельзя:\n",
    "# \n",
    "# Выливать воду частично\n",
    "# Переливать воду частично\n",
    "# \n",
    "# В пятилитровое \"сразу\" налить 4 литра воды.\n",
    "\n",
    "# 1 - налить 3-х литровик\n",
    "# 2 - налить 5-х литровик\n",
    "# 3 - вылить 3-х литровик\n",
    "# 4 - вылить 5-х литровик\n",
    "# 5 - перелить из 3-х литровика в 5-и литровик\n",
    "# 6 - перелить из 5-и литровика в 3-х литровик\n",
    "\n",
    "\n",
    "\n",
    "\n",
    "\n"
   ],
   "id": "9d3e0aa1a4035a41"
  },
  {
   "metadata": {},
   "cell_type": "code",
   "outputs": [],
   "execution_count": null,
   "source": [
    "custom_settings = Context(prec=7, rounding=ROUND_HALF_UP)\n",
    "\n",
    "num = Decimal('1') / Decimal('7')\n",
    "result = custom_settings.divide(Decimal('1'), Decimal('7'))\n",
    "\n",
    "print(num)\n",
    "print(result)\n",
    "from decimal import ROUND_HALF_UP, Context\n",
    "\n",
    "getcontext().rounding = ROUND_HALF_UP # если дробь от 5 и выше - в большую сторону"
   ],
   "id": "7e418db10a37b009"
  },
  {
   "metadata": {
    "ExecuteTime": {
     "end_time": "2024-10-17T08:39:52.070973Z",
     "start_time": "2024-10-17T08:39:52.057934Z"
    }
   },
   "cell_type": "code",
   "source": [
    "# Вы взяли кредит в банке в размере S евро под годовую процентную\n",
    "# ставку P процентов. Каждый месяц вы выплачиваете фиксированную\n",
    "# сумму M евро. Напишите программу, которая вычисляет, за сколько\n",
    "# месяцев вы полностью погасите кредит. Используем Decimal для\n",
    "# всех денежных расчётов.\n",
    "\n",
    "import decimal\n",
    "decimal.getcontext().prec = 5\n",
    "\n",
    "kredit = decimal.Decimal('9000')\n",
    "                    \n",
    "procent = decimal.Decimal('3.4')\n",
    "\n",
    "per_m = decimal.Decimal('350')\n",
    "\n",
    "\n",
    "balance_cred = kredit\n",
    "\n",
    "month_rate = procent / decimal.Decimal(12) / decimal.Decimal(100)\n",
    "\n",
    "count_m = 0\n",
    "\n",
    "while balance_cred > 0:\n",
    "    credit_int = balance_cred * month_rate\n",
    "    balance_cred += credit_int\n",
    "    balance_cred -= per_m\n",
    "    count_m += 1\n",
    "    if balance_cred < 0:\n",
    "        balance_cred = decimal.Decimal(0)\n",
    "\n",
    "\n",
    "print(count_m)\n"
   ],
   "id": "86418a7b7cbebfa5",
   "outputs": [
    {
     "name": "stdout",
     "output_type": "stream",
     "text": [
      "27\n"
     ]
    }
   ],
   "execution_count": 31
  },
  {
   "metadata": {
    "ExecuteTime": {
     "end_time": "2024-10-18T07:47:35.123495Z",
     "start_time": "2024-10-18T07:47:30.434910Z"
    }
   },
   "cell_type": "code",
   "source": [
    "dog_age = int(input('Введите возраст собаки: '))\n",
    "\n",
    "if dog_age <= 3:\n",
    "    age_human = dog_age * 6\n",
    "else:\n",
    "    age_human = (dog_age - 3) * 4 + 3 * 6\n",
    "print(\"возраст собаки по соотношению к человеку:\", age_human)"
   ],
   "id": "af1fb3a4c7aae245",
   "outputs": [
    {
     "name": "stdout",
     "output_type": "stream",
     "text": [
      "возраст собаки по соотношению к человеку: 34\n"
     ]
    }
   ],
   "execution_count": 34
  },
  {
   "metadata": {
    "ExecuteTime": {
     "end_time": "2024-10-20T12:14:36.141157Z",
     "start_time": "2024-10-20T12:14:27.018001Z"
    }
   },
   "cell_type": "code",
   "source": [
    "# Напишите программу, которая запрашивает у пользователя целое число и проверяет, является ли оно числом Армстронга.\n",
    "# Число Армстронга - это число, которое равно сумме своих цифр,\n",
    "# возведенных в степень, равную количеству цифр в числе. Выведите соответствующее сообщение на экран с помощью команды print.\n",
    "\n",
    "# Примеры чисел Армстронга 153, 370, 371, 407, 1634, 8208, 9474 и т.д.\n",
    "\n",
    "arm_num = int(input('Введите целое число: '))\n",
    "\n",
    "num = arm_num # копируем оригинальное число\n",
    "\n",
    "# подсчитываем кол-во цифр в числе\n",
    "\n",
    "count = 0\n",
    "temp = num\n",
    "\n",
    "while temp > 0:\n",
    "  temp //= 10\n",
    "  count +=1\n",
    "\n",
    "# суммируем числа возведенные в степень \n",
    "\n",
    "sum_arm = 0\n",
    "temp = num\n",
    "\n",
    "while temp > 0:\n",
    "  digit = temp % 10\n",
    "  sum_arm += digit ** count\n",
    "  temp //= 10\n",
    "\n",
    "  # Проверяем, является ли число Армстронга\n",
    "\n",
    "if sum_arm == arm_num:\n",
    "    \n",
    "    print(arm_num, 'являеться числом Армстронга')\n",
    "else:\n",
    "    print(arm_num, 'не являеться числом Армстронга')\n",
    "\n"
   ],
   "id": "941687a4c9a5947c",
   "outputs": [
    {
     "name": "stdout",
     "output_type": "stream",
     "text": [
      "153 являеться числом Армстронга\n"
     ]
    }
   ],
   "execution_count": 36
  },
  {
   "metadata": {},
   "cell_type": "code",
   "outputs": [],
   "execution_count": null,
   "source": [
    "text = \"Hello, World!\"\n",
    "\n",
    "index = 0\n",
    "\n",
    "counter = 0\n",
    "\n",
    "while index < len(text):\n",
    "     if text[index] == ' ':\n",
    "         index += 1\n",
    "         continue\n",
    "     else:\n",
    "         counter += 1\n",
    "     index +=1"
   ],
   "id": "eb61e0d98d5739f7"
  },
  {
   "metadata": {},
   "cell_type": "code",
   "outputs": [],
   "execution_count": null,
   "source": [
    "import string\n",
    "\n",
    "\n",
    "print(string.ascii_lowercase)\n",
    "print(string.ascii_uppercase)\n",
    "print(string.ascii_letters)\n",
    "print(string.digits)\n",
    "print(string.punctuation)"
   ],
   "id": "75b010aae47c67df"
  },
  {
   "metadata": {
    "ExecuteTime": {
     "end_time": "2024-10-22T07:53:20.806589Z",
     "start_time": "2024-10-22T07:53:20.796502Z"
    }
   },
   "cell_type": "code",
   "source": [
    "# Есть строка 'python is awesome'. Необходимо написать программу\n",
    "# которая проверит, состоит ли строчка только из уникальных символов.\n",
    "# Если в строке все символы уникальны - вывести соответствующее сообщение\n",
    "# Если хоть один символ будет повторяться - вывести соответствующее сообщение\n",
    "import string\n",
    "\n",
    "user_input = input('enter a string: ')\n",
    "len_user_input = len(user_input)\n",
    "index = 0\n",
    "is_unic = True\n",
    "unic_char = \"\"\n",
    "ascii_table = string.ascii_lowercase\n",
    "while index < len_user_input:\n",
    "   if user_input[index] in ascii_table and user_input[index] not in unic_char :\n",
    "       unic_char += user_input[index]\n",
    "   elif user_input[index] in  string.digits or  user_input[index] \\\n",
    "           in string.punctuation or user_input[index] == \" \":\n",
    "       index += 1\n",
    "       continue\n",
    "   else:\n",
    "       is_unic = False\n",
    "       break\n",
    "    index += 1\n",
    "if not is_unic:\n",
    "    print('not unic')\n",
    "else:\n",
    "    print('unic')\n"
   ],
   "id": "18f47f79fe1747a0",
   "outputs": [
    {
     "ename": "IndentationError",
     "evalue": "unindent does not match any outer indentation level (<string>, line 22)",
     "output_type": "error",
     "traceback": [
      "\u001B[1;36m  File \u001B[1;32m<string>:22\u001B[1;36m\u001B[0m\n\u001B[1;33m    index += 1\u001B[0m\n\u001B[1;37m              ^\u001B[0m\n\u001B[1;31mIndentationError\u001B[0m\u001B[1;31m:\u001B[0m unindent does not match any outer indentation level\n"
     ]
    }
   ],
   "execution_count": 49
  },
  {
   "metadata": {
    "ExecuteTime": {
     "end_time": "2024-10-22T07:54:53.246366Z",
     "start_time": "2024-10-22T07:54:48.440076Z"
    }
   },
   "cell_type": "code",
   "source": [
    "import string\n",
    "user_input = input(\"enter a string: \")\n",
    "len_user_input = len(user_input)\n",
    "index = 0\n",
    "unic_chars = \"\"\n",
    "ascii_table = string.ascii_lowercase\n",
    "is_unic = True\n",
    "while index < len_user_input:\n",
    "    if user_input[index] in ascii_table and user_input[index] not in unic_chars:\n",
    "        unic_chars += user_input[index]\n",
    "    elif user_input[index] in string.digits or user_input[index] \\\n",
    "            in string.punctuation or user_input[index] == \" \":\n",
    "        index += 1\n",
    "        continue\n",
    "    else:\n",
    "        is_unic = False\n",
    "        break\n",
    "    index += 1\n",
    "if not is_unic:\n",
    "    print(\"not unic\")\n",
    "else:\n",
    "    print(\"unic\")"
   ],
   "id": "920fd7bbfe924a77",
   "outputs": [
    {
     "name": "stdout",
     "output_type": "stream",
     "text": [
      "not unic\n"
     ]
    }
   ],
   "execution_count": 50
  },
  {
   "metadata": {
    "ExecuteTime": {
     "end_time": "2024-10-22T08:25:46.317835Z",
     "start_time": "2024-10-22T08:25:46.305808Z"
    }
   },
   "cell_type": "code",
   "source": [
    "# Есть строка с зашифрованным посланием:\n",
    "# \"92 114 120 35 102 100 113 35 103 114 35 108 119 36 35 92 114 120 35 100 117 104 35 106 117 104 100 119 35 100 113 103 35 76 35 101 104 111 108 104 121 104 35 108 113 35 124 114 120 36\"\n",
    "# \n",
    "# Всё, что было приложено к этой строке - это небольшой набор слов: \"ave CaEsAr\".\n",
    "# \n",
    "# Кажется нам было отправлено сообщение по шифру Цезаря. Его принцип - сдвиг\n",
    "# каждой буквы вправо по алфавиту. Сдвиг может быть на n символов. В нашем\n",
    "# послaнии есть зацепка - слово \"Цезарь\" использует три буквы в верхнем регистре.\n",
    "# \n",
    "# Учитывая все вводные нужно расшифровать посланное нам сообщение.\n",
    "\n",
    "secret_string = \"92 114 120 35 102 100 113 35 103 114 35 108 119 36 35 92 114 120 35 100 117 104 35 106 117 104 100 119 35 100 113 103 35 76 35 101 104 111 108 104 121 104 35 108 113 35 124 114 120 36\"\n",
    "key = 3\n",
    "index = 0\n",
    "conv_char = \"\"\n",
    "reaper_masag = \"\"\n",
    "while index < len(secret_string):\n",
    "    if secret_string[index] != \" \":\n",
    "        conv_char += secret_string[index]\n",
    "    elif index +1 == len(secret_string):\n",
    "        reaper = chr(int(conv_char) - key)\n",
    "        reaper_masag += reaper\n",
    "        conv_char = \"\"\n",
    "    else:\n",
    "        reaper = chr(int(conv_char) - key)\n",
    "        reaper_masag += reaper\n",
    "        conv_char = \"\"\n",
    "    index += 1\n",
    "print(reaper_masag)\n",
    "\n",
    "\n",
    "\n",
    "\n"
   ],
   "id": "a8b6f4b87e2e6e1e",
   "outputs": [
    {
     "name": "stdout",
     "output_type": "stream",
     "text": [
      "You can do it! You are great and I believe in you\n"
     ]
    }
   ],
   "execution_count": 56
  },
  {
   "metadata": {
    "ExecuteTime": {
     "end_time": "2024-10-22T08:26:47.360491Z",
     "start_time": "2024-10-22T08:26:47.357082Z"
    }
   },
   "cell_type": "code",
   "source": [
    "# Теперь нужно отправить ответ. Мы уже примерно поняли по каким принципам\n",
    "# работает шифр Цезаря. Нужно составить какой-то ответ на прошлое сообщение\n",
    "# и закодировать его с таким же сдвигом, который был указан в послении.\n",
    "\n",
    "# Input: \"I don't understand you\"\n",
    "# \n",
    "# Output: \"92 114 120 35 102 100 113 35 103\""
   ],
   "id": "dc5f15def9b4b8b6",
   "outputs": [],
   "execution_count": null
  },
  {
   "metadata": {},
   "cell_type": "code",
   "outputs": [],
   "execution_count": null,
   "source": [
    "import string\n",
    "user_input = input(\"enter a string: \")\n",
    "len_user_input = len(user_input)\n",
    "index = 0\n",
    "unic_chars = \"\"\n",
    "ascii_table = string.ascii_lowercase\n",
    "is_unic = True\n",
    "while index < len_user_input:\n",
    "    if user_input[index] in ascii_table and user_input[index] not in unic_chars:\n",
    "        unic_chars += user_input[index]\n",
    "    elif user_input[index] in string.digits or user_input[index] \\\n",
    "            in string.punctuation or user_input[index] == \" \":\n",
    "        index += 1\n",
    "        continue\n",
    "    else:\n",
    "        is_unic = False\n",
    "        break\n",
    "    index += 1\n",
    "if not is_unic:\n",
    "    print(\"not unic\")\n",
    "else:\n",
    "    print(\"unic\")"
   ],
   "id": "aafeb3a48dc189b"
  },
  {
   "metadata": {
    "ExecuteTime": {
     "end_time": "2024-10-28T07:52:23.782263Z",
     "start_time": "2024-10-28T07:52:23.769449Z"
    }
   },
   "cell_type": "code",
   "source": [
    "# Напишите программу, которая запрашивает у пользователя строку и определяет,\n",
    "# является ли она панграммой.\n",
    "# Панграмма - это фраза, содержащая все буквы алфавита.\n",
    "# Программа должна игнорировать регистр букв и пробелы при проверке панграммы.\n",
    "# Выведите соответствующее сообщение на экран с помощью команды print.\n",
    "# Решить задачу для латиницы.\n",
    "# Пример вывода:\n",
    "# Введите строку: The quick brown fox jumps over the lazy dog\n",
    "# Строка является панграммой.\n",
    "import string\n",
    "input_string = \"The quick brown fox jumps over the lazy dog\"\n",
    "input_string = input_string.lower()\n",
    "len_input_string = len(input_string)\n",
    "index = 0\n",
    "\n",
    "unic_chars = \"\"\n",
    "\n",
    "letters_count = 26\n",
    "\n",
    "while index != len_input_string:\n",
    "    char = input_string[index]\n",
    "    \n",
    "    if char in  unic_chars:\n",
    "        index += 1\n",
    "        continue\n",
    "    if char in string.digits or char in string.punctuation or char == \" \":\n",
    "        index += 1\n",
    "        continue\n",
    "    if char in string.ascii_lowercase:\n",
    "        unic_chars += char\n",
    "        index += 1\n",
    "if len(unic_chars) == letters_count:\n",
    "    print(\"Строка является Панграммой!\")\n",
    "else:\n",
    "    print(\"Строка не является Панграммой!\")"
   ],
   "id": "7a8c518bd5e75364",
   "outputs": [
    {
     "name": "stdout",
     "output_type": "stream",
     "text": [
      "Строка является Панграммой!\n"
     ]
    }
   ],
   "execution_count": 86
  },
  {
   "metadata": {
    "ExecuteTime": {
     "end_time": "2024-10-24T14:09:29.125293Z",
     "start_time": "2024-10-24T14:09:25.883757Z"
    }
   },
   "cell_type": "code",
   "source": [
    "# Напишите программу, которая запрашивает у пользователя строку и выводит на экран\n",
    "# количество гласных и согласных букв в ней.\n",
    "# Используйте функцию len() для подсчета количества букв.\n",
    "# Выведите результат на экран с помощью команды print.\n",
    "# Решить задачу для латиницы.\n",
    "# Пример вывода:\n",
    "# Введите строку: Hello World\n",
    "# Количество гласных букв: 3\n",
    "# Количество согласных букв: 7\n",
    "# abcdefghijklmnopqrstuvwxyz\n",
    "\n",
    "import string\n",
    "user_input = input(\"enter a string: \")\n",
    "user_input = user_input.lower()\n",
    "len_user_input = len(user_input)\n",
    "index = 0\n",
    "vowels = \"aeiou\"\n",
    "# consonants = \"bcdfghjklmnpqrstvwxyzBCDFGHJKLMNPQRSTVWXYZ\"\n",
    "count_vowels = 0\n",
    "count_consonants = 0\n",
    "empty = \"\"\n",
    "\n",
    "\n",
    "while index != len_user_input:\n",
    "    if user_input[index] in vowels and user_input[index] not in empty:\n",
    "        count_vowels += 1\n",
    "        index += 1\n",
    "    elif user_input[index] in string.digits or user_input[index] \\\n",
    "            in string.punctuation or user_input[index] == \" \":\n",
    "        index += 1\n",
    "        continue\n",
    "    else:\n",
    "       count_consonants +=1 \n",
    "       index += 1\n",
    "print('Количество гласных букв: ', count_vowels)\n",
    "print('Количество согласных букв: ', count_consonants)"
   ],
   "id": "acaaf9a1f02b9887",
   "outputs": [
    {
     "name": "stdout",
     "output_type": "stream",
     "text": [
      "Количество гласных букв:  3\n",
      "Количество согласных букв:  7\n"
     ]
    }
   ],
   "execution_count": 80
  },
  {
   "metadata": {},
   "cell_type": "code",
   "outputs": [],
   "execution_count": null,
   "source": [
    "#На вход приходят имя-фамилия-пол-возраст. \n",
    "# Программа выводит приветственную строку, в которую вставлены имя-фамилия и пишет дополнительно что средний возраст всех людей твоего пола среди встреченных ранее – такой-то. \n",
    "# Реализовать без хранения списков или иных массивов в памяти.\n",
    "age_m_mid = 0\n",
    "age_w_mid = 0\n",
    "count_m = 0\n",
    "count_w = 0\n",
    "while True:\n",
    "    \n",
    "    input_data = input(\"Введите имя, фамилию, пол и возраст: \")\n",
    "    \n",
    "    if input_data.upper() == 'Q':\n",
    "        break\n",
    "    else :\n",
    "      name, surname, gender, age = input_data.split(' ')\n",
    "      age = int(age)\n",
    "      if gender == 'M':\n",
    "          count_m += 1\n",
    "          age_m_mid = (age + age_m_mid * (count_m - 1)) / count_m\n",
    "      elif gender == 'W':\n",
    "          count_w += 1\n",
    "          age_w_mid = (age + age_w_mid * (count_w - 1)) / count_w\n",
    "      else :\n",
    "          print(\"Ошибка ввода M/W!!!\")\n",
    "print(f\"Средний возраст мужчин : {age_m_mid} .Средний возраст женщин : {age_w_mid}\")\n",
    "          \n",
    "\n"
   ],
   "id": "ab41ae484aa99f9d"
  },
  {
   "metadata": {
    "ExecuteTime": {
     "end_time": "2024-11-04T09:27:18.258600Z",
     "start_time": "2024-11-04T09:27:18.252715Z"
    }
   },
   "cell_type": "code",
   "source": [
    "company1 = 'Apple'\n",
    "company2 = 'Samsung'\n",
    "def sum_lenth(text1, text2):\n",
    "    result = len(company1) + len(company2)\n",
    "    \n",
    "    return result\n",
    "print(sum_lenth(company1, company2))  "
   ],
   "id": "4fcd371dd343909d",
   "outputs": [
    {
     "name": "stdout",
     "output_type": "stream",
     "text": [
      "12\n"
     ]
    }
   ],
   "execution_count": 3
  }
 ],
 "metadata": {
  "kernelspec": {
   "display_name": "Python 3",
   "language": "python",
   "name": "python3"
  },
  "language_info": {
   "codemirror_mode": {
    "name": "ipython",
    "version": 2
   },
   "file_extension": ".py",
   "mimetype": "text/x-python",
   "name": "python",
   "nbconvert_exporter": "python",
   "pygments_lexer": "ipython2",
   "version": "2.7.6"
  }
 },
 "nbformat": 4,
 "nbformat_minor": 5
}
