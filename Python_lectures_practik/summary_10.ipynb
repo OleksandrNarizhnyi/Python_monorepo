{
 "cells": [
  {
   "cell_type": "code",
   "id": "initial_id",
   "metadata": {
    "collapsed": true,
    "ExecuteTime": {
     "end_time": "2024-11-29T09:05:57.483501Z",
     "start_time": "2024-11-29T09:05:57.469278Z"
    }
   },
   "source": [
    "# Написать функцию, которая принимает этот список продуктов и возвращает\n",
    "# новый список, содержащий только те продукты, которые есть в наличии\n",
    "# и их цена не превышает 1000 рублей. Решить сперва итеративным подходом и затем с\n",
    "# использованием функций высшего порядка (для сверки разницы кода).\n",
    "products = [\n",
    "    {\"name\": \"Smart TV\", \"price\": 130, \"available\": True, },\n",
    "    {\"name\": \"Wireless Bluetooth Headphones\", \"price\": 220, \"available\": False, },\n",
    "    {\"name\": \"Laptop\", \"price\": 14, \"available\": True, },\n",
    "    {\"name\": \"Digital Camera\", \"price\": 432, \"available\": False, },\n",
    "    {\"name\": \"Gaming Console\", \"price\": 556, \"available\": True, },\n",
    "    {\"name\": \"Smartwatch\", \"price\": 170, \"available\": False, },\n",
    "    {\"name\": \"Portable Bluetooth Speaker\", \"price\": 130, \"available\": False, },\n",
    "    {\"name\": \"Drone\", \"price\": 854, \"available\": True, },\n",
    "    {\"name\": \"Virtual Reality Headset\", \"price\": 945, \"available\": False, },\n",
    "    {\"name\": \"Wireless Earbuds\", \"price\": 1500, \"available\": True, },\n",
    "    {\"name\": \"Tablet\", \"price\": 894, \"available\": True, },\n",
    "    {\"name\": \"Smart Home Security System\", \"price\": 135, \"available\": False, },\n",
    "    {\"name\": \"Fitness Tracker\", \"price\": 25, \"available\": True, },\n",
    "    {\"name\": \"External Hard Drive\", \"price\": 659, \"available\": False, },\n",
    "    {\"name\": \"Bluetooth Keyboard\", \"price\": 2654, \"available\": False, },\n",
    "    {\"name\": \"Noise-Canceling Headphones\", \"price\": 819, \"available\": True, },\n",
    "    {\"name\": \"Action Camera\", \"price\": 9511, \"available\": True, },\n",
    "    {\"name\": \"Wi-Fi Router\", \"price\": 9156, \"available\": True, },\n",
    "    {\"name\": \"Gaming Mouse\", \"price\": 123, \"available\": True, },\n",
    "    {\"name\": \"Wireless Charging Pad\", \"price\": 10125, \"available\": False, },\n",
    "    {\"name\": \"Sofa bed\", \"price\": 945, \"available\": True, },\n",
    "    {\"name\": \"Dining table\", \"price\": 12, \"available\": False, },\n",
    "    {\"name\": \"Wardrobe\", \"price\": 85, \"available\": False, },\n",
    "    {\"name\": \"Coffee table\", \"price\": 73, \"available\": True, },\n",
    "    {\"name\": \"Recliner chair\", \"price\": 856, \"available\": False, },\n",
    "    {\"name\": \"Bookcase\", \"price\": 1500, \"available\": True, },\n",
    "    {\"name\": \"Bed frame\", \"price\": 999, \"available\": True, },\n",
    "    {\"name\": \"Dressing table\", \"price\": 12, \"available\": False, },\n",
    "    {\"name\": \"TV stand\", \"price\": 3, \"available\": False, },\n",
    "    {\"name\": \"Ottoman\", \"price\": 84, \"available\": True, },\n",
    "]\n",
    "\n",
    "# def sorting(data):\n",
    "#     products_in_stock = []\n",
    "#     for elem in data:\n",
    "#         if elem[\"price\"] <= 1000 and elem[\"available\"]:\n",
    "#             products_in_stock.append(elem)\n",
    "#     return products_in_stock\n",
    "# \n",
    "# for row in sorting(data=products):\n",
    "#     print(row)\n",
    "    \n",
    "    \n",
    "def sorting_v2(data):\n",
    "    prod_stock = list(filter(lambda x: x[\"price\"] <= 1000 and x[\"available\"], data))\n",
    "    return prod_stock\n",
    "for row in sorting_v2(data=products):\n",
    "    print(row)"
   ],
   "outputs": [
    {
     "name": "stdout",
     "output_type": "stream",
     "text": [
      "{'name': 'Smart TV', 'price': 130, 'available': True}\n",
      "{'name': 'Laptop', 'price': 14, 'available': True}\n",
      "{'name': 'Gaming Console', 'price': 556, 'available': True}\n",
      "{'name': 'Drone', 'price': 854, 'available': True}\n",
      "{'name': 'Tablet', 'price': 894, 'available': True}\n",
      "{'name': 'Fitness Tracker', 'price': 25, 'available': True}\n",
      "{'name': 'Noise-Canceling Headphones', 'price': 819, 'available': True}\n",
      "{'name': 'Gaming Mouse', 'price': 123, 'available': True}\n",
      "{'name': 'Sofa bed', 'price': 945, 'available': True}\n",
      "{'name': 'Coffee table', 'price': 73, 'available': True}\n",
      "{'name': 'Bed frame', 'price': 999, 'available': True}\n",
      "{'name': 'Ottoman', 'price': 84, 'available': True}\n"
     ]
    }
   ],
   "execution_count": 8
  },
  {
   "metadata": {
    "ExecuteTime": {
     "end_time": "2024-11-29T09:34:46.622503Z",
     "start_time": "2024-11-29T09:34:46.608115Z"
    }
   },
   "cell_type": "code",
   "source": [
    "orders = [\n",
    "    {'id': 1, 'table_number': 5, 'bill': 25.50},\n",
    "    {'id': 2, 'table_number': 10, 'bill': 42.75},\n",
    "    {'id': 3, 'table_number': 3, 'bill': 15.20},\n",
    "    {'id': 4, 'table_number': 8, 'bill': 37.90},\n",
    "    {'id': 5, 'table_number': 2, 'bill': 10.50},\n",
    "    {'id': 6, 'table_number': 12, 'bill': 55.80},\n",
    "    {'id': 7, 'table_number': 6, 'bill': 29.95},\n",
    "    {'id': 8, 'table_number': 9, 'bill': 41.10},\n",
    "    {'id': 9, 'table_number': 4, 'bill': 19.75},\n",
    "    {'id': 10, 'table_number': 7, 'bill': 34.60},\n",
    "    {'id': 11, 'table_number': 1, 'bill': 8.25},\n",
    "    {'id': 12, 'table_number': 11, 'bill': 50.40},\n",
    "    {'id': 13, 'table_number': 5, 'bill': 25.00},\n",
    "    {'id': 14, 'table_number': 10, 'bill': 43.25},\n",
    "    {'id': 15, 'table_number': 3, 'bill': 16.80},\n",
    "    {'id': 16, 'table_number': 8, 'bill': 38.50},\n",
    "    {'id': 17, 'table_number': 2, 'bill': 11.75},\n",
    "    {'id': 18, 'table_number': 12, 'bill': 56.20},\n",
    "    {'id': 19, 'table_number': 6, 'bill': 30.50},\n",
    "    {'id': 20, 'table_number': 9, 'bill': 42.90},\n",
    "    {'id': 21, 'table_number': 4, 'bill': 20.25},\n",
    "    {'id': 22, 'table_number': 7, 'bill': 35.10},\n",
    "    {'id': 23, 'table_number': 1, 'bill': 9.75},\n",
    "    {'id': 24, 'table_number': 11, 'bill': 51.60},\n",
    "    {'id': 25, 'table_number': 5, 'bill': 25.50},\n",
    "    {'id': 26, 'table_number': 10, 'bill': 42.75},\n",
    "    {'id': 27, 'table_number': 3, 'bill': 15.20},\n",
    "    {'id': 28, 'table_number': 8, 'bill': 37.90},\n",
    "    {'id': 29, 'table_number': 2, 'bill': 10.50},\n",
    "    {'id': 30, 'table_number': 12, 'bill': 55.80}\n",
    "]\n",
    "# Есть список словарей, где каждый словарь представляет\n",
    "# один заказ со следующими полями: 'id', 'table_number' и 'bill'.\n",
    "# Написать функцию, которая принимает этот список заказов и\n",
    "# возвращает новый список заказов, отсортированный по\n",
    "# убыванию суммы заказа. Решить сперва итеративным подходом и затем с\n",
    "# использованием функций высшего порядка (для сверки разницы кода).\n",
    "def bubble_sort_orders(data: list[dict]) -> list[dict]:\n",
    "    data_len = len(data)\n",
    "\n",
    "    for i in range(data_len):\n",
    "        sorted_ = True\n",
    "\n",
    "        for j in range(data_len - i - 1):\n",
    "            if data[j]['bill'] > data[j + 1]['bill']:\n",
    "                data[j], data[j + 1] = data[j + 1], data[j]\n",
    "\n",
    "                sorted_ = False\n",
    "        if sorted_:\n",
    "            break\n",
    "\n",
    "    return data\n",
    "for row in bubble_sort_orders(data=orders):\n",
    "    print(row)\n",
    "    \n",
    "def bubble_sort_orders_v2(data: list[dict]) -> list[dict]:\n",
    "    data_new = sorted(data, key=lambda x: x['bill'], reverse=True)\n",
    "    return data_new\n",
    "for row in bubble_sort_orders_v2(data=orders):\n",
    "    print(row)"
   ],
   "id": "17db03205e4a608",
   "outputs": [
    {
     "name": "stdout",
     "output_type": "stream",
     "text": [
      "{'id': 18, 'table_number': 12, 'bill': 56.2}\n",
      "{'id': 6, 'table_number': 12, 'bill': 55.8}\n",
      "{'id': 30, 'table_number': 12, 'bill': 55.8}\n",
      "{'id': 24, 'table_number': 11, 'bill': 51.6}\n",
      "{'id': 12, 'table_number': 11, 'bill': 50.4}\n",
      "{'id': 14, 'table_number': 10, 'bill': 43.25}\n",
      "{'id': 20, 'table_number': 9, 'bill': 42.9}\n",
      "{'id': 2, 'table_number': 10, 'bill': 42.75}\n",
      "{'id': 26, 'table_number': 10, 'bill': 42.75}\n",
      "{'id': 8, 'table_number': 9, 'bill': 41.1}\n",
      "{'id': 16, 'table_number': 8, 'bill': 38.5}\n",
      "{'id': 4, 'table_number': 8, 'bill': 37.9}\n",
      "{'id': 28, 'table_number': 8, 'bill': 37.9}\n",
      "{'id': 22, 'table_number': 7, 'bill': 35.1}\n",
      "{'id': 10, 'table_number': 7, 'bill': 34.6}\n",
      "{'id': 19, 'table_number': 6, 'bill': 30.5}\n",
      "{'id': 7, 'table_number': 6, 'bill': 29.95}\n",
      "{'id': 1, 'table_number': 5, 'bill': 25.5}\n",
      "{'id': 25, 'table_number': 5, 'bill': 25.5}\n",
      "{'id': 13, 'table_number': 5, 'bill': 25.0}\n",
      "{'id': 21, 'table_number': 4, 'bill': 20.25}\n",
      "{'id': 9, 'table_number': 4, 'bill': 19.75}\n",
      "{'id': 15, 'table_number': 3, 'bill': 16.8}\n",
      "{'id': 3, 'table_number': 3, 'bill': 15.2}\n",
      "{'id': 27, 'table_number': 3, 'bill': 15.2}\n",
      "{'id': 17, 'table_number': 2, 'bill': 11.75}\n",
      "{'id': 5, 'table_number': 2, 'bill': 10.5}\n",
      "{'id': 29, 'table_number': 2, 'bill': 10.5}\n",
      "{'id': 23, 'table_number': 1, 'bill': 9.75}\n",
      "{'id': 11, 'table_number': 1, 'bill': 8.25}\n"
     ]
    }
   ],
   "execution_count": 17
  },
  {
   "metadata": {},
   "cell_type": "code",
   "outputs": [],
   "execution_count": null,
   "source": [
    "user_1 = \"guitar, painting, programming, books, camping\"\n",
    "user_2 = \"camping, hiking, programming\"\n",
    "user_3 = \"\"\n",
    "\n",
    "\n",
    "def calculate_matches_percentage(*args):\n",
    "    all_hobbies = [set(elem.split(', ')) for elem in args]\n",
    "    print(all_hobbies)\n",
    "    print(\"=\"*50)\n",
    "    print(*all_hobbies)\n",
    "    common_hobbies = set.intersection(*all_hobbies)\n",
    "    result = len(common_hobbies) / (len(set.union(*all_hobbies))) * 100\n",
    "\n",
    "    return result"
   ],
   "id": "fc33ba008972eb7d"
  },
  {
   "metadata": {
    "ExecuteTime": {
     "end_time": "2024-11-29T09:19:41.353460Z",
     "start_time": "2024-11-29T09:19:41.338289Z"
    }
   },
   "cell_type": "code",
   "source": [
    "new_data = [8, 4, 2, 7, 9, 3, 5, 6, 1]\n",
    "\n",
    "\n",
    "def bubble_sort(data):\n",
    "    data_len = len(data)\n",
    "\n",
    "    for i in range(data_len):\n",
    "        sorted_ = True\n",
    "\n",
    "        for j in range(data_len - i - 1):\n",
    "            if data[j] > data[j + 1]:\n",
    "                data[j], data[j + 1] = data[j + 1], data[j]\n",
    "\n",
    "                sorted_ = False\n",
    "        if sorted_:\n",
    "            break\n",
    "\n",
    "    return data\n",
    "print(bubble_sort(new_data))"
   ],
   "id": "ed940491dc3f7676",
   "outputs": [
    {
     "name": "stdout",
     "output_type": "stream",
     "text": [
      "[1, 2, 3, 4, 5, 6, 7, 8, 9]\n"
     ]
    }
   ],
   "execution_count": 9
  }
 ],
 "metadata": {
  "kernelspec": {
   "display_name": "Python 3",
   "language": "python",
   "name": "python3"
  },
  "language_info": {
   "codemirror_mode": {
    "name": "ipython",
    "version": 2
   },
   "file_extension": ".py",
   "mimetype": "text/x-python",
   "name": "python",
   "nbconvert_exporter": "python",
   "pygments_lexer": "ipython2",
   "version": "2.7.6"
  }
 },
 "nbformat": 4,
 "nbformat_minor": 5
}
