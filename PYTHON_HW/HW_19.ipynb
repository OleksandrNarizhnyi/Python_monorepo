{
 "cells": [
  {
   "metadata": {
    "ExecuteTime": {
     "end_time": "2024-11-27T21:40:07.957027Z",
     "start_time": "2024-11-27T21:40:07.943974Z"
    }
   },
   "cell_type": "code",
   "source": [
    "# 1. Напишите программу, которая принимает список слов и возвращает список, содержащий\n",
    "# только анаграммы.\n",
    "# Анаграммы - это слова, составленные из одних и тех же букв, но в разном порядке. Создайте\n",
    "# функцию anagrams, которая принимает список слов в качестве аргумента и возвращает список\n",
    "# анаграмм.\n",
    "# Используйте множества и сортировку букв в слове для проверки на анаграмму. Выведите\n",
    "# результат на экран.\n",
    "# Пример переданного списка слов:\n",
    "# ['cat', 'dog', 'tac', 'god', 'act']\n",
    "# Пример вывода:\n",
    "# Анаграммы: ['dog', 'god'], ['cat', 'tac', 'act']\n",
    "def anagrams(var_list: list) -> list:\n",
    "  anagram_group = []\n",
    "\n",
    "\n",
    "  while len(var_list) > 0:\n",
    "    elemi = var_list[0]\n",
    "    temp_group = {elemi}\n",
    "    for elemj in var_list:\n",
    "      if sorted(elemi.lower()) == sorted(elemj.lower()) and not elemi.isdigit():\n",
    "        temp_group.add(elemj)\n",
    "    for item in temp_group:\n",
    "      var_list.remove(item)\n",
    "    if len(temp_group) > 1:\n",
    "      anagram_group.append(list(temp_group))\n",
    "  return anagram_group\n",
    "\n",
    "user_text = ['cat', 'тест', 'тесТ', '9872398y', 'y9872398', '67756', '76756', 'dog', 'dog', 'tac', 'Act', 'Act', 'god', 'ert', 'doog']\n",
    "\n",
    "print(anagrams(user_text))\n",
    "        \n",
    "\n"
   ],
   "id": "c1a12c34e74471dd",
   "outputs": [
    {
     "name": "stdout",
     "output_type": "stream",
     "text": [
      "[['tac', 'Act', 'cat'], ['тесТ', 'тест'], ['y9872398', '9872398y'], ['god', 'dog']]\n"
     ]
    }
   ],
   "execution_count": 9
  },
  {
   "metadata": {
    "ExecuteTime": {
     "end_time": "2024-11-27T21:05:27.187945Z",
     "start_time": "2024-11-27T21:05:27.166340Z"
    }
   },
   "cell_type": "code",
   "source": [
    "test_words = ['cat', 'dog', 'tac', 'god', 'act']\n",
    "\n",
    "def anagrams(words_list):\n",
    "    seen_words = set()\n",
    "    anagrams_words = []\n",
    "    for i in range(len(words_list)):\n",
    "        if i in seen_words:\n",
    "            continue\n",
    "            \n",
    "        current_group = [words_list[i]]\n",
    "        sorted_word = ''.join(sorted(words_list[i]))\n",
    "        \n",
    "        for j in range(i + 1, len(words_list)):\n",
    "            if ''.join(sorted(words_list[j])) == sorted_word:\n",
    "                current_group.append(words_list[j])\n",
    "                seen_words.add(j)\n",
    "                \n",
    "        if len(current_group) > 1:\n",
    "            anagrams_words.append(current_group)\n",
    "                \n",
    "    return anagrams_words\n",
    "\n",
    "ana_grams = anagrams(test_words)\n",
    "print(f\"Анаграммы: {ana_grams}\")"
   ],
   "id": "adcf4306a1048e02",
   "outputs": [
    {
     "name": "stdout",
     "output_type": "stream",
     "text": [
      "[['tac', 'Act', 'cat'], ['god', 'dog']]\n"
     ]
    }
   ],
   "execution_count": 8
  },
  {
   "metadata": {
    "ExecuteTime": {
     "end_time": "2024-11-27T20:43:52.443138Z",
     "start_time": "2024-11-27T20:43:52.428875Z"
    }
   },
   "cell_type": "code",
   "source": [
    "# 2. Напишите функцию is_subset, которая принимает два множества set1 и set2 и проверяет,\n",
    "# является ли set1 подмножеством set2.\n",
    "# Функция должна возвращать True, если все элементы из set1 содержатся в set2, и False в\n",
    "# противном случае.\n",
    "# Функция должна быть реализована без использования встроенных методов issubset или <=.\n",
    "# Пример множеств:\n",
    "# {1, 2, 3}\n",
    "# {1, 2, 3, 4, 5}\n",
    "# Пример вывода:\n",
    "# True\n",
    "\n",
    "def is_subset(set1: set, set2: set):\n",
    "    if len(set1) > len(set2):\n",
    "        return False\n",
    "    for elem in set1:\n",
    "        if elem not in set2:\n",
    "            return False\n",
    "    return True\n",
    "\n",
    "set_1 = {1, 2, 3}\n",
    "set_2 = {1, 2, 3, 4, 5}\n",
    "print(is_subset(set_1, set_2))\n",
    "print(is_subset(set_2, set_1))  "
   ],
   "id": "9339c7ecfbd9c7dc",
   "outputs": [
    {
     "name": "stdout",
     "output_type": "stream",
     "text": [
      "True\n",
      "False\n"
     ]
    }
   ],
   "execution_count": 7
  }
 ],
 "metadata": {
  "kernelspec": {
   "display_name": "Python 3",
   "language": "python",
   "name": "python3"
  },
  "language_info": {
   "codemirror_mode": {
    "name": "ipython",
    "version": 2
   },
   "file_extension": ".py",
   "mimetype": "text/x-python",
   "name": "python",
   "nbconvert_exporter": "python",
   "pygments_lexer": "ipython2",
   "version": "2.7.6"
  }
 },
 "nbformat": 4,
 "nbformat_minor": 5
}
