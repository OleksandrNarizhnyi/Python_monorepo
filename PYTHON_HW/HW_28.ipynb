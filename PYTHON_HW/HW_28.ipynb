{
 "cells": [
  {
   "cell_type": "code",
   "id": "initial_id",
   "metadata": {
    "collapsed": true,
    "ExecuteTime": {
     "end_time": "2025-01-13T12:38:01.990493Z",
     "start_time": "2025-01-13T12:38:01.982318Z"
    }
   },
   "source": [
    "# Напишите программу, которая принимает список слов от пользователя и использует\n",
    "# генераторное выражение (comprehension) для создания нового списка, содержащего\n",
    "# только те слова, которые начинаются с гласной буквы. Затем программа должна\n",
    "# использовать функцию map, чтобы преобразовать каждое слово в верхний регистр.\n",
    "# В результате программа должна вывести новый список, содержащий только слова,\n",
    "# начинающиеся с гласной буквы и записанные в верхнем регистре.\n",
    "list_words = ['hello', 'world', 'yellow', 'car', 'orange', '1675', 'Update', '. you']\n",
    "vowel_letters = \"AEIOUYaeiouy\"\n",
    "new_words = [word for word in list_words if word[0] in vowel_letters]\n",
    "convert_upper_words = map(lambda word: word.upper(), new_words)\n",
    "print(list(convert_upper_words))"
   ],
   "outputs": [
    {
     "name": "stdout",
     "output_type": "stream",
     "text": [
      "['YELLOW', 'ORANGE', 'UPDATE']\n"
     ]
    }
   ],
   "execution_count": 5
  },
  {
   "metadata": {
    "ExecuteTime": {
     "end_time": "2025-01-13T12:38:04.303721Z",
     "start_time": "2025-01-13T12:38:04.293034Z"
    }
   },
   "cell_type": "code",
   "source": [
    "# Напишите программу, которая принимает список чисел от пользователя и\n",
    "# использует функцию reduce из модуля functools, чтобы найти произведение всех\n",
    "# чисел в списке. Затем программа должна использовать функцию itertools.accumulate\n",
    "# для накопления произведений чисел в новом списке. В результате программа\n",
    "# должна вывести список, содержащий накопленные произведения.\n",
    "\n",
    "from functools import reduce\n",
    "from itertools import accumulate\n",
    "from operator import mul\n",
    "\n",
    "list_numbers = [1, 2, 3, 4, 5, 6, 7, 8, 9, 10]\n",
    "product_reduce = reduce(lambda x, y: x * y, list_numbers)\n",
    "product_accumulate = list(accumulate(list_numbers, mul))\n",
    "print(product_reduce)\n",
    "print(product_accumulate)"
   ],
   "id": "f70baba1bd6ecd27",
   "outputs": [
    {
     "name": "stdout",
     "output_type": "stream",
     "text": [
      "3628800\n",
      "[1, 2, 6, 24, 120, 720, 5040, 40320, 362880, 3628800]\n"
     ]
    }
   ],
   "execution_count": 6
  }
 ],
 "metadata": {
  "kernelspec": {
   "display_name": "Python 3",
   "language": "python",
   "name": "python3"
  },
  "language_info": {
   "codemirror_mode": {
    "name": "ipython",
    "version": 2
   },
   "file_extension": ".py",
   "mimetype": "text/x-python",
   "name": "python",
   "nbconvert_exporter": "python",
   "pygments_lexer": "ipython2",
   "version": "2.7.6"
  }
 },
 "nbformat": 4,
 "nbformat_minor": 5
}
