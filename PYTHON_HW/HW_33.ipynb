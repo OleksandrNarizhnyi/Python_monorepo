{
 "cells": [
  {
   "cell_type": "code",
   "id": "initial_id",
   "metadata": {
    "collapsed": true,
    "ExecuteTime": {
     "end_time": "2025-01-27T11:57:14.936864Z",
     "start_time": "2025-01-27T11:57:14.927481Z"
    }
   },
   "source": [
    "# 1. Реализуйте класс Employee, представляющий сотрудника компании.\n",
    "# Класс должен иметь статическое поле company с названием компании, а также методы:\n",
    "# ● set_company(cls, name): метод класса для изменения названия компании\n",
    "# ● __init__(self, name, position): конструктор, принимающий имя и должность сотрудника\n",
    "# ● get_info(self): метод, возвращающ\n",
    "\n",
    "class Employee:\n",
    "    company = 'Google'\n",
    "    \n",
    "    @classmethod\n",
    "    def set_company(cls, new_comp_name):\n",
    "        cls.company = new_comp_name\n",
    "    \n",
    "    def __init__(self, name, position):\n",
    "        self.name = name\n",
    "        self.position = position\n",
    "        \n",
    "    def get_info(self):\n",
    "        return f\"Name: {self.name}\\nPosition: {self.position}\\nCompany: {self.company}\"\n",
    "    \n",
    "employee = Employee('John', 'CEO')\n",
    "employee1 = Employee('Alex', 'Software Engineer')\n",
    "print(employee.get_info())  \n",
    "print(\"=\"*100)\n",
    "print(employee1.get_info())  \n",
    "print(\"=\"*100)\n",
    "\n",
    "Employee.set_company(\"Apple\")\n",
    "\n",
    "print(employee.get_info())\n",
    "print(\"=\"*100)\n",
    "print(employee1.get_info())"
   ],
   "outputs": [
    {
     "name": "stdout",
     "output_type": "stream",
     "text": [
      "Name: John\n",
      "Position: CEO\n",
      "Company: Google\n",
      "====================================================================================================\n",
      "Name: Alex\n",
      "Position: Software Engineer\n",
      "Company: Google\n",
      "====================================================================================================\n",
      "Name: John\n",
      "Position: CEO\n",
      "Company: Apple\n",
      "====================================================================================================\n",
      "Name: Alex\n",
      "Position: Software Engineer\n",
      "Company: Apple\n"
     ]
    }
   ],
   "execution_count": 6
  },
  {
   "metadata": {
    "ExecuteTime": {
     "end_time": "2025-01-27T12:19:24.303983Z",
     "start_time": "2025-01-27T12:19:24.292607Z"
    }
   },
   "cell_type": "code",
   "source": [
    "# 2. Реализуйте абстрактный базовый класс Shape (фигура), а от него унаследуйте классы\n",
    "# Rectangle (прямоугольник) и Circle (круг).\n",
    "# Класс Shape должен иметь абстрактный метод area, который должен быть реализован в\n",
    "# каждом дочернем классе.\n",
    "# Классы Rectangle и Circle также должны иметь метод perimeter для расчета периметра.\n",
    "# Выведите площадь и периметр прямоугольника и круга на экран.\n",
    "\n",
    "from abc import ABC, abstractmethod\n",
    "\n",
    "class Shape(ABC):\n",
    "    \n",
    "    @abstractmethod\n",
    "    def area(self, *data):\n",
    "        pass\n",
    "    \n",
    "    @abstractmethod\n",
    "    def perimeter(self, *data):\n",
    "        pass\n",
    "    \n",
    "    def shape_info(self):\n",
    "        return f\"Площадь: {self.area()}\\nПериметр: {self.perimeter()}\"\n",
    "    \n",
    "class Circle(Shape):\n",
    "    \n",
    "    def area(self):\n",
    "        return round(3.14 * (self.radius ** 2), 2)\n",
    "    \n",
    "    def perimeter(self):\n",
    "        return round(2 * 3.14 * self.radius, 2)\n",
    "    \n",
    "    def __init__(self, radius):\n",
    "        self.radius = radius\n",
    "     \n",
    "class Rectangle(Shape):\n",
    "    \n",
    "    def area(self):\n",
    "        return self.width * self.height\n",
    "    \n",
    "    def perimeter(self):\n",
    "        return 2 * (self.width + self.height)\n",
    "    \n",
    "    def __init__(self, width, height):\n",
    "        self.width = width\n",
    "        self.height = height\n",
    "        \n",
    "circle = Circle(5)\n",
    "rectangle = Rectangle(5, 10)\n",
    "print(circle.area())\n",
    "print(\"=\"*100)\n",
    "print(circle.perimeter())\n",
    "print(\"=\"*100)\n",
    "print(circle.shape_info())\n",
    "print(\"=\"*100)\n",
    "print(rectangle.area())\n",
    "print(\"=\"*100)\n",
    "print(rectangle.perimeter())\n",
    "print(\"=\"*100)\n",
    "print(rectangle.shape_info())\n",
    "        "
   ],
   "id": "c40613f7f8ba5c4f",
   "outputs": [
    {
     "name": "stdout",
     "output_type": "stream",
     "text": [
      "78.5\n",
      "====================================================================================================\n",
      "31.4\n",
      "====================================================================================================\n",
      "Площадь: 78.5\n",
      "Периметр: 31.4\n",
      "====================================================================================================\n",
      "50\n",
      "====================================================================================================\n",
      "30\n",
      "====================================================================================================\n",
      "Площадь: 50\n",
      "Периметр: 30\n"
     ]
    }
   ],
   "execution_count": 14
  }
 ],
 "metadata": {
  "kernelspec": {
   "display_name": "Python 3",
   "language": "python",
   "name": "python3"
  },
  "language_info": {
   "codemirror_mode": {
    "name": "ipython",
    "version": 2
   },
   "file_extension": ".py",
   "mimetype": "text/x-python",
   "name": "python",
   "nbconvert_exporter": "python",
   "pygments_lexer": "ipython2",
   "version": "2.7.6"
  }
 },
 "nbformat": 4,
 "nbformat_minor": 5
}
