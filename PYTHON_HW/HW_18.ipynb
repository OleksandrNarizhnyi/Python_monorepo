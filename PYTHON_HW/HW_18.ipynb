{
 "cells": [
  {
   "cell_type": "code",
   "id": "initial_id",
   "metadata": {
    "collapsed": true,
    "ExecuteTime": {
     "end_time": "2024-11-22T07:48:38.593571Z",
     "start_time": "2024-11-22T07:48:38.588388Z"
    }
   },
   "source": [
    "# 1. Написать программу, вычисляющую факториал числа.\n",
    "# Решить задачу с помощью рекурсии.\n",
    "def compute_sum(n):\n",
    "    if n == 0:\n",
    "        return 1\n",
    "    else:\n",
    "        return n * compute_sum(n - 1) \n",
    "\n",
    "\n",
    "print(compute_sum(5))"
   ],
   "outputs": [
    {
     "name": "stdout",
     "output_type": "stream",
     "text": [
      "120\n"
     ]
    }
   ],
   "execution_count": 2
  },
  {
   "metadata": {
    "ExecuteTime": {
     "end_time": "2024-11-22T07:46:34.386321Z",
     "start_time": "2024-11-22T07:46:24.873094Z"
    }
   },
   "cell_type": "code",
   "source": [
    "# 2. Напишите программу, которая использует рекурсию для вычисления суммы цифр числа.\n",
    "# Создайте функцию sum_digits, которая принимает один аргумент - число, для которого нужно\n",
    "# вычислить сумму цифр. Используйте условие выхода из рекурсии, когда число состоит из\n",
    "# одной цифры. Выведите результат на экран.\n",
    "# Пример вывода:\n",
    "# Введите число: 12345\n",
    "# Сумма цифр числа 12345 равна 15\n",
    "def sum_digits(n):\n",
    "    \n",
    "    if n < 10:\n",
    "        return n\n",
    "    \n",
    "    return n % 10 + sum_digits(n // 10)\n",
    "\n",
    "\n",
    "number = int(input(\"Введите число: \"))\n",
    "result = sum_digits(number)  # abs для работы с отрицательными числами\n",
    "print(f\"Сумма цифр числа {number} равна {result}\")"
   ],
   "id": "4e9750e049b0bce7",
   "outputs": [
    {
     "name": "stdout",
     "output_type": "stream",
     "text": [
      "Сумма цифр числа 12345 равна 15\n"
     ]
    }
   ],
   "execution_count": 1
  }
 ],
 "metadata": {
  "kernelspec": {
   "display_name": "Python 3",
   "language": "python",
   "name": "python3"
  },
  "language_info": {
   "codemirror_mode": {
    "name": "ipython",
    "version": 2
   },
   "file_extension": ".py",
   "mimetype": "text/x-python",
   "name": "python",
   "nbconvert_exporter": "python",
   "pygments_lexer": "ipython2",
   "version": "2.7.6"
  }
 },
 "nbformat": 4,
 "nbformat_minor": 5
}
