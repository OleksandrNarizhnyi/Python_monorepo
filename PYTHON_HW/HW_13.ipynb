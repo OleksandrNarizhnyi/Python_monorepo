{
 "cells": [
  {
   "cell_type": "code",
   "id": "initial_id",
   "metadata": {
    "collapsed": true,
    "ExecuteTime": {
     "end_time": "2024-11-05T11:38:02.561239Z",
     "start_time": "2024-11-05T11:37:57.409496Z"
    }
   },
   "source": [
    "#1. Напишите программу, которая принимает два числа и возвращает их сумму и произведение в виде кортежа (sum, product). \n",
    "# Используйте функцию для вычисления суммы и произведения. \n",
    "# Выведите результат на экран с помощью команды print.\n",
    "\n",
    "\n",
    "# Пример вывода:\n",
    "\n",
    "\n",
    "# Введите первое число: 3\n",
    "\n",
    "# Введите второе число: 4\n",
    "\n",
    "\n",
    "# Сумма и произведение чисел: (7, 12)\n",
    "a = int(input(\"Enter a number: \"))\n",
    "b = int(input(\"Enter another number: \"))\n",
    "def sum_product(val_1, val_2):\n",
    "    summa = a + b\n",
    "    product = a * b\n",
    "    return summa, product\n",
    "print(\"Сумма и произведение чисел: \", sum_product(a, b))   \n",
    "\n"
   ],
   "outputs": [
    {
     "name": "stdout",
     "output_type": "stream",
     "text": [
      "Сумма и произведение чисел:  (7, 12)\n"
     ]
    }
   ],
   "execution_count": 1
  },
  {
   "metadata": {
    "ExecuteTime": {
     "end_time": "2024-11-05T12:07:51.441354Z",
     "start_time": "2024-11-05T12:07:51.434206Z"
    }
   },
   "cell_type": "code",
   "source": [
    "#2. Напишите программу, которая принимает список чисел и возвращает сумму, минимальное и максимальное значение из списка. \n",
    "# Используйте функцию для обработки списка чисел и возврата трех значений. \n",
    "# Выведите результат на экран с помощью команды print.\n",
    "\n",
    "\n",
    "# Пример вывода:\n",
    "\n",
    "\n",
    "# Введите числа:  3, 7, 2, 9, 1, 5\n",
    "\n",
    "# Сумма чисел: 27\n",
    "\n",
    "# Минимальное значение: 1\n",
    "\n",
    "# Максимальное значение: 9\n",
    "\n",
    "list_num = [3, 7, 2, 9, 1, 5]\n",
    "def min_max_sum(list_num):\n",
    "    total_sum = sum(list_num)       # Сумма чисел\n",
    "    min_value = min(list_num)       # Минимальное значение\n",
    "    max_value = max(list_num)       # Максимальное значение\n",
    "    return total_sum, min_value, max_value\n",
    "       \n",
    "result = min_max_sum(list_num)\n",
    "print(\"Сумма чисел: \", result[0])\n",
    "print(\"Минимальное значение: \", result[1])\n",
    "print(\"Максимальное значение: \", result[2])  "
   ],
   "id": "dec9333ee385e13b",
   "outputs": [
    {
     "name": "stdout",
     "output_type": "stream",
     "text": [
      "Сумма чисел:  27\n",
      "Минимальное значение:  1\n",
      "Максимальное значение:  9\n"
     ]
    }
   ],
   "execution_count": 15
  },
  {
   "metadata": {},
   "cell_type": "code",
   "outputs": [],
   "execution_count": null,
   "source": [
    "# list_of_data = [3, 7, 2, 9, 1, 5]\n",
    "\n",
    "list_of_data = input(\"Enter your values [with spaces]: \").strip().split()\n",
    "# 4 3 7 hello hi 3 q 0 28 17\n",
    "\n",
    "# my_data = [int(x) for x in list_of_data]\n",
    "my_data = []\n",
    "\n",
    "\n",
    "for elem in list_of_data:\n",
    "    if elem.isdigit():\n",
    "        my_data.append(int(elem))\n",
    "\n",
    "\n",
    "def return_values_data(data):\n",
    "    return sum(data), min(data), max(data)\n",
    "sum_, min_, max_ = return_values_data(my_data)\n",
    "\n",
    "print(f\"Sum of data = {sum_}\")\n",
    "print(f\"Min of data = {min_}\")\n",
    "print(f\"Max of data = {max_}\")"
   ],
   "id": "d160b970112b02a5"
  }
 ],
 "metadata": {
  "kernelspec": {
   "display_name": "Python 3",
   "language": "python",
   "name": "python3"
  },
  "language_info": {
   "codemirror_mode": {
    "name": "ipython",
    "version": 2
   },
   "file_extension": ".py",
   "mimetype": "text/x-python",
   "name": "python",
   "nbconvert_exporter": "python",
   "pygments_lexer": "ipython2",
   "version": "2.7.6"
  }
 },
 "nbformat": 4,
 "nbformat_minor": 5
}
