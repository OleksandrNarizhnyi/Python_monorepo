{
 "cells": [
  {
   "cell_type": "code",
   "execution_count": null,
   "id": "initial_id",
   "metadata": {
    "collapsed": true
   },
   "outputs": [],
   "source": [
    "# Напишите программу, которая запрашивает у пользователя число и проверяет, является\n",
    "# ли оно положительным.\n",
    "# Если число отрицательное, выбросите исключение ValueError с сообщением: \"Число\n",
    "# должно быть положительным\".\n",
    "# Обработайте исключение и выведите соответствующее сообщение\n",
    "\n",
    "x = int(input(\"Введите положительное число: \"))\n",
    "if x < 0:\n",
    "    raise ValueError(\"Число должно быть положительным\")\n",
    "else:\n",
    "    print(\"Вы ввели: \", x)"
   ]
  },
  {
   "metadata": {
    "ExecuteTime": {
     "end_time": "2024-12-08T18:02:05.798058Z",
     "start_time": "2024-12-08T18:02:05.789586Z"
    }
   },
   "cell_type": "code",
   "source": [
    "# Напишите программу, которая открывает файл, считывает его содержимое и выполняет\n",
    "# операции над числами в файле.\n",
    "# Обработайте возможные исключения при открытии файла (FileNotFoundError) и при\n",
    "# выполнении операций над числами (ValueError, ZeroDivisionError).\n",
    "# Используйте конструкцию try-except-finally для обработки исключений и закрытия файла\n",
    "# в блоке finally.\n",
    "\n",
    "try:\n",
    "    file = open(\"hw22.txt\", \"r\")\n",
    "except FileNotFoundError:\n",
    "    print(\"Файл не найден\")\n",
    "else:\n",
    "    try:\n",
    "        s = [int(i) for i in file.readlines()]\n",
    "        print(s[0] / s[1])\n",
    "    except ValueError:\n",
    "        print(\"Некорректные данные в файле\")\n",
    "    except ZeroDivisionError:\n",
    "        print(\"Делить на ноль нельзя\")\n",
    "    finally:\n",
    "        file.close()"
   ],
   "id": "95b75bdb60efa3a5",
   "outputs": [
    {
     "name": "stdout",
     "output_type": "stream",
     "text": [
      "Некорректные данные в файле\n"
     ]
    }
   ],
   "execution_count": 4
  },
  {
   "metadata": {},
   "cell_type": "code",
   "outputs": [],
   "execution_count": null,
   "source": "",
   "id": "8c1518fd9749c4a6"
  }
 ],
 "metadata": {
  "kernelspec": {
   "display_name": "Python 3",
   "language": "python",
   "name": "python3"
  },
  "language_info": {
   "codemirror_mode": {
    "name": "ipython",
    "version": 2
   },
   "file_extension": ".py",
   "mimetype": "text/x-python",
   "name": "python",
   "nbconvert_exporter": "python",
   "pygments_lexer": "ipython2",
   "version": "2.7.6"
  }
 },
 "nbformat": 4,
 "nbformat_minor": 5
}
