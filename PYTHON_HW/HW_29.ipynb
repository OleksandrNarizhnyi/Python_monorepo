{
 "cells": [
  {
   "cell_type": "code",
   "id": "initial_id",
   "metadata": {
    "collapsed": true,
    "ExecuteTime": {
     "end_time": "2025-01-13T12:26:29.590271Z",
     "start_time": "2025-01-13T12:26:29.579353Z"
    }
   },
   "source": [
    "# Создайте класс Rectangle для представления прямоугольника. Класс должен иметь\n",
    "# атрибуты width (ширина) и height (высота), а также метод calculate_area(), который\n",
    "# вычисляет площадь прямоугольника. Затем создайте экземпляр класса Rectangle с\n",
    "# заданными значениями ширины и высоты и выведите его площадь.\n",
    "class Rectangle:\n",
    "    def __init__(self, width: float, height: float):\n",
    "        self.width = width\n",
    "        self.height = height\n",
    "        \n",
    "    def calculate_area(self):\n",
    "        return self.width * self.height\n",
    "    \n",
    "rectangle = [\n",
    "    Rectangle(4, 5),\n",
    "    Rectangle(2.5, 3),\n",
    "    Rectangle(0.15, 60),\n",
    "    Rectangle(11, 11),\n",
    "    Rectangle(5, 0.2)\n",
    "]\n",
    "for element in rectangle:\n",
    "    print(element.calculate_area())"
   ],
   "outputs": [
    {
     "name": "stdout",
     "output_type": "stream",
     "text": [
      "20\n",
      "7.5\n",
      "9.0\n",
      "121\n",
      "1.0\n"
     ]
    }
   ],
   "execution_count": 1
  },
  {
   "metadata": {
    "ExecuteTime": {
     "end_time": "2025-01-13T12:32:21.260810Z",
     "start_time": "2025-01-13T12:32:21.251839Z"
    }
   },
   "cell_type": "code",
   "source": [
    "# Создайте класс Student для представления студента. Класс должен иметь атрибуты name\n",
    "# (имя) и age (возраст), а также метод display_info(), который выводит информацию о\n",
    "# студенте. Затем создайте экземпляр класса Student с заданным именем и возрастом и\n",
    "# вызовите метод display_info().\n",
    "class Student:\n",
    "    def __init__(self, name: str, age: int):\n",
    "        self.name = name\n",
    "        self.age = age\n",
    "        \n",
    "    def display_info(self):\n",
    "        return self.name, self.age\n",
    "    \n",
    "students = [\n",
    "    Student('Jack', 18),\n",
    "    Student('Jany', 20),\n",
    "    Student('Denis', 19),\n",
    "    Student('Anna', 21),\n",
    "    Student('Boris', 17),\n",
    "]\n",
    "\n",
    "for student in students:\n",
    "    print(f\"Имя и возраст студента: {student.display_info()}\")"
   ],
   "id": "76195db00144cca",
   "outputs": [
    {
     "name": "stdout",
     "output_type": "stream",
     "text": [
      "Имя и возраст студента: ('Jack', 18)\n",
      "Имя и возраст студента: ('Jany', 20)\n",
      "Имя и возраст студента: ('Denis', 19)\n",
      "Имя и возраст студента: ('Anna', 21)\n",
      "Имя и возраст студента: ('Boris', 17)\n"
     ]
    }
   ],
   "execution_count": 2
  }
 ],
 "metadata": {
  "kernelspec": {
   "display_name": "Python 3",
   "language": "python",
   "name": "python3"
  },
  "language_info": {
   "codemirror_mode": {
    "name": "ipython",
    "version": 2
   },
   "file_extension": ".py",
   "mimetype": "text/x-python",
   "name": "python",
   "nbconvert_exporter": "python",
   "pygments_lexer": "ipython2",
   "version": "2.7.6"
  }
 },
 "nbformat": 4,
 "nbformat_minor": 5
}
