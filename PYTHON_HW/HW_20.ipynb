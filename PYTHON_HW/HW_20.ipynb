{
 "cells": [
  {
   "cell_type": "code",
   "id": "initial_id",
   "metadata": {
    "collapsed": true,
    "ExecuteTime": {
     "end_time": "2024-12-02T12:14:54.884486Z",
     "start_time": "2024-12-02T12:14:54.873856Z"
    }
   },
   "source": [
    "# Напишите функцию merge_dicts, которая принимает произвольное количество словарей в\n",
    "# качестве аргументов и возвращает новый словарь, объединяющий все входные словари.\n",
    "# Если ключи повторяются, значения должны быть объединены в список.\n",
    "# Пример ввода:\n",
    "# {'a': 1, 'b': 2}\n",
    "# {'b': 3, 'c': 4}\n",
    "# {'c': 5, 'd': 6}\n",
    "# Пример вывода:\n",
    "# {'a': [1], 'b': [2, 3], 'c': [4, 5], 'd': [6]}\n",
    "dict_list = [{'a': 1, 'b': 2}, {'b': 3, 'c': 4}, {'c': 5, 'd': 6}] \n",
    "def merge_dicts(*d_list):\n",
    "    keys={}\n",
    "    for i in d_list:\n",
    "        for key, value in i.items():\n",
    "            if key in keys:\n",
    "                keys[key].append(value)\n",
    "            else:\n",
    "                keys[key]=[value]\n",
    "    return keys\n",
    "\n",
    "print(merge_dicts({'a': 1, 'b': 2}, {'b': 3, 'c': 4}, {'c': 5, 'd': 6}))"
   ],
   "outputs": [
    {
     "name": "stdout",
     "output_type": "stream",
     "text": [
      "{'a': [1], 'b': [2, 3], 'c': [4, 5], 'd': [6]}\n"
     ]
    }
   ],
   "execution_count": 6
  },
  {
   "metadata": {
    "ExecuteTime": {
     "end_time": "2024-12-02T12:17:52.238700Z",
     "start_time": "2024-12-02T12:17:47.348025Z"
    }
   },
   "cell_type": "code",
   "source": [
    "# Напишите программу, которая принимает строку от пользователя и подсчитывает\n",
    "# количество уникальных символов в этой строке. Создайте функцию count_unique_chars,\n",
    "# которая принимает строку и возвращает количество уникальных символов. Выведите\n",
    "# результат на экран.\n",
    "# Пример вывода:\n",
    "# Введите строку: hello\n",
    "# Количество уникальных  символов: 4\n",
    "\n",
    "user_input=set(input(\"Введите строку: \"))\n",
    "print(\"Количество уникальных символов: \", len(user_input))"
   ],
   "id": "cc52c6cbbc5a7249",
   "outputs": [
    {
     "name": "stdout",
     "output_type": "stream",
     "text": [
      "Количество уникальных символов:  4\n"
     ]
    }
   ],
   "execution_count": 7
  },
  {
   "metadata": {
    "ExecuteTime": {
     "end_time": "2024-12-02T12:26:09.603742Z",
     "start_time": "2024-12-02T12:26:09.595204Z"
    }
   },
   "cell_type": "code",
   "source": [
    "# Напишите программу, которая создает словарь, содержащий информацию о студентах и их\n",
    "# оценках. Ключами словаря являются имена студентов, а значениями - списки оценок.\n",
    "# Создайте функцию calculate_average_grade, которая принимает словарь с оценками\n",
    "# студентов и вычисляет средний балл для каждого студента. Функция должна возвращать\n",
    "# новый словарь, в котором ключами являются имена студентов, а значениями - их средний\n",
    "# балл. Выведите результат на экран.\n",
    "# Пример словаря с оценками:\n",
    "# grades = {\n",
    "#  'Alice': [85, 90, 92],\n",
    "#  'Bob': [78, 80, 84],\n",
    "#  'Carol': [92, 88, 95]\n",
    "# }\n",
    "grades = {'Alice': [85, 90, 92],'Bob': [78, 80,\n",
    "84],'Carol': [92, 88, 95]}\n",
    "\n",
    "def calculate_average_grade(data: dict):\n",
    "    avg_grade_of_students={}\n",
    "    for key,value in data.items():\n",
    "        avg_grade_of_students[key]=sum(value)/len(value)\n",
    "    return avg_grade_of_students\n",
    "\n",
    "print(calculate_average_grade(grades))\n"
   ],
   "id": "e0bb365a33ba1248",
   "outputs": [
    {
     "name": "stdout",
     "output_type": "stream",
     "text": [
      "{'Alice': 89.0, 'Bob': 80.66666666666667, 'Carol': 91.66666666666667}\n"
     ]
    }
   ],
   "execution_count": 8
  }
 ],
 "metadata": {
  "kernelspec": {
   "display_name": "Python 3",
   "language": "python",
   "name": "python3"
  },
  "language_info": {
   "codemirror_mode": {
    "name": "ipython",
    "version": 2
   },
   "file_extension": ".py",
   "mimetype": "text/x-python",
   "name": "python",
   "nbconvert_exporter": "python",
   "pygments_lexer": "ipython2",
   "version": "2.7.6"
  }
 },
 "nbformat": 4,
 "nbformat_minor": 5
}
