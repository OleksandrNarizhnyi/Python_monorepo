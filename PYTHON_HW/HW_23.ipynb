{
 "cells": [
  {
   "cell_type": "code",
   "id": "initial_id",
   "metadata": {
    "collapsed": true,
    "ExecuteTime": {
     "end_time": "2024-12-09T15:31:18.595304Z",
     "start_time": "2024-12-09T15:31:13.540634Z"
    }
   },
   "source": [
    "# Напишите программу, которая генерирует и выводит квадраты чисел от 1 до N с\n",
    "# использованием генераторного выражения.\n",
    "# Реализуйте функцию generate_squares, которая принимает число N в качестве аргумента и\n",
    "# использует генераторное выражение для генерации квадратов чисел. Затем выведите\n",
    "# квадраты чисел на экран.\n",
    "# Пример работы программы:\n",
    "numer = int(input(\"Введите число N: \"))\n",
    "def generate_squares(n: int) -> int:\n",
    "    gen_squares = (x ** 2 for x in range(n + 1))\n",
    "    for item in gen_squares:\n",
    "        print(item)\n",
    "        \n",
    "generate_squares(numer)\n"
   ],
   "outputs": [
    {
     "name": "stdout",
     "output_type": "stream",
     "text": [
      "0\n",
      "1\n",
      "4\n",
      "9\n",
      "16\n",
      "25\n"
     ]
    }
   ],
   "execution_count": 4
  },
  {
   "metadata": {
    "ExecuteTime": {
     "end_time": "2024-12-09T15:51:17.255905Z",
     "start_time": "2024-12-09T15:51:13.472929Z"
    }
   },
   "cell_type": "code",
   "source": [
    "# Напишите генератор, который будет генерировать бесконечную последовательность\n",
    "# Фибоначчи. Каждый раз, когда генератор вызывается, он должен возвращать следующее\n",
    "# число последовательности.\n",
    "# Напишите программу, которая будет использовать этот генератор для вывода первых N\n",
    "# чисел Фибоначчи.\n",
    "\n",
    "def gen_fibonacci():\n",
    "    a, b = 0, 1\n",
    "    while True:\n",
    "        yield a\n",
    "        a, b = b, a + b\n",
    "        \n",
    "num_fib =  int(input(\"Введите число для последовательности Фибоначчи\"))       \n",
    "gen_fib = gen_fibonacci()\n",
    "for i in range(num_fib):\n",
    "    print(next(gen_fib))\n",
    "\n"
   ],
   "id": "955b106455b3c059",
   "outputs": [
    {
     "name": "stdout",
     "output_type": "stream",
     "text": [
      "0\n",
      "1\n",
      "1\n",
      "2\n",
      "3\n",
      "5\n",
      "8\n",
      "13\n",
      "21\n",
      "34\n"
     ]
    }
   ],
   "execution_count": 9
  }
 ],
 "metadata": {
  "kernelspec": {
   "display_name": "Python 3",
   "language": "python",
   "name": "python3"
  },
  "language_info": {
   "codemirror_mode": {
    "name": "ipython",
    "version": 2
   },
   "file_extension": ".py",
   "mimetype": "text/x-python",
   "name": "python",
   "nbconvert_exporter": "python",
   "pygments_lexer": "ipython2",
   "version": "2.7.6"
  }
 },
 "nbformat": 4,
 "nbformat_minor": 5
}
