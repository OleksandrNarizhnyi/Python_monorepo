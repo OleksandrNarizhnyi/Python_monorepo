{
 "cells": [
  {
   "cell_type": "code",
   "id": "initial_id",
   "metadata": {
    "collapsed": true,
    "ExecuteTime": {
     "end_time": "2024-10-29T12:33:20.193427Z",
     "start_time": "2024-10-29T12:33:04.232304Z"
    }
   },
   "source": [
    "# 1. Напишите программу, которая запрашивает у пользователя его имя, возраст и место проживания, а затем выводит их в следующем формате:\n",
    "# \"Привет, меня зовут {0}. Мне {1} лет. Я живу в {2}.\"\n",
    "# Вместо {0}, {1} и {2} подставьте соответствующие значения.\n",
    "# Используйте метод format() для форматирования строки.\n",
    "# Потом попробуйте использовать f-строку. Выведите результат на экран с помощью команды print.\n",
    "# Пример вывода:\n",
    "# Введите ваше имя: Alice\n",
    "# Введите ваш возраст: 25\n",
    "# Введите ваше место проживания: London\n",
    "# Привет, меня зовут Alice. Мне 25 лет. Я живу в London.\n",
    "name  = input('Введите ваше имя: ')\n",
    "age = input('Введите ваш возраст:')\n",
    "city = input('Введите ваше место проживания: ')\n",
    "print(\"Привет, меня зовут {0}. Мне {1} лет. Я живу в {2}.\".format(name, age, city))\n",
    "print(f\"Привет, меня зовут {name}. Мне {age} лет. Я живу в {city}.\")\n"
   ],
   "outputs": [
    {
     "name": "stdout",
     "output_type": "stream",
     "text": [
      "Привет, меня зовут Alex. Мне 38 лет. Я живу в Kleve.\n",
      "Привет, меня зовут Alex. Мне 38 лет. Я живу в Kleve.\n"
     ]
    }
   ],
   "execution_count": 2
  },
  {
   "metadata": {
    "ExecuteTime": {
     "end_time": "2024-10-29T12:42:46.160870Z",
     "start_time": "2024-10-29T12:42:09.569282Z"
    }
   },
   "cell_type": "code",
   "source": [
    "#2. Напишите программу, которая запрашивает у пользователя два числа и выводит их сумму и произведение в следующем формате:\n",
    "# \"Сумма: {sum:.2f}, Произведение: {product:.2f}\"\n",
    "# Вместо {sum:.2f} и {product:.2f} подставьте соответствующие значения, округленные до двух десятичных знаков. \n",
    "# Используйте f-строки с использованием форматных спецификаторов для форматирования чисел. \n",
    "# Выведите результат на экран с помощью команды print.\n",
    "# Пример вывода:\n",
    "# Введите первое число: 3.14159\n",
    "# Введите второе число: 2.71828\n",
    "# Сумма: 5.86, Произведение: 8.54\n",
    "\n",
    "user_int_1 = float(input('Введите первое число: '))\n",
    "user_int_2 = float(input('Введите второе число: '))\n",
    "sum = user_int_1 + user_int_2\n",
    "product = user_int_1 * user_int_2\n",
    "print(f'Сумма: {sum:.2f}')\n",
    "print(f'Произведение: {product:.2f}')"
   ],
   "id": "c07e94dfa208523f",
   "outputs": [
    {
     "name": "stdout",
     "output_type": "stream",
     "text": [
      "Сумма: 5.86\n",
      "Произведение: 8.54\n"
     ]
    }
   ],
   "execution_count": 5
  },
  {
   "metadata": {
    "ExecuteTime": {
     "end_time": "2024-11-08T09:26:58.512747Z",
     "start_time": "2024-11-08T09:26:54.911268Z"
    }
   },
   "cell_type": "code",
   "source": [
    "# 1. Напишите программу, которая запрашивает у пользователя число N и выводит на экран таблицу умножения от 1 до N.\n",
    "# Используйте вложенный цикл for для создания таблицы умножения. Выведите результат на экран с помощью команды print.\n",
    "n = int(input(\"Введите число N: \"))\n",
    "\n",
    "for i in range(1, n + 1):\n",
    "    for j in range(1, n + 1):\n",
    "        tab = i * j\n",
    "        print(tab, end='\\t')\n",
    "    \n",
    "    print() # \\n"
   ],
   "id": "8f981ff9acedfce2",
   "outputs": [
    {
     "name": "stdout",
     "output_type": "stream",
     "text": [
      "1\t2\t3\t4\t5\t\n",
      "2\t4\t6\t8\t10\t\n",
      "3\t6\t9\t12\t15\t\n",
      "4\t8\t12\t16\t20\t\n",
      "5\t10\t15\t20\t25\t\n"
     ]
    }
   ],
   "execution_count": 22
  },
  {
   "metadata": {
    "ExecuteTime": {
     "end_time": "2024-11-08T09:30:59.528498Z",
     "start_time": "2024-11-08T09:30:59.515950Z"
    }
   },
   "cell_type": "code",
   "source": [
    "# Есть файл \"requests.txt\". В этом файле лежат данные с какого-то сайта (IP адрес откуда шёл запрос, дата запроса, прочие подробности).\n",
    "# Задача: Открыть этот файл, посчитать кол-во IP адресов из этого файла.\n",
    "# Использовать можно строки, методы строк, форматирование, работу с индексами и срезами, циклы, условные конструкции.\n",
    "\n",
    "with open(\"requests.txt\", \"r\", encoding=\"utf-8\") as file:\n",
    "    line_request = file.readlines()\n",
    "    \n",
    "    list_ip = \"\"\n",
    "   \n",
    "    for user_request in line_request:\n",
    "        \n",
    "        ip_adresse = user_request.split()[0]  \n",
    "      \n",
    "        if ip_adresse not in list_ip:\n",
    "            \n",
    "            count = 0\n",
    "            \n",
    "            for user2_request in line_request:\n",
    "                \n",
    "                if ip_adresse == user2_request.split()[0]:\n",
    "                    \n",
    "                    count += 1\n",
    "                    \n",
    "            list_ip +=  ip_adresse + \";\"\n",
    "            \n",
    "            print(f\"{ip_adresse} - {count};\")\n",
    "       "
   ],
   "id": "4be028d92705d6da",
   "outputs": [
    {
     "name": "stdout",
     "output_type": "stream",
     "text": [
      "192.168.1.1 - 16;\n",
      "192.168.1.2 - 15;\n",
      "192.168.1.3 - 15;\n",
      "192.168.1.4 - 7;\n",
      "192.168.1.5 - 7;\n"
     ]
    }
   ],
   "execution_count": 25
  },
  {
   "metadata": {
    "ExecuteTime": {
     "end_time": "2024-11-08T09:21:27.527722Z",
     "start_time": "2024-11-08T09:21:27.517172Z"
    }
   },
   "cell_type": "code",
   "source": [
    "with open(\"requests.txt\", \"r\", encoding=\"utf-8\") as file:\n",
    "    lines = file.readlines()\n",
    "\n",
    "    new_list_ip = \"\"\n",
    "\n",
    "\n",
    "\n",
    "    for item in lines:\n",
    "\n",
    "        ip_address = item.split()[0]\n",
    "\n",
    "        if ip_address not in new_list_ip:\n",
    "\n",
    "            count = 0\n",
    "\n",
    "            for item2 in lines:\n",
    "\n",
    "                if ip_address == item2.split()[0]:\n",
    "\n",
    "                    count += 1\n",
    "\n",
    "            new_list_ip += ip_address + \";\"\n",
    "\n",
    "            print(f\"{ip_address} - {count};\")"
   ],
   "id": "3f3f04e60cf407eb",
   "outputs": [
    {
     "name": "stdout",
     "output_type": "stream",
     "text": [
      "192.168.1.1 - 16;\n",
      "192.168.1.2 - 15;\n",
      "192.168.1.3 - 15;\n",
      "192.168.1.4 - 7;\n",
      "192.168.1.5 - 7;\n"
     ]
    }
   ],
   "execution_count": 20
  },
  {
   "metadata": {},
   "cell_type": "code",
   "outputs": [],
   "execution_count": null,
   "source": [
    "guests_white_list = []\n",
    "black_list = ['Oleg']\n",
    "\n",
    "while True:\n",
    "    guest_surname = input(\"Enter yor name: \")\n",
    "\n",
    "    if guest_surname.strip().lower() == 'end':\n",
    "        break\n",
    "\n",
    "    if guest_surname.strip().capitalize() in black_list:\n",
    "        print(\"You're not welcome!!!!!\")\n",
    "    continue\n",
    "    else:\n",
    "        guests_white_list.append(guest_surname.strip().capitalize())\n",
    "        print(f\"Welcome, {guest_surname.strip().capitalize()}!!\")\n",
    "\n",
    "\n",
    "if guests_white_list:\n",
    "print(\"The full list of guests:\", '\\n'.join(guests_white_list), sep='\\n')"
   ],
   "id": "9b2371a9ff47620d"
  }
 ],
 "metadata": {
  "kernelspec": {
   "display_name": "Python 3",
   "language": "python",
   "name": "python3"
  },
  "language_info": {
   "codemirror_mode": {
    "name": "ipython",
    "version": 2
   },
   "file_extension": ".py",
   "mimetype": "text/x-python",
   "name": "python",
   "nbconvert_exporter": "python",
   "pygments_lexer": "ipython2",
   "version": "2.7.6"
  }
 },
 "nbformat": 4,
 "nbformat_minor": 5
}
