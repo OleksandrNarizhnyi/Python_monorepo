{
 "cells": [
  {
   "cell_type": "code",
   "id": "initial_id",
   "metadata": {
    "collapsed": true,
    "ExecuteTime": {
     "end_time": "2024-11-14T15:07:27.163417Z",
     "start_time": "2024-11-14T15:07:27.156953Z"
    }
   },
   "source": [
    "\n",
    "\n",
    "# 1. Напишите программу, которая принимает матрицу (вложенный список) от пользователя и\n",
    "# находит сумму всех элементов в матрице. Используйте вложенные списки и циклы для\n",
    "# обхода элементов матрицы.\n",
    "# Пример матрицы: [[1, 2, 3], [4, 5, 6], [7, 8, 9]]\n",
    "# Пример вывода:\n",
    "# Сумма элементов в матрице: 45\n",
    "my_matrix = [[1, 2, 3], [4, 5, 6], [7, 8, 9]]\n",
    "sum_all_numbers_in_matrix = sum(sum(my_list) for my_list in my_matrix)\n",
    "print(f\"Сумма элементов в матрице: {sum_all_numbers_in_matrix}\")\n",
    "\n"
   ],
   "outputs": [
    {
     "name": "stdout",
     "output_type": "stream",
     "text": [
      "Сумма элементов в матрице: 45\n"
     ]
    }
   ],
   "execution_count": 20
  },
  {
   "metadata": {
    "ExecuteTime": {
     "end_time": "2024-11-15T08:03:32.615758Z",
     "start_time": "2024-11-15T08:03:29.636113Z"
    }
   },
   "cell_type": "code",
   "source": [
    "# 2. Напишите программу, которая принимает список чисел от пользователя и сортирует его в\n",
    "# порядке убывания, используя метод sort() и параметр reverse=True. Выведите\n",
    "# отсортированный список на экран.\n",
    "# Пример вывода:\n",
    "# Введите список чисел, разделенных пробелами: 5 2 8 1 3 14 57 0\n",
    "# Отсортированный список чисел: [8, 5, 3, 2, 1]\n",
    "\n",
    "list_numbers = input(\"Введите список чисел, разделенных пробелами:\").split()\n",
    "numbers = [int(x) for x in list_numbers]\n",
    "\n",
    "numbers.sort(reverse=True)\n",
    "\n",
    "print(f\"Отсортированный список чисел: {numbers}\")"
   ],
   "id": "e482b9af6415ff02",
   "outputs": [
    {
     "name": "stdout",
     "output_type": "stream",
     "text": [
      "Отсортированный список чисел: [57, 14, 8, 5, 3, 2, 1, 0]\n"
     ]
    }
   ],
   "execution_count": 36
  },
  {
   "metadata": {
    "ExecuteTime": {
     "end_time": "2024-11-14T15:17:05.607101Z",
     "start_time": "2024-11-14T15:17:05.600456Z"
    }
   },
   "cell_type": "code",
   "source": "",
   "id": "5b6e02e0fed28893",
   "outputs": [
    {
     "name": "stdout",
     "output_type": "stream",
     "text": [
      "None\n"
     ]
    }
   ],
   "execution_count": 24
  }
 ],
 "metadata": {
  "kernelspec": {
   "display_name": "Python 3",
   "language": "python",
   "name": "python3"
  },
  "language_info": {
   "codemirror_mode": {
    "name": "ipython",
    "version": 2
   },
   "file_extension": ".py",
   "mimetype": "text/x-python",
   "name": "python",
   "nbconvert_exporter": "python",
   "pygments_lexer": "ipython2",
   "version": "2.7.6"
  }
 },
 "nbformat": 4,
 "nbformat_minor": 5
}
