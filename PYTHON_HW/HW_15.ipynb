{
 "cells": [
  {
   "cell_type": "code",
   "id": "initial_id",
   "metadata": {
    "collapsed": true,
    "ExecuteTime": {
     "end_time": "2024-11-13T11:27:53.134801Z",
     "start_time": "2024-11-13T11:27:46.526195Z"
    }
   },
   "source": [
    "# 1. Напишите функцию, которая принимает список кортежей от пользователя, где каждый кортеж\n",
    "# содержит информацию о студенте (имя, возраст, средний балл). Программа должна вывести на\n",
    "# экран имена студентов, чей средний балл выше заданного значения. Используйте методы\n",
    "# кортежей и циклы для обработки данных.Выведите итоговый список на экран с помощью команды\n",
    "# print.\n",
    "# Пример списка кортежей:\n",
    "# [(\"Alice\", 20, 90), (\"Bob\", 19, 80), (\"Charlie\", 21, 95), (\"David\", 18, 85)]\n",
    "# Пример вывода:\n",
    "# Введите пороговое значение среднего балла: 90\n",
    "# Студенты с средним баллом выше 90 : ['Charlie']\n",
    "\n",
    "list_tuple = [(\"Alice\", 20, 90), (\"Bob\", 19, 80), (\"Charlie\", 21, 95), (\"David\", 18, 85)]\n",
    "avg_points =int(input(\"Введите пороговое значение среднего балла: \"))\n",
    "def high_avg_points(list_data):\n",
    "    list_name = []\n",
    "    for tuple_data in list_tuple:\n",
    "        if tuple_data[2] >= avg_points:\n",
    "            list_name.append(tuple_data[0])\n",
    "    return list_name               \n",
    "print(high_avg_points(list_tuple))"
   ],
   "outputs": [
    {
     "name": "stdout",
     "output_type": "stream",
     "text": [
      "['Alice', 'Charlie']\n"
     ]
    }
   ],
   "execution_count": 6
  },
  {
   "metadata": {
    "ExecuteTime": {
     "end_time": "2024-11-13T11:19:47.804217Z",
     "start_time": "2024-11-13T11:19:47.795743Z"
    }
   },
   "cell_type": "code",
   "source": [
    "# 2. Напишите программу, которая принимает строку от пользователя и разбивает ее на отдельные\n",
    "# слова. Затем программа должна создать новый кортеж, содержащий длину каждого слова в\n",
    "# исходной строке. Используйте методы строк и кортежей для обработки данных.\n",
    "# Пример вывода:\n",
    "# Введите предложение: Программирование это интересно и полезно\n",
    "# Длины слов в предложении: (15, 3, 8, 2, 6)\n",
    "user_str = \"Программирование это интересно и полезно\"\n",
    "user_list_words = user_str.split()\n",
    "list_len_words = []\n",
    "for words in user_list_words:\n",
    "    len_word = len(words)\n",
    "    list_len_words.append(len_word)\n",
    "tuple_len_words = tuple(list_len_words)\n",
    "print(tuple_len_words)"
   ],
   "id": "eae3f0cdb6674521",
   "outputs": [
    {
     "name": "stdout",
     "output_type": "stream",
     "text": [
      "(16, 3, 9, 1, 7)\n"
     ]
    }
   ],
   "execution_count": 4
  },
  {
   "metadata": {},
   "cell_type": "code",
   "outputs": [],
   "execution_count": null,
   "source": "",
   "id": "62ef458e32ab20fd"
  }
 ],
 "metadata": {
  "kernelspec": {
   "display_name": "Python 3",
   "language": "python",
   "name": "python3"
  },
  "language_info": {
   "codemirror_mode": {
    "name": "ipython",
    "version": 2
   },
   "file_extension": ".py",
   "mimetype": "text/x-python",
   "name": "python",
   "nbconvert_exporter": "python",
   "pygments_lexer": "ipython2",
   "version": "2.7.6"
  }
 },
 "nbformat": 4,
 "nbformat_minor": 5
}
