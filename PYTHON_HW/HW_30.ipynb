{
 "cells": [
  {
   "cell_type": "code",
   "id": "initial_id",
   "metadata": {
    "collapsed": true,
    "ExecuteTime": {
     "end_time": "2025-01-16T14:21:30.562778Z",
     "start_time": "2025-01-16T14:21:30.551148Z"
    }
   },
   "source": [
    "from numba.cuda.printimpl import print_item\n",
    "\n",
    "\n",
    "# 1. Создайте класс Rectangle для представления прямоугольника.\n",
    "# Класс должен иметь атрибуты width (ширина) и height (высота) со значениями по\n",
    "# умолчанию, а также методы calculate_area() для вычисления площади прямоугольника и\n",
    "# calculate_perimeter() для вычисления периметра прямоугольника.\n",
    "# Переопределить методы __str__, __repr__.\n",
    "# Затем создайте экземпляр класса Rectangle и выведите информацию о нем,\n",
    "# его площадь и периметр.\n",
    "class Rectangle:\n",
    "    def __init__(self, width: float = 2.0, height: float = 4.0):\n",
    "        self.width = width\n",
    "        self.height = height\n",
    "        \n",
    "    def calculate_area(self):\n",
    "        return self.width * self.height\n",
    "    \n",
    "    def calculate_perimeter(self):\n",
    "        return 2 * self.width + 2 * self.height\n",
    "    \n",
    "    def __str__(self):\n",
    "        return f\"Rectangle: width - {self.width}, height - {self.height}\"\n",
    "    \n",
    "    def __repr__(self):\n",
    "        templatte = \"Rectangle(width={}, height={})\"\n",
    "        return templatte.format(\n",
    "            self.width,\n",
    "            self.height\n",
    "        )\n",
    "    \n",
    "rectangle = Rectangle()\n",
    "rectangle1 = Rectangle(1.2, 2.2)\n",
    "rectangle2 = Rectangle(3,7)\n",
    "rectangle3 = Rectangle(0.5, )\n",
    "\n",
    "print(rectangle)\n",
    "print(\"-\"*100)  \n",
    "print(rectangle1.calculate_area())\n",
    "print(\"-\"*100)\n",
    "print(rectangle2.calculate_perimeter())\n",
    "print(\"-\"*100)\n",
    "print(repr(rectangle3))\n",
    "\n"
   ],
   "outputs": [
    {
     "name": "stdout",
     "output_type": "stream",
     "text": [
      "Rectangle: width - 2.0, height - 4.0\n",
      "----------------------------------------------------------------------------------------------------\n",
      "2.64\n",
      "----------------------------------------------------------------------------------------------------\n",
      "20\n",
      "----------------------------------------------------------------------------------------------------\n",
      "Rectangle(width=0.5, height=4.0)\n"
     ]
    }
   ],
   "execution_count": 8
  },
  {
   "metadata": {
    "ExecuteTime": {
     "end_time": "2025-01-16T14:48:36.919414Z",
     "start_time": "2025-01-16T14:48:36.907826Z"
    }
   },
   "cell_type": "code",
   "source": [
    "# 2. Создайте класс BankAccount для представления банковского счета.\n",
    "# Класс должен иметь атрибуты account_number (номер счета) и balance (баланс), а также\n",
    "# методы deposit() для внесения денег на счет и withdraw() для снятия денег со счета.\n",
    "# Затем создайте экземпляр класса BankAccount, внесите на счет некоторую сумму и снимите\n",
    "# часть денег. Выведите оставшийся баланс.\n",
    "# Не забудьте предусмотреть вариант, при котором при снятии баланс может стать меньше\n",
    "# нуля. В этом случае уходить в минус не будем, вместо чего будем возвращать сообщение\n",
    "# \"Недостаточно средств на счете\".\n",
    "class BankAccount:\n",
    "    def __init__(self, account_number: int, balance: float):\n",
    "        self.__account_number = account_number \n",
    "        self.__balance = balance \n",
    "        \n",
    "    def deposit(self, amount: float):\n",
    "        self.__balance += amount\n",
    "        return f\"Баланс пополнен на - {amount}. Новый баланс: {self.__balance}\"\n",
    "    \n",
    "    def withdraw(self, amount: float):\n",
    "        if 0 < amount <= self.__balance:\n",
    "            self.__balance -= amount\n",
    "        else:\n",
    "            return \"Недостаточно средств на счетe\"\n",
    "        return f\"Вы сняли - {amount}. Новый баланс: {self.__balance}\"\n",
    "    def __str__(self):\n",
    "        return f\"Ваш банковский счет: номер счета - {self.__account_number}, баланс - {self.__balance}\"\n",
    "\n",
    "bank_account = BankAccount(90000056, 0.0)   \n",
    " \n",
    "print(bank_account)\n",
    "print(\"-\"*100)\n",
    "print(bank_account.deposit(123.45))  \n",
    "print(\"-\"*100)     \n",
    "print(bank_account.withdraw(3.4))\n",
    "print(\"-\"*100)\n",
    "print(bank_account)\n",
    "print(\"-\"*100)\n",
    "print(bank_account.withdraw(200.2))\n",
    "\n"
   ],
   "id": "2080d8163055fdfe",
   "outputs": [
    {
     "name": "stdout",
     "output_type": "stream",
     "text": [
      "Ваш банковский счет: номер счета - 90000056, баланс - 0.0\n",
      "----------------------------------------------------------------------------------------------------\n",
      "Баланс пополнен на - 123.45. Новый баланс: 123.45\n",
      "----------------------------------------------------------------------------------------------------\n",
      "Вы сняли - 3.4. Новый баланс: 120.05\n",
      "----------------------------------------------------------------------------------------------------\n",
      "Ваш банковский счет: номер счета - 90000056, баланс - 120.05\n",
      "----------------------------------------------------------------------------------------------------\n",
      "Недостаточно средств на счетe\n"
     ]
    }
   ],
   "execution_count": 12
  }
 ],
 "metadata": {
  "kernelspec": {
   "display_name": "Python 3",
   "language": "python",
   "name": "python3"
  },
  "language_info": {
   "codemirror_mode": {
    "name": "ipython",
    "version": 2
   },
   "file_extension": ".py",
   "mimetype": "text/x-python",
   "name": "python",
   "nbconvert_exporter": "python",
   "pygments_lexer": "ipython2",
   "version": "2.7.6"
  }
 },
 "nbformat": 4,
 "nbformat_minor": 5
}
