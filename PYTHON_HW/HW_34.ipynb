{
 "cells": [
  {
   "cell_type": "code",
   "id": "initial_id",
   "metadata": {
    "collapsed": true,
    "ExecuteTime": {
     "end_time": "2025-01-31T08:43:37.110639Z",
     "start_time": "2025-01-31T08:43:37.091631Z"
    }
   },
   "source": [
    "# 1. Напишите функцию extract_emails(text), которая извлекает все адреса электронной почты\n",
    "# из заданного текста и возвращает их в виде списка.\n",
    "# Пример использования:\n",
    "# text = \"Contact us at info@example.com or support@example.com for assistance.\"\n",
    "# emails = extract_emails(text)\n",
    "# print(emails)  # Вывод: ['info@example.com', 'support@example.com']\n",
    "\n",
    "\n",
    "import re\n",
    "\n",
    "def extract_emails(text):\n",
    "    pattern = r\"[\\w.-]+@[\\w.-]+\\.[a-z.]+\"\n",
    "    return re.findall(pattern, text)\n",
    "\n",
    "text = \"Contact us at info@example.com or support@example.com for assistance.\"\n",
    "emails = extract_emails(text)\n",
    "print(emails)"
   ],
   "outputs": [
    {
     "name": "stdout",
     "output_type": "stream",
     "text": [
      "['info@example.com', 'support@example.com']\n"
     ]
    }
   ],
   "execution_count": 1
  },
  {
   "metadata": {
    "ExecuteTime": {
     "end_time": "2025-01-31T08:55:58.696791Z",
     "start_time": "2025-01-31T08:55:58.678261Z"
    }
   },
   "cell_type": "code",
   "source": [
    "# 2. Напишите функцию highlight_keywords(text, keywords), которая выделяет все вхождения\n",
    "# заданных ключевых слов в тексте, окружая их символами *. Функция должна быть\n",
    "# регистронезависимой при поиске ключевых слов.\n",
    "# Пример использования:\n",
    "# text = \"This is a sample text. We need to highlight Python and programming.\"\n",
    "# keywords = [\"python\", \"programming\"]\n",
    "# highlighted_text = highlight_keywords(text, keywords)\n",
    "# print(highlighted_text)\n",
    "# Вывод: \"This is a sample text. We need to highlight *Python* and *programming*.\"\n",
    "# re.I - флаг для игнорирования регистров\n",
    "\n",
    "def highlight_keywords(text: str, keywords: list) -> str:\n",
    "    for keyword in keywords:\n",
    "        # pattern = r'(\\b' + keyword + r'\\b)'  # (\\bpython\\b)\n",
    "        pattern = rf'(\\b{keyword}\\b)'\n",
    "\n",
    "        text = re.sub(pattern, r\"*\\1*\", text, flags=re.I)\n",
    "\n",
    "    return text\n",
    " \n",
    "text1 = \"This is a sample text. We need to highlight Python and programming.\"\n",
    "keywords = [\"python\", \"programming\"]\n",
    "highlighted_text = highlight_keywords(text1, keywords)\n",
    "print(highlighted_text)"
   ],
   "id": "ab15eb36815e8fe4",
   "outputs": [
    {
     "name": "stdout",
     "output_type": "stream",
     "text": [
      "This is a sample text. We need to highlight *Python* and *programming*.\n"
     ]
    }
   ],
   "execution_count": 2
  }
 ],
 "metadata": {
  "kernelspec": {
   "display_name": "Python 3",
   "language": "python",
   "name": "python3"
  },
  "language_info": {
   "codemirror_mode": {
    "name": "ipython",
    "version": 2
   },
   "file_extension": ".py",
   "mimetype": "text/x-python",
   "name": "python",
   "nbconvert_exporter": "python",
   "pygments_lexer": "ipython2",
   "version": "2.7.6"
  }
 },
 "nbformat": 4,
 "nbformat_minor": 5
}
