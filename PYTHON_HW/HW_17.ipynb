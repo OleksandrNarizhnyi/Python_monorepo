{
 "cells": [
  {
   "cell_type": "code",
   "id": "initial_id",
   "metadata": {
    "collapsed": true,
    "ExecuteTime": {
     "end_time": "2024-11-22T10:35:32.806485Z",
     "start_time": "2024-11-22T10:35:22.125429Z"
    }
   },
   "source": [
    "# 1. Напишите программу, которая принимает список чисел от пользователя и передает его в\n",
    "# функцию modify_list, которая изменяет элементы списка. Функция должна умножить\n",
    "# нечетные числа на 2, а четные числа разделить на 2. Выведите измененный список на\n",
    "# экран. Объясните, почему изменения происходят только внутри функции и как работают\n",
    "# изменяемые и неизменяемые параметры.\n",
    "# Пример вывода:\n",
    "# Введите список чисел, разделенных пробелами: 1 2 3 4 5\n",
    "# Измененный список чисел: [2, 1, 6, 2, 10]\n",
    "    \n",
    "user_numbers = input(\"Введите список чисел, разделенных пробелами: \")\n",
    "list_of_num = user_numbers.split()\n",
    "numbers = []\n",
    "for i in list_of_num:\n",
    "     if i.isdigit():\n",
    "         numbers.append(int(i))\n",
    "         \n",
    "def modify_list(list_of_numbers):\n",
    "    return list(map(lambda x: x * 2 if x % 2 != 0 else x // 2, list_of_numbers))\n",
    "\n",
    "modified_numbers = modify_list(numbers)\n",
    "\n",
    "print(\"Пользовательский список чисел: \", user_numbers)\n",
    "print(\"Измененный список чисел: \", modified_numbers)       \n",
    "        "
   ],
   "outputs": [
    {
     "name": "stdout",
     "output_type": "stream",
     "text": [
      "Пользовательский список чисел:  1 2 3 4 5 m hg 2\n",
      "Измененный список чисел:  [2, 1, 6, 2, 10, 1]\n"
     ]
    }
   ],
   "execution_count": 33
  },
  {
   "metadata": {},
   "cell_type": "code",
   "outputs": [],
   "execution_count": null,
   "source": [
    "#user_list = [int(x) for x in user_str.split() if x.isdigit()]\n",
    "#def modify_list(numbers): # [2, 3, 5, 6, 3, 8, 9]\n",
    " #   return list(map(lambda x: x * 2 if x % 2 != 0 else x // 2, numbers))\n",
    "\n",
    "\n",
    "#def convert_to_int(x):\n",
    " #   if x.isdigit():\n",
    "  #      return int(x)\n",
    "\n",
    "#user_input = input(\"Введите числа через пробел: \")\n",
    "#numbers = list(map(convert_to_int, user_input.split()))\n",
    "\n",
    "#modified_numbers = modify_list(numbers)\n",
    "\n",
    "#print(\"Введены следующие числа: \", user_input)\n",
    "#print(\"Измененный список:\", modified_numbers)\n"
   ],
   "id": "d70d3060cb7dc6b4"
  },
  {
   "metadata": {
    "ExecuteTime": {
     "end_time": "2024-11-22T10:16:08.361350Z",
     "start_time": "2024-11-22T10:15:53.500384Z"
    }
   },
   "cell_type": "code",
   "source": [
    "# 2. Напишите программу, которая принимает произвольное количество аргументов от\n",
    "# пользователя и передает их в функцию \"calculate_sum\". которая возвращает сумму всех\n",
    "# аргументов. Используйте оператор * при передаче аргументов в функцию. Выведите результат\n",
    "# на экран.\n",
    "# Пример вывода:\n",
    "# Введите числа, разделенные пробелами: 1 2 3 4 5\n",
    "# Сумма чисел: 15\n",
    " \n",
    "user_input = input(\"Введите числа, разделенные пробелами: \")\n",
    "user_l = user_input.split()\n",
    "matrix = []\n",
    "for i in user_l:\n",
    "     if i.isdigit():\n",
    "         matrix.append(int(i))\n",
    "         \n",
    "print(f\"Введённые числа: {matrix}\")\n",
    "\n",
    "def calculate_sum(*args):\n",
    "    return sum(args)\n",
    "\n",
    "\n",
    "print(f\"Сумма введенных чисел: {calculate_sum(*matrix)}\")"
   ],
   "id": "f3043d45ab73fb41",
   "outputs": [
    {
     "name": "stdout",
     "output_type": "stream",
     "text": [
      "Введённые числа: [1, 2, 3, 4, 5, 6, 6]\n",
      "Сумма введенных чисел: 27\n"
     ]
    }
   ],
   "execution_count": 29
  }
 ],
 "metadata": {
  "kernelspec": {
   "display_name": "Python 3",
   "language": "python",
   "name": "python3"
  },
  "language_info": {
   "codemirror_mode": {
    "name": "ipython",
    "version": 2
   },
   "file_extension": ".py",
   "mimetype": "text/x-python",
   "name": "python",
   "nbconvert_exporter": "python",
   "pygments_lexer": "ipython2",
   "version": "2.7.6"
  }
 },
 "nbformat": 4,
 "nbformat_minor": 5
}
