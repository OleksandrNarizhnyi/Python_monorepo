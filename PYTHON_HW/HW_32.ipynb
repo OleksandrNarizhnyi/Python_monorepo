{
 "cells": [
  {
   "cell_type": "code",
   "id": "initial_id",
   "metadata": {
    "collapsed": true,
    "ExecuteTime": {
     "end_time": "2025-01-27T11:38:36.251940Z",
     "start_time": "2025-01-27T11:38:36.244139Z"
    }
   },
   "source": [
    "# 1. Реализовать класс Counter, который представляет счетчик. Класс должен поддерживать\n",
    "# следующие операции:\n",
    "# ● Увеличение значения счетчика на заданное число (оператор +=)\n",
    "# ● Уменьшение значения счетчика на заданное число (оператор -=)\n",
    "# ● Преобразование счетчика в строку (метод __str__)\n",
    "# ● Получение текущего значения счетчика (метод __int__)\n",
    "\n",
    "class Counter:\n",
    "    def __init__(self,start: int):\n",
    "        self.value = start\n",
    "\n",
    "    def __add__(self,step: int):\n",
    "        self.value += step\n",
    "        return Counter(self.value)\n",
    "\n",
    "    def __sub__(self,step: int):\n",
    "        self.value -= step\n",
    "        return Counter(self.value)\n",
    "\n",
    "    def __str__(self):\n",
    "        return f\"Counter: {self.value}\"\n",
    "\n",
    "    def __int__(self):\n",
    "        return self.value\n",
    "\n",
    "\n",
    "counter = Counter(10)\n",
    "print(counter) \n",
    "print(\"=\"*100)\n",
    "counter += 5\n",
    "print(counter) \n",
    "print(\"=\"*100)\n",
    "counter -= 3\n",
    "print(counter)  \n",
    "print(\"=\"*100)\n",
    "new_counter = counter + 10\n",
    "print(new_counter)  \n",
    "print(\"=\"*100)\n",
    "print(int(counter)) "
   ],
   "outputs": [
    {
     "name": "stdout",
     "output_type": "stream",
     "text": [
      "Counter: 10\n",
      "====================================================================================================\n",
      "Counter: 15\n",
      "====================================================================================================\n",
      "Counter: 12\n",
      "====================================================================================================\n",
      "Counter: 22\n",
      "====================================================================================================\n",
      "22\n"
     ]
    }
   ],
   "execution_count": 4
  },
  {
   "metadata": {
    "ExecuteTime": {
     "end_time": "2025-01-27T11:26:35.125396Z",
     "start_time": "2025-01-27T11:26:35.109426Z"
    }
   },
   "cell_type": "code",
   "source": [
    "# 2. Реализовать класс Email, представляющий электронное письмо. Класс должен\n",
    "# поддерживать следующие операции:\n",
    "# ● Сравнение писем по дате (операторы <, >, <=, >=, ==, !=)\n",
    "# ● Преобразование письма в строку (метод __str__)\n",
    "# ● Получение длины текста письма (метод __len__)\n",
    "# ● Получение хеш-значения письма (метод __hash__)\n",
    "# ● Проверка наличия текста в письме (метод __bool__)\n",
    "\n",
    "\n",
    "\n",
    "from datetime import datetime\n",
    "\n",
    "class Email:\n",
    "    def __init__(self, sender: str, recipient: str, subject: str, body: str, date: str):\n",
    "        self.sender = sender\n",
    "        self.recipient = recipient\n",
    "        self.subject = subject\n",
    "        self.body = body\n",
    "        self.date = self.convert_date(date)\n",
    "\n",
    "    def convert_date(self, date):\n",
    "        return datetime.strptime(date, '%Y-%m-%d')\n",
    "\n",
    "    def __lt__(self, other):\n",
    "        if isinstance(other, Email):\n",
    "            return self.date < other.date\n",
    "        return NotImplemented\n",
    "\n",
    "    def __le__(self, other):\n",
    "        if isinstance(other, Email):\n",
    "            return self.date <= other.date\n",
    "        return NotImplemented\n",
    "\n",
    "    def __gt__(self, other):\n",
    "        if isinstance(other, Email):\n",
    "            return self.date > other.date\n",
    "        return NotImplemented\n",
    "    \n",
    "    def __ge__(self, other):\n",
    "        if isinstance(other, Email):\n",
    "            return self.date >= other.date\n",
    "        return NotImplemented\n",
    "\n",
    "    def __eq__(self, other):\n",
    "        if isinstance(other, Email):\n",
    "            return self.date == other.date\n",
    "        return NotImplemented\n",
    "\n",
    "    def __ne__(self, other):\n",
    "        if isinstance(other, Email):\n",
    "            return self.date != other.date\n",
    "        return NotImplemented\n",
    "\n",
    "    def __str__(self):\n",
    "        return f\"From: {self.sender}\\nTo: {self.recipient}\\nSubject: {self.subject}\\n\\n{self.body}\"\n",
    "\n",
    "    def __len__(self):\n",
    "        return len(self.body)\n",
    "\n",
    "    def __hash__(self):\n",
    "        return hash((self.sender, self.recipient, self.subject, self.body, self.date))\n",
    "\n",
    "    def __bool__(self):\n",
    "        return bool(self.body)\n",
    "\n",
    "# Пример использования\n",
    "email1 = Email(\"john@example.com\", \"jane@example.com\", \"Meeting\", \"Hi Jane, let's have a meeting tomorrow.\", \"2022-05-10\")\n",
    "email2 = Email(\"jane@example.com\", \"john@example.com\", \"Re: Meeting\", \"Sure, let's meet at 2 PM.\", \"2022-05-10\")\n",
    "email3 = Email(\"alice@example.com\", \"bob@example.com\", \"Hello\", \"Hi Bob, how are you?\", \"2022-05-09\")\n",
    "\n",
    "print(email1)\n",
    "print(\"=\"*100)\n",
    "print(len(email2))\n",
    "print(\"=\"*100)\n",
    "print(hash(email3)) \n",
    "print(\"=\"*100)\n",
    "print(bool(email1))\n",
    "print(\"=\"*100)\n",
    "print(email2 == email3)  "
   ],
   "id": "96146abb3a1e4707",
   "outputs": [
    {
     "name": "stdout",
     "output_type": "stream",
     "text": [
      "From: john@example.com\n",
      "To: jane@example.com\n",
      "Subject: Meeting\n",
      "\n",
      "Hi Jane, let's have a meeting tomorrow.\n",
      "====================================================================================================\n",
      "25\n",
      "====================================================================================================\n",
      "-1561977449643360216\n",
      "====================================================================================================\n",
      "True\n",
      "====================================================================================================\n",
      "False\n"
     ]
    }
   ],
   "execution_count": 2
  },
  {
   "metadata": {},
   "cell_type": "code",
   "outputs": [],
   "execution_count": null,
   "source": "",
   "id": "c58e69af23234072"
  }
 ],
 "metadata": {
  "kernelspec": {
   "display_name": "Python 3",
   "language": "python",
   "name": "python3"
  },
  "language_info": {
   "codemirror_mode": {
    "name": "ipython",
    "version": 2
   },
   "file_extension": ".py",
   "mimetype": "text/x-python",
   "name": "python",
   "nbconvert_exporter": "python",
   "pygments_lexer": "ipython2",
   "version": "2.7.6"
  }
 },
 "nbformat": 4,
 "nbformat_minor": 5
}
