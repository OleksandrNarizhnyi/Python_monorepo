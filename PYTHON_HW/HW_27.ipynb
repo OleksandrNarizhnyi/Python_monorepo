{
 "cells": [
  {
   "cell_type": "code",
   "id": "initial_id",
   "metadata": {
    "collapsed": true,
    "ExecuteTime": {
     "end_time": "2025-01-06T12:48:19.021327Z",
     "start_time": "2025-01-06T12:48:19.005860Z"
    }
   },
   "source": [
    "# 1. Напишите функцию, которая принимает на вход список чисел и возвращает сумму\n",
    "# квадратов только четных чисел из списка, используя функциональные подходы\n",
    "# (например, map, filter и reduce).\n",
    "# Пример вывода:\n",
    "# Введите числа: 4, 6, 3, 4, 2, 3, 9, 0, 7\n",
    "# Результат: 72\n",
    "\n",
    "list_numbers = [4, 6, 3, 4, 2, 3, 9, 0, 7]\n",
    "\n",
    "def square(number: int) -> int:\n",
    "    if number % 2 == 0:\n",
    "        return number ** 2\n",
    "    return 0\n",
    "\n",
    "squared_numbers = sum(list(map(square, list_numbers)))\n",
    "print(squared_numbers)\n",
    "\n",
    "filter_numbers = list(filter(lambda x: x % 2 == 0, list_numbers))\n",
    "squared_numbers_1 = sum(list(map(square, filter_numbers)))\n",
    "print(squared_numbers_1)"
   ],
   "outputs": [
    {
     "name": "stdout",
     "output_type": "stream",
     "text": [
      "72\n",
      "72\n"
     ]
    }
   ],
   "execution_count": 14
  },
  {
   "metadata": {
    "ExecuteTime": {
     "end_time": "2025-01-06T12:41:57.853643Z",
     "start_time": "2025-01-06T12:41:57.845639Z"
    }
   },
   "cell_type": "code",
   "source": [
    "# 2. Напишите функцию, которая принимает на вход список функций и значение, а затем\n",
    "# применяет композицию этих функций к значению, возвращая конечный результат.\n",
    "# Пример использования:\n",
    "# add_one = lambda x: x + 1\n",
    "# double = lambda x: x * 2\n",
    "# subtract_three = lambda x: x - 3\n",
    "# functions = [add_one, double, subtract_three]\n",
    "# compose_functions(functions, 5) должно вывести 9\n",
    "from functools import reduce\n",
    "\n",
    "add_one = lambda x: x + 1\n",
    "double = lambda x: x * 2\n",
    "subtract_three = lambda x: x - 3\n",
    "functions = [add_one, double, subtract_three]\n",
    "user_num = 5\n",
    "\n",
    "def compose_functions(functions: list, num):\n",
    "    for function in functions:\n",
    "        num = function(num)\n",
    "    return num\n",
    "\n",
    "print(compose_functions(functions, user_num))\n",
    "\n",
    "reduce_func = reduce(lambda acc, func: func(acc), functions, user_num)\n",
    "print(reduce_func)\n"
   ],
   "id": "50ae4653b340a28f",
   "outputs": [
    {
     "name": "stdout",
     "output_type": "stream",
     "text": [
      "9\n",
      "9\n"
     ]
    }
   ],
   "execution_count": 11
  }
 ],
 "metadata": {
  "kernelspec": {
   "display_name": "Python 3",
   "language": "python",
   "name": "python3"
  },
  "language_info": {
   "codemirror_mode": {
    "name": "ipython",
    "version": 2
   },
   "file_extension": ".py",
   "mimetype": "text/x-python",
   "name": "python",
   "nbconvert_exporter": "python",
   "pygments_lexer": "ipython2",
   "version": "2.7.6"
  }
 },
 "nbformat": 4,
 "nbformat_minor": 5
}
