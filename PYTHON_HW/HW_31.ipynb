{
 "cells": [
  {
   "cell_type": "code",
   "id": "initial_id",
   "metadata": {
    "collapsed": true,
    "ExecuteTime": {
     "end_time": "2025-01-20T14:30:21.936313Z",
     "start_time": "2025-01-20T14:30:21.925333Z"
    }
   },
   "source": [
    "# 1. Напишите декоратор validate_args, который будет проверять типы аргументов функции и выводить сообщение об ошибке, если переданы аргументы неправильного типа. Декоратор должен принимать ожидаемые типы аргументов в качестве параметров.\n",
    "# Пример использования:\n",
    "# \n",
    "# @validate_args(int, str)\n",
    "# \n",
    "# def greet(age, name):\n",
    "# \n",
    "#     print(f\"Привет, {name}! Тебе {age} лет.\")\n",
    "# \n",
    "# greet(25, \"Анна\")  # Все аргументы имеют правильные типы\n",
    "# \n",
    "# greet(\"25\", \"Анна\")  # Возникнет исключение TypeError\n",
    "# \n",
    "# Ожидаемый вывод:\n",
    "# \n",
    "# Привет, Анна! Тебе 25 лет.\n",
    "# \n",
    "# TypeError: Аргумент 25 имеет неправильный тип <class 'str'>. Ожидается <class 'int'>.\n",
    "from typing import Callable\n",
    "def validate_args(arg_1_type, arg_2_type):\n",
    "    def decorator(func: Callable) -> Callable:\n",
    "        def wrapper(*args, **kwargs):\n",
    "            if not isinstance(args[0], arg_1_type):\n",
    "                return f\"TypeError: Аргумент {args[0]} имеет неправильный тип <class 'str'>. Ожидается <class 'int'>.\"\n",
    "            if not isinstance(args[1], arg_2_type):\n",
    "                return f\"TypeError: Аргумент {args[1]} имеет неправильный тип <class 'int'>. Ожидается <class 'str'>.\"\n",
    "            else:\n",
    "                return func(*args, **kwargs)\n",
    "        \n",
    "        return wrapper\n",
    "    \n",
    "    return decorator\n",
    "\n",
    "\n",
    "@validate_args(int, str)\n",
    "def greet(age: int, name: str) -> str:\n",
    "     return f\"Привет, {name}! Тебе {age} лет.\"\n",
    "\n",
    "print(greet(25, \"Анна\"))\n",
    "print(\"-\"*100)\n",
    "print(greet(\"25\", \"Анна\"))\n",
    "print(\"-\"*100)\n",
    "print(greet(\" \", \"Анна\"))\n",
    "print(\"-\"*100)\n",
    "print(greet(25, 34))\n"
   ],
   "outputs": [
    {
     "name": "stdout",
     "output_type": "stream",
     "text": [
      "Привет, Анна! Тебе 25 лет.\n",
      "----------------------------------------------------------------------------------------------------\n",
      "TypeError: Аргумент 25 имеет неправильный тип <class 'str'>. Ожидается <class 'int'>.\n",
      "----------------------------------------------------------------------------------------------------\n",
      "TypeError: Аргумент   имеет неправильный тип <class 'str'>. Ожидается <class 'int'>.\n",
      "----------------------------------------------------------------------------------------------------\n",
      "TypeError: Аргумент 34 имеет неправильный тип <class 'int'>. Ожидается <class 'str'>.\n"
     ]
    }
   ],
   "execution_count": 6
  },
  {
   "metadata": {
    "ExecuteTime": {
     "end_time": "2025-01-20T14:57:04.047271Z",
     "start_time": "2025-01-20T14:57:04.031925Z"
    }
   },
   "cell_type": "code",
   "source": [
    "# 2. Напишите декоратор log_args, который будет записывать аргументы и результаты вызовов функции в лог-файл. Каждый вызов функции должен быть записан на новой строке в формате \"Аргументы: <аргументы>, Результат: <результат>\". Используйте модуль logging для записи в лог-файл.\n",
    "# \n",
    "# Пример использования:\n",
    "# \n",
    "# python\n",
    "# \n",
    "# @log_args\n",
    "# \n",
    "# def add(a, b):\n",
    "# \n",
    "#     return a + b\n",
    "# \n",
    "# add(2, 3)\n",
    "# \n",
    "# add(5, 7)\n",
    "# \n",
    "# Ожидаемый вывод в файле log.txt:\n",
    "# \n",
    "# Аргументы: 2, 3, Результат: 5\n",
    "# \n",
    "# Аргументы: 5, 7, Результат: 12\n",
    "# \n",
    "# Убедитесь, что перед запуском кода у вас создан файл log.txt в той же директории, где находится скрипт Python.\n",
    "from typing import Callable\n",
    "\n",
    "\n",
    "def log_args(func: Callable) -> Callable:\n",
    "    def wrapper(*args, **kwargs):\n",
    "        result = func(*args, **kwargs)\n",
    "        with open(\"log.txt\", \"a\", encoding=\"utf-8\") as file:\n",
    "            file.write(f\"Аргументы: {args}, Результат: {result}.\\n\")\n",
    "        return result\n",
    "\n",
    "    return wrapper\n",
    "\n",
    "\n",
    "@log_args\n",
    "def add(a, b):\n",
    "    return a + b\n",
    "\n",
    "add(2, 3)\n",
    "add(5, 7)\n",
    "add(10, 11)\n",
    "add(2, 8)\n",
    "add(5, 7)"
   ],
   "id": "c556e1a55f62fcca",
   "outputs": [
    {
     "data": {
      "text/plain": [
       "12"
      ]
     },
     "execution_count": 10,
     "metadata": {},
     "output_type": "execute_result"
    }
   ],
   "execution_count": 10
  }
 ],
 "metadata": {
  "kernelspec": {
   "display_name": "Python 3",
   "language": "python",
   "name": "python3"
  },
  "language_info": {
   "codemirror_mode": {
    "name": "ipython",
    "version": 2
   },
   "file_extension": ".py",
   "mimetype": "text/x-python",
   "name": "python",
   "nbconvert_exporter": "python",
   "pygments_lexer": "ipython2",
   "version": "2.7.6"
  }
 },
 "nbformat": 4,
 "nbformat_minor": 5
}
