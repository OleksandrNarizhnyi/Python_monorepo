{
 "cells": [
  {
   "cell_type": "code",
   "id": "initial_id",
   "metadata": {
    "collapsed": true,
    "ExecuteTime": {
     "end_time": "2024-12-12T13:13:39.615676Z",
     "start_time": "2024-12-12T13:13:22.689464Z"
    }
   },
   "source": [
    "# Напишите генератор, который будет принимать на вход числа и возвращать их сумму.\n",
    "# Генератор должен использовать инструкцию yield для возврата текущей суммы и должен\n",
    "# продолжать принимать новые числа для добавления к сумме.\n",
    "# Если генератор получает на вход число 0, он должен прекращать работу и вернуть\n",
    "# окончательную сумму.\n",
    "# Напишите программу, которая будет использовать этот генератор для пошагового расчета\n",
    "# суммы чисел, вводимых пользователем.\n",
    "# Пример вывода:\n",
    "# Введите числа для суммирования (0 для окончания):\n",
    "# Введите число: 3\n",
    "# Текущая сумма: 3\n",
    "# Введите число: 5\n",
    "# Текущая сумма: 8\n",
    "# Введите число: 2\n",
    "# Текущая сумма: 10\n",
    "# Введите число: 0\n",
    "# Текущая сумма: 10\n",
    "\n",
    "def sum_gen():\n",
    "    a = 0\n",
    "    while True:\n",
    "        b = yield a\n",
    "        if b is None:\n",
    "            break\n",
    "        a += b\n",
    "        print(f\"Текущая сумма: {a}\")\n",
    "\n",
    "summa = sum_gen()\n",
    "next(summa)\n",
    "while True:\n",
    "    try:\n",
    "        c = int(input(\"Введите число для суммирования или 0 для завершения: \"))\n",
    "        if c == 0:\n",
    "            break\n",
    "        summa.send(c)\n",
    "    except StopIteration:\n",
    "        break   \n",
    "\n",
    "          "
   ],
   "outputs": [
    {
     "name": "stdout",
     "output_type": "stream",
     "text": [
      "Текущая сумма: 3\n",
      "Текущая сумма: 7\n",
      "Текущая сумма: 12\n",
      "Текущая сумма: 18\n",
      "Текущая сумма: 25\n",
      "Текущая сумма: 33\n",
      "Текущая сумма: 42\n"
     ]
    }
   ],
   "execution_count": 6
  },
  {
   "metadata": {
    "ExecuteTime": {
     "end_time": "2024-12-12T13:47:57.802876Z",
     "start_time": "2024-12-12T13:47:57.793177Z"
    }
   },
   "cell_type": "code",
   "source": [
    "# Напишите генератор, который будет генерировать арифметическую прогрессию\n",
    "# Прогрессия - это числовая последовательность, где каждый член определяется каким-либо правилом. \n",
    "# Арифметическая прогрессия:\n",
    "# Формула n-го члена: a_n = a1 + d*(n - 1) \n",
    "\n",
    "def arithmetical_progres(a_1: int, d: int, n: int):  \n",
    "    for num in range(1, n + 1):\n",
    "        a_n = a_1 + (num - 1) * d\n",
    "        yield a_n\n",
    "        \n",
    "for i in arithmetical_progres(1,2,10):\n",
    "    print(i)\n"
   ],
   "id": "562ead69e6adeefc",
   "outputs": [
    {
     "name": "stdout",
     "output_type": "stream",
     "text": [
      "1\n",
      "3\n",
      "5\n",
      "7\n",
      "9\n",
      "11\n",
      "13\n",
      "15\n",
      "17\n",
      "19\n"
     ]
    }
   ],
   "execution_count": 12
  }
 ],
 "metadata": {
  "kernelspec": {
   "display_name": "Python 3",
   "language": "python",
   "name": "python3"
  },
  "language_info": {
   "codemirror_mode": {
    "name": "ipython",
    "version": 2
   },
   "file_extension": ".py",
   "mimetype": "text/x-python",
   "name": "python",
   "nbconvert_exporter": "python",
   "pygments_lexer": "ipython2",
   "version": "2.7.6"
  }
 },
 "nbformat": 4,
 "nbformat_minor": 5
}
