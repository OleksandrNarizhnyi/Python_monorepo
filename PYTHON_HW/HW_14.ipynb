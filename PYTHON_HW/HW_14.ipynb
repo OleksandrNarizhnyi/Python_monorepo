{
 "cells": [
  {
   "cell_type": "code",
   "id": "initial_id",
   "metadata": {
    "collapsed": true,
    "ExecuteTime": {
     "end_time": "2024-11-07T12:53:39.368880Z",
     "start_time": "2024-11-07T12:53:39.363679Z"
    }
   },
   "source": [
    "# 1. Напишите программу, которая принимает строку от пользователя и разбивает ее на отдельные слова.\n",
    "# Затем программа должна объединить слова в обратном порядке с использованием метода join(). \n",
    "# Используйте динамический массив и методы для работы со строками. Выведите результат на экран с помощью команды print.\n",
    "# Пример вывода:\n",
    "\n",
    "# Введите предложение: Программирование это интересно и полезно\n",
    "\n",
    "# Перевернутое предложение: полезно и интересно это Программирование\n",
    "\n",
    "datai = \"Программирование это интересно и полезно\"\n",
    "\n",
    "print(\" \".join(datai.split()[::-1]))"
   ],
   "outputs": [
    {
     "name": "stdout",
     "output_type": "stream",
     "text": [
      "полезно и интересно это Программирование\n"
     ]
    }
   ],
   "execution_count": 2
  },
  {
   "metadata": {
    "ExecuteTime": {
     "end_time": "2024-11-07T13:05:36.643190Z",
     "start_time": "2024-11-07T13:05:21.898890Z"
    }
   },
   "cell_type": "code",
   "source": [
    "# 2. Напишите программу, которая принимает список чисел от пользователя и добавляет каждое число в динамический массив.\n",
    "# Затем программа должна принимать новое число от пользователя и добавлять его в динамический массив до тех пор, пока пользователь не введет команду \"Выход\". \n",
    "# Используйте метод append() для добавления элементов в динамический массив и условный оператор для проверки команды \"Выход\".\n",
    "# Выведите итоговый динамический массив на экран с помощью команды print.\n",
    "\n",
    "\n",
    "# Пример вывода:\n",
    "\n",
    "\n",
    "# Введите число (или 'Выход' для завершения): 1\n",
    "\n",
    "# Введите число (или 'Выход' для завершения): 2\n",
    "\n",
    "# Введите число (или 'Выход' для завершения): Выход\n",
    "\n",
    "# Динамический массив: [1, 2]\n",
    "numbers = []\n",
    "while True:\n",
    "    enter_user = input(\"Введите число: \")\n",
    "    \n",
    "    if enter_user.strip().lower() == 'выход':\n",
    "        print(\"Введите число (или 'Выход' для завершения): \", enter_user)\n",
    "        break\n",
    "    \n",
    "    if enter_user.strip().isdigit():\n",
    "        numbers.append(enter_user)\n",
    "        print(\"Введите число (или 'Выход' для завершения): \", enter_user)\n",
    "print(numbers)"
   ],
   "id": "62069bfac8d49017",
   "outputs": [
    {
     "name": "stdout",
     "output_type": "stream",
     "text": [
      "Введите число (или 'Выход' для завершения):  3\n",
      "Введите число (или 'Выход' для завершения):  6\n",
      "Введите число (или 'Выход' для завершения):  89\n",
      "Введите число (или 'Выход' для завершения):  12\n",
      "Введите число (или 'Выход' для завершения):  Выход\n",
      "['3', '6', '89', '12']\n"
     ]
    }
   ],
   "execution_count": 4
  },
  {
   "metadata": {},
   "cell_type": "code",
   "outputs": [],
   "execution_count": null,
   "source": [
    "guests_white_list = []\n",
    "black_list = ['Oleg']\n",
    "\n",
    "while True:\n",
    "    guest_surname = input(\"Enter yor name: \")\n",
    "\n",
    "    if guest_surname.strip().lower() == 'end':\n",
    "        break\n",
    "\n",
    "    if guest_surname.strip().capitalize() in black_list:\n",
    "        print(\"You're not welcome!!!!!\")\n",
    "    continue\n",
    "    else:\n",
    "        guests_white_list.append(guest_surname.strip().capitalize())\n",
    "        print(f\"Welcome, {guest_surname.strip().capitalize()}!!\")\n",
    "\n",
    "\n",
    "if guests_white_list:\n",
    "print(\"The full list of guests:\", '\\n'.join(guests_white_list), sep='\\n')"
   ],
   "id": "7050a14e35b3cf14"
  }
 ],
 "metadata": {
  "kernelspec": {
   "display_name": "Python 3",
   "language": "python",
   "name": "python3"
  },
  "language_info": {
   "codemirror_mode": {
    "name": "ipython",
    "version": 2
   },
   "file_extension": ".py",
   "mimetype": "text/x-python",
   "name": "python",
   "nbconvert_exporter": "python",
   "pygments_lexer": "ipython2",
   "version": "2.7.6"
  }
 },
 "nbformat": 4,
 "nbformat_minor": 5
}
