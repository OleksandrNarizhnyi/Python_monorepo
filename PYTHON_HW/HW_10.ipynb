{
 "cells": [
  {
   "cell_type": "code",
   "execution_count": null,
   "id": "initial_id",
   "metadata": {
    "collapsed": true
   },
   "outputs": [],
   "source": [
    ""
   ]
  },
  {
   "metadata": {
    "ExecuteTime": {
     "end_time": "2024-10-28T13:11:40.173164Z",
     "start_time": "2024-10-28T13:11:37.241406Z"
    }
   },
   "cell_type": "code",
   "source": [
    "# 1. Напишите программу, которая запрашивает у пользователя строку и преобразует ее, удаляя все гласные буквы из строки. \n",
    "# Используйте метод replace() для замены гласных букв на пустую строку. \n",
    "# Выведите преобразованную строку на экран с помощью команды print.\n",
    "\n",
    "\n",
    "# Пример вывода:\n",
    "\n",
    "\n",
    "# Введите строку: Hello, world!\n",
    "\n",
    "\n",
    "#Результат: Hll, wrld!\n",
    "\n",
    "str_greeting = input(\"Введите строку: \")  #\"Hello, world!\"\n",
    "index = 0\n",
    "new_greeting = \"\"\n",
    "vowels = \"aeiouAEIOU\"\n",
    "\n",
    "while index != len(str_greeting) :\n",
    "    if str_greeting[index] in vowels:\n",
    "      str_greeting = str_greeting.replace(str_greeting[index], \"\")\n",
    "      \n",
    "      index += 1\n",
    "    else :\n",
    "        index += 1\n",
    "    \n",
    "        \n",
    "print(str_greeting)\n"
   ],
   "id": "9210ee7c74ce1226",
   "outputs": [
    {
     "name": "stdout",
     "output_type": "stream",
     "text": [
      "Hll, wrld!\n"
     ]
    }
   ],
   "execution_count": 4
  },
  {
   "metadata": {
    "ExecuteTime": {
     "end_time": "2024-10-29T13:28:01.334771Z",
     "start_time": "2024-10-29T13:27:50.405300Z"
    }
   },
   "cell_type": "code",
   "source": [
    "# 2. Напишите программу, которая запрашивает у пользователя строку и определяет, содержит ли она только уникальные символы. \n",
    "# Если все символы в строке уникальны, выведите соответствующее сообщение на экран. \n",
    "# В противном случае выведите сообщение о том, какие символы повторяются. \n",
    "# Не используйте множества и подобные структуры данных, которые мы пока не изучали, для проверки уникальности символов.\n",
    "# Пример вывода:\n",
    "# Введите строку: Python\n",
    "# Все символы в строке уникальны.\n",
    "# Введите строку: Hello\n",
    "# Символы 'l' и 'o' повторяются.\n",
    "import string\n",
    "user_str = input(\"Введите строку: \")\n",
    "\n",
    "unic_char = \"\"\n",
    "repeat_char = \"\"\n",
    "index = 0\n",
    "\n",
    "while index < len(user_str) :\n",
    "    if user_str[index] not in unic_char:\n",
    "        unic_char += user_str[index]\n",
    "        \n",
    "    else:\n",
    "      if user_str[index] not in repeat_char: \n",
    "           repeat_char += user_str[index] \n",
    "    index += 1 \n",
    "      \n",
    "    \n",
    "if  len(user_str) == len(unic_char):\n",
    "    print(\"Все символы в строке уникальны\")\n",
    "else:\n",
    "    index_2 = 0 \n",
    "    print('Символы: ', end = \" '\") \n",
    "    while index_2 < len(repeat_char)-1: \n",
    "        print(repeat_char[index_2], end = \"', '\") \n",
    "        index_2 += 1 \n",
    "    print(repeat_char[len(repeat_char)-1],\"' \", 'повторяются.')\n",
    "    "
   ],
   "id": "a4e578ad9ca4ab1c",
   "outputs": [
    {
     "name": "stdout",
     "output_type": "stream",
     "text": [
      "Символы:  'p', 'y', 't', 'o '  повторяются.\n"
     ]
    }
   ],
   "execution_count": 4
  },
  {
   "metadata": {},
   "cell_type": "code",
   "outputs": [],
   "execution_count": null,
   "source": [
    "unic_str = '' \n",
    "repeat_str = '' \n",
    "in_str = input(\"enter a string: \") \n",
    "index_v = 0 \n",
    "while index_v < len(in_str): \n",
    "    if in_str[index_v] not in unic_str: \n",
    "        unic_str += in_str[index_v] \n",
    "    else: \n",
    "        if in_str[index_v] not in repeat_str: \n",
    "           repeat_str += in_str[index_v] \n",
    "    index_v += 1 \n",
    "if len(unic_str) == len(in_str): \n",
    "    print('Все символы в строке уникальны.') \n",
    "else: \n",
    "    index_2 = 0 \n",
    "    print('Символы: ', end = \" '\") \n",
    "    while index_2 < len(repeat_str)-1: \n",
    "        print(repeat_str[index_2], end = \"', '\") \n",
    "        index_2 += 1 \n",
    "    print(repeat_str[len(repeat_str)-1],\"' \", 'повторяются.')"
   ],
   "id": "6fc07726a0553381"
  },
  {
   "metadata": {},
   "cell_type": "code",
   "outputs": [],
   "execution_count": null,
   "source": [
    "str_user = input(\"Введите строку: \")\n",
    "# str_user = \"Hell OOo 545,\" \n",
    "\n",
    "str_repeat = \"\"\n",
    "index = 0\n",
    "char = None\n",
    "\n",
    "if str_user: # Проверяем на то что введен хотябы один символ\n",
    "    while index < len(str_user): # Блок перебора каждогшо символа в строке\n",
    "         char = str_user[index]\n",
    "         if str_user.count(char) > 1 and char not in str_repeat: # Проверяем является ли символ уникальным\n",
    "             str_repeat += \"'\" + char + \"' \"\n",
    "        index += 1\n",
    "else:\n",
    "    print(\"Вы не ввели ни одного символ!\")\n",
    "\n",
    "print(\"Повторяющиеся символы: \", str_repeat.rstrip()) if str_repeat else print(\"Все символы в строке уникальны.\")"
   ],
   "id": "5d3a393fad5c0212"
  },
  {
   "metadata": {
    "ExecuteTime": {
     "end_time": "2024-10-29T11:52:17.287945Z",
     "start_time": "2024-10-29T11:51:57.085741Z"
    }
   },
   "cell_type": "code",
   "source": [
    "# 3. Напишите программу, которая запрашивает у пользователя строку и выравнивает ее по центру с заданной шириной.\n",
    "# Если строка не может быть выровнена по центру из-за нечетной ширины, она должна быть выровнена смещением вправо. \n",
    "# Используйте методы center() и rjust() для выравнивания строки.\n",
    "# Пример вывода:\n",
    "# Введите строку: Python\n",
    "# Введите ширину: 10\n",
    "# Результат:\n",
    "# Python  \n",
    "user_string = input(\"Введите строку: \") # Запрашиваем строку у пользователя\n",
    "\n",
    "width = int(input(\"Введите ширину для выравнивания: \")) # Запрашиваем ширину для выравнивания\n",
    "\n",
    "if width % 2 == 0: # Проверяем, четное или нечетное значение ширины\n",
    "    \n",
    "    result = user_string.center(width) # Если четное, используем метод center() для центрирования\n",
    "else:\n",
    "    \n",
    "    result = user_string.rjust(width) # Если нечетное, используем rjust() для выравнивания вправо\n",
    "\n",
    "print(result)"
   ],
   "id": "69eea9b7a1d6309",
   "outputs": [
    {
     "name": "stdout",
     "output_type": "stream",
     "text": [
      "  Python  \n"
     ]
    }
   ],
   "execution_count": 9
  },
  {
   "metadata": {
    "ExecuteTime": {
     "end_time": "2024-10-31T08:11:50.005429Z",
     "start_time": "2024-10-31T08:11:49.978271Z"
    }
   },
   "cell_type": "code",
   "source": [
    "text = 'HELLO'\n",
    "for char in text:\n",
    "    print(char)"
   ],
   "id": "5db9ff938832796b",
   "outputs": [
    {
     "name": "stdout",
     "output_type": "stream",
     "text": [
      "H\n",
      "E\n",
      "L\n",
      "L\n",
      "O\n"
     ]
    }
   ],
   "execution_count": 5
  },
  {
   "metadata": {},
   "cell_type": "code",
   "outputs": [],
   "execution_count": null,
   "source": [
    "user_input = input('Enter some numbers with comma-space: ').split(', ')\n",
    "\n",
    "for element in user_input:\n",
    "    if element.isdigit():\n",
    "        print(int(element) ** 2)\n",
    "    elif element.isalpha():\n",
    "        print(element)"
   ],
   "id": "dd8349d34b7a7222"
  },
  {
   "metadata": {
    "ExecuteTime": {
     "end_time": "2024-10-31T08:31:21.193093Z",
     "start_time": "2024-10-31T08:31:21.182870Z"
    }
   },
   "cell_type": "code",
   "source": [
    "for i in range(5): # \"_\" - общепринятый символ, если временная переменная не используется\n",
    "    print('HELLO')"
   ],
   "id": "33ee9e20d9d2a59f",
   "outputs": [
    {
     "name": "stdout",
     "output_type": "stream",
     "text": [
      "HELLO\n",
      "HELLO\n",
      "HELLO\n",
      "HELLO\n",
      "HELLO\n"
     ]
    }
   ],
   "execution_count": 6
  },
  {
   "metadata": {
    "ExecuteTime": {
     "end_time": "2024-10-31T08:37:36.418348Z",
     "start_time": "2024-10-31T08:37:36.411929Z"
    }
   },
   "cell_type": "code",
   "source": [
    "for i in range(1,10,2): # \"_\" - общепринятый символ, если временная переменная не используется\n",
    "    print(i, end= ' ')"
   ],
   "id": "3ef19b06eaa41298",
   "outputs": [
    {
     "name": "stdout",
     "output_type": "stream",
     "text": [
      "1 3 5 7 9 "
     ]
    }
   ],
   "execution_count": 8
  },
  {
   "metadata": {
    "ExecuteTime": {
     "end_time": "2024-10-31T08:49:19.863042Z",
     "start_time": "2024-10-31T08:49:19.850983Z"
    }
   },
   "cell_type": "code",
   "source": [
    "fruits = [\"apple\", \"banana\", \"cherry\"]\n",
    "for index, fruit in enumerate(fruits):\n",
    " print(index, fruit)"
   ],
   "id": "cd50cdadd097cc47",
   "outputs": [
    {
     "name": "stdout",
     "output_type": "stream",
     "text": [
      "0 apple\n",
      "1 banana\n",
      "2 cherry\n"
     ]
    }
   ],
   "execution_count": 9
  },
  {
   "metadata": {},
   "cell_type": "code",
   "outputs": [],
   "execution_count": null,
   "source": "",
   "id": "933c2a521b3ee61c"
  },
  {
   "metadata": {},
   "cell_type": "code",
   "outputs": [],
   "execution_count": null,
   "source": "",
   "id": "64935a6d6c9467d3"
  },
  {
   "metadata": {},
   "cell_type": "code",
   "outputs": [],
   "execution_count": null,
   "source": "",
   "id": "70dc5fc3928ea0b9"
  },
  {
   "metadata": {},
   "cell_type": "code",
   "outputs": [],
   "execution_count": null,
   "source": "",
   "id": "b48a4149e29b1f55"
  },
  {
   "metadata": {},
   "cell_type": "code",
   "outputs": [],
   "execution_count": null,
   "source": "",
   "id": "76bcb459f162f305"
  },
  {
   "metadata": {},
   "cell_type": "code",
   "outputs": [],
   "execution_count": null,
   "source": "",
   "id": "b15caaa495c481df"
  }
 ],
 "metadata": {
  "kernelspec": {
   "display_name": "Python 3",
   "language": "python",
   "name": "python3"
  },
  "language_info": {
   "codemirror_mode": {
    "name": "ipython",
    "version": 2
   },
   "file_extension": ".py",
   "mimetype": "text/x-python",
   "name": "python",
   "nbconvert_exporter": "python",
   "pygments_lexer": "ipython2",
   "version": "2.7.6"
  }
 },
 "nbformat": 4,
 "nbformat_minor": 5
}
