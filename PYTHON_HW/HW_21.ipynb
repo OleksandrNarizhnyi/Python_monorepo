{
 "cells": [
  {
   "cell_type": "code",
   "id": "initial_id",
   "metadata": {
    "collapsed": true,
    "ExecuteTime": {
     "end_time": "2024-12-08T18:03:33.651786Z",
     "start_time": "2024-12-08T18:03:30.542040Z"
    }
   },
   "source": [
    "# Напишите программу, которая подсчитывает количество вхождений каждого слова в\n",
    "# тексте и выводит на экран наиболее часто встречающиеся слова. Для решения задачи\n",
    "# используйте класс Counter из модуля collections. Создайте функцию count_words, которая\n",
    "# принимает текст в качестве аргумента и возвращает словарь с количеством вхождений\n",
    "# каждого слова. Выведите наиболее часто встречающиеся слова и их количество.\n",
    "# Пример вывода:\n",
    "# Введенный текст: Lorem ipsum dolor sit amet, consectetur adipiscing elit. Sed sed lacinia est!\n",
    "# sed: 2\n",
    "# Lorem: 1\n",
    "\n",
    "from collections import Counter\n",
    "def count_words(text: str) -> Counter:\n",
    "    simpl_str = text.lower().replace(\",\",\"\").replace(\".\",\"\").replace(\"!\",\"\").replace(\"?\",\"\")\n",
    "    return Counter(simpl_str.split()).items()\n",
    "user_input = input(\"Введите текст: \")\n",
    "sorted_user_input = sorted(count_words(user_input), key=lambda x: x[1], reverse=True)\n",
    "for i in sorted_user_input[:2]:\n",
    " print(f\"{i[0]}: {i[1]}\")"
   ],
   "outputs": [
    {
     "name": "stdout",
     "output_type": "stream",
     "text": [
      "sed: 2\n",
      "lorem: 1\n"
     ]
    }
   ],
   "execution_count": 10
  },
  {
   "metadata": {
    "ExecuteTime": {
     "end_time": "2024-12-08T17:29:54.994787Z",
     "start_time": "2024-12-08T17:29:54.985516Z"
    }
   },
   "cell_type": "code",
   "source": [
    "# Напишите программу, которая создает именованный кортеж Person для хранения\n",
    "# информации о человеке, включающий поля name, age и city. Создайте список объектов\n",
    "# Person и выведите информацию о каждом человеке на экран.\n",
    "# Пример вывода:\n",
    "# Name: Alice, Age: 25, City: New York\n",
    "# Name: Bob, Age: 30, City: London\n",
    "# Name: Carol, Age: 35, City: Paris\n",
    "\n",
    "from collections import namedtuple\n",
    "Person = namedtuple(\"Person\", [\"name\", \"age\", \"city\"])\n",
    "persons = [Person(\"Alice\", 25, \"New York\"),\n",
    " Person(\"Bob\", 30, \"London\"),\n",
    " Person(\"Carol\", 35, \"Paris\")]\n",
    "for elem in persons:\n",
    " name, age, city = elem\n",
    " print(f\"Name: {name}, Age: {age}, City: {city}\") "
   ],
   "id": "c7a7c83afd1d35a5",
   "outputs": [
    {
     "name": "stdout",
     "output_type": "stream",
     "text": [
      "Name: Alice, Age: 25, City: New York\n",
      "Name: Bob, Age: 30, City: London\n",
      "Name: Carol, Age: 35, City: Paris\n"
     ]
    }
   ],
   "execution_count": 5
  },
  {
   "metadata": {
    "ExecuteTime": {
     "end_time": "2024-12-08T17:46:33.237868Z",
     "start_time": "2024-12-08T17:46:23.320804Z"
    }
   },
   "cell_type": "code",
   "source": [
    "# Напишите программу, которая принимает словарь от пользователя и ключ, и возвращает\n",
    "# значение для указанного ключа с использованием метода get или setdefault. Создайте\n",
    "# функцию get_value_from_dict, которая принимает словарь и ключ в качестве аргументов, и\n",
    "# возвращает значение для указанного ключа, используя метод get или setdefault в\n",
    "# зависимости от выбранного варианта. Выведите полученное значение на экран.\n",
    "# Пример словаря:\n",
    "# my_dict = {'apple': 5, 'banana': 6, 'cherry': 7}\n",
    "# Пример вывода:\n",
    "# Введите ключ для поиска: banana\n",
    "# Использовать метод get (y/n)? y\n",
    "# Значение для ключа 'banana': 6\n",
    "\n",
    "def get_value_from_dict(dict,key,method):\n",
    "    if method:\n",
    "        return dict.get(key)\n",
    "    return dict.setdefault(key,0)\n",
    "\n",
    "my_dict = {'apple': 5, 'banana': 6, 'cherry': 7}\n",
    "user_key = input(\"Введите ключ для поиска: \")\n",
    "user_choice = True if input(\"Use method get (y/n)? \").lower() == \"y\" else False\n",
    "print(f\"Key value '{user_key}': {get_value_from_dict(my_dict, user_key, user_choice)}\")"
   ],
   "id": "39ec8b5540158c2f",
   "outputs": [
    {
     "name": "stdout",
     "output_type": "stream",
     "text": [
      "Key value 'orange': 0\n"
     ]
    }
   ],
   "execution_count": 8
  }
 ],
 "metadata": {
  "kernelspec": {
   "display_name": "Python 3",
   "language": "python",
   "name": "python3"
  },
  "language_info": {
   "codemirror_mode": {
    "name": "ipython",
    "version": 2
   },
   "file_extension": ".py",
   "mimetype": "text/x-python",
   "name": "python",
   "nbconvert_exporter": "python",
   "pygments_lexer": "ipython2",
   "version": "2.7.6"
  }
 },
 "nbformat": 4,
 "nbformat_minor": 5
}
